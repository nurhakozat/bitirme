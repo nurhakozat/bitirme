{
 "cells": [
  {
   "cell_type": "markdown",
   "metadata": {
    "collapsed": true
   },
   "source": [
    "# ZAMAN SERİLERİ"
   ]
  },
  {
   "cell_type": "code",
   "execution_count": 1,
   "metadata": {},
   "outputs": [
    {
     "name": "stderr",
     "output_type": "stream",
     "text": [
      "Warning message:\n",
      "\"package 'Quandl' was built under R version 3.4.3\"Loading required package: xts\n",
      "Loading required package: zoo\n",
      "\n",
      "Attaching package: 'zoo'\n",
      "\n",
      "The following objects are masked from 'package:base':\n",
      "\n",
      "    as.Date, as.Date.numeric\n",
      "\n",
      "Warning message:\n",
      "\"package 'forecast' was built under R version 3.4.3\"Warning message:\n",
      "\"package 'tseries' was built under R version 3.4.3\""
     ]
    }
   ],
   "source": [
    "# install.packages(\"Quandl\", repos='http://cran.us.r-project.org')\n",
    "#install.packages(\"forecast\", repos='http://cran.us.r-project.org')\n",
    "library(Quandl)\n",
    "library(forecast)\n",
    "library(tseries)"
   ]
  },
  {
   "cell_type": "markdown",
   "metadata": {},
   "source": [
    "### Zaman Serisi ve Temel Kavramlar\n",
    "\n",
    "\n",
    "Zaman serisi, bir değişkenin zaman içindeki hareketini gözlemleyen, gözlem sonuçlarının zamana göre dağılım gösterdiği serilerdir. Bütün değerleri belirli bir zman farkı ile art arda gelen nümerik verilerden oluşur. Bu değerler günlük, haftalık, aylık, yıllık olabilirler.\n",
    "\n",
    "\n",
    "Zaman serisi değişkeni, n zaman serisindeki veri sayısı olmak üzere; x(t), (t= 1, 2, …, n) \n",
    "- ilk gözlemlenen veri x(1), \n",
    "- ikinci gözlemlenen veri x(2),\n",
    "- son gözlemlenen veri x(n) ile ifade edilir.\n",
    "\n",
    "Sürekli Zaman Serileri; zaman içinde sürekli olarak kaydedilebilen verilere sahip serilerdir elektrik sinyalleri, voltaj, ses titreşimleri gibi mühendislik alanlarına ait seriler\n",
    "\n",
    " Kesikli Zaman Serileri; belli aralıklarda elde edilebilen verilere sahip serilerdir. faiz oranı, satış hacmi, üretim miktarı gibi iktisadi serilerdir.\n",
    "\n",
    "Zaman serilerinde veriler nicel  ya da nitel verilerden oluşur.\n",
    "\n",
    "- Nitel ( Kalitatif ) Yöntemler : Öngörü işlemi ile bilgilerden yararlanılarak geleceğe ait tahmin yapılmaktadır. Dolayısıyla, öngörü yöntemleri tecrübeye, kararlara, bilirkişinin düşüncelerine  dayanmaktadır. Bu tür öngörü yöntemlerine genel olarak nitel  ( kalitatif ) yöntemler denir.\n",
    " \n",
    " \n",
    "- Nicel ( Kantitatif ) Yöntemler : Öngörü yöntemleri subjectif kararlardan ziyade elde edilen verilerin yapısını açıklayabilen modellere dayanırsa bu tür modellere dayanan öngörü yöntemlerine genel olarak nicel ( Kantitatif  ) yöntemler denir.\n",
    " \n",
    "Zaman Serisi analizinde ,\n",
    "- Tek Değişkenli ( Unvariate Time Series ): Eğer zaman serisi tek değişikenin zaman içerisindeki hareketini inceleniyorsa ,\n",
    " \n",
    "- Çok Değişkenli ( Multivariate Time Series ): Eğer birden fazla değişkenin zaman içindeki değişimlerini gözlemleniyorsa , \n",
    "olmak üzere iki çeşit değişken sayısı bulunur.\n",
    "\n",
    "\n",
    "### Zaman Serisi Bileşenleri :\n",
    "\n",
    "\n",
    "Zaman serilerinin gözlemlenen değerleri arasında artma, azalma ya da belli dönemlerde sabit kalma gibi değişmeler gerçekleşebilir.  Bu değişmeler çeşitli nedenleri olabilir. Bu değişmelerin incelenmesi , bir öngürü yapılmak istendiğinde yardımcı olur. Nedeni ise zaman serileri gelecekte de benzer özellikler gösterebilir. Bu değişmeler zaman serilerinin bileşenlerini oluşturur. Bu değişmeler  dört grupta incelenir: \n",
    "-\tTrend  Bileşen\n",
    "-\tMevsimsel bileşen \n",
    "-\tÇevrimsel bileşen ( Konjoktürel )\n",
    "-\tDüzensiz Bileşen ( Rassal Bileşen )\n",
    " \n",
    " \n",
    "### Trend :  \n",
    "\n",
    "Zamana göre gözlemlenen bir değişkenin uzun dönemde gösterdiği artış veya azalışa denir. İki farklı şekilde ifade edilebilir.Trend iki şekilde olabilir:\n",
    "-\tDoğrusal Trend\n",
    "-\tDoğrusal Olmayan Trend\n",
    "\n",
    "Gözlemlerin toplanış sırası ile aldığı değerler arasındaki korelasyonun önemini belirlemek için trend analizleri yapılır.\n",
    "Trend analizi matematiksel bir tekniktir ve bu analiz ile geçmişe ait sonuçları kullanarak geleceğe yönelik sonuçlar için tahmin yapılır. Serinin gözlem sayısı arttıkça trende sahip olmadığı daha kolay anlaşılır.\n",
    "Zaman içerisinde artış veya azalış göstermeyen, aynı düzeyde kararlılık gösteren serilerin ise trendi yoktur.\n",
    "\n",
    "Trend doğrusal olabileceği gibi üstel de olabilir. Trend tamamen öngörülebiliyorsa deterministik, tamamen öngörülemiyorsa rassaldır.\n",
    "\n",
    "### Mevsimsel Bileşen:\n",
    "\n",
    "Sistematik ( gözlemlenebilir ve ölçülebilir ) etkileri olan faktörlerdir. Mevsim etkisinde olan zaman serileri yılın bazı dönemlerinde diğer dönemlere göre daha yüksek ve ya daha düşük değerler ulaşır. Örnek olarak; bazı dönemlerde doğalgaz kullanımının artması veya azalması verilebilir.Mevsimsellik farklı biçimlerde ( Anneler Günü, Babalar Günü, Öğretmenler günü , Dini bayramlar da yapılan alışverişteki artışlar  )gözlemlenebilir. Zaman serilerinde mevsimsellik etkisi bir yıl  ve daha az zaman süresinde tekrarlanan periyodik dalgalanmalar olarak tanımlanır.\n",
    "\n",
    "\n",
    "Zaman serisi analizlerinde mevsimsel etkinin olup olmadığını belirlemek için bir çok yöntem kullanılır. Zaman serisinde mevsimsel bileşen varsa , veriden mevsimsel dalgalanmaları arındırılması için en çok kullanılan yöntemler mutlak ve  nispi hareketli ortalamalar ve ortalama yüzde yöntemleridir.\n",
    "\n",
    "### Çevrimsel  Bileşen:\n",
    "\n",
    "Mevsimsel değişimle ilişkisi olmayan daha uzun zaman aralığındaki dönemsel değişimdir.Trend doğrusu veya eğrisinin etrafındaki uzun süreli dalgalanmalardır.\n",
    "Örnek olarak;  Ekonominin maksimum olduğu noktada oluşan bir kriz ile birlkte ekonominin düşüşe başlamasını , devamında belli bir süre hareketsizlik gözlenmesi  ,ardından yeniden kıvılcımlarla canlanmaya başlamasını  ve bu sürecin tekrarlanıp devam etmesini  verebiliriz.\n",
    "\n",
    "### Düzensiz Bileşen ( Rassal Bileşen )\n",
    "\n",
    "Rassal veya geçici olarak ortaya çıkan , trend , mevsimsel ve çevrimsel bileşenlerin dışında kalan bileşenelere veya  belirli bir modele uymayan dalgalanmalara düzensiz bileşen denir. Değişimin  zamanı ve şiddeti tahmin edilemez. Serideki yanıltıcı hareketlerdir.\n",
    "\n",
    "\n",
    "### Geleneksel Zaman Serisi Ayrışım Yöntemleri\n",
    "\n",
    "Serinin trend konjonktürel ve mevsimsel etkisi altında kaldığını varsayılmaktadır.\n",
    "Toplamsal Ayrıştırma ( Additive )ve Çarpımsal Araştırma ( Multiplicative ) yöntemleri olmak üzere iki yöntemi vardır.\n",
    "\n",
    "\n",
    "Toplamsal Ayrıştırma ( Additive ) : \n",
    "     \n",
    " $$ \\hat Y_{d_t} = T_{t}+ S_{t}+ C_{t}+ I_{t} $$\n",
    "\n",
    "Çarpımsal Araştırma ( Multiplicative ):\n",
    "   \n",
    " $$ \\hat Y_{d_t} = T_{t}* S_{t}* C_{t}* I_{t} $$\n"
   ]
  },
  {
   "cell_type": "markdown",
   "metadata": {},
   "source": [
    "### Doğrusal Zaman Serisi Analizi: \n",
    "\n",
    "  \n",
    "#### 1-\tOtoregresif Süreç ( AutoRegressive Process )       \n",
    "\n",
    "Otoregresif süreç AR ( p ) ile ifade edilir ve serinin mevcut değeri önceki p adet değere bağlıdır.Başka bir şekilde ifade edilirse, bağımlı değişken geçmişteki değerinin bir fonksiyonudur.( p otoregresif sürecin derecesini vermektedir. )\n",
    "\n",
    "AR (p ): p’ninci dereceden otoregresif süreç: $  Y_{t}  $  değeri sadece bir önceki değerine değil  önceki bir çok değere bağlı olabilir.\n",
    "$$ \\hat Y_{t} = ϵ_{t}+a_{0}+ \\sum_{i=1}^\\ell a_{i}*y_{t-i}  $$                            \n",
    "                     \n",
    "\n",
    "AR(1) : \n",
    "$$ \\hat Y_{t} = a_{0}+ a_{1}*y_{t-1}+ ϵ_{t}  $$  \n",
    "AR(2) : \n",
    "$$ \\hat Y_{t} = a_{0}+ a_{1}*y_{t-1}+ a_{2}*y_{t-2}+ϵ_{t}  $$\n",
    "\n",
    "https://onlinecourses.science.psu.edu/stat501/node/358\n",
    "\n",
    "\n",
    "a : sabit terim \n",
    "\n",
    "$a_{1} ….$ : Gecikmeli değerlerin şimdiki değerle olan ilişkisi\n",
    "\n",
    "ε : hata terimi – rassal  şoklar\n",
    "\n",
    "AR(1) : Birinci mertebeden otoregresif süreç\n",
    "\n",
    "AR(2): Ikinci mertebeden otoregresif süreç\n",
    "\n",
    "\n",
    "Otoregresif süreçlerde AR (1) için durağan olma koşulu  \n",
    "\n",
    "                                                |a1|<1    \n",
    "\n",
    "olmasına bağlıdır.\n",
    "\n",
    "Otoregresif süreçlerde AR (2) için durağan olma koşulu \n",
    "\n",
    "                                                 a1+a2<1\n",
    "\n",
    "                                                  |a2| <1 \n",
    "\n",
    "olmasına bağlıdır.\n",
    "\n",
    "Otoregresif modeli özetlemek gerekirse:\n",
    "                \n",
    "Tüm gecikmeli değerler Yt üzerinde birikimli bir etkiye sahiptir. Dolayısıyla otoregresif modellerin uzun süreli bir etkiye sahiptir. Rassal değişken ile yt arasındaki korelasyon sıfır olduğundan otoregresif modelleri En küçük kareler yöntemini kullanarak tahmin edilebilir. Otoregresif süreçlerde ACF gecikmeden sonra üstel olarak azalmakta ve PACF değeri de sıfır değerini almaktadır. \n",
    "\n",
    "\n",
    "#### 2-\tHareketli Ortalama Süreci ( Moving Average )\n",
    "\n",
    "Serinin gecikmeli hata terimi, şu anda ki hata terimini etkilemesine hareketli ortalama süreci denir. Değişkenin tahmin değeri hata teriminin tahmin değeri ile ilişkilidir.Modelin derecesi geçmiş dönemdeki  hata terim sayısına gore belirlenir. Örneğin geçmiş dönemde bir hata varsa modelin derecesi 1, n tane hata varsa modelin derecesi n olmaktadır. Hareketli ortalama sürece MA (q) olarak ifade edilir\n",
    "$$ \\hat Y_{d_t} = b_{0}+ b_{1}*e_{t-1}+ b_{2}*e_{t-2}+ b_{3}*e_{t-3}+b_{4}*e_{t-4} + .... + b_{q}*e_{t-q}  $$   \n",
    "$$ Y_{t}\\sim  N(0,s^2_{e} ) $$\n",
    "$ b_{1} $: bilinmeyen parametreler \n",
    "\n",
    "b: sabit parametre\n",
    "\n",
    "Hareketli ortalama süreçlerinde q değeri durağan hata terimlerinin ortalamasıdır. Dolayısıyla hareketli ortalama süreçlerinin tamamı durağandır.\n",
    "\n",
    "Hareketli ortalama süreçlerinde PACF sonsuz görüntülenmektedir , bu durum süreç belirlemekte sıkıntılar oluşturmaktadır.\n",
    "\n",
    "#### 3-\tKarma Otoregresif Hareketli Ortalama Süreci (ARMA)\n",
    "\n",
    "Zaman serilerinde veriler bazen hem otokerelasyon hem de kısmi otokorelasyon fonksiyonları belirli bir gecikmede kesilmeden sıfıra doğru çok yavaş hareket edebilir.Bu durumda seri hem otoregresif hem de hareketli ortalama bileşenlerini aynı anda içerebilir. Özetle seri modelini hem AR, hem de MA bileşenleriyle p ve q dereceden olmak üzere ARMA(p,q) olarak tanımlanır \n",
    "\n",
    "Arma sürecinin özetlemek gerekirse:\n",
    " \n",
    "Karma otoregresif harektli ortalama sürecinin (ARMA (p,q ) ) otokorelasyon fonksiyonu, otoregresif sürecin AR(p) sürecinin özelliklerini taşır.\n",
    "\n",
    "\n",
    "ARMA(p,q ) sürecinin kısmi otokorelasyon fonksiyonu:\n",
    "                             \n",
    "a > p-q  => MA(q) sürecinin PACF özelliklerini taşır,\t\n",
    "\n",
    "a <= p-q => MA(q) sürecinin genel bir özelliği yoktur.\n",
    "\n",
    "ARMA(p,q) modelinde büyük gecikme uzunluklarında ACF ve PACF değerleri sıfıra yaklaşır.\n",
    "Model de durağanlığı AR(p) koşulu ile , tersine çevirebilirliği ise MA(q) koşuluyla aynıdır.\n",
    "                      \n",
    "#### 4-\tHomojen Durağan Olmayan Süreç (ARIMA)\n",
    "\n",
    "Fark alma işlemiyle durağan olmayan modellere durağan hale dönüştürülmüş serilere uygulanan modellere “durağan olmayan doğrusal stokastik modeller” denir.Bu tür serilere uygulanan model, arima modelidir. Bu modeller d dereceden farkı alınmış serilere uygulanan, değişkenin t-dönemindeki değerinin belirli sayıdaki geri dönem değerleri ile aynı dönemdeki hata teriminin doğrusal bir fonksiyonu olarak ifade edildiği AR ve değişkenin t-dönemindeki değerinin aynı dönemdeki hata terimi ve belirli sayıda geri dönem hata terimlerinin doğrusal fonksiyonu olarak ifade edildiği MA modellerinin birer birleşimidir. Farklı bir şekilde ifade edilirse , ARIMA , otoregresresif (AR) , entegre (I) ve hareketli ortalama (MA) süreçlerinden oluşur. \n",
    "Modelin gösterimi ARIMA (p, d, q) şeklinde ifade edilir. ( p: otoregresif(AR) , q: hareketli ortalama(MA) ve d: fark alma derecesi)\n",
    "\n",
    "\n",
    "d=1 ise orijinal seri birinci derecen farkı alınarak durağan hale getirilmiştir.\n",
    "\n",
    "\n",
    "d=0 olduğunda orijinal seri zaten durağandır ve farkının alınmasına da gerek yoktur. ARIMA(p,d=0,q)=ARMA(p,q) olur.\n",
    "\n",
    "\n",
    "\n",
    "Örnek olarak ARIMA(3,2,2) alınırsa; zaman serisini durağan olması için farkının iki kez (d= 2) alınması gerekir.ilk farkı alınan  zaman serisini  ARMA(2,2) süreci olarak yazılabilir.Bu süreçte otoregresif modeli (AR) iki terimiyle ve hareketli ortalama modeli (MA) iki terimiyle modellenebilir. \n",
    "Bilgi Kriterleri :\n",
    "Akaiki bilgi kriteri (AIC )44 Schwarz Bayesian kriteri ( BIC45) ve Hannan Quinn bilgi kriteri (HOİC )46\n",
    "Bilgi kriterleri iki bileşeni vardır: \n",
    "- Kalanların karelerinin toplamı \n",
    "- Eklenen her parametrenin neden olduğu serbestik derecesi kaybı için modelin tabi tutulduğu ceza \n",
    "\n",
    "\n",
    "bileşenleridir.Modele eklenen her yeni değişken ,yani  her yeni gecikme, ceza teriminin değerini arttırır. Aynı zamanda kalanların karelerinin değerini düşürmektedir.\n",
    "Akaiki bilgi kriteri  (AIC)  değeri, otoregresif sürecin gecikme derecesinin belirlenmesinde kullanılır.\n",
    "\n",
    "$$ AIC =(-2 / T)*ln L +(2/T)*k $$\n",
    "( ln(L):  en çok benzerlik tahminlerinin benzerlik\n",
    "fonksiyon\n",
    "\n",
    "T:örnek büyüklüğü k parametre sayısıdır.\n",
    "\n",
    "Hareketli ortamala (MA) modelleri için q+(varsa) sabit terim, ARMA modeller için p+q+(varsa) sabit terim . )\n",
    "\n",
    "\n",
    "Schwarz Bayesian bilgi kriteri ( BIC )  değeri, otoregresif sürecin gecikme derecesinin belirlenmesinde kullanılır.\n",
    "\n",
    "$$ BIC = ( -2 / T )*lnL + (k / T )*lnT $$\n",
    "\n",
    "BIC , AIC ile mukayese edildiğinde örnek büyüklüğü orta veya geniş ise gecikme\n",
    "sayısı az olan AR modelin seçimine eğilim söz konusudur.\n",
    "\n",
    "Hannan – Quinn bilgi kriteri ( HQIC )\n",
    "\n",
    "$$ HQIC = ( -2 / T )*lnL +(2k / T )*lnT $$\n",
    "\n",
    "T>=16 ise  tahmin edilen AR derecesi için bilgi kriterlerinin büyüklüğü açısından aşğıdaki sıralamaya yol açmaktadır.\n",
    "BIC derecesi <= HQ derecesi <= AIC derecesi\n"
   ]
  },
  {
   "cell_type": "markdown",
   "metadata": {},
   "source": [
    "### Box-Jenkins Yöntemi (ARIMA) \n",
    "\n",
    "George E.P. BOX ve Gwilym M. JENKINS tarafından durağan tek değişkenli zaman serilerinin analizi için geliştirilen (Yaffee and McGee 2000) ve öngörü uygulamalarında kullanılan Box-Jenkins yöntemi, ARIMA modelleri olarak da adlandırılmaktadır.\n",
    " Box-Jenkis yöntemi ele alınan zaman serisinin özelliklerine göre belirlenen çeşitli modeller arasında uygun olanını seçerek tahmin etme sürecini kapsamaktadır.Zaman serisi modellerinde serinin kendi iç dinamiği önemli olup oluşturulan modeldeki değişken, kendi gecikmeli değerleri ve hata teriminin gecikmeli değerleriyle açıklanmaktadır.\n",
    "Box ve Jenkins uygulama aşamaları:\n",
    "\n",
    "- Yöntemi Belirleme :\n",
    " \n",
    "Durağan zaman serisine ARMA modellerinden herhangi birinin aday olarak belirlenmesi aşamasıdır. Yani ARMA (p,q) modelinde p ve q nun derecesinin bulunması aşamasıdır.Değerleri otoregresif ve hareketli ortalamalar sürecinin özelliklerinden faydalanılarak bulunur. ARMA modelleri otokorelasyon ve kısmi otokorelasyon fonksiyonları sayesinde karakterize edilebilir.\n",
    " \n",
    "- Parametre Tahmini :\n",
    "\n",
    "ARMA modellerinde parametrelerini tahmin edilebilmesi için bir çok yöntem bulunmaktadır.Yöntemler olabilirlik fonksiyonuna dayalı yöntemler ya da eğrisel en küçük kareler yöntemleridir. ARMA modelinin parametreleri olabilirlik fonksiyonunun maksimize edilebilir ya da hata kareler fonksiyonunun minimize edilmesiyle bulunabilir.\n",
    "\n",
    "- Teşhis Etme :\n",
    "\n",
    "Modelin yeterliliğini kontrol edilmesidir.Zaman serisi modeli belirlenip parametreleri tahmin edildikten sonra ayırt edici testler yardımıyla belirlenen modelin ne kadar doğru olduğu ortaya konulabilir. Modelin artık terimleri, test süreci için önemlidir. Belirlenen model yeterli ise artıklar yaklaşık olarak bir beyaz gürültü sürecidir (white noise). Beyaz gürültü sürecinde olması,  ARIMA (p,d,q) modeli öngörü için yeterli düzeydedir.\n",
    "\n",
    " LjungBox testi, Modelin artık terimlerinin standart normal dağılımlı rasgele değişkenlerin dizisinden oluşan bir beyaz gürültü sürecinde olup olmadığının test etmek için kullanılmaktadır.\n"
   ]
  },
  {
   "cell_type": "markdown",
   "metadata": {},
   "source": [
    "### DURAĞANLIK\n",
    "\n",
    "Serinin durağan olması, zaman serisinde  ortalaması, varyansı ve kovaryansı zaman içinde sabit kalmasıyla söylenir. Durağan zaman serisinde ard arda gelen iki değer arasındaki fark zamanın kendisinden kaynaklanmamakta, sadece zaman aralığından kaynaklanmaktadır. Bundan dolayı serinin ortalaması zamanla değişmemektedir. \n",
    "Yt serisi tanımlayalım.\n",
    "\n",
    "$$ E(Y_{t}) = µ $$\n",
    "$$ var(Y_{t}) = γ0 $$\n",
    "$$ cov(Y_{t},Y_{t+k} ) = γ_{k} $$\n",
    "\n",
    "Başlangıç noktasını t’den t + k’ye kaydırdıgımızı düşünelim.\n",
    "\n",
    "Y durağan ise $$ Y_{t} ve Y_{t+k} $$ serilerinin ortalama, varyans ve  kovaryansları aynı olmalıdır.\n",
    "(k = 0 ise $cov(Y_{t}, Y_{t+0}) = var(Y_{t}) = σ^2 $ ’dir)\n",
    "\n",
    "Durağan olmayan seriler birim kök içerirler. Bir serideki birim kök sayısı serinin durağan olana dek alınması gereken fark sayısına eşittir.Yt serisi d= 1 farkı alınınca durağan hale geliyorsa seri 1. dereceden durağandır denir ve I(1) olarak gösterilir. Genel olarak seri d kez farkı alınınca durağan oluyorsa seri d. dereceden durağandır denir ve I(d) ile gösterilir\n",
    ".\n",
    "#### Trend Durağanlık ve Fark Durağanlık\n",
    "\n",
    "Trend durağan olmayan süreçler için durağanlaştırmak için  iki temel yöntem vardır:\n",
    "\n",
    "- Durağan olmayan zaman serisi için kurulacak regresyon denkleminde, seri trend (zaman) üzerine regrese edilir. Daha sonra bu regresyondan elde edilen kalıntılar üzerinde analizler yapılır.\n",
    "- Zaman serisine trend bir regresör olarak ilave edilerek gerekli analizler yapılır.\n",
    "\n",
    "$$Y_t = \\mu + B_t + e_t$$\n",
    "\n",
    "($Y_t$: deterministik trend,et ~ IID(0,): durağan stokastik bileşen)\n",
    "\n",
    "Rassal Yürüyüş:\n",
    "\n",
    "Rastsal yürüyüşü en basit şekilde şöyle gösterilir:\n",
    "\n",
    "$$ Y_{t} = Y_{t−1} + u_{t} $$ ( $ u_{t} $: beyaz gürültü)\n",
    "\n",
    "Markov 1.derece özbağlanımsal tasarımla rastsal yürüyüş bağlantısı :\n",
    "\n",
    "$$ Y_{t} = ρ* Y_{t−1} + u_{t}  ,  −1 < ρ < 1 $$   \n",
    "  \n",
    "Rastsal yürüyüşte ρ = 1 oldugu için, bu sürece ˘ “birim kök” (unit root) süreci de denilmektedir.Rastsal yürüyüş sürecinde ut sarsıntıları kalıcıdır:\n",
    "\n",
    "$$ Y_{1} = Y_{0} + u_{1} $$\n",
    "$$ Y_{2} = Y_{1} + u_{2} = Y_{0} + u_{1} + u_{2} $$\n",
    "$$ Y_{3} = Y_{2} + u_{3} = Y_{0} + u_{1} + u_{2} + u_{3} $$\n",
    "T dönemindeki deger :\n",
    "\n",
    "$$ Y_{t} = Y_{0} + (Sum Sembolü) u_{t}  $$\n",
    "\n",
    "Herhangi bir dönemdeki değerin daha önceki tüm rastsal sarsıntıların toplamı olmasına, rastsal yürüyüşün “sonsuz\n",
    "bellek” (infinite memory) özelligi de denir.\n",
    "$ E(u_{t}) = 0 $ oldugundan, $ E(Y_{t}) = Y_{t} $ olduguna dikkat edelir.\n",
    "Başka bir ifadeyle $ Y_{t} $ ’nin ortalaması sabittir.Rastsal hatalar toplandıgı için,  $ var(Y_{t})  $ sürekli artmakta ve böylece duraganlık varsayımı engellenmemiş olmaktadır. $ Y_{t} $ ’nin varyansının $  var(Y_{t}) = tσ^2 $oldugu gösterilebilir. Buna göre, t sonsuza giderken varyans da sonsuza gitmektedir\n",
    "\n",
    "### Durağanlık Analizi\n",
    "\n",
    "Durağanlık analizini grafiksel analiz, kolegram analiz ve birim kök analizi kullanılarak yapılmaktadır. \n",
    "\n",
    "#### Birim Kök Analizi\n",
    "Serinin durağanlığını ve durağanlık derecesini belirlemede kullanılır.Birim Kök Analizi'nde 5 farklı yöntem bulunmaktadır.\n",
    "\n",
    "- Dickey Fuller Testi (DF)\n",
    "- Genişletilmiş Dickey-Fuller Testi (ADF) \n",
    "- Phillips- Perron Testi (PP)\n",
    "- Kwiatkowski-Phillips-Schmidt-Shin  Testi (Kpss)\n",
    "- Ng Perron Testi\n",
    "\n",
    "En çok kullanılan DF,ADF ve PP testleridir.\n",
    "\n",
    "##### Dickey Fuller Testi (DF)\n",
    "\n",
    "Serinin durağan olmadığı (birim köke sahip olduğu) boş hipotezinin , durağan olduğu (birim kök olmadığı ) alternatif hipotezine göre sınanmasıdır.\n",
    "$ Y_{t} $ değişkeninin bu dönemde aldığı değerin geçen dönemdeki değeri olan ile ilişkisi,\n",
    "$$ Y_{t}=p*Y_{t-1} + u_{t} $$ \n",
    "şeklinde ifade edilir. ($ u_{t}$: kalıntı terim )\n",
    "\n",
    "Yukarıdaki model 1. dereceden otoregresif AR(1) modelidir.ρ katsayısı 1 eşit olursa birim kök sorunu (durağan olmama durumu) ortaya çıkmaktadır ve model\n",
    "$p=1$ ise $$ Y_{t}=Y_{t-1} + u_{t} $$ \n",
    "şeklini almaktadır.\n",
    "Sonuç bir önceki dönemde iktisadi değişkenin değerinin ve dolayısıyla o dönemde maruz kaldığı şokun olduğu gibi sistemde kalması anlamına gelir. Bu şokların kalıcı nitelikte olması serinin durağan olmaması ve zaman içinde gösterdiği trendin stokastik olması anlamına gelir.\n",
    "\n",
    "$p<1 $ ise geçmiş dönemlerdeki şoklar belli bir süreetkilerini sürdürseler de, bu etki giderek azalacak ve kısa bir dönem sonra tamamen ortadan kalkacaktır.\n",
    "\n",
    "##### Genişletilmiş Dickey-Fuller Testi (ADF)\n",
    "\n",
    "Dickey-Fuller testi, hata terimlerinin otokorelasyon içermesi halinde kullanılamamaktadır. Zaman serisinin gecikmeli değerleri kullanılarak hata terimindeki otokorelasyon ortadan kaldırılabilmektedir. Dickey-Fuller bağımlı değişkenin gecikmeli değerlerini, bağımsız değişken olarak modele dahil eden yeni bir test geliştirmiştir. Bu test Genişletilmiş Dickey-Fuller testidir. Burada gecikmeli değişkene ait uygun gecikme mertebesi belirlenirken Akaike ve Schwarz kriterlerinden\n",
    "yararlanılmaktadır.\n",
    "\n",
    "ADF denklemi :\n",
    "$$\\delta Y_{t}= a+ b_{t}+\\gamma Y_{t-1}+ u_{t-1} +c\\sum_{i=1}^n  \\delta Y_{t} $$  \n",
    "$\\delta$ : delta\n",
    "\n",
    "##### Phillips- Perron Testi (PP)\n",
    "\n",
    "Phillips-Perron birim kök testi ise hata teriminin zayıf derecede bağımlı olmasına ve heterojen olarak dağılmasına izin vermektedir. Bu sayede otokorelasyon sorunu ortaya çıkmamaktadır. \n",
    "\n",
    "##### Kwiatkowski-Phillips-Schmidt-Shin  Testi (Kpss)\n",
    "\n",
    "KPSS  testinde amaç gözlenen serideki deterministik trendi arındırarak serinin durağan olmasını sağlamaktır. Bu testte\n",
    "kurulan birim kök hipotezi ADF testinde kurulan hipotezlerden farklıdır. Sıfır hipotezi serinin durağan olduğunu ve birim kök içermediğini, buna karşın alternatif hipotez ise seride birim kök olduğunu ve durağan olmadığını ifade eder. Boş\n",
    "hipotezdeki durağanlık trend durağanlıktır. Çünkü seriler trendden arındırılmışlardır. \n",
    "\n",
    "Trendden arındırılan seride birim kök olmaması, serinin trend durağanlığını gösterir. KPSS testinin en önemli özelliği bir veya daha büyük bir MA yapısı içeren serilerde ADF’ nin aksine gücünün azalmamasıdır.\n",
    "\n",
    " KPSS testi LM testi ile benzer biçimde belirlenmektedir. Dolayısıyla LM istatistiğinin oluşumu önemlidir. LM testinde boş hipotez, rassal yürüyüşün sıfır varyansa sahip olduğunu ve serinin deterministik trend, rassal yürüyüş ve durağan\n",
    "kalıntılar toplamından oluştuğunu ima eder.\n",
    "\n",
    "##### Ng Perron Testi\n",
    "\n",
    "Ng-Perron birim kök testi, Phillips-Perron birim kök testinde ortaya çıkan hata teriminin hacmindeki çarpıklığın düzeltilmesi için geliştirilmiştir.PP testinde serilerde negatif hareketli ortalama yapısı olduğunda, büyük oranda hata teriminde nörneklem çarpıklığı olmaktadır. DF testlerinde bu durum çok büyük bir sorun yaratmamaktadır.\n",
    "\n",
    "NG - Perron testi bu nedenle PP testlerini ve bilgi kriterlerini modifiye etmektedir.MSB ve MPT lerde sıfır hipotezi birim kökün olmadığını , alternatif hipotez ise birim kökün varlığını ifade eder.\n",
    " \n",
    " \n",
    " adf.test ve pp.test için:\n",
    "- H0: birim kök içerir.\n",
    "- HA: birim kök içermez, durağandır.\n",
    "\n",
    "kpss.test için:\n",
    "- H0: level veya trend durağandır.\n",
    "- HA: durağan değildir.\n",
    "\n",
    "Test sonuçlarına göre p-value (test istatistiğinin olasılık değeri) %5'den küçük ise (%95 güven seviyesinde) testin boş hipotezi ret edilir. \n"
   ]
  },
  {
   "cell_type": "markdown",
   "metadata": {},
   "source": [
    "### Normallik Testi- Shapiro Wilk Test\n",
    "Veri seti üzerinde yapılan bir çok veri analizi verinin normal dağıldığı varsayımına dayanır. Veri analizine başlamadan önce verinin normal dağılıma uygun olup olmadığına bakılmalıdır. Normallik kontrolü için yaygın olarak kullanılan testlerden birisi de Shapiro-Wilks testidir.\n",
    "\n",
    "Shapiro-Wilk (1965) testi, verinin sıra istatistiklerinin uygun bir lineer bileşeninin karesinin, kareler toplamına bölümü uygulanarak elde edilir. \n",
    "\n",
    "$$  W = [(\\sum_{i=1}^n a_{i}*x_{i})^2 ]/ \\sum_{i=1}^n x_{i}*x^-_{i} $$   \n",
    "$$  a_{i}=(a_{1},a_{2},...,a_{n}) = (m_{i}*(1/V)) / [(m_{i}*(1/V)*(1/V)*m)]^{0.5} $$\n",
    "$  m_{i}=(m_{1},m_{2},...,m_{n})$: standart normal dağılımda  N(0,1)’ da  n adet sıra istatistiğinin beklenen değerlerinin vektörünü ifade eder.\n",
    "\n",
    "$ V=v_{ij} $:  sıra istatistiklerinin varyans kovaryans matrisini ifade eder.\n",
    " \n",
    "Sadece numeric (numeric factor) veriyi, argüman olarak shapiro.test(veri) fonksiyonuna eklenir.\n",
    "\n"
   ]
  },
  {
   "cell_type": "markdown",
   "metadata": {},
   "source": [
    "### Otokorelasyon Fonksiyonu (ACF )\n",
    "\n",
    "Otokorelasyon katsayısı, zaman serisiyle bu serinin gecikmeli serileri arasındaki ilişkiyi gösterir.Serideki bütün gecikmeler otokorelasyon fonksiyonunu oluşturmaktadır.Otokorelasyona; ihmal edilen değişkenler, modelin fonksiyonel biçiminin doğru belirlenmemesi, verilerle ilgili ölçme hataları, tesadüfi olarak ortaya çıkan savaş, kuraklık gibi olayların, etkilerini ortaya çıktıkları dönemlerden sonra da sürdürmesi neden olabilirler.\n",
    "\n",
    "$$ E(u_{i},u_{j})=0 i≠j $$\n",
    "\n",
    "şeklinde ifade edilir.\n",
    "\n",
    "Hata terimleri arasında bir ilişki varsa yani otokorelasyon durumu söz konusu ise\n",
    "$$ E(u_{i},u_{j})≠0 i≠j $$\n",
    "şeklinde ifade edilir.\n",
    "\n",
    "Otokorelasyon durumunda parametrelerin en küçük kareler tahmincileri sapmasız ve tutarlıdır,ancak  etkin değildir. Hata teriminin varyansının tahmincisi sapmalıdır ve bu yüzden parametrelerin varyansları da sapmalı olur. Pozitif otokorelasyon varsa sapma negatif olur. Varyanslar olduğundan küçük bulunur. Bunun sonucunda t test istatistiği değeri büyük çıkar. Böylece anlamsız bir katsayının anlamlı olma olasılığı artar. R2 de yükselir. Dolayısıyla F değeri olduğundan büyük bulunur. Sonuç olarak t ve F testleri güvenilirliğini yitirip yanıltıcı sonuç verirler.\n",
    "Otokorelasyonu durumunu göstermek için 2 yöntem kullanılır. \n",
    "- Grafik Yorumu\n",
    "- Otokorelasyon Testleri ( Durbin-Watson d , Wallis , King ,Breush ve Godfrey)\n",
    "\n",
    "##### Otokorelasyon Testleri\n",
    "\n",
    "######  Durbin- Watson d Testi\n",
    "\n",
    "Sabit parametresi olan modellerde 1.dereceden otokorelasyonun varligini test etmek icin kullanilir.\n",
    "\n",
    "Durbin Tablo Degeri:\n",
    "\n",
    "Testin aşamaları;\n",
    "- Hipotez yazılır\n",
    "\n",
    "H0: p=0\n",
    "HA: p≠0\n",
    "\n",
    "- Anlamlılık seviyesi seçilir.\n",
    "\n",
    "a=0.05  \n",
    "\n",
    "- Durbin Watson d istatistiği hesaplanır.\n",
    "\n",
    "d=2(1-p)\n",
    "         \n",
    "- Karar :\n",
    "\n",
    "alfa=0.05, k’ = bagimsiz degisken sayisi, n=gozlem sayisi degeleri ile tablodan dU ve dL degerleri bulunur.\n",
    "\n",
    "0<d < dL ise pozitif otokorelasyon vardır.\n",
    "\n",
    "dL≤ d ≤ dU ise karar verilmemektedir.\n",
    "\n",
    "dU< d <4- dU ise otokorelasyon yoktur.\n",
    "\n",
    "4-dU≤ d ≤4- dL ise karar verilmemektedir.\n",
    "\n",
    "4- dL<d<4 ise negatif otokorelasyon vardır.\n",
    "\n",
    "Model sabit terimsiz ise,bağımsız X değişkenleri stokastikse, otokorelasyonun derecesi 1’den büyük ise,zaman serisinde ara yıllar noksan ise, modelde bağımsız değişken olarak gecikmeli bağımlı değişken varsa  dw testi uygulanamaz.\n",
    "\n",
    "###### Wellis Testi:\n",
    "\n",
    "3’er aylik verilerde 4.dereceden otokorelasyon varligini test etmek icin kullanilir.\n",
    "Durbin Watson testinin, 4.dereceden otokorelasyon varligini test etmek icin duzenlenmis halidir.\n",
    "###### Breush ve Godfrey Testi:\n",
    "Yuksek dereceden otokorelasyonun varliginin test edilmesi icin kullanilir.Orjinal denklemde bagimli degiskenin gecikmeli halinin bagimsiz degiskenler arasinda yer almasi durumunda da kullanilir.\n",
    "\n",
    "Bagimli degisken: Orjinal model kalintilari\n",
    "\n",
    "Bagimsiz degiskenler: Orjinal modelin aciklayici degiskenleri ve incelenen otokorelasyonun derecesi sayisinda gecikme katsayisi modelde yer alir.\n",
    "\n",
    "Örneğin 2.dereceden otokorelasyonun varligi arastiriliyorsa, orjinal modelin bagimsiz degiskenleri ve $$ u*t-1, u*t-2 $$  katsayilari yeni modelde bagimsiz degiskenler arasinda yer alir.\n",
    "Test istatistigi: $$ n*R{_2} $$ ile yeni modelin karesi hesaplanir, n ile carpilarak test istatistigi elde edilir.\n",
    "\n",
    "### Kısmi Otokorelasyon Fonksiyonu (PACF )\n",
    "Kısmi korelasyon PACF ise, gecikmeli değişkenler arasındaki ilişkiyi ifade eder.Zaman serilerinin durağan olması demek, zaman içinde varyansın ve ortalamanın sabit olması ve gecikmeli iki zaman periyodundaki değişkenlerin kovaryansının değişkenler arasındaki gecikmeye bağlı olup, zamana bağlı olmamasıdır."
   ]
  },
  {
   "cell_type": "markdown",
   "metadata": {},
   "source": [
    "### Özet\n",
    "Bitirme çalışmasında toplamsal ve çarpımsal ayrışma modellerini analiz etmek ve öngörüde bulunabilmek için iki farklı veri inceleyeceğiz. İlk verimiz ABD de kullanılan doğal gaz tüketimi hakkında olup çarpımsal ayrışma modele örnektir.İkinci verimiz Florida'daki ham petrolün üretimi hakkında olup toplamsal ayrışma modeline örnektir. Verilerin hangi modele ait olduğu ve öngörü analizleri aşağıda detaylı olarak inceleyeceğiz."
   ]
  },
  {
   "cell_type": "markdown",
   "metadata": {},
   "source": [
    "#### Verinin Yayıncısı: U.S. Energy Information Administration Data\n",
    "\n",
    "ABD ulusal ve devlet verilerinin;elektrik, kömür, doğal gaz ve petrol gibi tüm ana enerji ürünleri üzerindeki üretim, tüketim ve diğer göstergelere ilişkisini göstermektedir.\n",
    "#### Verinin Adı:   Natural Gas Futures Contract 3 \n",
    "\n",
    "ABD ulusal ve devlet verilerinin;doğal gaz üretim, tüketim ve diğer göstergelere ilişkisini göstermektedir.Veri zaman serisi olarak ilerlemektedir.\n",
    "#### Verinin Sıklığı: Aylık\n",
    "\n",
    "#### Verinin Zaman Aralığı: 31.01.1994- 31.03.2018\n",
    "\n",
    "#### Verinin Alındığı Yer: Quandl\n",
    "\n",
    "Quandl yatırım profesyonellerine hizmet veren finansal, ekonomik ve alternatif veriler için bir platformdur.Verileri 500'den fazla yayıncıdan sağlar. Quandl’ın verilerine bir API aracılığıyla erişilebilir. Bir çok programlama dili için API erişimi (R, Python, Matlab, Maple ve Stata) vardır. \n",
    "\n",
    "Excel eklentisi, stok fiyat bilgisi dahil olmak üzere verilere erişim sağlar.\n",
    "\n"
   ]
  },
  {
   "cell_type": "code",
   "execution_count": 2,
   "metadata": {
    "collapsed": true
   },
   "outputs": [],
   "source": [
    "data<-Quandl(\"EIA/NG_RNGC3_M\", api_key=\"BtbwkANCR4aHKBscujRb\", collapse=\"monthly\")"
   ]
  },
  {
   "cell_type": "markdown",
   "metadata": {},
   "source": [
    "Veriyi quandl veri sitesinden alıyoruz. Veri iki sütundan oluşmaktadır. İlk sütun tarih ikinci sütun ise kullanım miktarıdır."
   ]
  },
  {
   "cell_type": "code",
   "execution_count": 3,
   "metadata": {},
   "outputs": [
    {
     "data": {
      "text/html": [
       "<ol class=list-inline>\n",
       "\t<li>2.784</li>\n",
       "\t<li>2.695</li>\n",
       "\t<li>2.8</li>\n",
       "\t<li>2.737</li>\n",
       "\t<li>3.149</li>\n",
       "\t<li>3.203</li>\n",
       "\t<li>3.229</li>\n",
       "\t<li>3.023</li>\n",
       "\t<li>2.988</li>\n",
       "\t<li>3.013</li>\n",
       "\t<li>3.346</li>\n",
       "\t<li>3.344</li>\n",
       "\t<li>3.14</li>\n",
       "\t<li>3.067</li>\n",
       "\t<li>3.294</li>\n",
       "\t<li>3.547</li>\n",
       "\t<li>3.047</li>\n",
       "\t<li>3.446</li>\n",
       "\t<li>3.193</li>\n",
       "\t<li>2.93</li>\n",
       "\t<li>2.798</li>\n",
       "\t<li>2.704</li>\n",
       "\t<li>2.311</li>\n",
       "\t<li>2.231</li>\n",
       "\t<li>2.011</li>\n",
       "\t<li>2.068</li>\n",
       "\t<li>2.301</li>\n",
       "\t<li>2.156</li>\n",
       "\t<li>2.465</li>\n",
       "\t<li>2.726</li>\n",
       "\t<li>2.875</li>\n",
       "\t<li>2.883</li>\n",
       "\t<li>2.849</li>\n",
       "\t<li>2.807</li>\n",
       "\t<li>2.92</li>\n",
       "\t<li>2.69</li>\n",
       "\t<li>2.821</li>\n",
       "\t<li>2.806</li>\n",
       "\t<li>2.883</li>\n",
       "\t<li>3.496</li>\n",
       "\t<li>4.299</li>\n",
       "\t<li>3.959</li>\n",
       "\t<li>4.06</li>\n",
       "\t<li>4.002</li>\n",
       "\t<li>4.038</li>\n",
       "\t<li>4.578</li>\n",
       "\t<li>4.532</li>\n",
       "\t<li>4.658</li>\n",
       "\t<li>4.484</li>\n",
       "\t<li>4.556</li>\n",
       "\t<li>4.188</li>\n",
       "\t<li>4.249</li>\n",
       "\t<li>3.694</li>\n",
       "\t<li>3.875</li>\n",
       "\t<li>3.858</li>\n",
       "\t<li>3.569</li>\n",
       "\t<li>3.667</li>\n",
       "\t<li>3.825</li>\n",
       "\t<li>4.134</li>\n",
       "\t<li>4.245</li>\n",
       "\t<li>3.852</li>\n",
       "\t<li>3.431</li>\n",
       "\t<li>3.403</li>\n",
       "\t<li>3.488</li>\n",
       "\t<li>3.808</li>\n",
       "\t<li>3.911</li>\n",
       "\t<li>3.332</li>\n",
       "\t<li>3.034</li>\n",
       "\t<li>2.994</li>\n",
       "\t<li>2.576</li>\n",
       "\t<li>2.624</li>\n",
       "\t<li>2.274</li>\n",
       "\t<li>2.509</li>\n",
       "\t<li>2.79</li>\n",
       "\t<li>2.852</li>\n",
       "\t<li>3.311</li>\n",
       "\t<li>3.694</li>\n",
       "\t<li>4.002</li>\n",
       "\t<li>4.175</li>\n",
       "\t<li>4.137</li>\n",
       "\t<li>4.37</li>\n",
       "\t<li>4.566</li>\n",
       "\t<li>4.436</li>\n",
       "\t<li>4.406</li>\n",
       "\t<li>4.207</li>\n",
       "\t<li>4.142</li>\n",
       "\t<li>4.492</li>\n",
       "\t<li>4.291</li>\n",
       "\t<li>4.211</li>\n",
       "\t<li>4.176</li>\n",
       "\t<li>4.35</li>\n",
       "\t<li>4.495</li>\n",
       "\t<li>4.659</li>\n",
       "\t<li>4.876</li>\n",
       "\t<li>4.323</li>\n",
       "\t<li>4.3</li>\n",
       "\t<li>4.447</li>\n",
       "\t<li>5.272</li>\n",
       "\t<li>5.532</li>\n",
       "\t<li>5.402</li>\n",
       "\t<li>5.018</li>\n",
       "\t<li>5.83</li>\n",
       "\t<li>5.123</li>\n",
       "\t<li>4.57</li>\n",
       "\t<li>3.975</li>\n",
       "\t<li>4.25</li>\n",
       "\t<li>4.168</li>\n",
       "\t<li>3.84</li>\n",
       "\t<li>4.211</li>\n",
       "\t<li>4.501</li>\n",
       "\t<li>5.127</li>\n",
       "\t<li>5.844</li>\n",
       "\t<li>6.864</li>\n",
       "\t<li>7.261</li>\n",
       "\t<li>8.17</li>\n",
       "\t<li>8.815</li>\n",
       "\t<li>11.26</li>\n",
       "\t<li>12.913</li>\n",
       "\t<li>11.588</li>\n",
       "\t<li>10.501</li>\n",
       "\t<li>9.775</li>\n",
       "\t<li>8.713</li>\n",
       "\t<li>7.943</li>\n",
       "\t<li>7.286</li>\n",
       "\t<li>8.147</li>\n",
       "\t<li>8.201</li>\n",
       "\t<li>7.718</li>\n",
       "\t<li>7.284</li>\n",
       "\t<li>6.763</li>\n",
       "\t<li>7.725</li>\n",
       "\t<li>8.094</li>\n",
       "\t<li>7.916</li>\n",
       "\t<li>7.48</li>\n",
       "\t<li>7.672</li>\n",
       "\t<li>6.9</li>\n",
       "\t<li>7.324</li>\n",
       "\t<li>8.435</li>\n",
       "\t<li>8.251</li>\n",
       "\t<li>8.333</li>\n",
       "\t<li>9.114</li>\n",
       "\t<li>6.834</li>\n",
       "\t<li>6.918</li>\n",
       "\t<li>6.894</li>\n",
       "\t<li>7.722</li>\n",
       "\t<li>7.335</li>\n",
       "\t<li>7.84</li>\n",
       "\t<li>9.203</li>\n",
       "\t<li>13.353</li>\n",
       "\t<li>12.267</li>\n",
       "\t<li>14.178</li>\n",
       "\t<li>13.024</li>\n",
       "\t<li>9.884</li>\n",
       "\t<li>7.727</li>\n",
       "\t<li>7.308</li>\n",
       "\t<li>6.631</li>\n",
       "\t<li>7.342</li>\n",
       "\t<li>7.245</li>\n",
       "\t<li>6.342</li>\n",
       "\t<li>6.159</li>\n",
       "\t<li>6.855</li>\n",
       "\t<li>8.246</li>\n",
       "\t<li>8.819</li>\n",
       "\t<li>6.594</li>\n",
       "\t<li>6.229</li>\n",
       "\t<li>6.205</li>\n",
       "\t<li>6.4</li>\n",
       "\t<li>6.5</li>\n",
       "\t<li>5.907</li>\n",
       "\t<li>5.674</li>\n",
       "\t<li>5.241</li>\n",
       "\t<li>5.51</li>\n",
       "\t<li>5.998</li>\n",
       "\t<li>5.001</li>\n",
       "\t<li>5.481</li>\n",
       "\t<li>5.155</li>\n",
       "\t<li>5.256</li>\n",
       "\t<li>5.097</li>\n",
       "\t<li>6.021</li>\n",
       "\t<li>6.042</li>\n",
       "\t<li>5.465</li>\n",
       "\t<li>5.441</li>\n",
       "\t<li>5.587</li>\n",
       "\t<li>5.01</li>\n",
       "\t<li>4.64</li>\n",
       "\t<li>4.078</li>\n",
       "\t<li>4.348</li>\n",
       "\t<li>4.094</li>\n",
       "\t<li>3.461</li>\n",
       "\t<li>3.019</li>\n",
       "\t<li>3.343</li>\n",
       "\t<li>3.671</li>\n",
       "\t<li>3.476</li>\n",
       "\t<li>3.083</li>\n",
       "\t<li>2.387</li>\n",
       "\t<li>2.252</li>\n",
       "\t<li>2.75</li>\n",
       "\t<li>3.022</li>\n",
       "\t<li>3.065</li>\n",
       "\t<li>2.891</li>\n",
       "\t<li>3.219</li>\n",
       "\t<li>3.309</li>\n",
       "\t<li>3.918</li>\n",
       "\t<li>4.384</li>\n",
       "\t<li>5.294</li>\n",
       "\t<li>5.287</li>\n",
       "\t<li>5.441</li>\n",
       "\t<li>6.027</li>\n",
       "\t<li>7.337</li>\n",
       "\t<li>5.455</li>\n",
       "\t<li>5.151</li>\n",
       "\t<li>5.335</li>\n",
       "\t<li>4.526</li>\n",
       "\t<li>3.981</li>\n",
       "\t<li>4.258</li>\n",
       "\t<li>3.612</li>\n",
       "\t<li>3.058</li>\n",
       "\t<li>2.868</li>\n",
       "\t<li>2.591</li>\n",
       "\t<li>2.396</li>\n",
       "\t<li>2.403</li>\n",
       "\t<li>2.586</li>\n",
       "\t<li>3.055</li>\n",
       "\t<li>2.977</li>\n",
       "\t<li>2.948</li>\n",
       "\t<li>2.378</li>\n",
       "\t<li>2.393</li>\n",
       "\t<li>2.315</li>\n",
       "\t<li>2.201</li>\n",
       "\t<li>1.857</li>\n",
       "\t<li>1.82</li>\n",
       "\t<li>1.86</li>\n",
       "\t<li>1.954</li>\n",
       "\t<li>2.38</li>\n",
       "\t<li>2.548</li>\n",
       "\t<li>2.479</li>\n",
       "\t<li>2.168</li>\n",
       "\t<li>2.22</li>\n",
       "\t<li>2.234</li>\n",
       "\t<li>2.249</li>\n",
       "\t<li>2.524</li>\n",
       "\t<li>2.312</li>\n",
       "\t<li>2.312</li>\n",
       "\t<li>2.11</li>\n",
       "\t<li>2.286</li>\n",
       "\t<li>2.803</li>\n",
       "\t<li>3.236</li>\n",
       "\t<li>3.043</li>\n",
       "\t<li>2.589</li>\n",
       "\t<li>2.14</li>\n",
       "\t<li>2.168</li>\n",
       "\t<li>2.263</li>\n",
       "\t<li>2.073</li>\n",
       "\t<li>1.978</li>\n",
       "\t<li>1.995</li>\n",
       "\t<li>2.393</li>\n",
       "\t<li>2.817</li>\n",
       "\t<li>2.571</li>\n",
       "\t<li>2.572</li>\n",
       "\t<li>2.272</li>\n",
       "\t<li>2.222</li>\n",
       "\t<li>2.485</li>\n",
       "\t<li>2.572</li>\n",
       "\t<li>2.307</li>\n",
       "\t<li>2.277</li>\n",
       "\t<li>2.1</li>\n",
       "\t<li>2.056</li>\n",
       "\t<li>1.964</li>\n",
       "\t<li>1.995</li>\n",
       "\t<li>1.858</li>\n",
       "\t<li>1.889</li>\n",
       "\t<li>1.883</li>\n",
       "\t<li>1.745</li>\n",
       "\t<li>1.605</li>\n",
       "\t<li>1.719</li>\n",
       "\t<li>1.801</li>\n",
       "\t<li>1.745</li>\n",
       "\t<li>1.639</li>\n",
       "\t<li>1.492</li>\n",
       "\t<li>1.49</li>\n",
       "\t<li>1.694</li>\n",
       "\t<li>1.873</li>\n",
       "\t<li>2.037</li>\n",
       "\t<li>2.066</li>\n",
       "\t<li>2.031</li>\n",
       "\t<li>2.083</li>\n",
       "\t<li>2.15</li>\n",
       "\t<li>2.038</li>\n",
       "\t<li>2.139</li>\n",
       "\t<li>2.118</li>\n",
       "\t<li>2.168</li>\n",
       "\t<li>2.116</li>\n",
       "</ol>\n"
      ],
      "text/latex": [
       "\\begin{enumerate*}\n",
       "\\item 2.784\n",
       "\\item 2.695\n",
       "\\item 2.8\n",
       "\\item 2.737\n",
       "\\item 3.149\n",
       "\\item 3.203\n",
       "\\item 3.229\n",
       "\\item 3.023\n",
       "\\item 2.988\n",
       "\\item 3.013\n",
       "\\item 3.346\n",
       "\\item 3.344\n",
       "\\item 3.14\n",
       "\\item 3.067\n",
       "\\item 3.294\n",
       "\\item 3.547\n",
       "\\item 3.047\n",
       "\\item 3.446\n",
       "\\item 3.193\n",
       "\\item 2.93\n",
       "\\item 2.798\n",
       "\\item 2.704\n",
       "\\item 2.311\n",
       "\\item 2.231\n",
       "\\item 2.011\n",
       "\\item 2.068\n",
       "\\item 2.301\n",
       "\\item 2.156\n",
       "\\item 2.465\n",
       "\\item 2.726\n",
       "\\item 2.875\n",
       "\\item 2.883\n",
       "\\item 2.849\n",
       "\\item 2.807\n",
       "\\item 2.92\n",
       "\\item 2.69\n",
       "\\item 2.821\n",
       "\\item 2.806\n",
       "\\item 2.883\n",
       "\\item 3.496\n",
       "\\item 4.299\n",
       "\\item 3.959\n",
       "\\item 4.06\n",
       "\\item 4.002\n",
       "\\item 4.038\n",
       "\\item 4.578\n",
       "\\item 4.532\n",
       "\\item 4.658\n",
       "\\item 4.484\n",
       "\\item 4.556\n",
       "\\item 4.188\n",
       "\\item 4.249\n",
       "\\item 3.694\n",
       "\\item 3.875\n",
       "\\item 3.858\n",
       "\\item 3.569\n",
       "\\item 3.667\n",
       "\\item 3.825\n",
       "\\item 4.134\n",
       "\\item 4.245\n",
       "\\item 3.852\n",
       "\\item 3.431\n",
       "\\item 3.403\n",
       "\\item 3.488\n",
       "\\item 3.808\n",
       "\\item 3.911\n",
       "\\item 3.332\n",
       "\\item 3.034\n",
       "\\item 2.994\n",
       "\\item 2.576\n",
       "\\item 2.624\n",
       "\\item 2.274\n",
       "\\item 2.509\n",
       "\\item 2.79\n",
       "\\item 2.852\n",
       "\\item 3.311\n",
       "\\item 3.694\n",
       "\\item 4.002\n",
       "\\item 4.175\n",
       "\\item 4.137\n",
       "\\item 4.37\n",
       "\\item 4.566\n",
       "\\item 4.436\n",
       "\\item 4.406\n",
       "\\item 4.207\n",
       "\\item 4.142\n",
       "\\item 4.492\n",
       "\\item 4.291\n",
       "\\item 4.211\n",
       "\\item 4.176\n",
       "\\item 4.35\n",
       "\\item 4.495\n",
       "\\item 4.659\n",
       "\\item 4.876\n",
       "\\item 4.323\n",
       "\\item 4.3\n",
       "\\item 4.447\n",
       "\\item 5.272\n",
       "\\item 5.532\n",
       "\\item 5.402\n",
       "\\item 5.018\n",
       "\\item 5.83\n",
       "\\item 5.123\n",
       "\\item 4.57\n",
       "\\item 3.975\n",
       "\\item 4.25\n",
       "\\item 4.168\n",
       "\\item 3.84\n",
       "\\item 4.211\n",
       "\\item 4.501\n",
       "\\item 5.127\n",
       "\\item 5.844\n",
       "\\item 6.864\n",
       "\\item 7.261\n",
       "\\item 8.17\n",
       "\\item 8.815\n",
       "\\item 11.26\n",
       "\\item 12.913\n",
       "\\item 11.588\n",
       "\\item 10.501\n",
       "\\item 9.775\n",
       "\\item 8.713\n",
       "\\item 7.943\n",
       "\\item 7.286\n",
       "\\item 8.147\n",
       "\\item 8.201\n",
       "\\item 7.718\n",
       "\\item 7.284\n",
       "\\item 6.763\n",
       "\\item 7.725\n",
       "\\item 8.094\n",
       "\\item 7.916\n",
       "\\item 7.48\n",
       "\\item 7.672\n",
       "\\item 6.9\n",
       "\\item 7.324\n",
       "\\item 8.435\n",
       "\\item 8.251\n",
       "\\item 8.333\n",
       "\\item 9.114\n",
       "\\item 6.834\n",
       "\\item 6.918\n",
       "\\item 6.894\n",
       "\\item 7.722\n",
       "\\item 7.335\n",
       "\\item 7.84\n",
       "\\item 9.203\n",
       "\\item 13.353\n",
       "\\item 12.267\n",
       "\\item 14.178\n",
       "\\item 13.024\n",
       "\\item 9.884\n",
       "\\item 7.727\n",
       "\\item 7.308\n",
       "\\item 6.631\n",
       "\\item 7.342\n",
       "\\item 7.245\n",
       "\\item 6.342\n",
       "\\item 6.159\n",
       "\\item 6.855\n",
       "\\item 8.246\n",
       "\\item 8.819\n",
       "\\item 6.594\n",
       "\\item 6.229\n",
       "\\item 6.205\n",
       "\\item 6.4\n",
       "\\item 6.5\n",
       "\\item 5.907\n",
       "\\item 5.674\n",
       "\\item 5.241\n",
       "\\item 5.51\n",
       "\\item 5.998\n",
       "\\item 5.001\n",
       "\\item 5.481\n",
       "\\item 5.155\n",
       "\\item 5.256\n",
       "\\item 5.097\n",
       "\\item 6.021\n",
       "\\item 6.042\n",
       "\\item 5.465\n",
       "\\item 5.441\n",
       "\\item 5.587\n",
       "\\item 5.01\n",
       "\\item 4.64\n",
       "\\item 4.078\n",
       "\\item 4.348\n",
       "\\item 4.094\n",
       "\\item 3.461\n",
       "\\item 3.019\n",
       "\\item 3.343\n",
       "\\item 3.671\n",
       "\\item 3.476\n",
       "\\item 3.083\n",
       "\\item 2.387\n",
       "\\item 2.252\n",
       "\\item 2.75\n",
       "\\item 3.022\n",
       "\\item 3.065\n",
       "\\item 2.891\n",
       "\\item 3.219\n",
       "\\item 3.309\n",
       "\\item 3.918\n",
       "\\item 4.384\n",
       "\\item 5.294\n",
       "\\item 5.287\n",
       "\\item 5.441\n",
       "\\item 6.027\n",
       "\\item 7.337\n",
       "\\item 5.455\n",
       "\\item 5.151\n",
       "\\item 5.335\n",
       "\\item 4.526\n",
       "\\item 3.981\n",
       "\\item 4.258\n",
       "\\item 3.612\n",
       "\\item 3.058\n",
       "\\item 2.868\n",
       "\\item 2.591\n",
       "\\item 2.396\n",
       "\\item 2.403\n",
       "\\item 2.586\n",
       "\\item 3.055\n",
       "\\item 2.977\n",
       "\\item 2.948\n",
       "\\item 2.378\n",
       "\\item 2.393\n",
       "\\item 2.315\n",
       "\\item 2.201\n",
       "\\item 1.857\n",
       "\\item 1.82\n",
       "\\item 1.86\n",
       "\\item 1.954\n",
       "\\item 2.38\n",
       "\\item 2.548\n",
       "\\item 2.479\n",
       "\\item 2.168\n",
       "\\item 2.22\n",
       "\\item 2.234\n",
       "\\item 2.249\n",
       "\\item 2.524\n",
       "\\item 2.312\n",
       "\\item 2.312\n",
       "\\item 2.11\n",
       "\\item 2.286\n",
       "\\item 2.803\n",
       "\\item 3.236\n",
       "\\item 3.043\n",
       "\\item 2.589\n",
       "\\item 2.14\n",
       "\\item 2.168\n",
       "\\item 2.263\n",
       "\\item 2.073\n",
       "\\item 1.978\n",
       "\\item 1.995\n",
       "\\item 2.393\n",
       "\\item 2.817\n",
       "\\item 2.571\n",
       "\\item 2.572\n",
       "\\item 2.272\n",
       "\\item 2.222\n",
       "\\item 2.485\n",
       "\\item 2.572\n",
       "\\item 2.307\n",
       "\\item 2.277\n",
       "\\item 2.1\n",
       "\\item 2.056\n",
       "\\item 1.964\n",
       "\\item 1.995\n",
       "\\item 1.858\n",
       "\\item 1.889\n",
       "\\item 1.883\n",
       "\\item 1.745\n",
       "\\item 1.605\n",
       "\\item 1.719\n",
       "\\item 1.801\n",
       "\\item 1.745\n",
       "\\item 1.639\n",
       "\\item 1.492\n",
       "\\item 1.49\n",
       "\\item 1.694\n",
       "\\item 1.873\n",
       "\\item 2.037\n",
       "\\item 2.066\n",
       "\\item 2.031\n",
       "\\item 2.083\n",
       "\\item 2.15\n",
       "\\item 2.038\n",
       "\\item 2.139\n",
       "\\item 2.118\n",
       "\\item 2.168\n",
       "\\item 2.116\n",
       "\\end{enumerate*}\n"
      ],
      "text/markdown": [
       "1. 2.784\n",
       "2. 2.695\n",
       "3. 2.8\n",
       "4. 2.737\n",
       "5. 3.149\n",
       "6. 3.203\n",
       "7. 3.229\n",
       "8. 3.023\n",
       "9. 2.988\n",
       "10. 3.013\n",
       "11. 3.346\n",
       "12. 3.344\n",
       "13. 3.14\n",
       "14. 3.067\n",
       "15. 3.294\n",
       "16. 3.547\n",
       "17. 3.047\n",
       "18. 3.446\n",
       "19. 3.193\n",
       "20. 2.93\n",
       "21. 2.798\n",
       "22. 2.704\n",
       "23. 2.311\n",
       "24. 2.231\n",
       "25. 2.011\n",
       "26. 2.068\n",
       "27. 2.301\n",
       "28. 2.156\n",
       "29. 2.465\n",
       "30. 2.726\n",
       "31. 2.875\n",
       "32. 2.883\n",
       "33. 2.849\n",
       "34. 2.807\n",
       "35. 2.92\n",
       "36. 2.69\n",
       "37. 2.821\n",
       "38. 2.806\n",
       "39. 2.883\n",
       "40. 3.496\n",
       "41. 4.299\n",
       "42. 3.959\n",
       "43. 4.06\n",
       "44. 4.002\n",
       "45. 4.038\n",
       "46. 4.578\n",
       "47. 4.532\n",
       "48. 4.658\n",
       "49. 4.484\n",
       "50. 4.556\n",
       "51. 4.188\n",
       "52. 4.249\n",
       "53. 3.694\n",
       "54. 3.875\n",
       "55. 3.858\n",
       "56. 3.569\n",
       "57. 3.667\n",
       "58. 3.825\n",
       "59. 4.134\n",
       "60. 4.245\n",
       "61. 3.852\n",
       "62. 3.431\n",
       "63. 3.403\n",
       "64. 3.488\n",
       "65. 3.808\n",
       "66. 3.911\n",
       "67. 3.332\n",
       "68. 3.034\n",
       "69. 2.994\n",
       "70. 2.576\n",
       "71. 2.624\n",
       "72. 2.274\n",
       "73. 2.509\n",
       "74. 2.79\n",
       "75. 2.852\n",
       "76. 3.311\n",
       "77. 3.694\n",
       "78. 4.002\n",
       "79. 4.175\n",
       "80. 4.137\n",
       "81. 4.37\n",
       "82. 4.566\n",
       "83. 4.436\n",
       "84. 4.406\n",
       "85. 4.207\n",
       "86. 4.142\n",
       "87. 4.492\n",
       "88. 4.291\n",
       "89. 4.211\n",
       "90. 4.176\n",
       "91. 4.35\n",
       "92. 4.495\n",
       "93. 4.659\n",
       "94. 4.876\n",
       "95. 4.323\n",
       "96. 4.3\n",
       "97. 4.447\n",
       "98. 5.272\n",
       "99. 5.532\n",
       "100. 5.402\n",
       "101. 5.018\n",
       "102. 5.83\n",
       "103. 5.123\n",
       "104. 4.57\n",
       "105. 3.975\n",
       "106. 4.25\n",
       "107. 4.168\n",
       "108. 3.84\n",
       "109. 4.211\n",
       "110. 4.501\n",
       "111. 5.127\n",
       "112. 5.844\n",
       "113. 6.864\n",
       "114. 7.261\n",
       "115. 8.17\n",
       "116. 8.815\n",
       "117. 11.26\n",
       "118. 12.913\n",
       "119. 11.588\n",
       "120. 10.501\n",
       "121. 9.775\n",
       "122. 8.713\n",
       "123. 7.943\n",
       "124. 7.286\n",
       "125. 8.147\n",
       "126. 8.201\n",
       "127. 7.718\n",
       "128. 7.284\n",
       "129. 6.763\n",
       "130. 7.725\n",
       "131. 8.094\n",
       "132. 7.916\n",
       "133. 7.48\n",
       "134. 7.672\n",
       "135. 6.9\n",
       "136. 7.324\n",
       "137. 8.435\n",
       "138. 8.251\n",
       "139. 8.333\n",
       "140. 9.114\n",
       "141. 6.834\n",
       "142. 6.918\n",
       "143. 6.894\n",
       "144. 7.722\n",
       "145. 7.335\n",
       "146. 7.84\n",
       "147. 9.203\n",
       "148. 13.353\n",
       "149. 12.267\n",
       "150. 14.178\n",
       "151. 13.024\n",
       "152. 9.884\n",
       "153. 7.727\n",
       "154. 7.308\n",
       "155. 6.631\n",
       "156. 7.342\n",
       "157. 7.245\n",
       "158. 6.342\n",
       "159. 6.159\n",
       "160. 6.855\n",
       "161. 8.246\n",
       "162. 8.819\n",
       "163. 6.594\n",
       "164. 6.229\n",
       "165. 6.205\n",
       "166. 6.4\n",
       "167. 6.5\n",
       "168. 5.907\n",
       "169. 5.674\n",
       "170. 5.241\n",
       "171. 5.51\n",
       "172. 5.998\n",
       "173. 5.001\n",
       "174. 5.481\n",
       "175. 5.155\n",
       "176. 5.256\n",
       "177. 5.097\n",
       "178. 6.021\n",
       "179. 6.042\n",
       "180. 5.465\n",
       "181. 5.441\n",
       "182. 5.587\n",
       "183. 5.01\n",
       "184. 4.64\n",
       "185. 4.078\n",
       "186. 4.348\n",
       "187. 4.094\n",
       "188. 3.461\n",
       "189. 3.019\n",
       "190. 3.343\n",
       "191. 3.671\n",
       "192. 3.476\n",
       "193. 3.083\n",
       "194. 2.387\n",
       "195. 2.252\n",
       "196. 2.75\n",
       "197. 3.022\n",
       "198. 3.065\n",
       "199. 2.891\n",
       "200. 3.219\n",
       "201. 3.309\n",
       "202. 3.918\n",
       "203. 4.384\n",
       "204. 5.294\n",
       "205. 5.287\n",
       "206. 5.441\n",
       "207. 6.027\n",
       "208. 7.337\n",
       "209. 5.455\n",
       "210. 5.151\n",
       "211. 5.335\n",
       "212. 4.526\n",
       "213. 3.981\n",
       "214. 4.258\n",
       "215. 3.612\n",
       "216. 3.058\n",
       "217. 2.868\n",
       "218. 2.591\n",
       "219. 2.396\n",
       "220. 2.403\n",
       "221. 2.586\n",
       "222. 3.055\n",
       "223. 2.977\n",
       "224. 2.948\n",
       "225. 2.378\n",
       "226. 2.393\n",
       "227. 2.315\n",
       "228. 2.201\n",
       "229. 1.857\n",
       "230. 1.82\n",
       "231. 1.86\n",
       "232. 1.954\n",
       "233. 2.38\n",
       "234. 2.548\n",
       "235. 2.479\n",
       "236. 2.168\n",
       "237. 2.22\n",
       "238. 2.234\n",
       "239. 2.249\n",
       "240. 2.524\n",
       "241. 2.312\n",
       "242. 2.312\n",
       "243. 2.11\n",
       "244. 2.286\n",
       "245. 2.803\n",
       "246. 3.236\n",
       "247. 3.043\n",
       "248. 2.589\n",
       "249. 2.14\n",
       "250. 2.168\n",
       "251. 2.263\n",
       "252. 2.073\n",
       "253. 1.978\n",
       "254. 1.995\n",
       "255. 2.393\n",
       "256. 2.817\n",
       "257. 2.571\n",
       "258. 2.572\n",
       "259. 2.272\n",
       "260. 2.222\n",
       "261. 2.485\n",
       "262. 2.572\n",
       "263. 2.307\n",
       "264. 2.277\n",
       "265. 2.1\n",
       "266. 2.056\n",
       "267. 1.964\n",
       "268. 1.995\n",
       "269. 1.858\n",
       "270. 1.889\n",
       "271. 1.883\n",
       "272. 1.745\n",
       "273. 1.605\n",
       "274. 1.719\n",
       "275. 1.801\n",
       "276. 1.745\n",
       "277. 1.639\n",
       "278. 1.492\n",
       "279. 1.49\n",
       "280. 1.694\n",
       "281. 1.873\n",
       "282. 2.037\n",
       "283. 2.066\n",
       "284. 2.031\n",
       "285. 2.083\n",
       "286. 2.15\n",
       "287. 2.038\n",
       "288. 2.139\n",
       "289. 2.118\n",
       "290. 2.168\n",
       "291. 2.116\n",
       "\n",
       "\n"
      ],
      "text/plain": [
       "  [1]  2.784  2.695  2.800  2.737  3.149  3.203  3.229  3.023  2.988  3.013\n",
       " [11]  3.346  3.344  3.140  3.067  3.294  3.547  3.047  3.446  3.193  2.930\n",
       " [21]  2.798  2.704  2.311  2.231  2.011  2.068  2.301  2.156  2.465  2.726\n",
       " [31]  2.875  2.883  2.849  2.807  2.920  2.690  2.821  2.806  2.883  3.496\n",
       " [41]  4.299  3.959  4.060  4.002  4.038  4.578  4.532  4.658  4.484  4.556\n",
       " [51]  4.188  4.249  3.694  3.875  3.858  3.569  3.667  3.825  4.134  4.245\n",
       " [61]  3.852  3.431  3.403  3.488  3.808  3.911  3.332  3.034  2.994  2.576\n",
       " [71]  2.624  2.274  2.509  2.790  2.852  3.311  3.694  4.002  4.175  4.137\n",
       " [81]  4.370  4.566  4.436  4.406  4.207  4.142  4.492  4.291  4.211  4.176\n",
       " [91]  4.350  4.495  4.659  4.876  4.323  4.300  4.447  5.272  5.532  5.402\n",
       "[101]  5.018  5.830  5.123  4.570  3.975  4.250  4.168  3.840  4.211  4.501\n",
       "[111]  5.127  5.844  6.864  7.261  8.170  8.815 11.260 12.913 11.588 10.501\n",
       "[121]  9.775  8.713  7.943  7.286  8.147  8.201  7.718  7.284  6.763  7.725\n",
       "[131]  8.094  7.916  7.480  7.672  6.900  7.324  8.435  8.251  8.333  9.114\n",
       "[141]  6.834  6.918  6.894  7.722  7.335  7.840  9.203 13.353 12.267 14.178\n",
       "[151] 13.024  9.884  7.727  7.308  6.631  7.342  7.245  6.342  6.159  6.855\n",
       "[161]  8.246  8.819  6.594  6.229  6.205  6.400  6.500  5.907  5.674  5.241\n",
       "[171]  5.510  5.998  5.001  5.481  5.155  5.256  5.097  6.021  6.042  5.465\n",
       "[181]  5.441  5.587  5.010  4.640  4.078  4.348  4.094  3.461  3.019  3.343\n",
       "[191]  3.671  3.476  3.083  2.387  2.252  2.750  3.022  3.065  2.891  3.219\n",
       "[201]  3.309  3.918  4.384  5.294  5.287  5.441  6.027  7.337  5.455  5.151\n",
       "[211]  5.335  4.526  3.981  4.258  3.612  3.058  2.868  2.591  2.396  2.403\n",
       "[221]  2.586  3.055  2.977  2.948  2.378  2.393  2.315  2.201  1.857  1.820\n",
       "[231]  1.860  1.954  2.380  2.548  2.479  2.168  2.220  2.234  2.249  2.524\n",
       "[241]  2.312  2.312  2.110  2.286  2.803  3.236  3.043  2.589  2.140  2.168\n",
       "[251]  2.263  2.073  1.978  1.995  2.393  2.817  2.571  2.572  2.272  2.222\n",
       "[261]  2.485  2.572  2.307  2.277  2.100  2.056  1.964  1.995  1.858  1.889\n",
       "[271]  1.883  1.745  1.605  1.719  1.801  1.745  1.639  1.492  1.490  1.694\n",
       "[281]  1.873  2.037  2.066  2.031  2.083  2.150  2.038  2.139  2.118  2.168\n",
       "[291]  2.116"
      ]
     },
     "metadata": {},
     "output_type": "display_data"
    }
   ],
   "source": [
    "data[,2]"
   ]
  },
  {
   "cell_type": "markdown",
   "metadata": {},
   "source": [
    "Aşağıda verimizi çizgizel grafik gösterimini görüyoruz. "
   ]
  },
  {
   "cell_type": "code",
   "execution_count": 4,
   "metadata": {},
   "outputs": [
    {
     "data": {
      "image/png": "[encoded data removed]",
      "text/plain": [
       "plot without title"
      ]
     },
     "metadata": {},
     "output_type": "display_data"
    }
   ],
   "source": [
    "plot(data[,2],type=\"l\")"
   ]
  },
  {
   "cell_type": "markdown",
   "metadata": {},
   "source": [
    "Veriyi sezonsal veriden ayırmak için R paketinin decompose fonksiyonunu kullanıyoruz. Decompose fonksiyonu ile veri sezonsal etkiden ve trend etkisinden arınmaktadır.Veri aylık olduğundan dolayı sıklığı 12 olarak alıyoruz. \n",
    "\n",
    "\n",
    "Ek olarak verinin ayrışma yönteminin, toplamsal ya da çarpımsal olduğunu anlamak için  type= c(\"additive\") ve type= c(\"multiplicative\") fonksiyonu kullanıyoruz.\n",
    "\n",
    "Dönemsel mevsimselliği incelemek için ise R 'ın figure fonksiyonu kullanılmaktadır."
   ]
  },
  {
   "cell_type": "markdown",
   "metadata": {},
   "source": [
    "Aşağıda zaman serisi (ts) verimize toplamsal ayrıştırma tipine decompose fonsiyonu uyguluyoruz. Böylelikle verimizdeki sezonsal ve trendsel etkiden çıkartmış oluyoruz. Plot fonksiyonu ile yaptığımız modeli grafiksel olarak gösteriyoruz. Figure fonksiyonu ile de zaman seriminizn 12 aylık sezonsal etkisini gösteriyoruz."
   ]
  },
  {
   "cell_type": "code",
   "execution_count": 5,
   "metadata": {},
   "outputs": [
    {
     "data": {
      "text/html": [
       "<ol class=list-inline>\n",
       "\t<li>-0.250571803291063</li>\n",
       "\t<li>-0.317711296044686</li>\n",
       "\t<li>-0.263535571407005</li>\n",
       "\t<li>0.139102109752416</li>\n",
       "\t<li>0.201556819897343</li>\n",
       "\t<li>0.475457182216184</li>\n",
       "\t<li>0.258317387530193</li>\n",
       "\t<li>0.0064302347524155</li>\n",
       "\t<li>-0.186884001358696</li>\n",
       "\t<li>0.05523616772343</li>\n",
       "\t<li>-0.0249105714070048</li>\n",
       "\t<li>-0.0924866583635267</li>\n",
       "</ol>\n"
      ],
      "text/latex": [
       "\\begin{enumerate*}\n",
       "\\item -0.250571803291063\n",
       "\\item -0.317711296044686\n",
       "\\item -0.263535571407005\n",
       "\\item 0.139102109752416\n",
       "\\item 0.201556819897343\n",
       "\\item 0.475457182216184\n",
       "\\item 0.258317387530193\n",
       "\\item 0.0064302347524155\n",
       "\\item -0.186884001358696\n",
       "\\item 0.05523616772343\n",
       "\\item -0.0249105714070048\n",
       "\\item -0.0924866583635267\n",
       "\\end{enumerate*}\n"
      ],
      "text/markdown": [
       "1. -0.250571803291063\n",
       "2. -0.317711296044686\n",
       "3. -0.263535571407005\n",
       "4. 0.139102109752416\n",
       "5. 0.201556819897343\n",
       "6. 0.475457182216184\n",
       "7. 0.258317387530193\n",
       "8. 0.0064302347524155\n",
       "9. -0.186884001358696\n",
       "10. 0.05523616772343\n",
       "11. -0.0249105714070048\n",
       "12. -0.0924866583635267\n",
       "\n",
       "\n"
      ],
      "text/plain": [
       " [1] -0.250571803 -0.317711296 -0.263535571  0.139102110  0.201556820\n",
       " [6]  0.475457182  0.258317388  0.006430235 -0.186884001  0.055236168\n",
       "[11] -0.024910571 -0.092486658"
      ]
     },
     "metadata": {},
     "output_type": "display_data"
    },
    {
     "data": {
      "image/png": "[encoded data removed]",
      "text/plain": [
       "plot without title"
      ]
     },
     "metadata": {},
     "output_type": "display_data"
    },
    {
     "data": {
      "image/png": "[encoded data removed]",
      "text/plain": [
       "plot without title"
      ]
     },
     "metadata": {},
     "output_type": "display_data"
    }
   ],
   "source": [
    "additive_model<-decompose(ts(data[,2], freq=12),type= c(\"additive\"))\n",
    "plot(additive_model)\n",
    "additive_model$figure\n",
    "plot(additive_model$figure,type=\"b\")\n"
   ]
  },
  {
   "cell_type": "markdown",
   "metadata": {},
   "source": [
    "Aşağıda zaman serisi (ts) verimize çarpımsal ayrıştırma tipine decompose fonsiyonu uyguluyoruz. Böylelikle verimizdeki sezonsal ve trendsel etkiden çıkartmış oluyoruz. Plot fonksiyonu ile yaptığımız modeli grafiksel olarak gösteriyoruz. Figure fonksiyonu ile de zaman seriminizn 12 aylık sezonsal etkisini gösteriyoruz."
   ]
  },
  {
   "cell_type": "code",
   "execution_count": 6,
   "metadata": {},
   "outputs": [
    {
     "data": {
      "text/html": [
       "<ol class=list-inline>\n",
       "\t<li>0.942811774763166</li>\n",
       "\t<li>0.927045556038741</li>\n",
       "\t<li>0.940674011628285</li>\n",
       "\t<li>1.01902360679147</li>\n",
       "\t<li>1.04011959571431</li>\n",
       "\t<li>1.10399117941319</li>\n",
       "\t<li>1.0620630978449</li>\n",
       "\t<li>1.00625435638375</li>\n",
       "\t<li>0.965348207912725</li>\n",
       "\t<li>1.0098757797225</li>\n",
       "\t<li>1.00083056289512</li>\n",
       "\t<li>0.981962270891853</li>\n",
       "</ol>\n"
      ],
      "text/latex": [
       "\\begin{enumerate*}\n",
       "\\item 0.942811774763166\n",
       "\\item 0.927045556038741\n",
       "\\item 0.940674011628285\n",
       "\\item 1.01902360679147\n",
       "\\item 1.04011959571431\n",
       "\\item 1.10399117941319\n",
       "\\item 1.0620630978449\n",
       "\\item 1.00625435638375\n",
       "\\item 0.965348207912725\n",
       "\\item 1.0098757797225\n",
       "\\item 1.00083056289512\n",
       "\\item 0.981962270891853\n",
       "\\end{enumerate*}\n"
      ],
      "text/markdown": [
       "1. 0.942811774763166\n",
       "2. 0.927045556038741\n",
       "3. 0.940674011628285\n",
       "4. 1.01902360679147\n",
       "5. 1.04011959571431\n",
       "6. 1.10399117941319\n",
       "7. 1.0620630978449\n",
       "8. 1.00625435638375\n",
       "9. 0.965348207912725\n",
       "10. 1.0098757797225\n",
       "11. 1.00083056289512\n",
       "12. 0.981962270891853\n",
       "\n",
       "\n"
      ],
      "text/plain": [
       " [1] 0.9428118 0.9270456 0.9406740 1.0190236 1.0401196 1.1039912 1.0620631\n",
       " [8] 1.0062544 0.9653482 1.0098758 1.0008306 0.9819623"
      ]
     },
     "metadata": {},
     "output_type": "display_data"
    },
    {
     "data": {
      "image/png": "[encoded data removed]",
      "text/plain": [
       "plot without title"
      ]
     },
     "metadata": {},
     "output_type": "display_data"
    },
    {
     "data": {
      "image/png": "[encoded data removed]",
      "text/plain": [
       "plot without title"
      ]
     },
     "metadata": {},
     "output_type": "display_data"
    }
   ],
   "source": [
    "multiplicative_model<-decompose(ts(data[,2], freq=12), type= c(\"multiplicative\"))\n",
    "multiplicative_model$figure\n",
    "plot(multiplicative_model$figure, type=\"b\")\n",
    "plot(multiplicative_model)\n"
   ]
  },
  {
   "cell_type": "markdown",
   "metadata": {},
   "source": [
    "Toplamsal ve çarpımsal ayrışma model incelendiğinde büyük bir farklılık görünmediğinden bu aşamada karar verilememektedir. Bu yüzden ilerleyen aşamalarda veriye arima modeli uygulayacağız. \n",
    "\n",
    "Summary fonksiyonu ile verinin özetini göstermiş olunur."
   ]
  },
  {
   "cell_type": "markdown",
   "metadata": {},
   "source": [
    "Aşağıda asıl verimize, toplamsal ayrıştırma sezonsal ve trendsel etkiden ayrılmış verimize, çarpımsal ayrıştırma ile sezonsal ve trendsel etkiden ayrılmış verimizin özetlerini görüyoruz."
   ]
  },
  {
   "cell_type": "code",
   "execution_count": 7,
   "metadata": {},
   "outputs": [
    {
     "data": {
      "text/plain": [
       "   Min. 1st Qu.  Median    Mean 3rd Qu.    Max. \n",
       "  1.490   2.571   3.671   4.313   5.369  14.178 "
      ]
     },
     "metadata": {},
     "output_type": "display_data"
    },
    {
     "data": {
      "text/plain": [
       "    Min.  1st Qu.   Median     Mean  3rd Qu.     Max. \n",
       "-1.92338 -0.32174 -0.06026 -0.00006  0.20006  4.01238 "
      ]
     },
     "metadata": {},
     "output_type": "display_data"
    },
    {
     "data": {
      "text/plain": [
       "   Min. 1st Qu.  Median    Mean 3rd Qu.    Max. \n",
       " 0.7723  0.9171  0.9859  0.9939  1.0549  1.3903 "
      ]
     },
     "metadata": {},
     "output_type": "display_data"
    }
   ],
   "source": [
    "summary(data[,2])\n",
    "summary(na.omit(additive_model$random))\n",
    "summary(na.omit(multiplicative_model$random))"
   ]
  },
  {
   "cell_type": "markdown",
   "metadata": {},
   "source": [
    "Verinin normalliğini kontrol etmek için shapiro.test fonksiyonu kullanılmaktadır.P değeri testen ne kadar emin olduğunu göstermektedir. W değeri 1 değerine ne kadar yakınsa veri normalliğe o derece yakındır. "
   ]
  },
  {
   "cell_type": "markdown",
   "metadata": {},
   "source": [
    "Shapiro testini toplumsal ve çarpımsal ayrışmamodeline uygulanır."
   ]
  },
  {
   "cell_type": "markdown",
   "metadata": {},
   "source": [
    "### Soru: ??\n",
    "Hocam bu kısımda biraz daha araştırma yaptım, kafam karıştı. Bazı yerlerde \n",
    "p değerinin normali olması için güven aralığından büyük olması gerektiğini söylüyor. Bakabilir misiniz?"
   ]
  },
  {
   "cell_type": "code",
   "execution_count": 8,
   "metadata": {
    "scrolled": true
   },
   "outputs": [
    {
     "data": {
      "text/plain": [
       "\n",
       "\tShapiro-Wilk normality test\n",
       "\n",
       "data:  na.omit(additive_model$random)\n",
       "W = 0.79271, p-value < 2.2e-16\n"
      ]
     },
     "metadata": {},
     "output_type": "display_data"
    },
    {
     "data": {
      "text/plain": [
       "\n",
       "\tShapiro-Wilk normality test\n",
       "\n",
       "data:  na.omit(multiplicative_model$random)\n",
       "W = 0.96522, p-value = 2.888e-06\n"
      ]
     },
     "metadata": {},
     "output_type": "display_data"
    }
   ],
   "source": [
    "shapiro.test(na.omit(additive_model$random))\n",
    "shapiro.test(na.omit(multiplicative_model$random))"
   ]
  },
  {
   "cell_type": "markdown",
   "metadata": {},
   "source": [
    "Toplamsal ve çarpımsal ayrışma modeline uygulanan normallik testi incellendiğinde p değerlerinin oldukça küçük olduğunu görüyoruz. Yaptığımız iki testte de oldukça eminiz. W değeri incelendiğin de ise çarpımsal modelin 1 daha yakın olduğu görülmektedir. Verimiz normaldir, diyebiliriz."
   ]
  },
  {
   "cell_type": "markdown",
   "metadata": {},
   "source": [
    "Zaman serisiyle bu serinin gecikmeli serileri arasındaki ilişkiyi göstermek için R'ın acf ve pacf fonksiyonunu toplamsal ve çarpımsal ayrışma modeline uygulanır."
   ]
  },
  {
   "cell_type": "markdown",
   "metadata": {},
   "source": [
    "ACF eğer çok yüksek bir değerden başlayıp çok yavaş küçülüyorsa, bu serinin durağan olmadığının bir göstergesidir"
   ]
  },
  {
   "cell_type": "code",
   "execution_count": 9,
   "metadata": {},
   "outputs": [
    {
     "data": {
      "image/png": "[encoded data removed]",
      "text/plain": [
       "Plot with title \"Series  na.omit(additive_model$random)\""
      ]
     },
     "metadata": {},
     "output_type": "display_data"
    },
    {
     "data": {
      "image/png": "[encoded data removed]",
      "text/plain": [
       "Plot with title \"Series  na.omit(multiplicative_model$random)\""
      ]
     },
     "metadata": {},
     "output_type": "display_data"
    }
   ],
   "source": [
    "acf(na.omit(additive_model$random))\n",
    "acf(na.omit(multiplicative_model$random))"
   ]
  },
  {
   "cell_type": "code",
   "execution_count": 10,
   "metadata": {},
   "outputs": [
    {
     "data": {
      "image/png": "[encoded data removed]",
      "text/plain": [
       "Plot with title \"Series  na.omit(additive_model$random)\""
      ]
     },
     "metadata": {},
     "output_type": "display_data"
    },
    {
     "data": {
      "image/png": "[encoded data removed]",
      "text/plain": [
       "Plot with title \"Series  na.omit(multiplicative_model$random)\""
      ]
     },
     "metadata": {},
     "output_type": "display_data"
    }
   ],
   "source": [
    "pacf(na.omit(additive_model$random))\n",
    "pacf(na.omit(multiplicative_model$random))"
   ]
  },
  {
   "cell_type": "code",
   "execution_count": 11,
   "metadata": {},
   "outputs": [
    {
     "data": {
      "image/png": "[encoded data removed]",
      "text/plain": [
       "Plot with title \"Histogram of na.omit(multiplicative_model$random)\""
      ]
     },
     "metadata": {},
     "output_type": "display_data"
    }
   ],
   "source": [
    "hist(na.omit(multiplicative_model$random))"
   ]
  },
  {
   "cell_type": "markdown",
   "metadata": {},
   "source": [
    "Veride durağanlık durumunu belirlemek için sırasıyla ;Augmented Dickey-Fuller Test- Kwiatkowski-Phillips-Schmidt-Shin (KPSS) Test - Phillips–Perron Birim Kök Testi uygulanır."
   ]
  },
  {
   "cell_type": "markdown",
   "metadata": {},
   "source": [
    "##### Augmented Dickey Fuller Test\n",
    "İlk olarak Augmented Dickey Fuller testini verinin bileşenlerden ayrılmamış haline, toplamsal ve çarpımsal ayrışma modellerine sırasıyla uyguluyarak verinin durağanlığını kontrol ediyoruz. ADF testini R içinde bulunan adf.test fonksiyonu ile elde edebiliriz."
   ]
  },
  {
   "cell_type": "code",
   "execution_count": 12,
   "metadata": {},
   "outputs": [
    {
     "data": {
      "text/plain": [
       "\n",
       "\tAugmented Dickey-Fuller Test\n",
       "\n",
       "data:  data[, 2]\n",
       "Dickey-Fuller = -2.4019, Lag order = 6, p-value = 0.4068\n",
       "alternative hypothesis: stationary\n"
      ]
     },
     "metadata": {},
     "output_type": "display_data"
    },
    {
     "name": "stderr",
     "output_type": "stream",
     "text": [
      "Warning message in adf.test(na.omit(additive_model$random)):\n",
      "\"p-value smaller than printed p-value\""
     ]
    },
    {
     "data": {
      "text/plain": [
       "\n",
       "\tAugmented Dickey-Fuller Test\n",
       "\n",
       "data:  na.omit(additive_model$random)\n",
       "Dickey-Fuller = -8.8027, Lag order = 6, p-value = 0.01\n",
       "alternative hypothesis: stationary\n"
      ]
     },
     "metadata": {},
     "output_type": "display_data"
    },
    {
     "name": "stderr",
     "output_type": "stream",
     "text": [
      "Warning message in adf.test(na.omit(multiplicative_model$random)):\n",
      "\"p-value smaller than printed p-value\""
     ]
    },
    {
     "data": {
      "text/plain": [
       "\n",
       "\tAugmented Dickey-Fuller Test\n",
       "\n",
       "data:  na.omit(multiplicative_model$random)\n",
       "Dickey-Fuller = -8.2546, Lag order = 6, p-value = 0.01\n",
       "alternative hypothesis: stationary\n"
      ]
     },
     "metadata": {},
     "output_type": "display_data"
    }
   ],
   "source": [
    "adf.test(data[,2])\n",
    "adf.test(na.omit(additive_model$random))\n",
    "adf.test(na.omit(multiplicative_model$random))"
   ]
  },
  {
   "cell_type": "markdown",
   "metadata": {},
   "source": [
    "Yapılan ADF testteki sonuçlar:\n",
    "\n",
    "p değeri bileşenlerden ayrılmamış  veri için :0.4068\n",
    "\n",
    "p değeri additive modeli için :0.01\n",
    "\n",
    "p değeri multiplicative modeli için :0.01   çıkmıştır.\n",
    "\n",
    "Additive ve multiplicative modeline göre veri durağandır."
   ]
  },
  {
   "cell_type": "markdown",
   "metadata": {},
   "source": [
    "##### Kwiatkowski-Phillips-Schmidt-Shin (KPSS) Test\n",
    "İlk olarak  Kwiatkowski-Phillips-Schmidt-Shin (KPSS) Test testini verinin bileşenlerden ayrılmamış haline, toplamsal ve çarpımsal ayrışma modellerine sırasıyla uyguluyarak verinin durağanlığını kontrol ediyoruz. KPSS testini R içinde bulunan kpss.test fonksiyonu ile elde edebiliriz."
   ]
  },
  {
   "cell_type": "code",
   "execution_count": 13,
   "metadata": {},
   "outputs": [
    {
     "name": "stderr",
     "output_type": "stream",
     "text": [
      "Warning message in kpss.test(data[, 2], null = \"Trend\"):\n",
      "\"p-value smaller than printed p-value\""
     ]
    },
    {
     "data": {
      "text/plain": [
       "\n",
       "\tKPSS Test for Trend Stationarity\n",
       "\n",
       "data:  data[, 2]\n",
       "KPSS Trend = 1.2596, Truncation lag parameter = 3, p-value = 0.01\n"
      ]
     },
     "metadata": {},
     "output_type": "display_data"
    },
    {
     "name": "stderr",
     "output_type": "stream",
     "text": [
      "Warning message in kpss.test(na.omit(additive_model$random), null = \"Trend\"):\n",
      "\"p-value greater than printed p-value\""
     ]
    },
    {
     "data": {
      "text/plain": [
       "\n",
       "\tKPSS Test for Trend Stationarity\n",
       "\n",
       "data:  na.omit(additive_model$random)\n",
       "KPSS Trend = 0.0081125, Truncation lag parameter = 3, p-value = 0.1\n"
      ]
     },
     "metadata": {},
     "output_type": "display_data"
    },
    {
     "name": "stderr",
     "output_type": "stream",
     "text": [
      "Warning message in kpss.test(na.omit(multiplicative_model$random), null = \"Trend\"):\n",
      "\"p-value greater than printed p-value\""
     ]
    },
    {
     "data": {
      "text/plain": [
       "\n",
       "\tKPSS Test for Trend Stationarity\n",
       "\n",
       "data:  na.omit(multiplicative_model$random)\n",
       "KPSS Trend = 0.010172, Truncation lag parameter = 3, p-value = 0.1\n"
      ]
     },
     "metadata": {},
     "output_type": "display_data"
    }
   ],
   "source": [
    "kpss.test(data[,2], null=\"Trend\")\n",
    "kpss.test(na.omit(additive_model$random), null=\"Trend\")\n",
    "kpss.test(na.omit(multiplicative_model$random), null=\"Trend\")"
   ]
  },
  {
   "cell_type": "markdown",
   "metadata": {},
   "source": [
    "Yapılan KPSS testteki sonuçlar:\n",
    "\n",
    "p değeri mevsimsellikten arındırılmamış veri için :0.01 \n",
    "\n",
    "p değeri additive modeli için :0.1\n",
    "\n",
    "p değeri multiplicative modeli için :0.1   çıkmıştır.\n",
    "\n",
    "Additive ve multiplicative modeline göre veri durağandır."
   ]
  },
  {
   "cell_type": "markdown",
   "metadata": {},
   "source": [
    "##### Phillips–Perron Birim Kök Testi\n",
    "Phillips–Perron Birim Kök Testi testini verinin bileşenlerden ayrılmamış haline, toplamsal ve çarpımsal ayrışma modellerine sırasıyla uyguluyarak verinin durağanlığını kontrol ediyoruz. Phillips–Perron Birim Kök testini R içinde bulunan pp.test fonksiyonu ile elde edebiliriz."
   ]
  },
  {
   "cell_type": "code",
   "execution_count": 14,
   "metadata": {},
   "outputs": [
    {
     "data": {
      "text/plain": [
       "\n",
       "\tPhillips-Perron Unit Root Test\n",
       "\n",
       "data:  data[, 2]\n",
       "Dickey-Fuller Z(alpha) = -12.871, Truncation lag parameter = 5, p-value\n",
       "= 0.3885\n",
       "alternative hypothesis: stationary\n"
      ]
     },
     "metadata": {},
     "output_type": "display_data"
    },
    {
     "name": "stderr",
     "output_type": "stream",
     "text": [
      "Warning message in pp.test(na.omit(additive_model$random)):\n",
      "\"p-value smaller than printed p-value\""
     ]
    },
    {
     "data": {
      "text/plain": [
       "\n",
       "\tPhillips-Perron Unit Root Test\n",
       "\n",
       "data:  na.omit(additive_model$random)\n",
       "Dickey-Fuller Z(alpha) = -89.544, Truncation lag parameter = 5, p-value\n",
       "= 0.01\n",
       "alternative hypothesis: stationary\n"
      ]
     },
     "metadata": {},
     "output_type": "display_data"
    },
    {
     "name": "stderr",
     "output_type": "stream",
     "text": [
      "Warning message in pp.test(na.omit(multiplicative_model$random)):\n",
      "\"p-value smaller than printed p-value\""
     ]
    },
    {
     "data": {
      "text/plain": [
       "\n",
       "\tPhillips-Perron Unit Root Test\n",
       "\n",
       "data:  na.omit(multiplicative_model$random)\n",
       "Dickey-Fuller Z(alpha) = -93.23, Truncation lag parameter = 5, p-value\n",
       "= 0.01\n",
       "alternative hypothesis: stationary\n"
      ]
     },
     "metadata": {},
     "output_type": "display_data"
    }
   ],
   "source": [
    "pp.test(data[,2])\n",
    "pp.test(na.omit(additive_model$random))\n",
    "pp.test(na.omit(multiplicative_model$random))"
   ]
  },
  {
   "cell_type": "markdown",
   "metadata": {},
   "source": [
    "Yapılan Phillips-Person testteki sonuçlar:\n",
    "\n",
    "p değeri mevsimsellikten arındırılmamış veri için :0.3885 \n",
    "\n",
    "p değeri additive modeli için :0.01\n",
    "\n",
    "p değeri multiplicative modeli için :0.01   çıkmıştır. \n",
    "\n",
    "Additive ve multiplicative modeline göre veri durağandır."
   ]
  },
  {
   "cell_type": "markdown",
   "metadata": {},
   "source": [
    "##### Arima"
   ]
  },
  {
   "cell_type": "markdown",
   "metadata": {},
   "source": [
    "R'da olan auto.arima fonksiyonu ile verinin kalan sezonsal, trend ve diğer etkenleri kontrol eder ve onlardan arındırır. \n",
    "Veriye auto.arima uygulandığında AIC , BIC ve AICc değerlerinin en düşük olanı analiz  için daha kabul edilebilir bir değer almaktadır. ARIMA için p,d,q fonksiyonları ile verinin karmaşıklığı fark edilir ve en sade , en kolay model seçilir."
   ]
  },
  {
   "cell_type": "code",
   "execution_count": 15,
   "metadata": {},
   "outputs": [
    {
     "data": {
      "text/plain": [
       "Series: ts(data[, 2]) \n",
       "ARIMA(2,1,3) \n",
       "\n",
       "Coefficients:\n",
       "          ar1     ar2     ma1      ma2      ma3\n",
       "      -0.1163  0.8102  0.2907  -0.8441  -0.2721\n",
       "s.e.   0.0766  0.0815  0.0877   0.0786   0.0623\n",
       "\n",
       "sigma^2 estimated as 0.3445:  log likelihood=-254.66\n",
       "AIC=521.33   AICc=521.62   BIC=543.34"
      ]
     },
     "metadata": {},
     "output_type": "display_data"
    },
    {
     "data": {
      "text/plain": [
       "Series: ts(na.omit(additive_model$random)) \n",
       "ARIMA(5,0,1) with zero mean \n",
       "\n",
       "Coefficients:\n",
       "         ar1     ar2      ar3      ar4      ar5     ma1\n",
       "      0.0406  0.4164  -0.1532  -0.1215  -0.2638  0.7451\n",
       "s.e.  0.1305  0.1120   0.0631   0.0613   0.0572  0.1262\n",
       "\n",
       "sigma^2 estimated as 0.2154:  log likelihood=-179.33\n",
       "AIC=372.66   AICc=373.07   BIC=398.08"
      ]
     },
     "metadata": {},
     "output_type": "display_data"
    },
    {
     "data": {
      "text/plain": [
       "Series: ts(na.omit(multiplicative_model$random)) \n",
       "ARIMA(1,0,1) with non-zero mean \n",
       "\n",
       "Coefficients:\n",
       "         ar1     ma1    mean\n",
       "      0.5006  0.3012  0.9943\n",
       "s.e.  0.0698  0.0725  0.0120\n",
       "\n",
       "sigma^2 estimated as 0.006056:  log likelihood=317.68\n",
       "AIC=-627.37   AICc=-627.22   BIC=-612.84"
      ]
     },
     "metadata": {},
     "output_type": "display_data"
    }
   ],
   "source": [
    "auto.arima(ts(data[,2]))\n",
    "auto.arima(ts(na.omit(additive_model$random)))\n",
    "auto.arima(ts(na.omit(multiplicative_model$random)))"
   ]
  },
  {
   "cell_type": "markdown",
   "metadata": {},
   "source": [
    "Verinin hiçbir bileşenden ayrılmadığı durumda auto.arima uygulandığında p =2 , d= 1 ve q=3 çıkmaktadır. d=1 olması verinin \n",
    "durağan olmadığını gösterir. \n",
    "\n",
    "Verinin toplamsal ayrışma modeline auto.arima uygulandığında p= 5 , d=0 ve q=1 çıkmaktadır. d=0 veri durağandır.\n",
    "\n",
    "Verilerde çarpımsal modele auto.arima uygulandığında p= 1 , d=0 ve q=1 çıkmaktadır. d=0 veri durağandır.\n",
    "\n",
    "Hangi ayrışma modelini seçmemiz gerektiğine karar vermek için ilk olarak p,d,q değerlerini karşılaştırmak gerekmektedir. Verinin durağan modeli seçilmesi gerektiğinden hiçbir bileşenden ayrılmadığı model elenir. Toplamsal ve çarpımsal  model karşılaştırıldığında çarpımsal modelin daha basit olduğu görülür. İkinci olarak ( Seçtiğimiz modelin doğruluğundan emin olmak için ) auto.arima nın bize vermiş olduğu AIC,AICc ve BIC değerlerinin en küçük olanı seçilmesi gerekmektedir. Ayrışma modelleri için incelendiğinde çarpımsal modelin daha uygun olduğu görülmektedir. \n",
    ".\n",
    "Formülü : \n",
    "\n",
    " $$ \\hat Y_{d_t} =0.5006 Y_{t-1}  E$$\n",
    " \n",
    " d=0 olduğunda orijinal seri zaten durağandır ve farkının alınmasına da gerek yoktur."
   ]
  },
  {
   "cell_type": "markdown",
   "metadata": {},
   "source": [
    "Veride sezonsal etkinin olup olmadığını kontrol etmek için veriden hiçbir bileşenin çıkarılmadığı haline auto.arima uygulanır.Bunun için arimanın argümanlarından sseasonal.test'ten yararlanılır."
   ]
  },
  {
   "cell_type": "code",
   "execution_count": 16,
   "metadata": {},
   "outputs": [
    {
     "data": {
      "text/plain": [
       "Series: ts(data[, 2]) \n",
       "ARIMA(2,1,3) \n",
       "\n",
       "Coefficients:\n",
       "          ar1     ar2     ma1      ma2      ma3\n",
       "      -0.1163  0.8102  0.2907  -0.8441  -0.2721\n",
       "s.e.   0.0766  0.0815  0.0877   0.0786   0.0623\n",
       "\n",
       "sigma^2 estimated as 0.3445:  log likelihood=-254.66\n",
       "AIC=521.33   AICc=521.62   BIC=543.34"
      ]
     },
     "metadata": {},
     "output_type": "display_data"
    },
    {
     "data": {
      "text/plain": [
       "Series: ts(data[, 2]) \n",
       "ARIMA(2,1,3) \n",
       "\n",
       "Coefficients:\n",
       "          ar1     ar2     ma1      ma2      ma3\n",
       "      -0.1163  0.8102  0.2907  -0.8441  -0.2721\n",
       "s.e.   0.0766  0.0815  0.0877   0.0786   0.0623\n",
       "\n",
       "sigma^2 estimated as 0.3445:  log likelihood=-254.66\n",
       "AIC=521.33   AICc=521.62   BIC=543.34"
      ]
     },
     "metadata": {},
     "output_type": "display_data"
    }
   ],
   "source": [
    "auto.arima(ts(data[,2]))\n",
    "auto.arima(ts(data[,2]) ,seasonal.test = c(\"ocsb\", \"ch\"))"
   ]
  },
  {
   "cell_type": "markdown",
   "metadata": {},
   "source": [
    "Herhangi bir işlem yapılmayan veriye auto.arima ile sezonsal test uygulandığında ARIMA modelinde; p,d,q değerlerinde ve\n",
    "AIC , AICc ,BIC değerlerinde herhangi bir farklılık görünmemektedir. Bir farklı ifade ile veride sezonsal etki bulunmamaktadır."
   ]
  },
  {
   "cell_type": "raw",
   "metadata": {},
   "source": [
    "Normallik testini seçtiğimiz çarpımsal modele tekrar uygulanır."
   ]
  },
  {
   "cell_type": "code",
   "execution_count": 17,
   "metadata": {
    "scrolled": false
   },
   "outputs": [
    {
     "data": {
      "text/plain": [
       "\n",
       "\tShapiro-Wilk normality test\n",
       "\n",
       "data:  white_noise$residuals\n",
       "W = 0.97827, p-value = 0.0002966\n"
      ]
     },
     "metadata": {},
     "output_type": "display_data"
    }
   ],
   "source": [
    "white_noise<-arima(ts(na.omit(multiplicative_model$random)), order=c(1,0,1))\n",
    "shapiro.test(white_noise$residuals)\n"
   ]
  },
  {
   "cell_type": "markdown",
   "metadata": {},
   "source": [
    "Normallik testine göre p değeri oldukça düşük ve w değeri yüksektir. Artık verinin beyaz gürültü olduğunu ve veride herhangi bir \n",
    "bileşen kalmadığını söylenebilir."
   ]
  },
  {
   "cell_type": "markdown",
   "metadata": {},
   "source": [
    "# Zaman Serilerinin Trendden Arındırılması (de-trend)\n",
    "Lineer trend barındıran zaman serilerini trendden arındırmak için sıklıkla doğrusal regresyonu kullanılmaktadır. Ortaya çıkan model kalıntıları, trend yoksun olan zaman serilerinin bir temsilidir.\n",
    "\n",
    "Bunun haricinde farklı yöntemler kullanılarak zaman serileri lineer ve lineer olmayan trendlerden arındırılabilmektedir: AR(1), fourier ve wavelet dönüşümleri, kalman filtreleri gibi farklı yöntemler kullanılabilir. Öte yandan forecast kütüphanesi içerisindeki seasonaldummy ve fourier fonksiyonları kullanılarak de-trend yapılabilir.\n",
    "\n",
    "datasets kütüphanesi içersisindeki JohnsonJohnson hisse senedinin 1960-1980 arasındaki çeyreklik datalarını inceleyelim. Model sonucu kalıntılar de-trend edilmiş zaman serisidir."
   ]
  },
  {
   "cell_type": "markdown",
   "metadata": {},
   "source": [
    "Doğrusal regresyon analizini gerçekleştiren lm() fonksiyonu ilk olarak bağımlı değişkeni, ardından bağımsız değişkenleri parametre olarak almaktadır. Bağımlı değişkenden sonra tilda (~) işareti, birden fazla bağımsız değişkenimiz varsa değişkenlerin arasına artı (+) işareti konulması unutulmamalıdır. "
   ]
  },
  {
   "cell_type": "code",
   "execution_count": 18,
   "metadata": {
    "collapsed": true
   },
   "outputs": [],
   "source": [
    "trModel <- lm(data[,2]~ c(1:length(data[,2])))\n",
    "trResid <- resid(trModel)\n",
    "\n",
    "trModel_AR1 <- arima(x=data[,2], order=c(1,0,0))\n",
    "trResid_AR1 <- resid(trModel_AR1)"
   ]
  },
  {
   "cell_type": "code",
   "execution_count": 19,
   "metadata": {},
   "outputs": [
    {
     "data": {
      "text/plain": [
       "\n",
       "\tShapiro-Wilk normality test\n",
       "\n",
       "data:  trResid_AR1\n",
       "W = 0.83068, p-value < 2.2e-16\n"
      ]
     },
     "metadata": {},
     "output_type": "display_data"
    },
    {
     "data": {
      "image/png": "[encoded data removed]",
      "text/plain": [
       "Plot with title \"de-trended (ar(1))\""
      ]
     },
     "metadata": {},
     "output_type": "display_data"
    }
   ],
   "source": [
    "par(mfrow=c(1,2))\n",
    "plot(trResid, type=\"l\", col=\"blue\", main=\"de-trended (regresyon)\")\n",
    "plot(trResid_AR1,  type=\"l\", col=\"red\", main=\"de-trended (ar(1))\")\n",
    "shapiro.test(trResid_AR1)"
   ]
  },
  {
   "cell_type": "markdown",
   "metadata": {},
   "source": [
    "# Zaman Serilerinin Mevsimsellikten Arındırılması (de-seasonalize)\n",
    "Zaman serisinin mevsimsellik deseni hakkında fikir verir ve mevsimsel etkiler olmadan verilerin modellenmesine yardımcı olur. Zaman serisini mevsimsellikten arındırmak için aşağıdaki iki adım kullanılabilir.\n",
    "1. Adım: stl() fonksiyonu ile zaman serisi ayrılır.\n",
    "2. Adım: forecast kütüphanesi içerisindeki seasadj() fonksiyonu kullanılır."
   ]
  },
  {
   "cell_type": "code",
   "execution_count": 20,
   "metadata": {},
   "outputs": [
    {
     "data": {
      "text/plain": [
       "$time.series\n",
       "           seasonal    trend    remainder\n",
       "Jan  1 -0.241978881 2.832883  0.193096267\n",
       "Feb  1 -0.309430130 2.865361  0.139069629\n",
       "Mar  1 -0.261161332 2.897838  0.163322946\n",
       "Apr  1  0.125592026 2.933216 -0.321808071\n",
       "May  1  0.201926779 2.968594 -0.021520483\n",
       "Jun  1  0.465440466 3.004576 -0.267016377\n",
       "Jul  1  0.260620424 3.040558 -0.072178542\n",
       "Aug  1  0.008599608 3.076275 -0.061874777\n",
       "Sep  1 -0.184879632 3.111992  0.060887413\n",
       "Oct  1  0.056738030 3.152327 -0.196065256\n",
       "Nov  1 -0.028436302 3.192662  0.181774068\n",
       "Dec  1 -0.093031070 3.209265  0.227766161\n",
       "Jan  2 -0.241978881 3.225868  0.156111298\n",
       "Feb  2 -0.309430130 3.213338  0.163092385\n",
       "Mar  2 -0.261161332 3.200808  0.354353427\n",
       "Apr  2  0.125592026 3.152551  0.268856791\n",
       "May  2  0.201926779 3.104294 -0.259221239\n",
       "Jun  2  0.465440466 3.019637 -0.039077309\n",
       "Jul  2  0.260620424 2.934979 -0.002599649\n",
       "Aug  2  0.008599608 2.841337  0.080063438\n",
       "Sep  2 -0.184879632 2.747695  0.235184949\n",
       "Oct  2  0.056738030 2.665003 -0.017741527\n",
       "Nov  2 -0.028436302 2.582312 -0.242876010\n",
       "Dec  2 -0.093031070 2.526920 -0.202888745\n",
       "Jan  3 -0.241978881 2.471527 -0.218548436\n",
       "Feb  3 -0.309430130 2.455624 -0.078193717\n",
       "Mar  3 -0.261161332 2.439720  0.122440957\n",
       "Apr  3  0.125592026 2.465270 -0.434862517\n",
       "May  3  0.201926779 2.490821 -0.227747385\n",
       "Jun  3  0.465440466 2.543762 -0.283202838\n",
       "Jul  3  0.260620424 2.596704  0.017675439\n",
       "Aug  3  0.008599608 2.666577  0.207822994\n",
       "Sep  3 -0.184879632 2.736451  0.297428973\n",
       "Oct  3  0.056738030 2.831713 -0.081451262\n",
       "Nov  3 -0.028436302 2.926976  0.021460496\n",
       "Dec  3 -0.093031070 3.031739 -0.248708026\n",
       "Jan  4 -0.241978881 3.136502 -0.073523506\n",
       "Feb  4 -0.309430130 3.244154 -0.128723899\n",
       "Mar  4 -0.261161332 3.351806 -0.207644339\n",
       "Apr  4  0.125592026 3.481881 -0.111472918\n",
       "May  4  0.201926779 3.611956  0.485117109\n",
       "Jun  4  0.465440466 3.760824 -0.267264075\n",
       "Jul  4  0.260620424 3.909691 -0.110311530\n",
       "Aug  4  0.008599608 4.039725 -0.046324358\n",
       "Sep  4 -0.184879632 4.169758  0.053121238\n",
       "Oct  4  0.056738030 4.234939  0.286323144\n",
       "Nov  4 -0.028436302 4.300119  0.260317042\n",
       "Dec  4 -0.093031070 4.293136  0.457894625\n",
       "Jan  5 -0.241978881 4.286154  0.439825250\n",
       "Feb  5 -0.309430130 4.236415  0.629015619\n",
       "Mar  5 -0.261161332 4.186675  0.262485941\n",
       "Apr  5  0.125592026 4.120897  0.002511412\n",
       "May  5  0.201926779 4.055118 -0.563044512\n",
       "Jun  5  0.465440466 3.996521 -0.586961522\n",
       "Jul  5  0.260620424 3.937924 -0.340544802\n",
       "Aug  5  0.008599608 3.892915 -0.332514349\n",
       "Sep  5 -0.184879632 3.847905  0.003974528\n",
       "Oct  5  0.056738030 3.825136 -0.056874019\n",
       "Nov  5 -0.028436302 3.802367  0.360069429\n",
       "Dec  5 -0.093031070 3.782122  0.555909537\n",
       "Jan  6 -0.241978881 3.761876  0.332102688\n",
       "Feb  6 -0.309430130 3.705734  0.034695787\n",
       "Mar  6 -0.261161332 3.649592  0.014568839\n",
       "Apr  6  0.125592026 3.544670 -0.182262003\n",
       "May  6  0.201926779 3.439747  0.166325760\n",
       "Jun  6  0.465440466 3.317670  0.127889880\n",
       "Jul  6  0.260620424 3.195592 -0.124212270\n",
       "Aug  6  0.008599608 3.110985 -0.085584708\n",
       "Sep  6 -0.184879632 3.026378  0.152501277\n",
       "Oct  6  0.056738030 2.996080 -0.476818178\n",
       "Nov  6 -0.028436302 2.965782 -0.313345638\n",
       "Dec  6 -0.093031070 2.992120 -0.625088469\n",
       "Jan  7 -0.241978881 3.018457 -0.267478256\n",
       "Feb  7 -0.309430130 3.115663 -0.016232896\n",
       "Mar  7 -0.261161332 3.212869 -0.099707581\n",
       "Apr  7  0.125592026 3.364456 -0.179047786\n",
       "May  7  0.201926779 3.516043 -0.023969386\n",
       "Jun  7  0.465440466 3.678069 -0.141509009\n",
       "Jul  7  0.260620424 3.840094  0.074285097\n",
       "Aug  7  0.008599608 3.975183  0.153217086\n",
       "Sep  7 -0.184879632 4.110272  0.444607499\n",
       "Oct  7  0.056738030 4.196087  0.313174986\n",
       "Nov  7 -0.028436302 4.281902  0.182534467\n",
       "Dec  7 -0.093031070 4.310229  0.188802159\n",
       "Jan  8 -0.241978881 4.338556  0.110422895\n",
       "Feb  8 -0.309430130 4.343047  0.108382689\n",
       "Mar  8 -0.261161332 4.347539  0.405622437\n",
       "Apr  8  0.125592026 4.352376 -0.186968489\n",
       "May  8  0.201926779 4.357214 -0.348140811\n",
       "Jun  8  0.465440466 4.374178 -0.663618445\n",
       "Jul  8  0.260620424 4.391142 -0.301762349\n",
       "Aug  8  0.008599608 4.453076  0.033324771\n",
       "Sep  8 -0.184879632 4.515009  0.328870316\n",
       "Oct  8  0.056738030 4.614485  0.204776928\n",
       "Nov  8 -0.028436302 4.713961 -0.362524466\n",
       "Dec  8 -0.093031070 4.803013 -0.409981506\n",
       "Jan  9 -0.241978881 4.892064 -0.203085502\n",
       "Feb  9 -0.309430130 4.917937  0.663493481\n",
       "Mar  9 -0.261161332 4.943809  0.849352417\n",
       "Apr  9  0.125592026 4.915662  0.360745894\n",
       "May  9  0.201926779 4.887515 -0.071442024\n",
       "Jun  9  0.465440466 4.829316  0.535244028\n",
       "Jul  9  0.260620424 4.771116  0.091263810\n",
       "Aug  9  0.008599608 4.718330 -0.156929759\n",
       "Sep  9 -0.184879632 4.665545 -0.505664903\n",
       "Oct  9  0.056738030 4.696139 -0.502877527\n",
       "Nov  9 -0.028436302 4.726734 -0.530298158\n",
       "Dec  9 -0.093031070 4.904979 -0.971947672\n",
       "Jan 10 -0.241978881 5.083223 -0.630244143\n",
       "Feb 10 -0.309430130 5.482035 -0.671604500\n",
       "Mar 10 -0.261161332 5.880846 -0.492684904\n",
       "Apr 10  0.125592026 6.485586 -0.767178184\n",
       "May 10  0.201926779 7.090326 -0.428252860\n",
       "Jun 10  0.465440466 7.698509 -0.902949885\n",
       "Jul 10  0.260620424 8.306693 -0.397313180\n",
       "Aug 10  0.008599608 8.729605  0.076795047\n",
       "Sep 10 -0.184879632 9.152518  2.292361697\n",
       "Oct 10  0.056738030 9.341048  3.515214149\n",
       "Nov 10 -0.028436302 9.529578  2.086858594\n",
       "Dec 10 -0.093031070 9.495135  1.098895618\n",
       "Jan 11 -0.241978881 9.460693  0.556285686\n",
       "Feb 11 -0.309430130 9.208171 -0.185740725\n",
       "Mar 11 -0.261161332 8.955649 -0.751487181\n",
       "Apr 11  0.125592026 8.617618 -1.457210300\n",
       "May 11  0.201926779 8.279588 -0.334514813\n",
       "Jun 11  0.465440466 8.055856 -0.320295996\n",
       "Jul 11  0.260620424 7.832123 -0.374743448\n",
       "Aug 11  0.008599608 7.742821 -0.467420242\n",
       "Sep 11 -0.184879632 7.653518 -0.705638612\n",
       "Oct 11  0.056738030 7.639937  0.028324530\n",
       "Nov 11 -0.028436302 7.626357  0.496079666\n",
       "Dec 11 -0.093031070 7.658842  0.350188640\n",
       "Jan 12 -0.241978881 7.691328  0.030650658\n",
       "Feb 12 -0.309430130 7.734164  0.247265963\n",
       "Mar 12 -0.261161332 7.777000 -0.615838778\n",
       "Apr 12  0.125592026 7.763843 -0.565435395\n",
       "May 12  0.201926779 7.750687  0.482386593\n",
       "Jun 12  0.465440466 7.719507  0.066052296\n",
       "Jul 12  0.260620424 7.688328  0.384051728\n",
       "Aug 12  0.008599608 7.759309  1.346091132\n",
       "Sep 12 -0.184879632 7.830291 -0.811411041\n",
       "Oct 12  0.056738030 8.093454 -1.232191754\n",
       "Nov 12 -0.028436302 8.356617 -1.434180473\n",
       "Dec 12 -0.093031070 8.741008 -0.925976743\n",
       "Jan 13 -0.241978881 9.125399 -1.548419971\n",
       "Feb 13 -0.309430130 9.433666 -1.284235776\n",
       "Mar 13 -0.261161332 9.741933 -0.277771628\n",
       "Apr 13  0.125592026 9.866610  3.360797832\n",
       "May 13  0.201926779 9.991287  2.073785896\n",
       "Jun 13  0.465440466 9.927028  3.785531340\n",
       "Jul 13  0.260620424 9.862769  2.900610514\n",
       "Aug 13  0.008599608 9.585619  0.289781104\n",
       "Sep 13 -0.184879632 9.308470 -1.396589881\n",
       "Oct 13  0.056738030 8.867297 -1.616035465\n",
       "Nov 13 -0.028436302 8.426125 -1.766689054\n",
       "Dec 13 -0.093031070 8.016942 -0.581910520\n",
       "Jan 14 -0.241978881 7.607758 -0.120778943\n",
       "Feb 14 -0.309430130 7.370656 -0.719225592\n",
       "Mar 14 -0.261161332 7.133554 -0.713392286\n",
       "Apr 14  0.125592026 7.032741 -0.303333401\n",
       "May 14  0.201926779 6.931929  1.112144089\n",
       "Jun 14  0.465440466 6.847461  1.506098995\n",
       "Jul 14  0.260620424 6.762992 -0.429612369\n",
       "Aug 14  0.008599608 6.654452 -0.434051992\n",
       "Sep 14 -0.184879632 6.545913 -0.156033191\n",
       "Oct 14  0.056738030 6.395131 -0.051868821\n",
       "Nov 14 -0.028436302 6.244349  0.284087542\n",
       "Dec 14 -0.093031070 6.069559 -0.069528141\n",
       "Jan 15 -0.241978881 5.894770  0.021209219\n",
       "Feb 15 -0.309430130 5.771048 -0.220618221\n",
       "Mar 15 -0.261161332 5.647327  0.123834291\n",
       "Apr 15  0.125592026 5.578527  0.293881112\n",
       "May 15  0.201926779 5.509727 -0.710653462\n",
       "Jun 15  0.465440466 5.484784 -0.469224954\n",
       "Jul 15  0.260620424 5.459842 -0.565462715\n",
       "Aug 15  0.008599608 5.454287 -0.206887005\n",
       "Sep 15 -0.184879632 5.448733 -0.166852871\n",
       "Oct 15  0.056738030 5.411174  0.553087774\n",
       "Nov 15 -0.028436302 5.373616  0.696820412\n",
       "Dec 15 -0.093031070 5.282793  0.275237624\n",
       "Jan 16 -0.241978881 5.191971  0.491007879\n",
       "Feb 16 -0.309430130 5.027188  0.869242392\n",
       "Mar 16 -0.261161332 4.862404  0.408756859\n",
       "Apr 16  0.125592026 4.650034 -0.135626227\n",
       "May 16  0.201926779 4.437664 -0.561590708\n",
       "Jun 16  0.465440466 4.222560 -0.340000367\n",
       "Jul 16  0.260620424 4.007456 -0.174076297\n",
       "Aug 16  0.008599608 3.810070 -0.357669730\n",
       "Sep 16 -0.184879632 3.612684 -0.408804739\n",
       "Oct 16  0.056738030 3.460222 -0.173959625\n",
       "Nov 16 -0.028436302 3.307759  0.391677482\n",
       "Dec 16 -0.093031070 3.207792  0.361238999\n",
       "Jan 17 -0.241978881 3.107825  0.217153560\n",
       "Feb 17 -0.309430130 3.061493 -0.365062833\n",
       "Mar 17 -0.261161332 3.015161 -0.501999272\n",
       "Apr 17  0.125592026 3.044805 -0.420397499\n",
       "May 17  0.201926779 3.074450 -0.254377120\n",
       "Jun 17  0.465440466 3.212869 -0.613308973\n",
       "Jul 17  0.260620424 3.351287 -0.720907097\n",
       "Aug 17  0.008599608 3.612619 -0.402218251\n",
       "Sep 17 -0.184879632 3.873951 -0.380070981\n",
       "Oct 17  0.056738030 4.183861 -0.322599310\n",
       "Nov 17 -0.028436302 4.493772 -0.081335645\n",
       "Dec 17 -0.093031070 4.739312  0.647718989\n",
       "Jan 18 -0.241978881 4.984852  0.544126667\n",
       "Feb 18 -0.309430130 5.110020  0.640410363\n",
       "Mar 18 -0.261161332 5.235187  1.052974013\n",
       "Apr 18  0.125592026 5.214675  1.996732804\n",
       "May 18  0.201926779 5.194163  0.058910201\n",
       "Jun 18  0.465440466 5.024835 -0.339275411\n",
       "Jul 18  0.260620424 4.855507  0.218872707\n",
       "Aug 18  0.008599608 4.583070 -0.065669212\n",
       "Sep 18 -0.184879632 4.310632 -0.144752706\n",
       "Oct 18  0.056738030 4.018433  0.182828568\n",
       "Nov 18 -0.028436302 3.726234 -0.085798165\n",
       "Dec 18 -0.093031070 3.499306 -0.348275034\n",
       "Jan 19 -0.241978881 3.272378 -0.162398860\n",
       "Feb 19 -0.309430130 3.110022 -0.209591660\n",
       "Mar 19 -0.261161332 2.947666 -0.290504506\n",
       "Apr 19  0.125592026 2.831803 -0.554395331\n",
       "May 19  0.201926779 2.715941 -0.331867551\n",
       "Jun 19  0.465440466 2.636414 -0.046854179\n",
       "Jul 19  0.260620424 2.556887  0.159492921\n",
       "Aug 19  0.008599608 2.502118  0.437282155\n",
       "Sep 19 -0.184879632 2.447350  0.115529813\n",
       "Oct 19  0.056738030 2.401871 -0.065609033\n",
       "Nov 19 -0.028436302 2.356392 -0.012955886\n",
       "Dec 19 -0.093031070 2.308713 -0.014682247\n",
       "Jan 20 -0.241978881 2.261034 -0.162055566\n",
       "Feb 20 -0.309430130 2.222745 -0.093314820\n",
       "Mar 20 -0.261161332 2.184455 -0.063294121\n",
       "Apr 20  0.125592026 2.174498 -0.346089588\n",
       "May 20  0.201926779 2.164540  0.013533550\n",
       "Jun 20  0.465440466 2.184902 -0.102342191\n",
       "Jul 20  0.260620424 2.205264  0.013115797\n",
       "Aug 20  0.008599608 2.241334 -0.081933466\n",
       "Sep 20 -0.184879632 2.277404  0.127475695\n",
       "Oct 20  0.056738030 2.314572 -0.137309547\n",
       "Nov 20 -0.028436302 2.351739 -0.074302795\n",
       "Dec 20 -0.093031070 2.390433  0.226597840\n",
       "Jan 21 -0.241978881 2.429127  0.124851520\n",
       "Feb 21 -0.309430130 2.456988  0.164442097\n",
       "Mar 21 -0.261161332 2.484849 -0.113687372\n",
       "Apr 21  0.125592026 2.485558 -0.325150268\n",
       "May 21  0.201926779 2.486268  0.114805441\n",
       "Jun 21  0.465440466 2.466281  0.304278345\n",
       "Jul 21  0.260620424 2.446295  0.336084979\n",
       "Aug 21  0.008599608 2.432130  0.148270458\n",
       "Sep 21 -0.184879632 2.417965 -0.093085638\n",
       "Oct 21  0.056738030 2.410357 -0.299094937\n",
       "Nov 21 -0.028436302 2.402749 -0.111312243\n",
       "Dec 21 -0.093031070 2.378705 -0.212673623\n",
       "Jan 22 -0.241978881 2.354661 -0.134681961\n",
       "Feb 22 -0.309430130 2.341159 -0.036728512\n",
       "Mar 22 -0.261161332 2.327656  0.326504890\n",
       "Apr 22  0.125592026 2.338602  0.352806139\n",
       "May 22  0.201926779 2.349547  0.019525993\n",
       "Jun 22  0.465440466 2.358923 -0.252363960\n",
       "Jul 22  0.260620424 2.368300 -0.356920184\n",
       "Aug 22  0.008599608 2.358249 -0.144848811\n",
       "Sep 22 -0.184879632 2.348199  0.321680985\n",
       "Oct 22  0.056738030 2.313894  0.201367787\n",
       "Nov 22 -0.028436302 2.279590  0.055846583\n",
       "Dec 22 -0.093031070 2.228824  0.141206961\n",
       "Jan 23 -0.241978881 2.178058  0.163920382\n",
       "Feb 23 -0.309430130 2.114066  0.251364070\n",
       "Mar 23 -0.261161332 2.050074  0.175087712\n",
       "Apr 23  0.125592026 1.983666 -0.114258333\n",
       "May 23  0.201926779 1.917259 -0.261185773\n",
       "Jun 23  0.465440466 1.867134 -0.443574602\n",
       "Jul 23  0.260620424 1.817009 -0.194629702\n",
       "Aug 23  0.008599608 1.785841 -0.049440653\n",
       "Sep 23 -0.184879632 1.754673  0.035206819\n",
       "Oct 23  0.056738030 1.744600 -0.082338327\n",
       "Nov 23 -0.028436302 1.734528  0.094908519\n",
       "Dec 23 -0.093031070 1.739694  0.098337432\n",
       "Jan 24 -0.241978881 1.744859  0.136119387\n",
       "Feb 24 -0.309430130 1.761679  0.039751178\n",
       "Mar 24 -0.261161332 1.778498 -0.027337079\n",
       "Apr 24  0.125592026 1.805433 -0.237024896\n",
       "May 24  0.201926779 1.832367 -0.161294108\n",
       "Jun 24  0.465440466 1.878723 -0.307163130\n",
       "Jul 24  0.260620424 1.925078 -0.119698422\n",
       "Aug 24  0.008599608 1.984907  0.037493301\n",
       "Sep 24 -0.184879632 2.044736  0.223143449\n",
       "Oct 24  0.056738030 2.107701 -0.014438695\n",
       "Nov 24 -0.028436302 2.170665 -0.104228846\n",
       "Dec 24 -0.093031070 2.236274 -0.004242773\n",
       "Jan 25 -0.241978881 2.301883  0.058096342\n",
       "Feb 25 -0.309430130 2.369437  0.107993037\n",
       "Mar 25 -0.261161332 2.436992 -0.059830314\n",
       "\n",
       "$weights\n",
       "  [1] 1 1 1 1 1 1 1 1 1 1 1 1 1 1 1 1 1 1 1 1 1 1 1 1 1 1 1 1 1 1 1 1 1 1 1 1 1\n",
       " [38] 1 1 1 1 1 1 1 1 1 1 1 1 1 1 1 1 1 1 1 1 1 1 1 1 1 1 1 1 1 1 1 1 1 1 1 1 1\n",
       " [75] 1 1 1 1 1 1 1 1 1 1 1 1 1 1 1 1 1 1 1 1 1 1 1 1 1 1 1 1 1 1 1 1 1 1 1 1 1\n",
       "[112] 1 1 1 1 1 1 1 1 1 1 1 1 1 1 1 1 1 1 1 1 1 1 1 1 1 1 1 1 1 1 1 1 1 1 1 1 1\n",
       "[149] 1 1 1 1 1 1 1 1 1 1 1 1 1 1 1 1 1 1 1 1 1 1 1 1 1 1 1 1 1 1 1 1 1 1 1 1 1\n",
       "[186] 1 1 1 1 1 1 1 1 1 1 1 1 1 1 1 1 1 1 1 1 1 1 1 1 1 1 1 1 1 1 1 1 1 1 1 1 1\n",
       "[223] 1 1 1 1 1 1 1 1 1 1 1 1 1 1 1 1 1 1 1 1 1 1 1 1 1 1 1 1 1 1 1 1 1 1 1 1 1\n",
       "[260] 1 1 1 1 1 1 1 1 1 1 1 1 1 1 1 1 1 1 1 1 1 1 1 1 1 1 1 1 1 1 1 1\n",
       "\n",
       "$call\n",
       "stl(x = ts(data[, 2], freq = 12), s.window = \"periodic\")\n",
       "\n",
       "$win\n",
       "   s    t    l \n",
       "2911   19   13 \n",
       "\n",
       "$deg\n",
       "s t l \n",
       "0 1 1 \n",
       "\n",
       "$jump\n",
       "  s   t   l \n",
       "292   2   2 \n"
      ]
     },
     "metadata": {},
     "output_type": "display_data"
    },
    {
     "data": {
      "image/png": "[encoded data removed]",
      "text/plain": [
       "plot without title"
      ]
     },
     "metadata": {},
     "output_type": "display_data"
    }
   ],
   "source": [
    "datastl<- stl(ts(data[,2], freq=12), s.window=\"periodic\")\n",
    "head(datastl)\n",
    "plot(datastl)"
   ]
  },
  {
   "cell_type": "code",
   "execution_count": 21,
   "metadata": {
    "collapsed": true
   },
   "outputs": [],
   "source": [
    "ts_sa <- seasadj(datastl)\n"
   ]
  },
  {
   "cell_type": "code",
   "execution_count": 22,
   "metadata": {},
   "outputs": [
    {
     "data": {
      "image/png": "[encoded data removed]",
      "text/plain": [
       "Plot with title \"Seasonal Adjusted\""
      ]
     },
     "metadata": {},
     "output_type": "display_data"
    }
   ],
   "source": [
    "par(mfrow=c(3,2))\n",
    "plot(data[,2], type=\"l\", main=\"Real\")  \n",
    "plot(ts_sa, type=\"l\", main=\"Seasonal Adjusted\")"
   ]
  },
  {
   "cell_type": "code",
   "execution_count": 23,
   "metadata": {},
   "outputs": [
    {
     "data": {
      "image/png": "[encoded data removed]",
      "text/plain": [
       "Plot with title \"Seasonal plot: Data\""
      ]
     },
     "metadata": {},
     "output_type": "display_data"
    }
   ],
   "source": [
    "par(mfrow=c(1,1))\n",
    "seasonplot(ts_sa, \n",
    "           s=12, \n",
    "           col=rainbow(12), \n",
    "           year.labels=TRUE, \n",
    "           main=\"Seasonal plot: Data\")\n"
   ]
  },
  {
   "cell_type": "markdown",
   "metadata": {},
   "source": [
    "Normallik testini ölçmek için sezonsal etkisi çıkarılmış veriye shapiro.test uygulanır."
   ]
  },
  {
   "cell_type": "code",
   "execution_count": 24,
   "metadata": {
    "scrolled": true
   },
   "outputs": [
    {
     "data": {
      "text/plain": [
       "\n",
       "\tShapiro-Wilk normality test\n",
       "\n",
       "data:  ts_sa\n",
       "W = 0.86274, p-value = 2.098e-15\n"
      ]
     },
     "metadata": {},
     "output_type": "display_data"
    }
   ],
   "source": [
    "shapiro.test(ts_sa)"
   ]
  },
  {
   "cell_type": "markdown",
   "metadata": {},
   "source": [
    "Durağanlık testine göre p değeri yüksek ( doğruluktan emin olunmadığı gösterir ) ve w değeri düşüktür.\n",
    "Bu yüzden ilk yol olarak yapılan çarpımsal modele ilk başta decompose ve sonrasında da auto.arima modelinin\n",
    "uygulandığı analiz yöntemi tercih edilir."
   ]
  },
  {
   "cell_type": "code",
   "execution_count": 25,
   "metadata": {},
   "outputs": [
    {
     "data": {
      "image/png": "[encoded data removed]",
      "text/plain": [
       "Plot with title \"Series  ts_sa\""
      ]
     },
     "metadata": {},
     "output_type": "display_data"
    }
   ],
   "source": [
    "acf(ts_sa)"
   ]
  },
  {
   "cell_type": "code",
   "execution_count": 26,
   "metadata": {},
   "outputs": [
    {
     "data": {
      "image/png": "[encoded data removed]",
      "text/plain": [
       "Plot with title \"Series  ts_sa\""
      ]
     },
     "metadata": {},
     "output_type": "display_data"
    }
   ],
   "source": [
    "pacf(ts_sa)"
   ]
  },
  {
   "cell_type": "markdown",
   "metadata": {},
   "source": [
    "Sezonsal etkiden arındırılan verinin (ts_sa) , hala sezonsal etki içerip içermediğini anlamak (mevsimsellik farkını bulmak) \n",
    "için nsdiffs fonksiyonu uygulanır.\n"
   ]
  },
  {
   "cell_type": "code",
   "execution_count": 27,
   "metadata": {
    "scrolled": true
   },
   "outputs": [
    {
     "data": {
      "text/html": [
       "0"
      ],
      "text/latex": [
       "0"
      ],
      "text/markdown": [
       "0"
      ],
      "text/plain": [
       "[1] 0"
      ]
     },
     "metadata": {},
     "output_type": "display_data"
    }
   ],
   "source": [
    "nsdiffs(ts_sa)\n"
   ]
  },
  {
   "cell_type": "markdown",
   "metadata": {},
   "source": [
    "Mevsimsellik farkı sıfırdır. Mevsimsel etki yoktur."
   ]
  },
  {
   "cell_type": "markdown",
   "metadata": {},
   "source": [
    "Verinin Adı:   Natural Gas Futures Contract 3 \n",
    "\n",
    "Verinin Alındığı Yer: Quandl\n",
    "\n",
    "Verinin Sıklığı: Aylık\n",
    "\n",
    "Verinin Zaman Aralığı: 31.01.1994- 31.03.2018"
   ]
  },
  {
   "cell_type": "markdown",
   "metadata": {},
   "source": [
    "Veride iki sütun bulunmaktadır. Sütunlardan birisi zaman, diğeri ise kullanılan değerdir. Amaç zaman serisindeki gözlenen değerlerinin trend, mevsimsel, çevresel ve rastgele etkenlerden ayırmaktır.\n",
    "Bu doğrultuda iki yöntem kullanılabilir.\n",
    "\n",
    "1. Yöntem : R'da bulunan decompose fonksiyonu ile seriyi mevsimsel ve trendsel etkenlerden ayırmaktır.\n",
    "Decompose fonksiyonunu zaman serilerin hep toplamına hem de çarpımına ayrı ayrı uygulanır. Daha net sonuç veren veri seçilir.\n",
    "Ancak kullanılan veride toplanan ve çarpılan veride net bir karar verilemedi. \n",
    "Toplanan ya da çarpılan model olduğunu anlamak için ;iki durum için ayrı ayrı normallik testi, adf,pacf,durağanlık testi ve auto.arima uygulanır.\n",
    "Elde edilen verilere göre çarpılan model veri için daha uygundur.\n",
    "Seçilen model için durağanlık testi mevsimsellik,trendsel ve auto.arima etkisinden geçtikten sonraki haline uygulanırsa elde edilen \n",
    "p değerinin çok küçük ( p< 0.05)ve w değerinin (w<1) yüksek olduğu görülür. Böylelikle analiz tamamlanmış olmaktadır."
   ]
  },
  {
   "cell_type": "markdown",
   "metadata": {},
   "source": [
    "### FORECAST"
   ]
  },
  {
   "cell_type": "code",
   "execution_count": 28,
   "metadata": {
    "collapsed": true
   },
   "outputs": [],
   "source": [
    "require(forecast)"
   ]
  },
  {
   "cell_type": "markdown",
   "metadata": {},
   "source": [
    "#### Üssel Düzgünleştirme -Exponential Smooting\n",
    "Verideki son değişim ve sıçramaları incelenerek tahminlerin ya da öngörülerin devamlı olarak güncelleştirildiği bir yöntemdir. Deterministik ve stokastik trende sahip olan tüm serilere uygulanabilmektedir. \n",
    "Üstel düzleştirme yönteminde gelecek dönemin (T+1 döneminin) tahminin hesabında son döneme ait tahmin ile bu tahminden elde edilen hatanın bir kısmı kullanılmaktadır.\n",
    "$$ Y_{t+1}= Y_{t}+ a(e_{t}) $$\n",
    "ile ifade edilir.\n",
    "\n",
    "$$ S_{t}= S_{t-1}+ a(Y_{t}-S_{t-1} ) $$ \n",
    "$S_{t}$: Bir sonraki (gelecek) dönemin, yani (T+1)’inci dönemin tahmini\n",
    "\n",
    "$S_{t-1}$: Son döneme ait tahmin ( bu tahmin (T-1)’inci dönemde yapılır.\n",
    "\n",
    "$Y_{t}$: Son döneme  ait gerçek değer\n",
    "\n",
    "a: Düzleştirme katsayısı yada ağırlık $ 0<a<1$\n",
    "\n",
    "$ Y_{t}-S_{t-1} $: Son döneme ait tahmin hatası\n",
    "\n",
    "$$ Y_{t+1}= S_{t}= a(Y_{t+1})+ (1-a)S_{t-1}$$\n",
    "\n",
    "Gelecek dönemin tahmini=ağırlık.(son dönemin gözlem değeri)+(1-ağırlık).(son döneme ait tahmin)\n",
    "Genel terimini yazmak istenirse:     \n",
    "$$ \\hat Y_{t+1} = S_{t} = a \\sum_{i=1}^t (1-a)^i*Y_{t-i}  $$       \n",
    "Üssel düzgünleştirme de 2 farklı yöntem vardır. Bu iki yöntem için de R da bulunan fonksiyonlar kullanılır.\n",
    "- ets() fonksiyonu\n",
    "- HoltWinters() fonkisyonu"
   ]
  },
  {
   "cell_type": "markdown",
   "metadata": {},
   "source": [
    "İlk olarak verimizin zaman serisi olduğunu gösteriyoruz. Zaman serisi sıklığını aylık olarak tanımlıyoruz.\n",
    "Zaman aralığımızı 01.1994 - 12.2017 kadar olan süreyi alıyoruz.\n",
    "01.2018-03.2018 süresini de test verisi olarak alıyoruz."
   ]
  },
  {
   "cell_type": "code",
   "execution_count": 29,
   "metadata": {},
   "outputs": [
    {
     "data": {
      "text/plain": [
       "        Jan    Feb    Mar    Apr    May    Jun    Jul    Aug    Sep    Oct\n",
       "1994  2.784  2.695  2.800  2.737  3.149  3.203  3.229  3.023  2.988  3.013\n",
       "1995  3.140  3.067  3.294  3.547  3.047  3.446  3.193  2.930  2.798  2.704\n",
       "1996  2.011  2.068  2.301  2.156  2.465  2.726  2.875  2.883  2.849  2.807\n",
       "1997  2.821  2.806  2.883  3.496  4.299  3.959  4.060  4.002  4.038  4.578\n",
       "1998  4.484  4.556  4.188  4.249  3.694  3.875  3.858  3.569  3.667  3.825\n",
       "1999  3.852  3.431  3.403  3.488  3.808  3.911  3.332  3.034  2.994  2.576\n",
       "2000  2.509  2.790  2.852  3.311  3.694  4.002  4.175  4.137  4.370  4.566\n",
       "2001  4.207  4.142  4.492  4.291  4.211  4.176  4.350  4.495  4.659  4.876\n",
       "2002  4.447  5.272  5.532  5.402  5.018  5.830  5.123  4.570  3.975  4.250\n",
       "2003  4.211  4.501  5.127  5.844  6.864  7.261  8.170  8.815 11.260 12.913\n",
       "2004  9.775  8.713  7.943  7.286  8.147  8.201  7.718  7.284  6.763  7.725\n",
       "2005  7.480  7.672  6.900  7.324  8.435  8.251  8.333  9.114  6.834  6.918\n",
       "2006  7.335  7.840  9.203 13.353 12.267 14.178 13.024  9.884  7.727  7.308\n",
       "2007  7.245  6.342  6.159  6.855  8.246  8.819  6.594  6.229  6.205  6.400\n",
       "2008  5.674  5.241  5.510  5.998  5.001  5.481  5.155  5.256  5.097  6.021\n",
       "2009  5.441  5.587  5.010  4.640  4.078  4.348  4.094  3.461  3.019  3.343\n",
       "2010  3.083  2.387  2.252  2.750  3.022  3.065  2.891  3.219  3.309  3.918\n",
       "2011  5.287  5.441  6.027  7.337  5.455  5.151  5.335  4.526  3.981  4.258\n",
       "2012  2.868  2.591  2.396  2.403  2.586  3.055  2.977  2.948  2.378  2.393\n",
       "2013  1.857  1.820  1.860  1.954  2.380  2.548  2.479  2.168  2.220  2.234\n",
       "2014  2.312  2.312  2.110  2.286  2.803  3.236  3.043  2.589  2.140  2.168\n",
       "2015  1.978  1.995  2.393  2.817  2.571  2.572  2.272  2.222  2.485  2.572\n",
       "2016  2.100  2.056  1.964  1.995  1.858  1.889  1.883  1.745  1.605  1.719\n",
       "2017  1.639  1.492  1.490  1.694  1.873  2.037  2.066  2.031  2.083  2.150\n",
       "        Nov    Dec\n",
       "1994  3.346  3.344\n",
       "1995  2.311  2.231\n",
       "1996  2.920  2.690\n",
       "1997  4.532  4.658\n",
       "1998  4.134  4.245\n",
       "1999  2.624  2.274\n",
       "2000  4.436  4.406\n",
       "2001  4.323  4.300\n",
       "2002  4.168  3.840\n",
       "2003 11.588 10.501\n",
       "2004  8.094  7.916\n",
       "2005  6.894  7.722\n",
       "2006  6.631  7.342\n",
       "2007  6.500  5.907\n",
       "2008  6.042  5.465\n",
       "2009  3.671  3.476\n",
       "2010  4.384  5.294\n",
       "2011  3.612  3.058\n",
       "2012  2.315  2.201\n",
       "2013  2.249  2.524\n",
       "2014  2.263  2.073\n",
       "2015  2.307  2.277\n",
       "2016  1.801  1.745\n",
       "2017  2.038  2.139"
      ]
     },
     "metadata": {},
     "output_type": "display_data"
    },
    {
     "data": {
      "image/png": "[encoded data removed]",
      "text/plain": [
       "plot without title"
      ]
     },
     "metadata": {},
     "output_type": "display_data"
    }
   ],
   "source": [
    "time_series <-ts(data[,2], start=c(1994, 1), end=c(2017, 12), freq=12)\n",
    "time_series\n",
    "plot(time_series)"
   ]
  },
  {
   "cell_type": "markdown",
   "metadata": {},
   "source": [
    "Aşağıda üssel düzgünleştirme yönteminin ets() fonksiyonu kullanılmış halini uygulayacağız.\n",
    "Öngörü doğruluğunu hesaplamak için R'ın accuracy fonksiyonunu kullanılır. Accuracy fonksiyonu ile gelen verilerde:\n",
    "\n",
    "ME:Ortalama Hata\n",
    "$$  ME = 1/n \\sum_{t=1}^n e_{t}  $$    \n",
    "MAE : Ortalama Mutlak Hata\n",
    "$$  MAE = 1/n \\sum_{t=1}^n |e_{t}|  $$    \n",
    "MSE: Ortalama Hata Kare\n",
    "$$  MSE = 1/n \\sum_{t=1}^n e_{t}^2  $$    \n",
    "MPE: Ortalama Yüzde Hata \n",
    "$$  MPE = 1/n \\sum_{t=1}^n PE_{t}  $$\n",
    "MAPE: Ortalama Mutlak Yüzde Hata \n",
    "$$  MPE = 1/n \\sum_{t=1}^n |PE_{t}| $$\n",
    "$e_{t} $ : t dönemindeki hata\n",
    "\n",
    "$PE_{t} $ : t dönemindeki yüzde hata\n",
    "\n",
    "$PE_{t}= [(Y_{t}-F_{t})/Y_{t}]*100$\n",
    "\n",
    "n: dönem sayısı"
   ]
  },
  {
   "cell_type": "markdown",
   "metadata": {},
   "source": [
    "Öngörü modellerinden ilk olarak ets modelini deniyoruz. "
   ]
  },
  {
   "cell_type": "code",
   "execution_count": 30,
   "metadata": {},
   "outputs": [
    {
     "data": {
      "text/html": [
       "<table>\n",
       "<thead><tr><th></th><th scope=col>ME</th><th scope=col>RMSE</th><th scope=col>MAE</th><th scope=col>MPE</th><th scope=col>MAPE</th><th scope=col>MASE</th><th scope=col>ACF1</th></tr></thead>\n",
       "<tbody>\n",
       "\t<tr><th scope=row>Training set</th><td>0.002077285</td><td>0.5633965  </td><td>0.3468675  </td><td>-0.184761  </td><td>7.32704    </td><td>0.273651   </td><td>0.1311451  </td></tr>\n",
       "</tbody>\n",
       "</table>\n"
      ],
      "text/latex": [
       "\\begin{tabular}{r|lllllll}\n",
       "  & ME & RMSE & MAE & MPE & MAPE & MASE & ACF1\\\\\n",
       "\\hline\n",
       "\tTraining set & 0.002077285 & 0.5633965   & 0.3468675   & -0.184761   & 7.32704     & 0.273651    & 0.1311451  \\\\\n",
       "\\end{tabular}\n"
      ],
      "text/markdown": [
       "\n",
       "| <!--/--> | ME | RMSE | MAE | MPE | MAPE | MASE | ACF1 | \n",
       "|---|\n",
       "| Training set | 0.002077285 | 0.5633965   | 0.3468675   | -0.184761   | 7.32704     | 0.273651    | 0.1311451   | \n",
       "\n",
       "\n"
      ],
      "text/plain": [
       "             ME          RMSE      MAE       MPE       MAPE    MASE    \n",
       "Training set 0.002077285 0.5633965 0.3468675 -0.184761 7.32704 0.273651\n",
       "             ACF1     \n",
       "Training set 0.1311451"
      ]
     },
     "metadata": {},
     "output_type": "display_data"
    },
    {
     "data": {
      "text/plain": [
       "         Point Forecast    Lo 80    Hi 80    Lo 95    Hi 95\n",
       "Jan 2018       2.055136 1.808749 2.301523 1.678320 2.431952\n",
       "Feb 2018       1.983254 1.635618 2.330891 1.451590 2.514919\n",
       "Mar 2018       1.986769 1.546085 2.427454 1.312801 2.660738"
      ]
     },
     "metadata": {},
     "output_type": "display_data"
    },
    {
     "data": {
      "image/png": "[encoded data removed]",
      "text/plain": [
       "Plot with title \"Forecasts from ETS(M,Ad,M)\""
      ]
     },
     "metadata": {},
     "output_type": "display_data"
    }
   ],
   "source": [
    "model11 <-ets(time_series)\n",
    "data_forecast_ets <- forecast(model11, h=3)\n",
    "accuracy(data_forecast_ets)\n",
    "plot(data_forecast_ets, ,xlim=c(2018.1,2018.3))\n",
    "data_forecast_ets\n"
   ]
  },
  {
   "cell_type": "markdown",
   "metadata": {
    "collapsed": true
   },
   "source": [
    "Verimize ets() fonksiyonu ile öngörü hesapladığımızda bize ETS(M,N,N) argümanlarını vermiştir."
   ]
  },
  {
   "cell_type": "code",
   "execution_count": 31,
   "metadata": {},
   "outputs": [
    {
     "name": "stdout",
     "output_type": "stream",
     "text": [
      "List of 10\n",
      " $ model    :List of 19\n",
      "  ..$ loglik    : num -519\n",
      "  ..$ aic       : num 1073\n",
      "  ..$ bic       : num 1139\n",
      "  ..$ aicc      : num 1076\n",
      "  ..$ mse       : num 0.317\n",
      "  ..$ amse      : num 0.797\n",
      "  ..$ fit       :List of 4\n",
      "  .. ..$ value  : num 1037\n",
      "  .. ..$ par    : num [1:17] 0.988008 0.078206 0.000234 0.833233 2.70331 ...\n",
      "  .. ..$ fail   : int 1\n",
      "  .. ..$ fncount: int 2001\n",
      "  ..$ residuals : Time-Series [1:288] from 1994 to 2018: 0.1864 0.0914 0.1044 -0.0443 0.1637 ...\n",
      "  ..$ fitted    : Time-Series [1:288] from 1994 to 2018: 2.35 2.47 2.54 2.86 2.71 ...\n",
      "  ..$ states    : Time-Series [1:289, 1:14] from 1994 to 2018: 2.7 2.85 2.88 2.99 2.75 ...\n",
      "  .. ..- attr(*, \"dimnames\")=List of 2\n",
      "  .. .. ..$ : NULL\n",
      "  .. .. ..$ : chr [1:14] \"l\" \"b\" \"s1\" \"s2\" ...\n",
      "  ..$ par       : Named num [1:17] 0.988008 0.078206 0.000234 0.833233 2.70331 ...\n",
      "  .. ..- attr(*, \"names\")= chr [1:17] \"alpha\" \"beta\" \"gamma\" \"phi\" ...\n",
      "  ..$ m         : num 12\n",
      "  ..$ method    : chr \"ETS(M,Ad,M)\"\n",
      "  ..$ series    : chr \"time_series\"\n",
      "  ..$ components: chr [1:4] \"M\" \"A\" \"M\" \"TRUE\"\n",
      "  ..$ call      : language ets(y = time_series)\n",
      "  ..$ initstate : Named num [1:14] 2.703 -0.352 1.018 1.036 1.033 ...\n",
      "  .. ..- attr(*, \"names\")= chr [1:14] \"l\" \"b\" \"s1\" \"s2\" ...\n",
      "  ..$ sigma2    : num 0.00875\n",
      "  ..$ x         : Time-Series [1:288] from 1994 to 2018: 2.78 2.69 2.8 2.74 3.15 ...\n",
      "  ..- attr(*, \"class\")= chr \"ets\"\n",
      " $ mean     : Time-Series [1:3] from 2018 to 2018: 2.06 1.98 1.99\n",
      " $ level    : num [1:2] 80 95\n",
      " $ x        : Time-Series [1:288] from 1994 to 2018: 2.78 2.69 2.8 2.74 3.15 ...\n",
      " $ upper    : Time-Series [1:3, 1:2] from 2018 to 2018: 2.3 2.33 2.43 2.43 2.51 ...\n",
      "  ..- attr(*, \"dimnames\")=List of 2\n",
      "  .. ..$ : NULL\n",
      "  .. ..$ : chr [1:2] \"80%\" \"95%\"\n",
      " $ lower    : Time-Series [1:3, 1:2] from 2018 to 2018: 1.81 1.64 1.55 1.68 1.45 ...\n",
      "  ..- attr(*, \"dimnames\")=List of 2\n",
      "  .. ..$ : NULL\n",
      "  .. ..$ : chr [1:2] \"80%\" \"95%\"\n",
      " $ fitted   : Time-Series [1:288] from 1994 to 2018: 2.35 2.47 2.54 2.86 2.71 ...\n",
      " $ method   : chr \"ETS(M,Ad,M)\"\n",
      " $ series   : chr \"time_series\"\n",
      " $ residuals: Time-Series [1:288] from 1994 to 2018: 0.1864 0.0914 0.1044 -0.0443 0.1637 ...\n",
      " - attr(*, \"class\")= chr \"forecast\"\n"
     ]
    }
   ],
   "source": [
    "str(data_forecast_ets)"
   ]
  },
  {
   "cell_type": "markdown",
   "metadata": {},
   "source": [
    "#### Basit Üssel Düzgünleştirme Yöntemi  (Durağan Seriler için):\n",
    "Bu yöntem trende ve mevsimsel dalgalanmaya sahip olmayan sadece bir ortalama düzey etrafında hareket eden serilerin analizinde uygulanmaktadır. Bu yöntemde serinin tahminin elde edilebilmesi için aşağıdaki formülden yararlanılmaktadır.  \n",
    "\n",
    "Düzleştirme katsayısı(aplha- a) tahmin hatasını en küçük yapan sabit bir değerdir.\n",
    "Düzleştirme katsayısı (alpha )1 değerine yakın ise son gözlemlerin değerleri doğrudan serinin tahminini etkiler ve bu durum tahmin serisinde aşırı sıçramalara neden olabilir.\n",
    "Düzleştirme katsayısının 0 değerine yakın olması durumunda orijinal serideki değişimler tahmin serisini pek etkileyemez. Tahmin serisindeki ilk verilerle son veriler arasında önemli bir fark olmaz. Bu iki durum da tahminlerin güvenilir olması bakımından istenilen bir özellik değildir. "
   ]
  },
  {
   "cell_type": "markdown",
   "metadata": {},
   "source": [
    "Aşağıda üssel düzgünleştirme yönteminin HoltWinters() fonksiyonu kullanılmış halini uygulayacağız.Bu model trend, sezonsal bileşenleri de içermemediği durumdur."
   ]
  },
  {
   "cell_type": "code",
   "execution_count": 32,
   "metadata": {},
   "outputs": [
    {
     "data": {
      "text/plain": [
       "Holt-Winters exponential smoothing without trend and without seasonal component.\n",
       "\n",
       "Call:\n",
       "HoltWinters(x = time_series, beta = FALSE, gamma = FALSE)\n",
       "\n",
       "Smoothing parameters:\n",
       " alpha: 0.9999285\n",
       " beta : FALSE\n",
       " gamma: FALSE\n",
       "\n",
       "Coefficients:\n",
       "      [,1]\n",
       "a 2.138993"
      ]
     },
     "metadata": {},
     "output_type": "display_data"
    },
    {
     "data": {
      "text/html": [
       "<table>\n",
       "<thead><tr><th></th><th scope=col>ME</th><th scope=col>RMSE</th><th scope=col>MAE</th><th scope=col>MPE</th><th scope=col>MAPE</th><th scope=col>MASE</th><th scope=col>ACF1</th></tr></thead>\n",
       "<tbody>\n",
       "\t<tr><th scope=row>Training set</th><td>-0.002247573</td><td>0.6110673   </td><td>0.3742448   </td><td>-0.5994399  </td><td>7.861643    </td><td>0.2952495   </td><td>0.1758481   </td></tr>\n",
       "</tbody>\n",
       "</table>\n"
      ],
      "text/latex": [
       "\\begin{tabular}{r|lllllll}\n",
       "  & ME & RMSE & MAE & MPE & MAPE & MASE & ACF1\\\\\n",
       "\\hline\n",
       "\tTraining set & -0.002247573 & 0.6110673    & 0.3742448    & -0.5994399   & 7.861643     & 0.2952495    & 0.1758481   \\\\\n",
       "\\end{tabular}\n"
      ],
      "text/markdown": [
       "\n",
       "| <!--/--> | ME | RMSE | MAE | MPE | MAPE | MASE | ACF1 | \n",
       "|---|\n",
       "| Training set | -0.002247573 | 0.6110673    | 0.3742448    | -0.5994399   | 7.861643     | 0.2952495    | 0.1758481    | \n",
       "\n",
       "\n"
      ],
      "text/plain": [
       "             ME           RMSE      MAE       MPE        MAPE     MASE     \n",
       "Training set -0.002247573 0.6110673 0.3742448 -0.5994399 7.861643 0.2952495\n",
       "             ACF1     \n",
       "Training set 0.1758481"
      ]
     },
     "metadata": {},
     "output_type": "display_data"
    },
    {
     "data": {
      "text/plain": [
       "         Point Forecast     Lo 80    Hi 80      Lo 95    Hi 95\n",
       "Jan 2018       2.138993 1.3545160 2.923470 0.93923901 3.338747\n",
       "Feb 2018       2.138993 1.0296147 3.248371 0.44234537 3.835640\n",
       "Mar 2018       2.138993 0.7803038 3.497682 0.06105733 4.216928"
      ]
     },
     "metadata": {},
     "output_type": "display_data"
    },
    {
     "data": {
      "image/png": "[encoded data removed]",
      "text/plain": [
       "Plot with title \"Forecasts from HoltWinters\""
      ]
     },
     "metadata": {},
     "output_type": "display_data"
    },
    {
     "data": {
      "text/html": [
       "<table>\n",
       "<thead><tr><th scope=col>fit</th><th scope=col>upr</th><th scope=col>lwr</th></tr></thead>\n",
       "<tbody>\n",
       "\t<tr><td>2.138993  </td><td>3.338747  </td><td>0.93923901</td></tr>\n",
       "\t<tr><td>2.138993  </td><td>3.835640  </td><td>0.44234537</td></tr>\n",
       "\t<tr><td>2.138993  </td><td>4.216928  </td><td>0.06105733</td></tr>\n",
       "</tbody>\n",
       "</table>\n"
      ],
      "text/latex": [
       "\\begin{tabular}{lll}\n",
       " fit & upr & lwr\\\\\n",
       "\\hline\n",
       "\t 2.138993   & 3.338747   & 0.93923901\\\\\n",
       "\t 2.138993   & 3.835640   & 0.44234537\\\\\n",
       "\t 2.138993   & 4.216928   & 0.06105733\\\\\n",
       "\\end{tabular}\n"
      ],
      "text/markdown": [
       "\n",
       "fit | upr | lwr | \n",
       "|---|---|---|\n",
       "| 2.138993   | 3.338747   | 0.93923901 | \n",
       "| 2.138993   | 3.835640   | 0.44234537 | \n",
       "| 2.138993   | 4.216928   | 0.06105733 | \n",
       "\n",
       "\n"
      ],
      "text/plain": [
       "     fit      upr      lwr       \n",
       "[1,] 2.138993 3.338747 0.93923901\n",
       "[2,] 2.138993 3.835640 0.44234537\n",
       "[3,] 2.138993 4.216928 0.06105733"
      ]
     },
     "metadata": {},
     "output_type": "display_data"
    },
    {
     "data": {
      "image/png": "[encoded data removed]",
      "text/plain": [
       "plot without title"
      ]
     },
     "metadata": {},
     "output_type": "display_data"
    }
   ],
   "source": [
    "model12 <-HoltWinters(time_series, beta=FALSE, gamma=FALSE)\n",
    "model12\n",
    "data_forecast_simple <- forecast(model12, h=3)\n",
    "accuracy(data_forecast_simple)\n",
    "plot(data_forecast_simple, ,xlim=c(2018.1,2018.3))\n",
    "data_forecast_simple\n",
    "predict12 <- predict(model12, 3, prediction.interval = TRUE)\n",
    "plot(predict12)\n",
    "predict12"
   ]
  },
  {
   "cell_type": "markdown",
   "metadata": {},
   "source": [
    "Düzeleştirme katsayı değeri arttıkça daha büyük tahmin farklılıkları oluşmaktadır.\n",
    "Basit üssel düzleştirme yöntemi uyguladığımızda gelen  alpha değeri 0.9999435'dir. Bu sonuçta 1'e çok yakın ve değerin çok büyük olduğunu gösterir. Hata oranı fazladır. O yüzden öngörü yaparken bu model seçilmemelidir.\n"
   ]
  },
  {
   "cell_type": "code",
   "execution_count": 33,
   "metadata": {},
   "outputs": [
    {
     "name": "stdout",
     "output_type": "stream",
     "text": [
      "List of 10\n",
      " $ method   : chr \"HoltWinters\"\n",
      " $ model    :List of 9\n",
      "  ..$ fitted      : Time-Series [1:287, 1:2] from 1994 to 2018: 2.78 2.7 2.8 2.74 3.15 ...\n",
      "  .. ..- attr(*, \"dimnames\")=List of 2\n",
      "  .. .. ..$ : NULL\n",
      "  .. .. ..$ : chr [1:2] \"xhat\" \"level\"\n",
      "  ..$ x           : Time-Series [1:288] from 1994 to 2018: 2.78 2.69 2.8 2.74 3.15 ...\n",
      "  ..$ alpha       : num 1\n",
      "  ..$ beta        : logi FALSE\n",
      "  ..$ gamma       : logi FALSE\n",
      "  ..$ coefficients: Named num 2.14\n",
      "  .. ..- attr(*, \"names\")= chr \"a\"\n",
      "  ..$ seasonal    : chr \"additive\"\n",
      "  ..$ SSE         : num 107\n",
      "  ..$ call        : language HoltWinters(x = time_series, beta = FALSE, gamma = FALSE)\n",
      "  ..- attr(*, \"class\")= chr \"HoltWinters\"\n",
      " $ level    : num [1:2] 80 95\n",
      " $ mean     : Time-Series [1:3] from 2018 to 2018: 2.14 2.14 2.14\n",
      " $ lower    : num [1:3, 1:2] 1.355 1.03 0.78 0.939 0.442 ...\n",
      "  ..- attr(*, \"dimnames\")=List of 2\n",
      "  .. ..$ : NULL\n",
      "  .. ..$ : chr [1:2] \"80%\" \"95%\"\n",
      " $ upper    : num [1:3, 1:2] 2.92 3.25 3.5 3.34 3.84 ...\n",
      "  ..- attr(*, \"dimnames\")=List of 2\n",
      "  .. ..$ : NULL\n",
      "  .. ..$ : chr [1:2] \"80%\" \"95%\"\n",
      " $ x        : Time-Series [1:288] from 1994 to 2018: 2.78 2.69 2.8 2.74 3.15 ...\n",
      " $ series   : chr \"time_series\"\n",
      " $ fitted   : Time-Series [1:288] from 1994 to 2018: NA 2.78 2.7 2.8 2.74 ...\n",
      " $ residuals: Time-Series [1:288] from 1994 to 2018: NA -0.089 0.105 -0.063 0.412 ...\n",
      " - attr(*, \"class\")= chr \"forecast\"\n"
     ]
    }
   ],
   "source": [
    "str(data_forecast_simple)"
   ]
  },
  {
   "cell_type": "markdown",
   "metadata": {},
   "source": [
    "#### HOLT ÜSTEL DÜZLEŞTİRME YÖNTEMİ:  (Doğrusal Trendi Olan Seriler İçin) \n",
    "Trende sahip mevsimsel dalgalanması olmayan serilerin tahmin işleminde Holt üstel düzleştirme yöntemi kullanılmaktadır. "
   ]
  },
  {
   "cell_type": "code",
   "execution_count": 34,
   "metadata": {},
   "outputs": [
    {
     "data": {
      "text/plain": [
       "Holt-Winters exponential smoothing with trend and without seasonal component.\n",
       "\n",
       "Call:\n",
       "HoltWinters(x = time_series, gamma = FALSE)\n",
       "\n",
       "Smoothing parameters:\n",
       " alpha: 1\n",
       " beta : 0.005553781\n",
       " gamma: FALSE\n",
       "\n",
       "Coefficients:\n",
       "         [,1]\n",
       "a  2.13900000\n",
       "b -0.02712351"
      ]
     },
     "metadata": {},
     "output_type": "display_data"
    },
    {
     "data": {
      "text/html": [
       "<table>\n",
       "<thead><tr><th></th><th scope=col>ME</th><th scope=col>RMSE</th><th scope=col>MAE</th><th scope=col>MPE</th><th scope=col>MAPE</th><th scope=col>MASE</th><th scope=col>ACF1</th></tr></thead>\n",
       "<tbody>\n",
       "\t<tr><th scope=row>Training set</th><td>0.03895569</td><td>0.615792  </td><td>0.3809091 </td><td>0.6912392 </td><td>8.003833  </td><td>0.3005071 </td><td>0.1778581 </td></tr>\n",
       "</tbody>\n",
       "</table>\n"
      ],
      "text/latex": [
       "\\begin{tabular}{r|lllllll}\n",
       "  & ME & RMSE & MAE & MPE & MAPE & MASE & ACF1\\\\\n",
       "\\hline\n",
       "\tTraining set & 0.03895569 & 0.615792   & 0.3809091  & 0.6912392  & 8.003833   & 0.3005071  & 0.1778581 \\\\\n",
       "\\end{tabular}\n"
      ],
      "text/markdown": [
       "\n",
       "| <!--/--> | ME | RMSE | MAE | MPE | MAPE | MASE | ACF1 | \n",
       "|---|\n",
       "| Training set | 0.03895569 | 0.615792   | 0.3809091  | 0.6912392  | 8.003833   | 0.3005071  | 0.1778581  | \n",
       "\n",
       "\n"
      ],
      "text/plain": [
       "             ME         RMSE     MAE       MPE       MAPE     MASE     \n",
       "Training set 0.03895569 0.615792 0.3809091 0.6912392 8.003833 0.3005071\n",
       "             ACF1     \n",
       "Training set 0.1778581"
      ]
     },
     "metadata": {},
     "output_type": "display_data"
    },
    {
     "data": {
      "text/plain": [
       "         Point Forecast     Lo 80    Hi 80       Lo 95    Hi 95\n",
       "Jan 2018       2.111876 1.3229074 2.900846  0.90525245 3.318501\n",
       "Feb 2018       2.084753 0.9658796 3.203626  0.37358378 3.795922\n",
       "Mar 2018       2.057629 0.6834916 3.431767 -0.04393308 4.159192"
      ]
     },
     "metadata": {},
     "output_type": "display_data"
    },
    {
     "data": {
      "image/png": "[encoded data removed]",
      "text/plain": [
       "Plot with title \"Forecasts from HoltWinters\""
      ]
     },
     "metadata": {},
     "output_type": "display_data"
    }
   ],
   "source": [
    "model13 <-HoltWinters(time_series, gamma=FALSE)\n",
    "model13\n",
    "data_forecast_holt <- forecast(model13, h=3)\n",
    "accuracy(data_forecast_holt)\n",
    "plot(data_forecast_holt, ,xlim=c(2018.1,2018.3))\n",
    "data_forecast_holt"
   ]
  },
  {
   "cell_type": "markdown",
   "metadata": {},
   "source": [
    "Düzeleştirme katsayı değeri arttıkça daha büyük tahmin farklılıkları oluşmaktadır.\n",
    "Basit üssel düzleştirme yöntemi uyguladığımızda gelen  alpha değeri 1'dir. Bu sonuçta değerin çok büyük olduğunu gösterir. Hata oranı fazladır. O yüzden öngörü yaparken bu model seçilmemelidir.\n"
   ]
  },
  {
   "cell_type": "code",
   "execution_count": 35,
   "metadata": {},
   "outputs": [
    {
     "name": "stdout",
     "output_type": "stream",
     "text": [
      "List of 10\n",
      " $ method   : chr \"HoltWinters\"\n",
      " $ model    :List of 9\n",
      "  ..$ fitted      : Time-Series [1:286, 1:3] from 1994 to 2018: 2.61 2.71 2.65 3.06 3.12 ...\n",
      "  .. ..- attr(*, \"dimnames\")=List of 2\n",
      "  .. .. ..$ : NULL\n",
      "  .. .. ..$ : chr [1:3] \"xhat\" \"level\" \"trend\"\n",
      "  ..$ x           : Time-Series [1:288] from 1994 to 2018: 2.78 2.69 2.8 2.74 3.15 ...\n",
      "  ..$ alpha       : Named num 1\n",
      "  .. ..- attr(*, \"names\")= chr \"alpha\"\n",
      "  ..$ beta        : Named num 0.00555\n",
      "  .. ..- attr(*, \"names\")= chr \"beta\"\n",
      "  ..$ gamma       : logi FALSE\n",
      "  ..$ coefficients: Named num [1:2] 2.139 -0.0271\n",
      "  .. ..- attr(*, \"names\")= chr [1:2] \"a\" \"b\"\n",
      "  ..$ seasonal    : chr \"additive\"\n",
      "  ..$ SSE         : num 108\n",
      "  ..$ call        : language HoltWinters(x = time_series, gamma = FALSE)\n",
      "  ..- attr(*, \"class\")= chr \"HoltWinters\"\n",
      " $ level    : num [1:2] 80 95\n",
      " $ mean     : Time-Series [1:3] from 2018 to 2018: 2.11 2.08 2.06\n",
      " $ lower    : num [1:3, 1:2] 1.323 0.966 0.683 0.905 0.374 ...\n",
      "  ..- attr(*, \"dimnames\")=List of 2\n",
      "  .. ..$ : NULL\n",
      "  .. ..$ : chr [1:2] \"80%\" \"95%\"\n",
      " $ upper    : num [1:3, 1:2] 2.9 3.2 3.43 3.32 3.8 ...\n",
      "  ..- attr(*, \"dimnames\")=List of 2\n",
      "  .. ..$ : NULL\n",
      "  .. ..$ : chr [1:2] \"80%\" \"95%\"\n",
      " $ x        : Time-Series [1:288] from 1994 to 2018: 2.78 2.69 2.8 2.74 3.15 ...\n",
      " $ series   : chr \"time_series\"\n",
      " $ fitted   : Time-Series [1:288] from 1994 to 2018: NA NA 2.61 2.71 2.65 ...\n",
      " $ residuals: Time-Series [1:288] from 1994 to 2018: NA NA 0.194 0.0249 0.4998 ...\n",
      " - attr(*, \"class\")= chr \"forecast\"\n"
     ]
    }
   ],
   "source": [
    "str(data_forecast_holt)"
   ]
  },
  {
   "cell_type": "markdown",
   "metadata": {},
   "source": [
    "#### Holt-Winters Yöntemi: (Doğrusal Trendi ve Mevsimlik Etkileri Olan Seriler İçin) \n",
    "Holt-Winters Yöntemi üç temel düzeltme esitligine sahiptir. Temel, trend ve mevsimsellik için olan bu üç düzeltme sabiti ile yapılan düzeltmeler, Holt’un\n",
    "Dogrusal Yöntemi’ne benzer olarak tek toplam esitlikte toplanarak mevsimsellik\n",
    "esitligi elde etmektedir. "
   ]
  },
  {
   "cell_type": "code",
   "execution_count": 36,
   "metadata": {},
   "outputs": [
    {
     "ename": "ERROR",
     "evalue": "Error in as.ts(x): 'model1' nesnesi bulunamadı\n",
     "output_type": "error",
     "traceback": [
      "Error in as.ts(x): 'model1' nesnesi bulunamadı\nTraceback:\n",
      "1. HoltWinters(model1)",
      "2. as.ts(x)"
     ]
    }
   ],
   "source": [
    "model14 <-HoltWinters(model1)\n",
    "model14\n",
    "data_forecast_holtWinter <- forecast(model14, h=3)\n",
    "accuracy(data_forecast_holtWinter)\n",
    "plot(data_forecast_holtWinter, ,xlim=c(2018.1,2018.3))\n",
    "data_forecast_holtWinter"
   ]
  },
  {
   "cell_type": "markdown",
   "metadata": {},
   "source": [
    "Düzeleştirme katsayı değeri arttıkça daha büyük tahmin farklılıkları oluşmaktadır.\n",
    "Basit üssel düzleştirme yöntemi uyguladığımızda gelen  alpha değeri 1'dir. Bu sonuçta değerin çok büyük olduğunu gösterir. Hata oranı fazladır. O yüzden öngörü yaparken bu model seçilmemelidir.\n"
   ]
  },
  {
   "cell_type": "code",
   "execution_count": null,
   "metadata": {},
   "outputs": [],
   "source": [
    "str(data_forecast_holtWinter)"
   ]
  },
  {
   "cell_type": "markdown",
   "metadata": {},
   "source": [
    "Modelin hangi aralıklarda hesap yaptığına bakalır."
   ]
  },
  {
   "cell_type": "code",
   "execution_count": null,
   "metadata": {
    "scrolled": false
   },
   "outputs": [],
   "source": [
    "data_forecast_holtWinter$level"
   ]
  },
  {
   "cell_type": "markdown",
   "metadata": {},
   "source": [
    "Komutu bize %80 ve %95 alt ve üst sınırlarda hesap yaptığını göstermektedir.\n",
    "\n",
    "Yani sadece projeksiyon yapmayıp, aynı zamanda alt ve üst kesinlik aralıkları ile kestirim sonuçları bulunmaktadır.\n",
    "\n",
    "rbind  ve cbind ile veri serilerini birbirine ekleyerek büyük veri tabloları oluşturulur.\n"
   ]
  },
  {
   "cell_type": "markdown",
   "metadata": {},
   "source": [
    "#### Arima Modeli \n",
    "\n",
    "Zaman serilerinde öngörü analizi yapmanın bir diğer yolu da arima modeli uygulamaktır."
   ]
  },
  {
   "cell_type": "code",
   "execution_count": null,
   "metadata": {
    "collapsed": true
   },
   "outputs": [],
   "source": [
    "time_series2<-ts(data[,2], start=c(1994, 1), end=c(2017, 12), freq=12)"
   ]
  },
  {
   "cell_type": "code",
   "execution_count": null,
   "metadata": {
    "scrolled": true
   },
   "outputs": [],
   "source": [
    "model21 <- arima(time_series2, order=c(1,0,1))\n",
    "model21\n",
    "data_forecast_arima <- forecast(model21, h=3)\n",
    "accuracy(data_forecast_arima)\n",
    "plot(data_forecast_arima, ,xlim=c(2018.1,2018.3))\n",
    "data_forecast_arima\n",
    "predict(model21,3)"
   ]
  },
  {
   "cell_type": "code",
   "execution_count": null,
   "metadata": {},
   "outputs": [],
   "source": [
    "str(data_forecast_arima)"
   ]
  },
  {
   "cell_type": "markdown",
   "metadata": {},
   "source": [
    "#### Naive and Random Walk Forecasts"
   ]
  },
  {
   "cell_type": "code",
   "execution_count": null,
   "metadata": {
    "scrolled": true
   },
   "outputs": [],
   "source": [
    "data_forecast_randomWalk= rwf(model1,h=3,  drift=T, fan=FALSE,lambda=NULL) \n",
    "accuracy(data_forecast_randomWalk)\n",
    "plot(data_forecast_randomWalk) "
   ]
  },
  {
   "cell_type": "code",
   "execution_count": null,
   "metadata": {
    "collapsed": true
   },
   "outputs": [],
   "source": [
    "str(data_forecast_randomWalk)"
   ]
  },
  {
   "cell_type": "markdown",
   "metadata": {},
   "source": [
    "Aşağıda genel olarak bütün doğrulukları göstereceğiz.Hatırlamak için \n",
    "\n",
    "ME:Ortalama Hata  \n",
    "\n",
    "MAE : Ortalama Mutlak Hata  \n",
    "\n",
    "MSE: Ortalama Hata Kare \n",
    "\n",
    "MPE: Ortalama Yüzde Hata \n",
    "\n",
    "MAPE: Ortalama Mutlak Yüzde Hata\n"
   ]
  },
  {
   "cell_type": "code",
   "execution_count": null,
   "metadata": {},
   "outputs": [],
   "source": [
    "accuracy(data_forecast_ets)\n",
    "accuracy(data_forecast_simple)\n",
    "accuracy(data_forecast_holt)\n",
    "accuracy(data_forecast_holtWinter)\n",
    "accuracy(data_forecast_arima)\n",
    "accuracy(data_forecast_randomWalk)"
   ]
  },
  {
   "cell_type": "markdown",
   "metadata": {},
   "source": [
    "İLk verimiz ile ilgili analiz ve öngörü hesaplamalarını yapmış olduk. Şimdi ikinci verimiz olan petrol verilerini inceleyeceğiz."
   ]
  },
  {
   "cell_type": "markdown",
   "metadata": {},
   "source": [
    "#### Verinin Yayıncısı: U.S. Energy Information Administration Data\n",
    "\n",
    "ABD ulusal ve devlet verilerinin;elektrik, kömür, doğal gaz ve petrol gibi tüm ana enerji ürünleri üzerindeki üretim, tüketim ve diğer göstergelere ilişkisini göstermektedir.\n",
    "#### Verinin Adı:   Florida Field Production of Crude Oil\n",
    "\n",
    "Florida'nın ham petrol üretiminin göstergelere ilişkisini göstermektedir.Veri zaman serisi olarak ilerlemektedir.\n",
    "\n",
    "#### Verinin Sıklığı: Aylık\n",
    "\n",
    "#### Verinin Zaman Aralığı: 31.01.1981- 28.02.2018\n",
    "\n",
    "#### Verinin Alındığı Yer: Quandl\n",
    "\n",
    "Quandl yatırım profesyonellerine hizmet veren finansal, ekonomik ve alternatif veriler için bir platformdur.Verileri 500'den fazla yayıncıdan sağlar. Quandl’ın verilerine bir API aracılığıyla erişilebilir. Bir çok programlama dili için API erişimi (R, Python, Matlab, Maple ve Stata) vardır. \n",
    "\n",
    "Excel eklentisi, stok fiyat bilgisi dahil olmak üzere verilere erişim sağlar.\n",
    "\n"
   ]
  },
  {
   "cell_type": "code",
   "execution_count": 45,
   "metadata": {
    "collapsed": true
   },
   "outputs": [],
   "source": [
    "data2<-Quandl(\"EIA/PET_MCRFPFL1_M\", api_key=\"BtbwkANCR4aHKBscujRb\", collapse=\"monthly\")"
   ]
  },
  {
   "cell_type": "markdown",
   "metadata": {},
   "source": [
    "Veriyi quandl veri sitesinden alıyoruz. Veri iki sütundan oluşmaktadır. İlk sütun tarih ikinci sütun ise üretim miktarıdır."
   ]
  },
  {
   "cell_type": "code",
   "execution_count": 46,
   "metadata": {
    "collapsed": true
   },
   "outputs": [
    {
     "data": {
      "text/html": [
       "<table>\n",
       "<thead><tr><th scope=col>Date</th><th scope=col>Value</th></tr></thead>\n",
       "<tbody>\n",
       "\t<tr><td>2018-02-28</td><td>148       </td></tr>\n",
       "\t<tr><td>2018-01-31</td><td>163       </td></tr>\n",
       "\t<tr><td>2017-12-31</td><td>163       </td></tr>\n",
       "\t<tr><td>2017-11-30</td><td>148       </td></tr>\n",
       "\t<tr><td>2017-10-31</td><td>153       </td></tr>\n",
       "\t<tr><td>2017-09-30</td><td>135       </td></tr>\n",
       "\t<tr><td>2017-08-31</td><td>170       </td></tr>\n",
       "\t<tr><td>2017-07-31</td><td>172       </td></tr>\n",
       "\t<tr><td>2017-06-30</td><td>157       </td></tr>\n",
       "\t<tr><td>2017-05-31</td><td>176       </td></tr>\n",
       "\t<tr><td>2017-04-30</td><td>169       </td></tr>\n",
       "\t<tr><td>2017-03-31</td><td>176       </td></tr>\n",
       "\t<tr><td>2017-02-28</td><td>143       </td></tr>\n",
       "\t<tr><td>2017-01-31</td><td>162       </td></tr>\n",
       "\t<tr><td>2016-12-31</td><td>154       </td></tr>\n",
       "\t<tr><td>2016-11-30</td><td>159       </td></tr>\n",
       "\t<tr><td>2016-10-31</td><td>160       </td></tr>\n",
       "\t<tr><td>2016-09-30</td><td>153       </td></tr>\n",
       "\t<tr><td>2016-08-31</td><td>163       </td></tr>\n",
       "\t<tr><td>2016-07-31</td><td>151       </td></tr>\n",
       "\t<tr><td>2016-06-30</td><td>158       </td></tr>\n",
       "\t<tr><td>2016-05-31</td><td>163       </td></tr>\n",
       "\t<tr><td>2016-04-30</td><td>159       </td></tr>\n",
       "\t<tr><td>2016-03-31</td><td>173       </td></tr>\n",
       "\t<tr><td>2016-02-29</td><td>162       </td></tr>\n",
       "\t<tr><td>2016-01-31</td><td>180       </td></tr>\n",
       "\t<tr><td>2015-12-31</td><td>187       </td></tr>\n",
       "\t<tr><td>2015-11-30</td><td>184       </td></tr>\n",
       "\t<tr><td>2015-10-31</td><td>191       </td></tr>\n",
       "\t<tr><td>2015-09-30</td><td>182       </td></tr>\n",
       "\t<tr><td>...</td><td>...</td></tr>\n",
       "\t<tr><td>1983-06-30</td><td>1577      </td></tr>\n",
       "\t<tr><td>1983-05-31</td><td>1683      </td></tr>\n",
       "\t<tr><td>1983-04-30</td><td>1757      </td></tr>\n",
       "\t<tr><td>1983-03-31</td><td>1908      </td></tr>\n",
       "\t<tr><td>1983-02-28</td><td>1767      </td></tr>\n",
       "\t<tr><td>1983-01-31</td><td>1897      </td></tr>\n",
       "\t<tr><td>1982-12-31</td><td>2046      </td></tr>\n",
       "\t<tr><td>1982-11-30</td><td>1878      </td></tr>\n",
       "\t<tr><td>1982-10-31</td><td>2049      </td></tr>\n",
       "\t<tr><td>1982-09-30</td><td>2008      </td></tr>\n",
       "\t<tr><td>1982-08-31</td><td>2063      </td></tr>\n",
       "\t<tr><td>1982-07-31</td><td>2170      </td></tr>\n",
       "\t<tr><td>1982-06-30</td><td>2141      </td></tr>\n",
       "\t<tr><td>1982-05-31</td><td>2204      </td></tr>\n",
       "\t<tr><td>1982-04-30</td><td>2154      </td></tr>\n",
       "\t<tr><td>1982-03-31</td><td>2381      </td></tr>\n",
       "\t<tr><td>1982-02-28</td><td>2154      </td></tr>\n",
       "\t<tr><td>1982-01-31</td><td>2378      </td></tr>\n",
       "\t<tr><td>1981-12-31</td><td>2499      </td></tr>\n",
       "\t<tr><td>1981-11-30</td><td>2563      </td></tr>\n",
       "\t<tr><td>1981-10-31</td><td>2709      </td></tr>\n",
       "\t<tr><td>1981-09-30</td><td>2612      </td></tr>\n",
       "\t<tr><td>1981-08-31</td><td>2650      </td></tr>\n",
       "\t<tr><td>1981-07-31</td><td>2833      </td></tr>\n",
       "\t<tr><td>1981-06-30</td><td>2856      </td></tr>\n",
       "\t<tr><td>1981-05-31</td><td>3052      </td></tr>\n",
       "\t<tr><td>1981-04-30</td><td>3064      </td></tr>\n",
       "\t<tr><td>1981-03-31</td><td>3167      </td></tr>\n",
       "\t<tr><td>1981-02-28</td><td>3162      </td></tr>\n",
       "\t<tr><td>1981-01-31</td><td>3606      </td></tr>\n",
       "</tbody>\n",
       "</table>\n"
      ],
      "text/latex": [
       "\\begin{tabular}{r|ll}\n",
       " Date & Value\\\\\n",
       "\\hline\n",
       "\t 2018-02-28 & 148       \\\\\n",
       "\t 2018-01-31 & 163       \\\\\n",
       "\t 2017-12-31 & 163       \\\\\n",
       "\t 2017-11-30 & 148       \\\\\n",
       "\t 2017-10-31 & 153       \\\\\n",
       "\t 2017-09-30 & 135       \\\\\n",
       "\t 2017-08-31 & 170       \\\\\n",
       "\t 2017-07-31 & 172       \\\\\n",
       "\t 2017-06-30 & 157       \\\\\n",
       "\t 2017-05-31 & 176       \\\\\n",
       "\t 2017-04-30 & 169       \\\\\n",
       "\t 2017-03-31 & 176       \\\\\n",
       "\t 2017-02-28 & 143       \\\\\n",
       "\t 2017-01-31 & 162       \\\\\n",
       "\t 2016-12-31 & 154       \\\\\n",
       "\t 2016-11-30 & 159       \\\\\n",
       "\t 2016-10-31 & 160       \\\\\n",
       "\t 2016-09-30 & 153       \\\\\n",
       "\t 2016-08-31 & 163       \\\\\n",
       "\t 2016-07-31 & 151       \\\\\n",
       "\t 2016-06-30 & 158       \\\\\n",
       "\t 2016-05-31 & 163       \\\\\n",
       "\t 2016-04-30 & 159       \\\\\n",
       "\t 2016-03-31 & 173       \\\\\n",
       "\t 2016-02-29 & 162       \\\\\n",
       "\t 2016-01-31 & 180       \\\\\n",
       "\t 2015-12-31 & 187       \\\\\n",
       "\t 2015-11-30 & 184       \\\\\n",
       "\t 2015-10-31 & 191       \\\\\n",
       "\t 2015-09-30 & 182       \\\\\n",
       "\t ... & ...\\\\\n",
       "\t 1983-06-30 & 1577      \\\\\n",
       "\t 1983-05-31 & 1683      \\\\\n",
       "\t 1983-04-30 & 1757      \\\\\n",
       "\t 1983-03-31 & 1908      \\\\\n",
       "\t 1983-02-28 & 1767      \\\\\n",
       "\t 1983-01-31 & 1897      \\\\\n",
       "\t 1982-12-31 & 2046      \\\\\n",
       "\t 1982-11-30 & 1878      \\\\\n",
       "\t 1982-10-31 & 2049      \\\\\n",
       "\t 1982-09-30 & 2008      \\\\\n",
       "\t 1982-08-31 & 2063      \\\\\n",
       "\t 1982-07-31 & 2170      \\\\\n",
       "\t 1982-06-30 & 2141      \\\\\n",
       "\t 1982-05-31 & 2204      \\\\\n",
       "\t 1982-04-30 & 2154      \\\\\n",
       "\t 1982-03-31 & 2381      \\\\\n",
       "\t 1982-02-28 & 2154      \\\\\n",
       "\t 1982-01-31 & 2378      \\\\\n",
       "\t 1981-12-31 & 2499      \\\\\n",
       "\t 1981-11-30 & 2563      \\\\\n",
       "\t 1981-10-31 & 2709      \\\\\n",
       "\t 1981-09-30 & 2612      \\\\\n",
       "\t 1981-08-31 & 2650      \\\\\n",
       "\t 1981-07-31 & 2833      \\\\\n",
       "\t 1981-06-30 & 2856      \\\\\n",
       "\t 1981-05-31 & 3052      \\\\\n",
       "\t 1981-04-30 & 3064      \\\\\n",
       "\t 1981-03-31 & 3167      \\\\\n",
       "\t 1981-02-28 & 3162      \\\\\n",
       "\t 1981-01-31 & 3606      \\\\\n",
       "\\end{tabular}\n"
      ],
      "text/markdown": [
       "\n",
       "Date | Value | \n",
       "|---|---|---|---|---|---|---|---|---|---|---|---|---|---|---|---|---|---|---|---|---|---|---|---|---|---|---|---|---|---|---|---|---|---|---|---|---|---|---|---|---|---|---|---|---|---|---|---|---|---|---|---|---|---|---|---|---|---|---|---|---|\n",
       "| 2018-02-28 | 148        | \n",
       "| 2018-01-31 | 163        | \n",
       "| 2017-12-31 | 163        | \n",
       "| 2017-11-30 | 148        | \n",
       "| 2017-10-31 | 153        | \n",
       "| 2017-09-30 | 135        | \n",
       "| 2017-08-31 | 170        | \n",
       "| 2017-07-31 | 172        | \n",
       "| 2017-06-30 | 157        | \n",
       "| 2017-05-31 | 176        | \n",
       "| 2017-04-30 | 169        | \n",
       "| 2017-03-31 | 176        | \n",
       "| 2017-02-28 | 143        | \n",
       "| 2017-01-31 | 162        | \n",
       "| 2016-12-31 | 154        | \n",
       "| 2016-11-30 | 159        | \n",
       "| 2016-10-31 | 160        | \n",
       "| 2016-09-30 | 153        | \n",
       "| 2016-08-31 | 163        | \n",
       "| 2016-07-31 | 151        | \n",
       "| 2016-06-30 | 158        | \n",
       "| 2016-05-31 | 163        | \n",
       "| 2016-04-30 | 159        | \n",
       "| 2016-03-31 | 173        | \n",
       "| 2016-02-29 | 162        | \n",
       "| 2016-01-31 | 180        | \n",
       "| 2015-12-31 | 187        | \n",
       "| 2015-11-30 | 184        | \n",
       "| 2015-10-31 | 191        | \n",
       "| 2015-09-30 | 182        | \n",
       "| ... | ... | \n",
       "| 1983-06-30 | 1577       | \n",
       "| 1983-05-31 | 1683       | \n",
       "| 1983-04-30 | 1757       | \n",
       "| 1983-03-31 | 1908       | \n",
       "| 1983-02-28 | 1767       | \n",
       "| 1983-01-31 | 1897       | \n",
       "| 1982-12-31 | 2046       | \n",
       "| 1982-11-30 | 1878       | \n",
       "| 1982-10-31 | 2049       | \n",
       "| 1982-09-30 | 2008       | \n",
       "| 1982-08-31 | 2063       | \n",
       "| 1982-07-31 | 2170       | \n",
       "| 1982-06-30 | 2141       | \n",
       "| 1982-05-31 | 2204       | \n",
       "| 1982-04-30 | 2154       | \n",
       "| 1982-03-31 | 2381       | \n",
       "| 1982-02-28 | 2154       | \n",
       "| 1982-01-31 | 2378       | \n",
       "| 1981-12-31 | 2499       | \n",
       "| 1981-11-30 | 2563       | \n",
       "| 1981-10-31 | 2709       | \n",
       "| 1981-09-30 | 2612       | \n",
       "| 1981-08-31 | 2650       | \n",
       "| 1981-07-31 | 2833       | \n",
       "| 1981-06-30 | 2856       | \n",
       "| 1981-05-31 | 3052       | \n",
       "| 1981-04-30 | 3064       | \n",
       "| 1981-03-31 | 3167       | \n",
       "| 1981-02-28 | 3162       | \n",
       "| 1981-01-31 | 3606       | \n",
       "\n",
       "\n"
      ],
      "text/plain": [
       "    Date       Value\n",
       "1   2018-02-28 148  \n",
       "2   2018-01-31 163  \n",
       "3   2017-12-31 163  \n",
       "4   2017-11-30 148  \n",
       "5   2017-10-31 153  \n",
       "6   2017-09-30 135  \n",
       "7   2017-08-31 170  \n",
       "8   2017-07-31 172  \n",
       "9   2017-06-30 157  \n",
       "10  2017-05-31 176  \n",
       "11  2017-04-30 169  \n",
       "12  2017-03-31 176  \n",
       "13  2017-02-28 143  \n",
       "14  2017-01-31 162  \n",
       "15  2016-12-31 154  \n",
       "16  2016-11-30 159  \n",
       "17  2016-10-31 160  \n",
       "18  2016-09-30 153  \n",
       "19  2016-08-31 163  \n",
       "20  2016-07-31 151  \n",
       "21  2016-06-30 158  \n",
       "22  2016-05-31 163  \n",
       "23  2016-04-30 159  \n",
       "24  2016-03-31 173  \n",
       "25  2016-02-29 162  \n",
       "26  2016-01-31 180  \n",
       "27  2015-12-31 187  \n",
       "28  2015-11-30 184  \n",
       "29  2015-10-31 191  \n",
       "30  2015-09-30 182  \n",
       "... ...        ...  \n",
       "417 1983-06-30 1577 \n",
       "418 1983-05-31 1683 \n",
       "419 1983-04-30 1757 \n",
       "420 1983-03-31 1908 \n",
       "421 1983-02-28 1767 \n",
       "422 1983-01-31 1897 \n",
       "423 1982-12-31 2046 \n",
       "424 1982-11-30 1878 \n",
       "425 1982-10-31 2049 \n",
       "426 1982-09-30 2008 \n",
       "427 1982-08-31 2063 \n",
       "428 1982-07-31 2170 \n",
       "429 1982-06-30 2141 \n",
       "430 1982-05-31 2204 \n",
       "431 1982-04-30 2154 \n",
       "432 1982-03-31 2381 \n",
       "433 1982-02-28 2154 \n",
       "434 1982-01-31 2378 \n",
       "435 1981-12-31 2499 \n",
       "436 1981-11-30 2563 \n",
       "437 1981-10-31 2709 \n",
       "438 1981-09-30 2612 \n",
       "439 1981-08-31 2650 \n",
       "440 1981-07-31 2833 \n",
       "441 1981-06-30 2856 \n",
       "442 1981-05-31 3052 \n",
       "443 1981-04-30 3064 \n",
       "444 1981-03-31 3167 \n",
       "445 1981-02-28 3162 \n",
       "446 1981-01-31 3606 "
      ]
     },
     "metadata": {},
     "output_type": "display_data"
    }
   ],
   "source": [
    "data2"
   ]
  },
  {
   "cell_type": "markdown",
   "metadata": {},
   "source": [
    "Yukarıda veriyi yüklediğimizde fark ediliyor ki petrol üretimi gittikçe azalmıştır.Görsel olarak göstermek için;aşağıda verimizi çizgizel grafik gösterimini görüyoruz. "
   ]
  },
  {
   "cell_type": "code",
   "execution_count": 48,
   "metadata": {
    "scrolled": true
   },
   "outputs": [
    {
     "data": {
      "image/png": "[encoded data removed]",
      "text/plain": [
       "plot without title"
      ]
     },
     "metadata": {},
     "output_type": "display_data"
    }
   ],
   "source": [
    "plot(data2,type=\"l\")"
   ]
  },
  {
   "cell_type": "markdown",
   "metadata": {},
   "source": [
    "Aşağıda verimizin sadece üretim değerlerini ve çizgisel grafiğini görüyoruz."
   ]
  },
  {
   "cell_type": "code",
   "execution_count": 49,
   "metadata": {
    "collapsed": true
   },
   "outputs": [
    {
     "data": {
      "text/html": [
       "<ol class=list-inline>\n",
       "\t<li>148</li>\n",
       "\t<li>163</li>\n",
       "\t<li>163</li>\n",
       "\t<li>148</li>\n",
       "\t<li>153</li>\n",
       "\t<li>135</li>\n",
       "\t<li>170</li>\n",
       "\t<li>172</li>\n",
       "\t<li>157</li>\n",
       "\t<li>176</li>\n",
       "\t<li>169</li>\n",
       "\t<li>176</li>\n",
       "\t<li>143</li>\n",
       "\t<li>162</li>\n",
       "\t<li>154</li>\n",
       "\t<li>159</li>\n",
       "\t<li>160</li>\n",
       "\t<li>153</li>\n",
       "\t<li>163</li>\n",
       "\t<li>151</li>\n",
       "\t<li>158</li>\n",
       "\t<li>163</li>\n",
       "\t<li>159</li>\n",
       "\t<li>173</li>\n",
       "\t<li>162</li>\n",
       "\t<li>180</li>\n",
       "\t<li>187</li>\n",
       "\t<li>184</li>\n",
       "\t<li>191</li>\n",
       "\t<li>182</li>\n",
       "\t<li>196</li>\n",
       "\t<li>194</li>\n",
       "\t<li>196</li>\n",
       "\t<li>206</li>\n",
       "\t<li>124</li>\n",
       "\t<li>173</li>\n",
       "\t<li>182</li>\n",
       "\t<li>193</li>\n",
       "\t<li>192</li>\n",
       "\t<li>183</li>\n",
       "\t<li>185</li>\n",
       "\t<li>171</li>\n",
       "\t<li>180</li>\n",
       "\t<li>194</li>\n",
       "\t<li>204</li>\n",
       "\t<li>191</li>\n",
       "\t<li>189</li>\n",
       "\t<li>190</li>\n",
       "\t<li>166</li>\n",
       "\t<li>182</li>\n",
       "\t<li>196</li>\n",
       "\t<li>197</li>\n",
       "\t<li>203</li>\n",
       "\t<li>200</li>\n",
       "\t<li>197</li>\n",
       "\t<li>172</li>\n",
       "\t<li>167</li>\n",
       "\t<li>169</li>\n",
       "\t<li>120</li>\n",
       "\t<li>200</li>\n",
       "\t<li>167</li>\n",
       "\t<li>187</li>\n",
       "\t<li>184</li>\n",
       "\t<li>188</li>\n",
       "\t<li>181</li>\n",
       "\t<li>172</li>\n",
       "\t<li>173</li>\n",
       "\t<li>189</li>\n",
       "\t<li>179</li>\n",
       "\t<li>171</li>\n",
       "\t<li>163</li>\n",
       "\t<li>180</li>\n",
       "\t<li>174</li>\n",
       "\t<li>182</li>\n",
       "\t<li>185</li>\n",
       "\t<li>182</li>\n",
       "\t<li>187</li>\n",
       "\t<li>173</li>\n",
       "\t<li>144</li>\n",
       "\t<li>164</li>\n",
       "\t<li>162</li>\n",
       "\t<li>169</li>\n",
       "\t<li>166</li>\n",
       "\t<li>173</li>\n",
       "\t<li>147</li>\n",
       "\t<li>172</li>\n",
       "\t<li>176</li>\n",
       "\t<li>155</li>\n",
       "\t<li>154</li>\n",
       "\t<li>157</li>\n",
       "\t<li>168</li>\n",
       "\t<li>170</li>\n",
       "\t<li>158</li>\n",
       "\t<li>166</li>\n",
       "\t<li>133</li>\n",
       "\t<li>125</li>\n",
       "\t<li>114</li>\n",
       "\t<li>101</li>\n",
       "\t<li>60</li>\n",
       "\t<li>53</li>\n",
       "\t<li>54</li>\n",
       "\t<li>60</li>\n",
       "\t<li>63</li>\n",
       "\t<li>59</li>\n",
       "\t<li>57</li>\n",
       "\t<li>66</li>\n",
       "\t<li>59</li>\n",
       "\t<li>55</li>\n",
       "\t<li>53</li>\n",
       "\t<li>58</li>\n",
       "\t<li>125</li>\n",
       "\t<li>178</li>\n",
       "\t<li>175</li>\n",
       "\t<li>156</li>\n",
       "\t<li>161</li>\n",
       "\t<li>172</li>\n",
       "\t<li>156</li>\n",
       "\t<li>104</li>\n",
       "\t<li>172</li>\n",
       "\t<li>184</li>\n",
       "\t<li>168</li>\n",
       "\t<li>201</li>\n",
       "\t<li>203</li>\n",
       "\t<li>190</li>\n",
       "\t<li>184</li>\n",
       "\t<li>184</li>\n",
       "\t<li>163</li>\n",
       "\t<li>152</li>\n",
       "\t<li>152</li>\n",
       "\t<li>161</li>\n",
       "\t<li>168</li>\n",
       "\t<li>163</li>\n",
       "\t<li>167</li>\n",
       "\t<li>190</li>\n",
       "\t<li>162</li>\n",
       "\t<li>192</li>\n",
       "\t<li>193</li>\n",
       "\t<li>206</li>\n",
       "\t<li>213</li>\n",
       "\t<li>213</li>\n",
       "\t<li>194</li>\n",
       "\t<li>214</li>\n",
       "\t<li>195</li>\n",
       "\t<li>199</li>\n",
       "\t<li>180</li>\n",
       "\t<li>199</li>\n",
       "\t<li>209</li>\n",
       "\t<li>192</li>\n",
       "\t<li>208</li>\n",
       "\t<li>193</li>\n",
       "\t<li>180</li>\n",
       "\t<li>136</li>\n",
       "\t<li>223</li>\n",
       "\t<li>251</li>\n",
       "\t<li>242</li>\n",
       "\t<li>254</li>\n",
       "\t<li>219</li>\n",
       "\t<li>279</li>\n",
       "\t<li>268</li>\n",
       "\t<li>257</li>\n",
       "\t<li>235</li>\n",
       "\t<li>126</li>\n",
       "\t<li>226</li>\n",
       "\t<li>235</li>\n",
       "\t<li>232</li>\n",
       "\t<li>260</li>\n",
       "\t<li>256</li>\n",
       "\t<li>259</li>\n",
       "\t<li>260</li>\n",
       "\t<li>290</li>\n",
       "\t<li>286</li>\n",
       "\t<li>269</li>\n",
       "\t<li>292</li>\n",
       "\t<li>277</li>\n",
       "\t<li>247</li>\n",
       "\t<li>287</li>\n",
       "\t<li>284</li>\n",
       "\t<li>259</li>\n",
       "\t<li>260</li>\n",
       "\t<li>280</li>\n",
       "\t<li>235</li>\n",
       "\t<li>286</li>\n",
       "\t<li>299</li>\n",
       "\t<li>268</li>\n",
       "\t<li>297</li>\n",
       "\t<li>289</li>\n",
       "\t<li>305</li>\n",
       "\t<li>285</li>\n",
       "\t<li>297</li>\n",
       "\t<li>305</li>\n",
       "\t<li>281</li>\n",
       "\t<li>352</li>\n",
       "\t<li>318</li>\n",
       "\t<li>337</li>\n",
       "\t<li>332</li>\n",
       "\t<li>337</li>\n",
       "\t<li>351</li>\n",
       "\t<li>372</li>\n",
       "\t<li>367</li>\n",
       "\t<li>356</li>\n",
       "\t<li>361</li>\n",
       "\t<li>393</li>\n",
       "\t<li>383</li>\n",
       "\t<li>388</li>\n",
       "\t<li>359</li>\n",
       "\t<li>427</li>\n",
       "\t<li>394</li>\n",
       "\t<li>386</li>\n",
       "\t<li>418</li>\n",
       "\t<li>386</li>\n",
       "\t<li>396</li>\n",
       "\t<li>389</li>\n",
       "\t<li>379</li>\n",
       "\t<li>411</li>\n",
       "\t<li>385</li>\n",
       "\t<li>373</li>\n",
       "\t<li>349</li>\n",
       "\t<li>360</li>\n",
       "\t<li>403</li>\n",
       "\t<li>420</li>\n",
       "\t<li>421</li>\n",
       "\t<li>395</li>\n",
       "\t<li>431</li>\n",
       "\t<li>421</li>\n",
       "\t<li>372</li>\n",
       "\t<li>370</li>\n",
       "\t<li>398</li>\n",
       "\t<li>418</li>\n",
       "\t<li>391</li>\n",
       "\t<li>455</li>\n",
       "\t<li>543</li>\n",
       "\t<li>465</li>\n",
       "\t<li>461</li>\n",
       "\t<li>427</li>\n",
       "\t<li>504</li>\n",
       "\t<li>518</li>\n",
       "\t<li>531</li>\n",
       "\t<li>542</li>\n",
       "\t<li>479</li>\n",
       "\t<li>480</li>\n",
       "\t<li>498</li>\n",
       "\t<li>523</li>\n",
       "\t<li>554</li>\n",
       "\t<li>511</li>\n",
       "\t<li>538</li>\n",
       "\t<li>523</li>\n",
       "\t<li>536</li>\n",
       "\t<li>497</li>\n",
       "\t<li>533</li>\n",
       "\t<li>542</li>\n",
       "\t<li>541</li>\n",
       "\t<li>543</li>\n",
       "\t<li>494</li>\n",
       "\t<li>570</li>\n",
       "\t<li>569</li>\n",
       "\t<li>539</li>\n",
       "\t<li>541</li>\n",
       "\t<li>537</li>\n",
       "\t<li>565</li>\n",
       "\t<li>579</li>\n",
       "\t<li>544</li>\n",
       "\t<li>560</li>\n",
       "\t<li>553</li>\n",
       "\t<li>474</li>\n",
       "\t<li>385</li>\n",
       "\t<li>447</li>\n",
       "\t<li>456</li>\n",
       "\t<li>444</li>\n",
       "\t<li>426</li>\n",
       "\t<li>447</li>\n",
       "\t<li>450</li>\n",
       "\t<li>479</li>\n",
       "\t<li>488</li>\n",
       "\t<li>491</li>\n",
       "\t<li>503</li>\n",
       "\t<li>521</li>\n",
       "\t<li>474</li>\n",
       "\t<li>514</li>\n",
       "\t<li>538</li>\n",
       "\t<li>522</li>\n",
       "\t<li>525</li>\n",
       "\t<li>487</li>\n",
       "\t<li>497</li>\n",
       "\t<li>527</li>\n",
       "\t<li>491</li>\n",
       "\t<li>529</li>\n",
       "\t<li>510</li>\n",
       "\t<li>494</li>\n",
       "\t<li>482</li>\n",
       "\t<li>490</li>\n",
       "\t<li>499</li>\n",
       "\t<li>480</li>\n",
       "\t<li>501</li>\n",
       "\t<li>479</li>\n",
       "\t<li>489</li>\n",
       "\t<li>470</li>\n",
       "\t<li>449</li>\n",
       "\t<li>475</li>\n",
       "\t<li>453</li>\n",
       "\t<li>436</li>\n",
       "\t<li>385</li>\n",
       "\t<li>488</li>\n",
       "\t<li>479</li>\n",
       "\t<li>462</li>\n",
       "\t<li>469</li>\n",
       "\t<li>453</li>\n",
       "\t<li>456</li>\n",
       "\t<li>407</li>\n",
       "\t<li>457</li>\n",
       "\t<li>454</li>\n",
       "\t<li>429</li>\n",
       "\t<li>431</li>\n",
       "\t<li>444</li>\n",
       "\t<li>483</li>\n",
       "\t<li>482</li>\n",
       "\t<li>481</li>\n",
       "\t<li>496</li>\n",
       "\t<li>426</li>\n",
       "\t<li>379</li>\n",
       "\t<li>327</li>\n",
       "\t<li>192</li>\n",
       "\t<li>383</li>\n",
       "\t<li>419</li>\n",
       "\t<li>372</li>\n",
       "\t<li>358</li>\n",
       "\t<li>410</li>\n",
       "\t<li>465</li>\n",
       "\t<li>408</li>\n",
       "\t<li>401</li>\n",
       "\t<li>389</li>\n",
       "\t<li>396</li>\n",
       "\t<li>451</li>\n",
       "\t<li>466</li>\n",
       "\t<li>522</li>\n",
       "\t<li>538</li>\n",
       "\t<li>497</li>\n",
       "\t<li>553</li>\n",
       "\t<li>589</li>\n",
       "\t<li>566</li>\n",
       "\t<li>586</li>\n",
       "\t<li>665</li>\n",
       "\t<li>626</li>\n",
       "\t<li>608</li>\n",
       "\t<li>598</li>\n",
       "\t<li>588</li>\n",
       "\t<li>638</li>\n",
       "\t<li>594</li>\n",
       "\t<li>612</li>\n",
       "\t<li>558</li>\n",
       "\t<li>650</li>\n",
       "\t<li>601</li>\n",
       "\t<li>573</li>\n",
       "\t<li>573</li>\n",
       "\t<li>627</li>\n",
       "\t<li>668</li>\n",
       "\t<li>683</li>\n",
       "\t<li>658</li>\n",
       "\t<li>672</li>\n",
       "\t<li>641</li>\n",
       "\t<li>685</li>\n",
       "\t<li>652</li>\n",
       "\t<li>712</li>\n",
       "\t<li>720</li>\n",
       "\t<li>698</li>\n",
       "\t<li>713</li>\n",
       "\t<li>686</li>\n",
       "\t<li>701</li>\n",
       "\t<li>703</li>\n",
       "\t<li>657</li>\n",
       "\t<li>728</li>\n",
       "\t<li>685</li>\n",
       "\t<li>701</li>\n",
       "\t<li>590</li>\n",
       "\t<li>689</li>\n",
       "\t<li>693</li>\n",
       "\t<li>709</li>\n",
       "\t<li>697</li>\n",
       "\t<li>569</li>\n",
       "\t<li>752</li>\n",
       "\t<li>804</li>\n",
       "\t<li>824</li>\n",
       "\t<li>889</li>\n",
       "\t<li>842</li>\n",
       "\t<li>854</li>\n",
       "\t<li>808</li>\n",
       "\t<li>942</li>\n",
       "\t<li>931</li>\n",
       "\t<li>875</li>\n",
       "\t<li>955</li>\n",
       "\t<li>912</li>\n",
       "\t<li>885</li>\n",
       "\t<li>890</li>\n",
       "\t<li>969</li>\n",
       "\t<li>1007</li>\n",
       "\t<li>1004</li>\n",
       "\t<li>1029</li>\n",
       "\t<li>939</li>\n",
       "\t<li>1062</li>\n",
       "\t<li>1157</li>\n",
       "\t<li>1149</li>\n",
       "\t<li>1178</li>\n",
       "\t<li>1162</li>\n",
       "\t<li>1128</li>\n",
       "\t<li>1173</li>\n",
       "\t<li>1159</li>\n",
       "\t<li>1216</li>\n",
       "\t<li>1247</li>\n",
       "\t<li>1284</li>\n",
       "\t<li>1257</li>\n",
       "\t<li>1352</li>\n",
       "\t<li>1275</li>\n",
       "\t<li>1406</li>\n",
       "\t<li>1526</li>\n",
       "\t<li>1561</li>\n",
       "\t<li>1581</li>\n",
       "\t<li>1538</li>\n",
       "\t<li>1577</li>\n",
       "\t<li>1683</li>\n",
       "\t<li>1757</li>\n",
       "\t<li>1908</li>\n",
       "\t<li>1767</li>\n",
       "\t<li>1897</li>\n",
       "\t<li>2046</li>\n",
       "\t<li>1878</li>\n",
       "\t<li>2049</li>\n",
       "\t<li>2008</li>\n",
       "\t<li>2063</li>\n",
       "\t<li>2170</li>\n",
       "\t<li>2141</li>\n",
       "\t<li>2204</li>\n",
       "\t<li>2154</li>\n",
       "\t<li>2381</li>\n",
       "\t<li>2154</li>\n",
       "\t<li>2378</li>\n",
       "\t<li>2499</li>\n",
       "\t<li>2563</li>\n",
       "\t<li>2709</li>\n",
       "\t<li>2612</li>\n",
       "\t<li>2650</li>\n",
       "\t<li>2833</li>\n",
       "\t<li>2856</li>\n",
       "\t<li>3052</li>\n",
       "\t<li>3064</li>\n",
       "\t<li>3167</li>\n",
       "\t<li>3162</li>\n",
       "\t<li>3606</li>\n",
       "</ol>\n"
      ],
      "text/latex": [
       "\\begin{enumerate*}\n",
       "\\item 148\n",
       "\\item 163\n",
       "\\item 163\n",
       "\\item 148\n",
       "\\item 153\n",
       "\\item 135\n",
       "\\item 170\n",
       "\\item 172\n",
       "\\item 157\n",
       "\\item 176\n",
       "\\item 169\n",
       "\\item 176\n",
       "\\item 143\n",
       "\\item 162\n",
       "\\item 154\n",
       "\\item 159\n",
       "\\item 160\n",
       "\\item 153\n",
       "\\item 163\n",
       "\\item 151\n",
       "\\item 158\n",
       "\\item 163\n",
       "\\item 159\n",
       "\\item 173\n",
       "\\item 162\n",
       "\\item 180\n",
       "\\item 187\n",
       "\\item 184\n",
       "\\item 191\n",
       "\\item 182\n",
       "\\item 196\n",
       "\\item 194\n",
       "\\item 196\n",
       "\\item 206\n",
       "\\item 124\n",
       "\\item 173\n",
       "\\item 182\n",
       "\\item 193\n",
       "\\item 192\n",
       "\\item 183\n",
       "\\item 185\n",
       "\\item 171\n",
       "\\item 180\n",
       "\\item 194\n",
       "\\item 204\n",
       "\\item 191\n",
       "\\item 189\n",
       "\\item 190\n",
       "\\item 166\n",
       "\\item 182\n",
       "\\item 196\n",
       "\\item 197\n",
       "\\item 203\n",
       "\\item 200\n",
       "\\item 197\n",
       "\\item 172\n",
       "\\item 167\n",
       "\\item 169\n",
       "\\item 120\n",
       "\\item 200\n",
       "\\item 167\n",
       "\\item 187\n",
       "\\item 184\n",
       "\\item 188\n",
       "\\item 181\n",
       "\\item 172\n",
       "\\item 173\n",
       "\\item 189\n",
       "\\item 179\n",
       "\\item 171\n",
       "\\item 163\n",
       "\\item 180\n",
       "\\item 174\n",
       "\\item 182\n",
       "\\item 185\n",
       "\\item 182\n",
       "\\item 187\n",
       "\\item 173\n",
       "\\item 144\n",
       "\\item 164\n",
       "\\item 162\n",
       "\\item 169\n",
       "\\item 166\n",
       "\\item 173\n",
       "\\item 147\n",
       "\\item 172\n",
       "\\item 176\n",
       "\\item 155\n",
       "\\item 154\n",
       "\\item 157\n",
       "\\item 168\n",
       "\\item 170\n",
       "\\item 158\n",
       "\\item 166\n",
       "\\item 133\n",
       "\\item 125\n",
       "\\item 114\n",
       "\\item 101\n",
       "\\item 60\n",
       "\\item 53\n",
       "\\item 54\n",
       "\\item 60\n",
       "\\item 63\n",
       "\\item 59\n",
       "\\item 57\n",
       "\\item 66\n",
       "\\item 59\n",
       "\\item 55\n",
       "\\item 53\n",
       "\\item 58\n",
       "\\item 125\n",
       "\\item 178\n",
       "\\item 175\n",
       "\\item 156\n",
       "\\item 161\n",
       "\\item 172\n",
       "\\item 156\n",
       "\\item 104\n",
       "\\item 172\n",
       "\\item 184\n",
       "\\item 168\n",
       "\\item 201\n",
       "\\item 203\n",
       "\\item 190\n",
       "\\item 184\n",
       "\\item 184\n",
       "\\item 163\n",
       "\\item 152\n",
       "\\item 152\n",
       "\\item 161\n",
       "\\item 168\n",
       "\\item 163\n",
       "\\item 167\n",
       "\\item 190\n",
       "\\item 162\n",
       "\\item 192\n",
       "\\item 193\n",
       "\\item 206\n",
       "\\item 213\n",
       "\\item 213\n",
       "\\item 194\n",
       "\\item 214\n",
       "\\item 195\n",
       "\\item 199\n",
       "\\item 180\n",
       "\\item 199\n",
       "\\item 209\n",
       "\\item 192\n",
       "\\item 208\n",
       "\\item 193\n",
       "\\item 180\n",
       "\\item 136\n",
       "\\item 223\n",
       "\\item 251\n",
       "\\item 242\n",
       "\\item 254\n",
       "\\item 219\n",
       "\\item 279\n",
       "\\item 268\n",
       "\\item 257\n",
       "\\item 235\n",
       "\\item 126\n",
       "\\item 226\n",
       "\\item 235\n",
       "\\item 232\n",
       "\\item 260\n",
       "\\item 256\n",
       "\\item 259\n",
       "\\item 260\n",
       "\\item 290\n",
       "\\item 286\n",
       "\\item 269\n",
       "\\item 292\n",
       "\\item 277\n",
       "\\item 247\n",
       "\\item 287\n",
       "\\item 284\n",
       "\\item 259\n",
       "\\item 260\n",
       "\\item 280\n",
       "\\item 235\n",
       "\\item 286\n",
       "\\item 299\n",
       "\\item 268\n",
       "\\item 297\n",
       "\\item 289\n",
       "\\item 305\n",
       "\\item 285\n",
       "\\item 297\n",
       "\\item 305\n",
       "\\item 281\n",
       "\\item 352\n",
       "\\item 318\n",
       "\\item 337\n",
       "\\item 332\n",
       "\\item 337\n",
       "\\item 351\n",
       "\\item 372\n",
       "\\item 367\n",
       "\\item 356\n",
       "\\item 361\n",
       "\\item 393\n",
       "\\item 383\n",
       "\\item 388\n",
       "\\item 359\n",
       "\\item 427\n",
       "\\item 394\n",
       "\\item 386\n",
       "\\item 418\n",
       "\\item 386\n",
       "\\item 396\n",
       "\\item 389\n",
       "\\item 379\n",
       "\\item 411\n",
       "\\item 385\n",
       "\\item 373\n",
       "\\item 349\n",
       "\\item 360\n",
       "\\item 403\n",
       "\\item 420\n",
       "\\item 421\n",
       "\\item 395\n",
       "\\item 431\n",
       "\\item 421\n",
       "\\item 372\n",
       "\\item 370\n",
       "\\item 398\n",
       "\\item 418\n",
       "\\item 391\n",
       "\\item 455\n",
       "\\item 543\n",
       "\\item 465\n",
       "\\item 461\n",
       "\\item 427\n",
       "\\item 504\n",
       "\\item 518\n",
       "\\item 531\n",
       "\\item 542\n",
       "\\item 479\n",
       "\\item 480\n",
       "\\item 498\n",
       "\\item 523\n",
       "\\item 554\n",
       "\\item 511\n",
       "\\item 538\n",
       "\\item 523\n",
       "\\item 536\n",
       "\\item 497\n",
       "\\item 533\n",
       "\\item 542\n",
       "\\item 541\n",
       "\\item 543\n",
       "\\item 494\n",
       "\\item 570\n",
       "\\item 569\n",
       "\\item 539\n",
       "\\item 541\n",
       "\\item 537\n",
       "\\item 565\n",
       "\\item 579\n",
       "\\item 544\n",
       "\\item 560\n",
       "\\item 553\n",
       "\\item 474\n",
       "\\item 385\n",
       "\\item 447\n",
       "\\item 456\n",
       "\\item 444\n",
       "\\item 426\n",
       "\\item 447\n",
       "\\item 450\n",
       "\\item 479\n",
       "\\item 488\n",
       "\\item 491\n",
       "\\item 503\n",
       "\\item 521\n",
       "\\item 474\n",
       "\\item 514\n",
       "\\item 538\n",
       "\\item 522\n",
       "\\item 525\n",
       "\\item 487\n",
       "\\item 497\n",
       "\\item 527\n",
       "\\item 491\n",
       "\\item 529\n",
       "\\item 510\n",
       "\\item 494\n",
       "\\item 482\n",
       "\\item 490\n",
       "\\item 499\n",
       "\\item 480\n",
       "\\item 501\n",
       "\\item 479\n",
       "\\item 489\n",
       "\\item 470\n",
       "\\item 449\n",
       "\\item 475\n",
       "\\item 453\n",
       "\\item 436\n",
       "\\item 385\n",
       "\\item 488\n",
       "\\item 479\n",
       "\\item 462\n",
       "\\item 469\n",
       "\\item 453\n",
       "\\item 456\n",
       "\\item 407\n",
       "\\item 457\n",
       "\\item 454\n",
       "\\item 429\n",
       "\\item 431\n",
       "\\item 444\n",
       "\\item 483\n",
       "\\item 482\n",
       "\\item 481\n",
       "\\item 496\n",
       "\\item 426\n",
       "\\item 379\n",
       "\\item 327\n",
       "\\item 192\n",
       "\\item 383\n",
       "\\item 419\n",
       "\\item 372\n",
       "\\item 358\n",
       "\\item 410\n",
       "\\item 465\n",
       "\\item 408\n",
       "\\item 401\n",
       "\\item 389\n",
       "\\item 396\n",
       "\\item 451\n",
       "\\item 466\n",
       "\\item 522\n",
       "\\item 538\n",
       "\\item 497\n",
       "\\item 553\n",
       "\\item 589\n",
       "\\item 566\n",
       "\\item 586\n",
       "\\item 665\n",
       "\\item 626\n",
       "\\item 608\n",
       "\\item 598\n",
       "\\item 588\n",
       "\\item 638\n",
       "\\item 594\n",
       "\\item 612\n",
       "\\item 558\n",
       "\\item 650\n",
       "\\item 601\n",
       "\\item 573\n",
       "\\item 573\n",
       "\\item 627\n",
       "\\item 668\n",
       "\\item 683\n",
       "\\item 658\n",
       "\\item 672\n",
       "\\item 641\n",
       "\\item 685\n",
       "\\item 652\n",
       "\\item 712\n",
       "\\item 720\n",
       "\\item 698\n",
       "\\item 713\n",
       "\\item 686\n",
       "\\item 701\n",
       "\\item 703\n",
       "\\item 657\n",
       "\\item 728\n",
       "\\item 685\n",
       "\\item 701\n",
       "\\item 590\n",
       "\\item 689\n",
       "\\item 693\n",
       "\\item 709\n",
       "\\item 697\n",
       "\\item 569\n",
       "\\item 752\n",
       "\\item 804\n",
       "\\item 824\n",
       "\\item 889\n",
       "\\item 842\n",
       "\\item 854\n",
       "\\item 808\n",
       "\\item 942\n",
       "\\item 931\n",
       "\\item 875\n",
       "\\item 955\n",
       "\\item 912\n",
       "\\item 885\n",
       "\\item 890\n",
       "\\item 969\n",
       "\\item 1007\n",
       "\\item 1004\n",
       "\\item 1029\n",
       "\\item 939\n",
       "\\item 1062\n",
       "\\item 1157\n",
       "\\item 1149\n",
       "\\item 1178\n",
       "\\item 1162\n",
       "\\item 1128\n",
       "\\item 1173\n",
       "\\item 1159\n",
       "\\item 1216\n",
       "\\item 1247\n",
       "\\item 1284\n",
       "\\item 1257\n",
       "\\item 1352\n",
       "\\item 1275\n",
       "\\item 1406\n",
       "\\item 1526\n",
       "\\item 1561\n",
       "\\item 1581\n",
       "\\item 1538\n",
       "\\item 1577\n",
       "\\item 1683\n",
       "\\item 1757\n",
       "\\item 1908\n",
       "\\item 1767\n",
       "\\item 1897\n",
       "\\item 2046\n",
       "\\item 1878\n",
       "\\item 2049\n",
       "\\item 2008\n",
       "\\item 2063\n",
       "\\item 2170\n",
       "\\item 2141\n",
       "\\item 2204\n",
       "\\item 2154\n",
       "\\item 2381\n",
       "\\item 2154\n",
       "\\item 2378\n",
       "\\item 2499\n",
       "\\item 2563\n",
       "\\item 2709\n",
       "\\item 2612\n",
       "\\item 2650\n",
       "\\item 2833\n",
       "\\item 2856\n",
       "\\item 3052\n",
       "\\item 3064\n",
       "\\item 3167\n",
       "\\item 3162\n",
       "\\item 3606\n",
       "\\end{enumerate*}\n"
      ],
      "text/markdown": [
       "1. 148\n",
       "2. 163\n",
       "3. 163\n",
       "4. 148\n",
       "5. 153\n",
       "6. 135\n",
       "7. 170\n",
       "8. 172\n",
       "9. 157\n",
       "10. 176\n",
       "11. 169\n",
       "12. 176\n",
       "13. 143\n",
       "14. 162\n",
       "15. 154\n",
       "16. 159\n",
       "17. 160\n",
       "18. 153\n",
       "19. 163\n",
       "20. 151\n",
       "21. 158\n",
       "22. 163\n",
       "23. 159\n",
       "24. 173\n",
       "25. 162\n",
       "26. 180\n",
       "27. 187\n",
       "28. 184\n",
       "29. 191\n",
       "30. 182\n",
       "31. 196\n",
       "32. 194\n",
       "33. 196\n",
       "34. 206\n",
       "35. 124\n",
       "36. 173\n",
       "37. 182\n",
       "38. 193\n",
       "39. 192\n",
       "40. 183\n",
       "41. 185\n",
       "42. 171\n",
       "43. 180\n",
       "44. 194\n",
       "45. 204\n",
       "46. 191\n",
       "47. 189\n",
       "48. 190\n",
       "49. 166\n",
       "50. 182\n",
       "51. 196\n",
       "52. 197\n",
       "53. 203\n",
       "54. 200\n",
       "55. 197\n",
       "56. 172\n",
       "57. 167\n",
       "58. 169\n",
       "59. 120\n",
       "60. 200\n",
       "61. 167\n",
       "62. 187\n",
       "63. 184\n",
       "64. 188\n",
       "65. 181\n",
       "66. 172\n",
       "67. 173\n",
       "68. 189\n",
       "69. 179\n",
       "70. 171\n",
       "71. 163\n",
       "72. 180\n",
       "73. 174\n",
       "74. 182\n",
       "75. 185\n",
       "76. 182\n",
       "77. 187\n",
       "78. 173\n",
       "79. 144\n",
       "80. 164\n",
       "81. 162\n",
       "82. 169\n",
       "83. 166\n",
       "84. 173\n",
       "85. 147\n",
       "86. 172\n",
       "87. 176\n",
       "88. 155\n",
       "89. 154\n",
       "90. 157\n",
       "91. 168\n",
       "92. 170\n",
       "93. 158\n",
       "94. 166\n",
       "95. 133\n",
       "96. 125\n",
       "97. 114\n",
       "98. 101\n",
       "99. 60\n",
       "100. 53\n",
       "101. 54\n",
       "102. 60\n",
       "103. 63\n",
       "104. 59\n",
       "105. 57\n",
       "106. 66\n",
       "107. 59\n",
       "108. 55\n",
       "109. 53\n",
       "110. 58\n",
       "111. 125\n",
       "112. 178\n",
       "113. 175\n",
       "114. 156\n",
       "115. 161\n",
       "116. 172\n",
       "117. 156\n",
       "118. 104\n",
       "119. 172\n",
       "120. 184\n",
       "121. 168\n",
       "122. 201\n",
       "123. 203\n",
       "124. 190\n",
       "125. 184\n",
       "126. 184\n",
       "127. 163\n",
       "128. 152\n",
       "129. 152\n",
       "130. 161\n",
       "131. 168\n",
       "132. 163\n",
       "133. 167\n",
       "134. 190\n",
       "135. 162\n",
       "136. 192\n",
       "137. 193\n",
       "138. 206\n",
       "139. 213\n",
       "140. 213\n",
       "141. 194\n",
       "142. 214\n",
       "143. 195\n",
       "144. 199\n",
       "145. 180\n",
       "146. 199\n",
       "147. 209\n",
       "148. 192\n",
       "149. 208\n",
       "150. 193\n",
       "151. 180\n",
       "152. 136\n",
       "153. 223\n",
       "154. 251\n",
       "155. 242\n",
       "156. 254\n",
       "157. 219\n",
       "158. 279\n",
       "159. 268\n",
       "160. 257\n",
       "161. 235\n",
       "162. 126\n",
       "163. 226\n",
       "164. 235\n",
       "165. 232\n",
       "166. 260\n",
       "167. 256\n",
       "168. 259\n",
       "169. 260\n",
       "170. 290\n",
       "171. 286\n",
       "172. 269\n",
       "173. 292\n",
       "174. 277\n",
       "175. 247\n",
       "176. 287\n",
       "177. 284\n",
       "178. 259\n",
       "179. 260\n",
       "180. 280\n",
       "181. 235\n",
       "182. 286\n",
       "183. 299\n",
       "184. 268\n",
       "185. 297\n",
       "186. 289\n",
       "187. 305\n",
       "188. 285\n",
       "189. 297\n",
       "190. 305\n",
       "191. 281\n",
       "192. 352\n",
       "193. 318\n",
       "194. 337\n",
       "195. 332\n",
       "196. 337\n",
       "197. 351\n",
       "198. 372\n",
       "199. 367\n",
       "200. 356\n",
       "201. 361\n",
       "202. 393\n",
       "203. 383\n",
       "204. 388\n",
       "205. 359\n",
       "206. 427\n",
       "207. 394\n",
       "208. 386\n",
       "209. 418\n",
       "210. 386\n",
       "211. 396\n",
       "212. 389\n",
       "213. 379\n",
       "214. 411\n",
       "215. 385\n",
       "216. 373\n",
       "217. 349\n",
       "218. 360\n",
       "219. 403\n",
       "220. 420\n",
       "221. 421\n",
       "222. 395\n",
       "223. 431\n",
       "224. 421\n",
       "225. 372\n",
       "226. 370\n",
       "227. 398\n",
       "228. 418\n",
       "229. 391\n",
       "230. 455\n",
       "231. 543\n",
       "232. 465\n",
       "233. 461\n",
       "234. 427\n",
       "235. 504\n",
       "236. 518\n",
       "237. 531\n",
       "238. 542\n",
       "239. 479\n",
       "240. 480\n",
       "241. 498\n",
       "242. 523\n",
       "243. 554\n",
       "244. 511\n",
       "245. 538\n",
       "246. 523\n",
       "247. 536\n",
       "248. 497\n",
       "249. 533\n",
       "250. 542\n",
       "251. 541\n",
       "252. 543\n",
       "253. 494\n",
       "254. 570\n",
       "255. 569\n",
       "256. 539\n",
       "257. 541\n",
       "258. 537\n",
       "259. 565\n",
       "260. 579\n",
       "261. 544\n",
       "262. 560\n",
       "263. 553\n",
       "264. 474\n",
       "265. 385\n",
       "266. 447\n",
       "267. 456\n",
       "268. 444\n",
       "269. 426\n",
       "270. 447\n",
       "271. 450\n",
       "272. 479\n",
       "273. 488\n",
       "274. 491\n",
       "275. 503\n",
       "276. 521\n",
       "277. 474\n",
       "278. 514\n",
       "279. 538\n",
       "280. 522\n",
       "281. 525\n",
       "282. 487\n",
       "283. 497\n",
       "284. 527\n",
       "285. 491\n",
       "286. 529\n",
       "287. 510\n",
       "288. 494\n",
       "289. 482\n",
       "290. 490\n",
       "291. 499\n",
       "292. 480\n",
       "293. 501\n",
       "294. 479\n",
       "295. 489\n",
       "296. 470\n",
       "297. 449\n",
       "298. 475\n",
       "299. 453\n",
       "300. 436\n",
       "301. 385\n",
       "302. 488\n",
       "303. 479\n",
       "304. 462\n",
       "305. 469\n",
       "306. 453\n",
       "307. 456\n",
       "308. 407\n",
       "309. 457\n",
       "310. 454\n",
       "311. 429\n",
       "312. 431\n",
       "313. 444\n",
       "314. 483\n",
       "315. 482\n",
       "316. 481\n",
       "317. 496\n",
       "318. 426\n",
       "319. 379\n",
       "320. 327\n",
       "321. 192\n",
       "322. 383\n",
       "323. 419\n",
       "324. 372\n",
       "325. 358\n",
       "326. 410\n",
       "327. 465\n",
       "328. 408\n",
       "329. 401\n",
       "330. 389\n",
       "331. 396\n",
       "332. 451\n",
       "333. 466\n",
       "334. 522\n",
       "335. 538\n",
       "336. 497\n",
       "337. 553\n",
       "338. 589\n",
       "339. 566\n",
       "340. 586\n",
       "341. 665\n",
       "342. 626\n",
       "343. 608\n",
       "344. 598\n",
       "345. 588\n",
       "346. 638\n",
       "347. 594\n",
       "348. 612\n",
       "349. 558\n",
       "350. 650\n",
       "351. 601\n",
       "352. 573\n",
       "353. 573\n",
       "354. 627\n",
       "355. 668\n",
       "356. 683\n",
       "357. 658\n",
       "358. 672\n",
       "359. 641\n",
       "360. 685\n",
       "361. 652\n",
       "362. 712\n",
       "363. 720\n",
       "364. 698\n",
       "365. 713\n",
       "366. 686\n",
       "367. 701\n",
       "368. 703\n",
       "369. 657\n",
       "370. 728\n",
       "371. 685\n",
       "372. 701\n",
       "373. 590\n",
       "374. 689\n",
       "375. 693\n",
       "376. 709\n",
       "377. 697\n",
       "378. 569\n",
       "379. 752\n",
       "380. 804\n",
       "381. 824\n",
       "382. 889\n",
       "383. 842\n",
       "384. 854\n",
       "385. 808\n",
       "386. 942\n",
       "387. 931\n",
       "388. 875\n",
       "389. 955\n",
       "390. 912\n",
       "391. 885\n",
       "392. 890\n",
       "393. 969\n",
       "394. 1007\n",
       "395. 1004\n",
       "396. 1029\n",
       "397. 939\n",
       "398. 1062\n",
       "399. 1157\n",
       "400. 1149\n",
       "401. 1178\n",
       "402. 1162\n",
       "403. 1128\n",
       "404. 1173\n",
       "405. 1159\n",
       "406. 1216\n",
       "407. 1247\n",
       "408. 1284\n",
       "409. 1257\n",
       "410. 1352\n",
       "411. 1275\n",
       "412. 1406\n",
       "413. 1526\n",
       "414. 1561\n",
       "415. 1581\n",
       "416. 1538\n",
       "417. 1577\n",
       "418. 1683\n",
       "419. 1757\n",
       "420. 1908\n",
       "421. 1767\n",
       "422. 1897\n",
       "423. 2046\n",
       "424. 1878\n",
       "425. 2049\n",
       "426. 2008\n",
       "427. 2063\n",
       "428. 2170\n",
       "429. 2141\n",
       "430. 2204\n",
       "431. 2154\n",
       "432. 2381\n",
       "433. 2154\n",
       "434. 2378\n",
       "435. 2499\n",
       "436. 2563\n",
       "437. 2709\n",
       "438. 2612\n",
       "439. 2650\n",
       "440. 2833\n",
       "441. 2856\n",
       "442. 3052\n",
       "443. 3064\n",
       "444. 3167\n",
       "445. 3162\n",
       "446. 3606\n",
       "\n",
       "\n"
      ],
      "text/plain": [
       "  [1]  148  163  163  148  153  135  170  172  157  176  169  176  143  162  154\n",
       " [16]  159  160  153  163  151  158  163  159  173  162  180  187  184  191  182\n",
       " [31]  196  194  196  206  124  173  182  193  192  183  185  171  180  194  204\n",
       " [46]  191  189  190  166  182  196  197  203  200  197  172  167  169  120  200\n",
       " [61]  167  187  184  188  181  172  173  189  179  171  163  180  174  182  185\n",
       " [76]  182  187  173  144  164  162  169  166  173  147  172  176  155  154  157\n",
       " [91]  168  170  158  166  133  125  114  101   60   53   54   60   63   59   57\n",
       "[106]   66   59   55   53   58  125  178  175  156  161  172  156  104  172  184\n",
       "[121]  168  201  203  190  184  184  163  152  152  161  168  163  167  190  162\n",
       "[136]  192  193  206  213  213  194  214  195  199  180  199  209  192  208  193\n",
       "[151]  180  136  223  251  242  254  219  279  268  257  235  126  226  235  232\n",
       "[166]  260  256  259  260  290  286  269  292  277  247  287  284  259  260  280\n",
       "[181]  235  286  299  268  297  289  305  285  297  305  281  352  318  337  332\n",
       "[196]  337  351  372  367  356  361  393  383  388  359  427  394  386  418  386\n",
       "[211]  396  389  379  411  385  373  349  360  403  420  421  395  431  421  372\n",
       "[226]  370  398  418  391  455  543  465  461  427  504  518  531  542  479  480\n",
       "[241]  498  523  554  511  538  523  536  497  533  542  541  543  494  570  569\n",
       "[256]  539  541  537  565  579  544  560  553  474  385  447  456  444  426  447\n",
       "[271]  450  479  488  491  503  521  474  514  538  522  525  487  497  527  491\n",
       "[286]  529  510  494  482  490  499  480  501  479  489  470  449  475  453  436\n",
       "[301]  385  488  479  462  469  453  456  407  457  454  429  431  444  483  482\n",
       "[316]  481  496  426  379  327  192  383  419  372  358  410  465  408  401  389\n",
       "[331]  396  451  466  522  538  497  553  589  566  586  665  626  608  598  588\n",
       "[346]  638  594  612  558  650  601  573  573  627  668  683  658  672  641  685\n",
       "[361]  652  712  720  698  713  686  701  703  657  728  685  701  590  689  693\n",
       "[376]  709  697  569  752  804  824  889  842  854  808  942  931  875  955  912\n",
       "[391]  885  890  969 1007 1004 1029  939 1062 1157 1149 1178 1162 1128 1173 1159\n",
       "[406] 1216 1247 1284 1257 1352 1275 1406 1526 1561 1581 1538 1577 1683 1757 1908\n",
       "[421] 1767 1897 2046 1878 2049 2008 2063 2170 2141 2204 2154 2381 2154 2378 2499\n",
       "[436] 2563 2709 2612 2650 2833 2856 3052 3064 3167 3162 3606"
      ]
     },
     "metadata": {},
     "output_type": "display_data"
    },
    {
     "data": {
      "image/png": "[encoded data removed]",
      "text/plain": [
       "plot without title"
      ]
     },
     "metadata": {},
     "output_type": "display_data"
    }
   ],
   "source": [
    "data2[,2]\n",
    "plot(data2[,2],type=\"l\")"
   ]
  },
  {
   "cell_type": "markdown",
   "metadata": {},
   "source": [
    "Veriyi sezonsal veriden ayırmak için R paketinin decompose fonksiyonunu kullanıyoruz. Decompose fonksiyonu ile veri sezonsal etkiden ve trend etkisinden arınmaktadır.Veri aylık olduğundan dolayı sıklığı 12 olarak alıyoruz. \n",
    "\n",
    "\n",
    "Ek olarak verinin ayrışma yönteminin, toplamsal ya da çarpımsal olduğunu anlamak için  type= c(\"additive\") ve type= c(\"multiplicative\") fonksiyonu kullanıyoruz.\n",
    "\n",
    "Dönemsel mevsimselliği incelemek için ise R 'ın figure fonksiyonu kullanılmaktadır."
   ]
  },
  {
   "cell_type": "markdown",
   "metadata": {},
   "source": [
    "Aşağıda zaman serisi (ts) verimize toplamsal ayrıştırma tipine decompose fonsiyonu uyguluyoruz. Böylelikle verimizdeki sezonsal ve trendsel etkiden çıkartmış oluyoruz. Plot fonksiyonu ile yaptığımız modeli grafiksel olarak gösteriyoruz. Figure fonksiyonu ile de zaman seriminizn 12 aylık sezonsal etkisini gösteriyoruz."
   ]
  },
  {
   "cell_type": "code",
   "execution_count": 50,
   "metadata": {},
   "outputs": [
    {
     "data": {
      "text/plain": [
       "$x\n",
       "    Jan  Feb  Mar  Apr  May  Jun  Jul  Aug  Sep  Oct  Nov  Dec\n",
       "1   148  163  163  148  153  135  170  172  157  176  169  176\n",
       "2   143  162  154  159  160  153  163  151  158  163  159  173\n",
       "3   162  180  187  184  191  182  196  194  196  206  124  173\n",
       "4   182  193  192  183  185  171  180  194  204  191  189  190\n",
       "5   166  182  196  197  203  200  197  172  167  169  120  200\n",
       "6   167  187  184  188  181  172  173  189  179  171  163  180\n",
       "7   174  182  185  182  187  173  144  164  162  169  166  173\n",
       "8   147  172  176  155  154  157  168  170  158  166  133  125\n",
       "9   114  101   60   53   54   60   63   59   57   66   59   55\n",
       "10   53   58  125  178  175  156  161  172  156  104  172  184\n",
       "11  168  201  203  190  184  184  163  152  152  161  168  163\n",
       "12  167  190  162  192  193  206  213  213  194  214  195  199\n",
       "13  180  199  209  192  208  193  180  136  223  251  242  254\n",
       "14  219  279  268  257  235  126  226  235  232  260  256  259\n",
       "15  260  290  286  269  292  277  247  287  284  259  260  280\n",
       "16  235  286  299  268  297  289  305  285  297  305  281  352\n",
       "17  318  337  332  337  351  372  367  356  361  393  383  388\n",
       "18  359  427  394  386  418  386  396  389  379  411  385  373\n",
       "19  349  360  403  420  421  395  431  421  372  370  398  418\n",
       "20  391  455  543  465  461  427  504  518  531  542  479  480\n",
       "21  498  523  554  511  538  523  536  497  533  542  541  543\n",
       "22  494  570  569  539  541  537  565  579  544  560  553  474\n",
       "23  385  447  456  444  426  447  450  479  488  491  503  521\n",
       "24  474  514  538  522  525  487  497  527  491  529  510  494\n",
       "25  482  490  499  480  501  479  489  470  449  475  453  436\n",
       "26  385  488  479  462  469  453  456  407  457  454  429  431\n",
       "27  444  483  482  481  496  426  379  327  192  383  419  372\n",
       "28  358  410  465  408  401  389  396  451  466  522  538  497\n",
       "29  553  589  566  586  665  626  608  598  588  638  594  612\n",
       "30  558  650  601  573  573  627  668  683  658  672  641  685\n",
       "31  652  712  720  698  713  686  701  703  657  728  685  701\n",
       "32  590  689  693  709  697  569  752  804  824  889  842  854\n",
       "33  808  942  931  875  955  912  885  890  969 1007 1004 1029\n",
       "34  939 1062 1157 1149 1178 1162 1128 1173 1159 1216 1247 1284\n",
       "35 1257 1352 1275 1406 1526 1561 1581 1538 1577 1683 1757 1908\n",
       "36 1767 1897 2046 1878 2049 2008 2063 2170 2141 2204 2154 2381\n",
       "37 2154 2378 2499 2563 2709 2612 2650 2833 2856 3052 3064 3167\n",
       "38 3162 3606                                                  \n",
       "\n",
       "$seasonal\n",
       "          Jan        Feb        Mar        Apr        May        Jun        Jul\n",
       "1  -34.539295  11.871585  18.195659   2.048668  16.841493 -10.221007  -2.970413\n",
       "2  -34.539295  11.871585  18.195659   2.048668  16.841493 -10.221007  -2.970413\n",
       "3  -34.539295  11.871585  18.195659   2.048668  16.841493 -10.221007  -2.970413\n",
       "4  -34.539295  11.871585  18.195659   2.048668  16.841493 -10.221007  -2.970413\n",
       "5  -34.539295  11.871585  18.195659   2.048668  16.841493 -10.221007  -2.970413\n",
       "6  -34.539295  11.871585  18.195659   2.048668  16.841493 -10.221007  -2.970413\n",
       "7  -34.539295  11.871585  18.195659   2.048668  16.841493 -10.221007  -2.970413\n",
       "8  -34.539295  11.871585  18.195659   2.048668  16.841493 -10.221007  -2.970413\n",
       "9  -34.539295  11.871585  18.195659   2.048668  16.841493 -10.221007  -2.970413\n",
       "10 -34.539295  11.871585  18.195659   2.048668  16.841493 -10.221007  -2.970413\n",
       "11 -34.539295  11.871585  18.195659   2.048668  16.841493 -10.221007  -2.970413\n",
       "12 -34.539295  11.871585  18.195659   2.048668  16.841493 -10.221007  -2.970413\n",
       "13 -34.539295  11.871585  18.195659   2.048668  16.841493 -10.221007  -2.970413\n",
       "14 -34.539295  11.871585  18.195659   2.048668  16.841493 -10.221007  -2.970413\n",
       "15 -34.539295  11.871585  18.195659   2.048668  16.841493 -10.221007  -2.970413\n",
       "16 -34.539295  11.871585  18.195659   2.048668  16.841493 -10.221007  -2.970413\n",
       "17 -34.539295  11.871585  18.195659   2.048668  16.841493 -10.221007  -2.970413\n",
       "18 -34.539295  11.871585  18.195659   2.048668  16.841493 -10.221007  -2.970413\n",
       "19 -34.539295  11.871585  18.195659   2.048668  16.841493 -10.221007  -2.970413\n",
       "20 -34.539295  11.871585  18.195659   2.048668  16.841493 -10.221007  -2.970413\n",
       "21 -34.539295  11.871585  18.195659   2.048668  16.841493 -10.221007  -2.970413\n",
       "22 -34.539295  11.871585  18.195659   2.048668  16.841493 -10.221007  -2.970413\n",
       "23 -34.539295  11.871585  18.195659   2.048668  16.841493 -10.221007  -2.970413\n",
       "24 -34.539295  11.871585  18.195659   2.048668  16.841493 -10.221007  -2.970413\n",
       "25 -34.539295  11.871585  18.195659   2.048668  16.841493 -10.221007  -2.970413\n",
       "26 -34.539295  11.871585  18.195659   2.048668  16.841493 -10.221007  -2.970413\n",
       "27 -34.539295  11.871585  18.195659   2.048668  16.841493 -10.221007  -2.970413\n",
       "28 -34.539295  11.871585  18.195659   2.048668  16.841493 -10.221007  -2.970413\n",
       "29 -34.539295  11.871585  18.195659   2.048668  16.841493 -10.221007  -2.970413\n",
       "30 -34.539295  11.871585  18.195659   2.048668  16.841493 -10.221007  -2.970413\n",
       "31 -34.539295  11.871585  18.195659   2.048668  16.841493 -10.221007  -2.970413\n",
       "32 -34.539295  11.871585  18.195659   2.048668  16.841493 -10.221007  -2.970413\n",
       "33 -34.539295  11.871585  18.195659   2.048668  16.841493 -10.221007  -2.970413\n",
       "34 -34.539295  11.871585  18.195659   2.048668  16.841493 -10.221007  -2.970413\n",
       "35 -34.539295  11.871585  18.195659   2.048668  16.841493 -10.221007  -2.970413\n",
       "36 -34.539295  11.871585  18.195659   2.048668  16.841493 -10.221007  -2.970413\n",
       "37 -34.539295  11.871585  18.195659   2.048668  16.841493 -10.221007  -2.970413\n",
       "38 -34.539295  11.871585                                                       \n",
       "          Aug        Sep        Oct        Nov        Dec\n",
       "1   -1.944512 -10.057813  10.221122  -5.782350   6.336863\n",
       "2   -1.944512 -10.057813  10.221122  -5.782350   6.336863\n",
       "3   -1.944512 -10.057813  10.221122  -5.782350   6.336863\n",
       "4   -1.944512 -10.057813  10.221122  -5.782350   6.336863\n",
       "5   -1.944512 -10.057813  10.221122  -5.782350   6.336863\n",
       "6   -1.944512 -10.057813  10.221122  -5.782350   6.336863\n",
       "7   -1.944512 -10.057813  10.221122  -5.782350   6.336863\n",
       "8   -1.944512 -10.057813  10.221122  -5.782350   6.336863\n",
       "9   -1.944512 -10.057813  10.221122  -5.782350   6.336863\n",
       "10  -1.944512 -10.057813  10.221122  -5.782350   6.336863\n",
       "11  -1.944512 -10.057813  10.221122  -5.782350   6.336863\n",
       "12  -1.944512 -10.057813  10.221122  -5.782350   6.336863\n",
       "13  -1.944512 -10.057813  10.221122  -5.782350   6.336863\n",
       "14  -1.944512 -10.057813  10.221122  -5.782350   6.336863\n",
       "15  -1.944512 -10.057813  10.221122  -5.782350   6.336863\n",
       "16  -1.944512 -10.057813  10.221122  -5.782350   6.336863\n",
       "17  -1.944512 -10.057813  10.221122  -5.782350   6.336863\n",
       "18  -1.944512 -10.057813  10.221122  -5.782350   6.336863\n",
       "19  -1.944512 -10.057813  10.221122  -5.782350   6.336863\n",
       "20  -1.944512 -10.057813  10.221122  -5.782350   6.336863\n",
       "21  -1.944512 -10.057813  10.221122  -5.782350   6.336863\n",
       "22  -1.944512 -10.057813  10.221122  -5.782350   6.336863\n",
       "23  -1.944512 -10.057813  10.221122  -5.782350   6.336863\n",
       "24  -1.944512 -10.057813  10.221122  -5.782350   6.336863\n",
       "25  -1.944512 -10.057813  10.221122  -5.782350   6.336863\n",
       "26  -1.944512 -10.057813  10.221122  -5.782350   6.336863\n",
       "27  -1.944512 -10.057813  10.221122  -5.782350   6.336863\n",
       "28  -1.944512 -10.057813  10.221122  -5.782350   6.336863\n",
       "29  -1.944512 -10.057813  10.221122  -5.782350   6.336863\n",
       "30  -1.944512 -10.057813  10.221122  -5.782350   6.336863\n",
       "31  -1.944512 -10.057813  10.221122  -5.782350   6.336863\n",
       "32  -1.944512 -10.057813  10.221122  -5.782350   6.336863\n",
       "33  -1.944512 -10.057813  10.221122  -5.782350   6.336863\n",
       "34  -1.944512 -10.057813  10.221122  -5.782350   6.336863\n",
       "35  -1.944512 -10.057813  10.221122  -5.782350   6.336863\n",
       "36  -1.944512 -10.057813  10.221122  -5.782350   6.336863\n",
       "37  -1.944512 -10.057813  10.221122  -5.782350   6.336863\n",
       "38                                                       \n",
       "\n",
       "$trend\n",
       "          Jan        Feb        Mar        Apr        May        Jun        Jul\n",
       "1          NA         NA         NA         NA         NA         NA  160.62500\n",
       "2   162.29167  161.12500  160.29167  159.79167  158.83333  158.29167  158.95833\n",
       "3   172.45833  175.62500  179.00000  182.37500  182.70833  181.25000  182.08333\n",
       "4   182.25000  181.58333  181.91667  181.62500  183.70833  187.12500  187.16667\n",
       "5   191.70833  191.50000  189.04167  186.58333  182.79167  180.33333  180.79167\n",
       "6   174.33333  174.04167  175.25000  175.83333  177.70833  178.66667  178.12500\n",
       "7   176.95833  174.70833  172.95833  172.16667  172.20833  172.04167  170.62500\n",
       "8   162.58333  163.83333  163.91667  163.62500  162.12500  158.75000  155.37500\n",
       "9   109.12500  100.12500   91.29167   82.91667   75.66667   69.66667   64.20833\n",
       "10   96.08333  104.87500  113.70833  119.41667  125.70833  135.79167  145.95833\n",
       "11  173.33333  172.58333  171.58333  173.79167  176.00000  174.95833  174.04167\n",
       "12  174.50000  179.12500  183.41667  187.37500  190.70833  193.33333  195.37500\n",
       "13  199.37500  194.79167  192.79167  195.54167  199.04167  203.29167  207.20833\n",
       "14  224.41667  230.45833  234.95833  235.70833  236.66667  237.45833  239.37500\n",
       "15  262.70833  265.75000  270.08333  272.20833  272.33333  273.37500  273.20833\n",
       "16  276.66667  279.00000  279.45833  281.91667  284.70833  288.58333  295.04167\n",
       "17  325.25000  330.79167  336.41667  342.75000  350.66667  356.41667  359.62500\n",
       "18  386.04167  388.62500  390.75000  392.25000  393.08333  392.54167  391.50000\n",
       "19  391.54167  394.33333  395.37500  393.37500  392.20833  394.62500  398.25000\n",
       "20  432.37500  439.45833  450.12500  463.91667  474.45833  480.41667  487.45833\n",
       "21  518.08333  518.54167  517.75000  517.83333  520.41667  525.62500  528.08333\n",
       "22  538.04167  542.66667  546.54167  547.75000  549.00000  546.62500  539.20833\n",
       "23  485.20833  476.25000  469.75000  464.54167  459.58333  459.45833  465.12500\n",
       "24  501.29167  505.25000  507.37500  509.08333  510.95833  510.12500  509.33333\n",
       "25  497.91667  495.20833  491.08333  487.08333  482.45833  477.66667  471.20833\n",
       "26  457.62500  453.62500  451.33333  450.79167  448.91667  447.70833  449.95833\n",
       "27  450.62500  444.08333  429.70833  415.70833  412.33333  409.45833  403.41667\n",
       "28  375.95833  381.83333  398.41667  415.62500  426.37500  436.54167  449.87500\n",
       "29  546.75000  561.70833  572.91667  582.83333  590.00000  597.12500  602.12500\n",
       "30  604.16667  610.20833  616.66667  621.00000  624.37500  629.37500  636.33333\n",
       "31  683.70833  685.91667  686.70833  689.00000  693.16667  695.66667  693.75000\n",
       "32  678.95833  685.29167  696.45833  710.12500  723.37500  736.29167  751.75000\n",
       "33  871.20833  880.33333  889.95833  900.91667  912.58333  926.62500  939.37500\n",
       "34 1046.04167 1067.95833 1087.66667 1104.29167 1123.12500 1143.87500 1167.75000\n",
       "35 1317.54167 1351.62500 1384.25000 1421.12500 1461.83333 1509.08333 1556.33333\n",
       "36 1827.50000 1873.91667 1923.75000 1968.95833 2007.20833 2043.45833 2079.29167\n",
       "37 2360.12500 2412.20833 2469.62500 2534.75000 2608.00000 2678.66667 2753.41667\n",
       "38         NA         NA                                                       \n",
       "          Aug        Sep        Oct        Nov        Dec\n",
       "1   160.37500  159.95833  160.04167  160.79167  161.83333\n",
       "2   160.50000  162.62500  165.04167  167.37500  169.87500\n",
       "3   183.45833  184.20833  184.37500  184.08333  183.37500\n",
       "4   186.04167  185.75000  186.50000  187.83333  189.79167\n",
       "5   181.04167  180.75000  179.87500  178.58333  176.50000\n",
       "6   178.20833  178.04167  177.83333  177.83333  178.12500\n",
       "7   169.08333  168.29167  166.79167  164.29167  162.25000\n",
       "8   151.04167  143.25000  134.16667  125.75000  117.54167\n",
       "9    59.87500   60.79167   68.70833   78.95833   88.00000\n",
       "10  156.70833  165.91667  169.66667  170.54167  172.08333\n",
       "11  173.54167  171.37500  169.75000  170.20833  171.50000\n",
       "12  196.29167  198.62500  200.58333  201.20833  201.29167\n",
       "13  212.16667  217.95833  223.12500  226.95833  225.29167\n",
       "14  241.54167  242.75000  244.00000  246.87500  255.54167\n",
       "15  272.00000  272.37500  272.87500  273.04167  273.75000\n",
       "16  300.62500  304.12500  308.37500  313.50000  319.20833\n",
       "17  365.08333  371.41667  376.04167  380.87500  384.25000\n",
       "18  388.29167  385.87500  387.66667  389.20833  389.70833\n",
       "19  403.95833  413.75000  421.45833  425.00000  428.00000\n",
       "20  494.75000  498.04167  500.41667  505.54167  512.75000\n",
       "21  529.87500  532.45833  534.25000  535.54167  536.25000\n",
       "22  529.54167  519.70833  511.04167  502.29167  493.75000\n",
       "23  471.62500  477.83333  484.50000  491.87500  497.66667\n",
       "24  508.66667  506.04167  502.66667  499.91667  498.58333\n",
       "25  467.08333  466.16667  464.58333  462.50000  460.08333\n",
       "26  452.20833  452.12500  453.04167  454.95833  454.95833\n",
       "27  396.79167  393.04167  389.29167  382.29167  376.79167\n",
       "28  465.45833  477.12500  488.75000  507.16667  528.04167\n",
       "29  604.87500  608.87500  609.79167  605.41667  601.62500\n",
       "30  642.83333  650.37500  660.54167  671.58333  679.87500\n",
       "31  690.20833  688.12500  687.45833  687.25000  681.70833\n",
       "32  771.37500  791.83333  808.66667  826.33333  851.37500\n",
       "33  949.83333  964.25000  985.08333 1005.79167 1025.50000\n",
       "34 1193.08333 1210.08333 1225.70833 1250.91667 1282.04167\n",
       "35 1600.29167 1655.12500 1706.91667 1748.37500 1788.79167\n",
       "36 2115.45833 2154.37500 2201.79167 2257.83333 2310.50000\n",
       "37 2846.58333         NA         NA         NA         NA\n",
       "38                                                       \n",
       "\n",
       "$random\n",
       "            Jan          Feb          Mar          Apr          May\n",
       "1            NA           NA           NA           NA           NA\n",
       "2    15.2476278  -10.9965851  -24.4873259   -2.8403351  -15.6748259\n",
       "3    24.0809612   -7.4965851  -10.1956592   -0.4236685   -8.5498259\n",
       "4    34.2892945   -0.4549185   -8.1123259   -0.6736685  -15.5498259\n",
       "5     8.8309612  -21.3715851  -11.2373259    8.3679982    3.3668408\n",
       "6    27.2059612    1.0867482   -9.4456592   10.1179982  -13.5498259\n",
       "7    31.5809612   -4.5799185   -6.1539925    7.7846649   -2.0498259\n",
       "8    18.9559612   -3.7049185   -6.1123259  -10.6736685  -24.9664925\n",
       "9    39.4142945  -10.9965851  -49.4873259  -31.9653351  -38.5081592\n",
       "10   -8.5440388  -58.7465851   -6.9039925   56.5346649   32.4501741\n",
       "11   29.2059612   16.5450815   13.2210075   14.1596649   -8.8414925\n",
       "12   27.0392945   -0.9965851  -39.6123259    2.5763315  -14.5498259\n",
       "13   15.1642945   -7.6632518   -1.9873259   -5.5903351   -7.8831592\n",
       "14   29.1226278   36.6700815   14.8460075   19.2429982  -18.5081592\n",
       "15   31.8309612   12.3784149   -2.2789925   -5.2570018    2.8251741\n",
       "16   -7.1273722   -4.8715851    1.3460075  -15.9653351   -4.5498259\n",
       "17   27.2892945   -5.6632518  -22.6123259   -7.7986685  -16.5081592\n",
       "18    7.4976278   26.5034149  -14.9456592   -8.2986685    8.0751741\n",
       "19   -8.0023722  -46.2049185  -10.5706592   24.5763315   11.9501741\n",
       "20   -6.8357055    3.6700815   74.6793408   -0.9653351  -30.2998259\n",
       "21   14.4559612   -7.4132518   18.0543408   -8.8820018    0.7418408\n",
       "22   -9.5023722   15.4617482    4.2626741  -10.7986685  -24.8414925\n",
       "23  -65.6690388  -41.1215851  -31.9456592  -22.5903351  -50.4248259\n",
       "24    7.2476278   -3.1215851   12.4293408   10.8679982   -2.7998259\n",
       "25   18.6226278  -17.0799185  -10.2789925   -9.1320018    1.7001741\n",
       "26  -38.0857055   22.5034149    9.4710075    9.1596649    3.2418408\n",
       "27   27.9142945   27.0450815   34.0960075   63.2429982   66.8251741\n",
       "28   16.5809612   16.2950815   48.3876741   -9.6736685  -42.2164925\n",
       "29   40.7892945   15.4200815  -25.1123259    1.1179982   58.1585075\n",
       "30  -11.6273722   27.9200815  -33.8623259  -50.0486685  -68.2164925\n",
       "31    2.8309612   14.2117482   15.0960075    6.9513315    2.9918408\n",
       "32  -54.4190388   -8.1632518  -21.6539925   -3.1736685  -43.2164925\n",
       "33  -28.6690388   49.7950815   22.8460075  -27.9653351   25.5751741\n",
       "34  -72.5023722  -17.8299185   51.1376741   42.6596649   38.0335075\n",
       "35  -26.0023722  -11.4965851 -127.4456592  -17.1736685   47.3251741\n",
       "36  -25.9607055   11.2117482  104.0543408  -93.0070018   24.9501741\n",
       "37 -171.5857055  -46.0799185   11.1793408   26.2013315   84.1585075\n",
       "38           NA           NA                                       \n",
       "            Jun          Jul          Aug          Sep          Oct\n",
       "1            NA   12.3454131   13.5695122    7.0994797    5.7372112\n",
       "2     4.9293408    7.0120798   -7.5554878    5.4328130  -12.2627888\n",
       "3    10.9710075   16.8870798   12.4861789   21.8494797   11.4038778\n",
       "4    -5.9039925   -4.1962535    9.9028456   28.3078130   -5.7211222\n",
       "5    29.8876741   19.1787465   -7.0971544   -3.6921870  -21.0961222\n",
       "6     3.5543408   -2.1545869   12.7361789   11.0161464  -17.0544555\n",
       "7    11.1793408  -23.6545869   -3.1388211    3.7661464   -8.0127888\n",
       "8     8.4710075   15.5954131   20.9028456   24.8078130   21.6122112\n",
       "9     0.5543408    1.7620798    1.0695122    6.2661464  -12.9294555\n",
       "10   30.4293408   18.0120798   17.2361789    0.1411464  -75.8877888\n",
       "11   19.2626741   -8.0712535  -19.5971544   -9.3171870  -18.9711222\n",
       "12   22.8876741   20.5954131   18.6528456    5.4328130    3.1955445\n",
       "13   -0.0706592  -24.2379202  -74.2221544   15.0994797   17.6538778\n",
       "14 -101.2373259  -10.4045869   -4.5971544   -0.6921870    5.7788778\n",
       "15   13.8460075  -23.2379202   16.9445122   21.6828130  -24.0961222\n",
       "16   10.6376741   12.9287465  -13.6804878    2.9328130  -13.5961222\n",
       "17   25.8043408   10.3454131   -7.1388211   -0.3588536    6.7372112\n",
       "18    3.6793408    7.4704131    2.6528456    3.1828130   13.1122112\n",
       "19   10.5960075   35.7204131   18.9861789  -31.6921870  -61.6794555\n",
       "20  -43.1956592   19.5120798   25.1945122   43.0161464   31.3622112\n",
       "21    7.5960075   10.8870798  -30.9304878   10.5994797   -2.4711222\n",
       "22    0.5960075   28.7620798   51.4028456   34.3494797   38.7372112\n",
       "23   -2.2373259  -12.1545869    9.3195122   20.2244797   -3.7211222\n",
       "24  -12.9039925   -9.3629202   20.2778456   -4.9838536   16.1122112\n",
       "25   11.5543408   20.7620798    4.8611789   -7.1088536    0.1955445\n",
       "26   15.5126741    9.0120798  -43.2638211   14.9328130   -9.2627888\n",
       "27   26.7626741  -21.4462535  -67.8471544 -190.9838536  -16.5127888\n",
       "28  -37.3206592  -50.9045869  -12.5138211   -1.0671870   23.0288778\n",
       "29   39.0960075    8.8454131   -4.9304878  -10.8171870   17.9872112\n",
       "30    7.8460075   34.6370798   42.1111789   17.6828130    1.2372112\n",
       "31    0.5543408   10.2204131   14.7361789  -21.0671870   30.3205445\n",
       "32 -157.0706592    3.2204131   34.5695122   42.2244797   70.1122112\n",
       "33   -4.4039925  -51.4045869  -57.8888211   14.8078130   11.6955445\n",
       "34   28.3460075  -36.7795869  -18.1388211  -41.0255203  -19.9294555\n",
       "35   62.1376741   27.6370798  -60.3471544  -68.0671870  -34.1377888\n",
       "36  -25.2373259  -13.3212535   56.4861789   -3.3171870   -8.0127888\n",
       "37  -56.4456592 -100.4462535  -11.6388211           NA           NA\n",
       "38                                                                 \n",
       "            Nov          Dec\n",
       "1    13.9906834    7.8298038\n",
       "2    -2.5926499   -3.2118629\n",
       "3   -54.3009833  -16.7118629\n",
       "4     6.9490167   -6.1285296\n",
       "5   -52.8009833   17.1631371\n",
       "6    -9.0509833   -4.4618629\n",
       "7     7.4906834    4.4131371\n",
       "8    13.0323501    1.1214704\n",
       "9   -14.1759833  -39.3368629\n",
       "10    7.2406834    5.5798038\n",
       "11    3.5740167  -14.8368629\n",
       "12   -0.4259833   -8.6285296\n",
       "13   20.8240167   22.3714704\n",
       "14   14.9073501   -2.8785296\n",
       "15   -7.2593166   -0.0868629\n",
       "16  -26.7176499   26.4548038\n",
       "17    7.9073501   -2.5868629\n",
       "18    1.5740167  -23.0451962\n",
       "19  -21.2176499  -16.3368629\n",
       "20  -20.7593166  -39.0868629\n",
       "21   11.2406834    0.4131371\n",
       "22   56.4906834  -26.0868629\n",
       "23   16.9073501   16.9964704\n",
       "24   15.8656834  -10.9201962\n",
       "25   -3.7176499  -30.4201962\n",
       "26  -20.1759833  -30.2951962\n",
       "27   42.4906834  -11.1285296\n",
       "28   36.6156834  -37.3785296\n",
       "29   -5.6343166    4.0381371\n",
       "30  -24.8009833   -1.2118629\n",
       "31    3.5323501   12.9548038\n",
       "32   21.4490167   -3.7118629\n",
       "33    3.9906834   -2.8368629\n",
       "34    1.8656834   -4.3785296\n",
       "35   14.4073501  112.8714704\n",
       "36  -98.0509833   64.1631371\n",
       "37           NA           NA\n",
       "38                          \n",
       "\n",
       "$figure\n",
       " [1] -34.539295  11.871585  18.195659   2.048668  16.841493 -10.221007\n",
       " [7]  -2.970413  -1.944512 -10.057813  10.221122  -5.782350   6.336863\n",
       "\n",
       "$type\n",
       "[1] \"additive\"\n",
       "\n",
       "attr(,\"class\")\n",
       "[1] \"decomposed.ts\""
      ]
     },
     "metadata": {},
     "output_type": "display_data"
    },
    {
     "data": {
      "text/html": [
       "<ol class=list-inline>\n",
       "\t<li>-34.5392945028362</li>\n",
       "\t<li>11.8715851267935</li>\n",
       "\t<li>18.1956592008675</li>\n",
       "\t<li>2.0486684601268</li>\n",
       "\t<li>16.8414925342009</li>\n",
       "\t<li>-10.2210074657991</li>\n",
       "\t<li>-2.9704131214548</li>\n",
       "\t<li>-1.94451222055388</li>\n",
       "\t<li>-10.0578130213547</li>\n",
       "\t<li>10.2211221638305</li>\n",
       "\t<li>-5.78235005839172</li>\n",
       "\t<li>6.33686290457122</li>\n",
       "</ol>\n"
      ],
      "text/latex": [
       "\\begin{enumerate*}\n",
       "\\item -34.5392945028362\n",
       "\\item 11.8715851267935\n",
       "\\item 18.1956592008675\n",
       "\\item 2.0486684601268\n",
       "\\item 16.8414925342009\n",
       "\\item -10.2210074657991\n",
       "\\item -2.9704131214548\n",
       "\\item -1.94451222055388\n",
       "\\item -10.0578130213547\n",
       "\\item 10.2211221638305\n",
       "\\item -5.78235005839172\n",
       "\\item 6.33686290457122\n",
       "\\end{enumerate*}\n"
      ],
      "text/markdown": [
       "1. -34.5392945028362\n",
       "2. 11.8715851267935\n",
       "3. 18.1956592008675\n",
       "4. 2.0486684601268\n",
       "5. 16.8414925342009\n",
       "6. -10.2210074657991\n",
       "7. -2.9704131214548\n",
       "8. -1.94451222055388\n",
       "9. -10.0578130213547\n",
       "10. 10.2211221638305\n",
       "11. -5.78235005839172\n",
       "12. 6.33686290457122\n",
       "\n",
       "\n"
      ],
      "text/plain": [
       " [1] -34.539295  11.871585  18.195659   2.048668  16.841493 -10.221007\n",
       " [7]  -2.970413  -1.944512 -10.057813  10.221122  -5.782350   6.336863"
      ]
     },
     "metadata": {},
     "output_type": "display_data"
    },
    {
     "data": {
      "image/png": "[encoded data removed]",
      "text/plain": [
       "plot without title"
      ]
     },
     "metadata": {},
     "output_type": "display_data"
    },
    {
     "data": {
      "image/png": "[encoded data removed]",
      "text/plain": [
       "plot without title"
      ]
     },
     "metadata": {},
     "output_type": "display_data"
    }
   ],
   "source": [
    "additive_model<-decompose(ts(data2[,2], freq=12),type= c(\"additive\"))\n",
    "additive_model\n",
    "plot(additive_model)\n",
    "additive_model$figure\n",
    "plot(additive_model$figure,type=\"b\")\n"
   ]
  },
  {
   "cell_type": "markdown",
   "metadata": {},
   "source": [
    "Aşağıda zaman serisi (ts) verimize çarpımsal ayrıştırma tipine decompose fonsiyonu uyguluyoruz. Böylelikle verimizdeki sezonsal ve trendsel etkiden çıkartmış oluyoruz. Plot fonksiyonu ile yaptığımız modeli grafiksel olarak gösteriyoruz. Figure fonksiyonu ile de zaman seriminizn 12 aylık sezonsal etkisini gösteriyoruz."
   ]
  },
  {
   "cell_type": "code",
   "execution_count": 51,
   "metadata": {
    "collapsed": true
   },
   "outputs": [
    {
     "data": {
      "text/plain": [
       "$x\n",
       "    Jan  Feb  Mar  Apr  May  Jun  Jul  Aug  Sep  Oct  Nov  Dec\n",
       "1   148  163  163  148  153  135  170  172  157  176  169  176\n",
       "2   143  162  154  159  160  153  163  151  158  163  159  173\n",
       "3   162  180  187  184  191  182  196  194  196  206  124  173\n",
       "4   182  193  192  183  185  171  180  194  204  191  189  190\n",
       "5   166  182  196  197  203  200  197  172  167  169  120  200\n",
       "6   167  187  184  188  181  172  173  189  179  171  163  180\n",
       "7   174  182  185  182  187  173  144  164  162  169  166  173\n",
       "8   147  172  176  155  154  157  168  170  158  166  133  125\n",
       "9   114  101   60   53   54   60   63   59   57   66   59   55\n",
       "10   53   58  125  178  175  156  161  172  156  104  172  184\n",
       "11  168  201  203  190  184  184  163  152  152  161  168  163\n",
       "12  167  190  162  192  193  206  213  213  194  214  195  199\n",
       "13  180  199  209  192  208  193  180  136  223  251  242  254\n",
       "14  219  279  268  257  235  126  226  235  232  260  256  259\n",
       "15  260  290  286  269  292  277  247  287  284  259  260  280\n",
       "16  235  286  299  268  297  289  305  285  297  305  281  352\n",
       "17  318  337  332  337  351  372  367  356  361  393  383  388\n",
       "18  359  427  394  386  418  386  396  389  379  411  385  373\n",
       "19  349  360  403  420  421  395  431  421  372  370  398  418\n",
       "20  391  455  543  465  461  427  504  518  531  542  479  480\n",
       "21  498  523  554  511  538  523  536  497  533  542  541  543\n",
       "22  494  570  569  539  541  537  565  579  544  560  553  474\n",
       "23  385  447  456  444  426  447  450  479  488  491  503  521\n",
       "24  474  514  538  522  525  487  497  527  491  529  510  494\n",
       "25  482  490  499  480  501  479  489  470  449  475  453  436\n",
       "26  385  488  479  462  469  453  456  407  457  454  429  431\n",
       "27  444  483  482  481  496  426  379  327  192  383  419  372\n",
       "28  358  410  465  408  401  389  396  451  466  522  538  497\n",
       "29  553  589  566  586  665  626  608  598  588  638  594  612\n",
       "30  558  650  601  573  573  627  668  683  658  672  641  685\n",
       "31  652  712  720  698  713  686  701  703  657  728  685  701\n",
       "32  590  689  693  709  697  569  752  804  824  889  842  854\n",
       "33  808  942  931  875  955  912  885  890  969 1007 1004 1029\n",
       "34  939 1062 1157 1149 1178 1162 1128 1173 1159 1216 1247 1284\n",
       "35 1257 1352 1275 1406 1526 1561 1581 1538 1577 1683 1757 1908\n",
       "36 1767 1897 2046 1878 2049 2008 2063 2170 2141 2204 2154 2381\n",
       "37 2154 2378 2499 2563 2709 2612 2650 2833 2856 3052 3064 3167\n",
       "38 3162 3606                                                  \n",
       "\n",
       "$seasonal\n",
       "         Jan       Feb       Mar       Apr       May       Jun       Jul\n",
       "1  0.9265918 1.0273769 1.0395306 1.0154206 1.0333317 0.9789943 1.0015305\n",
       "2  0.9265918 1.0273769 1.0395306 1.0154206 1.0333317 0.9789943 1.0015305\n",
       "3  0.9265918 1.0273769 1.0395306 1.0154206 1.0333317 0.9789943 1.0015305\n",
       "4  0.9265918 1.0273769 1.0395306 1.0154206 1.0333317 0.9789943 1.0015305\n",
       "5  0.9265918 1.0273769 1.0395306 1.0154206 1.0333317 0.9789943 1.0015305\n",
       "6  0.9265918 1.0273769 1.0395306 1.0154206 1.0333317 0.9789943 1.0015305\n",
       "7  0.9265918 1.0273769 1.0395306 1.0154206 1.0333317 0.9789943 1.0015305\n",
       "8  0.9265918 1.0273769 1.0395306 1.0154206 1.0333317 0.9789943 1.0015305\n",
       "9  0.9265918 1.0273769 1.0395306 1.0154206 1.0333317 0.9789943 1.0015305\n",
       "10 0.9265918 1.0273769 1.0395306 1.0154206 1.0333317 0.9789943 1.0015305\n",
       "11 0.9265918 1.0273769 1.0395306 1.0154206 1.0333317 0.9789943 1.0015305\n",
       "12 0.9265918 1.0273769 1.0395306 1.0154206 1.0333317 0.9789943 1.0015305\n",
       "13 0.9265918 1.0273769 1.0395306 1.0154206 1.0333317 0.9789943 1.0015305\n",
       "14 0.9265918 1.0273769 1.0395306 1.0154206 1.0333317 0.9789943 1.0015305\n",
       "15 0.9265918 1.0273769 1.0395306 1.0154206 1.0333317 0.9789943 1.0015305\n",
       "16 0.9265918 1.0273769 1.0395306 1.0154206 1.0333317 0.9789943 1.0015305\n",
       "17 0.9265918 1.0273769 1.0395306 1.0154206 1.0333317 0.9789943 1.0015305\n",
       "18 0.9265918 1.0273769 1.0395306 1.0154206 1.0333317 0.9789943 1.0015305\n",
       "19 0.9265918 1.0273769 1.0395306 1.0154206 1.0333317 0.9789943 1.0015305\n",
       "20 0.9265918 1.0273769 1.0395306 1.0154206 1.0333317 0.9789943 1.0015305\n",
       "21 0.9265918 1.0273769 1.0395306 1.0154206 1.0333317 0.9789943 1.0015305\n",
       "22 0.9265918 1.0273769 1.0395306 1.0154206 1.0333317 0.9789943 1.0015305\n",
       "23 0.9265918 1.0273769 1.0395306 1.0154206 1.0333317 0.9789943 1.0015305\n",
       "24 0.9265918 1.0273769 1.0395306 1.0154206 1.0333317 0.9789943 1.0015305\n",
       "25 0.9265918 1.0273769 1.0395306 1.0154206 1.0333317 0.9789943 1.0015305\n",
       "26 0.9265918 1.0273769 1.0395306 1.0154206 1.0333317 0.9789943 1.0015305\n",
       "27 0.9265918 1.0273769 1.0395306 1.0154206 1.0333317 0.9789943 1.0015305\n",
       "28 0.9265918 1.0273769 1.0395306 1.0154206 1.0333317 0.9789943 1.0015305\n",
       "29 0.9265918 1.0273769 1.0395306 1.0154206 1.0333317 0.9789943 1.0015305\n",
       "30 0.9265918 1.0273769 1.0395306 1.0154206 1.0333317 0.9789943 1.0015305\n",
       "31 0.9265918 1.0273769 1.0395306 1.0154206 1.0333317 0.9789943 1.0015305\n",
       "32 0.9265918 1.0273769 1.0395306 1.0154206 1.0333317 0.9789943 1.0015305\n",
       "33 0.9265918 1.0273769 1.0395306 1.0154206 1.0333317 0.9789943 1.0015305\n",
       "34 0.9265918 1.0273769 1.0395306 1.0154206 1.0333317 0.9789943 1.0015305\n",
       "35 0.9265918 1.0273769 1.0395306 1.0154206 1.0333317 0.9789943 1.0015305\n",
       "36 0.9265918 1.0273769 1.0395306 1.0154206 1.0333317 0.9789943 1.0015305\n",
       "37 0.9265918 1.0273769 1.0395306 1.0154206 1.0333317 0.9789943 1.0015305\n",
       "38 0.9265918 1.0273769                                                  \n",
       "         Aug       Sep       Oct       Nov       Dec\n",
       "1  0.9960995 0.9788122 1.0208905 0.9757074 1.0057139\n",
       "2  0.9960995 0.9788122 1.0208905 0.9757074 1.0057139\n",
       "3  0.9960995 0.9788122 1.0208905 0.9757074 1.0057139\n",
       "4  0.9960995 0.9788122 1.0208905 0.9757074 1.0057139\n",
       "5  0.9960995 0.9788122 1.0208905 0.9757074 1.0057139\n",
       "6  0.9960995 0.9788122 1.0208905 0.9757074 1.0057139\n",
       "7  0.9960995 0.9788122 1.0208905 0.9757074 1.0057139\n",
       "8  0.9960995 0.9788122 1.0208905 0.9757074 1.0057139\n",
       "9  0.9960995 0.9788122 1.0208905 0.9757074 1.0057139\n",
       "10 0.9960995 0.9788122 1.0208905 0.9757074 1.0057139\n",
       "11 0.9960995 0.9788122 1.0208905 0.9757074 1.0057139\n",
       "12 0.9960995 0.9788122 1.0208905 0.9757074 1.0057139\n",
       "13 0.9960995 0.9788122 1.0208905 0.9757074 1.0057139\n",
       "14 0.9960995 0.9788122 1.0208905 0.9757074 1.0057139\n",
       "15 0.9960995 0.9788122 1.0208905 0.9757074 1.0057139\n",
       "16 0.9960995 0.9788122 1.0208905 0.9757074 1.0057139\n",
       "17 0.9960995 0.9788122 1.0208905 0.9757074 1.0057139\n",
       "18 0.9960995 0.9788122 1.0208905 0.9757074 1.0057139\n",
       "19 0.9960995 0.9788122 1.0208905 0.9757074 1.0057139\n",
       "20 0.9960995 0.9788122 1.0208905 0.9757074 1.0057139\n",
       "21 0.9960995 0.9788122 1.0208905 0.9757074 1.0057139\n",
       "22 0.9960995 0.9788122 1.0208905 0.9757074 1.0057139\n",
       "23 0.9960995 0.9788122 1.0208905 0.9757074 1.0057139\n",
       "24 0.9960995 0.9788122 1.0208905 0.9757074 1.0057139\n",
       "25 0.9960995 0.9788122 1.0208905 0.9757074 1.0057139\n",
       "26 0.9960995 0.9788122 1.0208905 0.9757074 1.0057139\n",
       "27 0.9960995 0.9788122 1.0208905 0.9757074 1.0057139\n",
       "28 0.9960995 0.9788122 1.0208905 0.9757074 1.0057139\n",
       "29 0.9960995 0.9788122 1.0208905 0.9757074 1.0057139\n",
       "30 0.9960995 0.9788122 1.0208905 0.9757074 1.0057139\n",
       "31 0.9960995 0.9788122 1.0208905 0.9757074 1.0057139\n",
       "32 0.9960995 0.9788122 1.0208905 0.9757074 1.0057139\n",
       "33 0.9960995 0.9788122 1.0208905 0.9757074 1.0057139\n",
       "34 0.9960995 0.9788122 1.0208905 0.9757074 1.0057139\n",
       "35 0.9960995 0.9788122 1.0208905 0.9757074 1.0057139\n",
       "36 0.9960995 0.9788122 1.0208905 0.9757074 1.0057139\n",
       "37 0.9960995 0.9788122 1.0208905 0.9757074 1.0057139\n",
       "38                                                  \n",
       "\n",
       "$trend\n",
       "          Jan        Feb        Mar        Apr        May        Jun        Jul\n",
       "1          NA         NA         NA         NA         NA         NA  160.62500\n",
       "2   162.29167  161.12500  160.29167  159.79167  158.83333  158.29167  158.95833\n",
       "3   172.45833  175.62500  179.00000  182.37500  182.70833  181.25000  182.08333\n",
       "4   182.25000  181.58333  181.91667  181.62500  183.70833  187.12500  187.16667\n",
       "5   191.70833  191.50000  189.04167  186.58333  182.79167  180.33333  180.79167\n",
       "6   174.33333  174.04167  175.25000  175.83333  177.70833  178.66667  178.12500\n",
       "7   176.95833  174.70833  172.95833  172.16667  172.20833  172.04167  170.62500\n",
       "8   162.58333  163.83333  163.91667  163.62500  162.12500  158.75000  155.37500\n",
       "9   109.12500  100.12500   91.29167   82.91667   75.66667   69.66667   64.20833\n",
       "10   96.08333  104.87500  113.70833  119.41667  125.70833  135.79167  145.95833\n",
       "11  173.33333  172.58333  171.58333  173.79167  176.00000  174.95833  174.04167\n",
       "12  174.50000  179.12500  183.41667  187.37500  190.70833  193.33333  195.37500\n",
       "13  199.37500  194.79167  192.79167  195.54167  199.04167  203.29167  207.20833\n",
       "14  224.41667  230.45833  234.95833  235.70833  236.66667  237.45833  239.37500\n",
       "15  262.70833  265.75000  270.08333  272.20833  272.33333  273.37500  273.20833\n",
       "16  276.66667  279.00000  279.45833  281.91667  284.70833  288.58333  295.04167\n",
       "17  325.25000  330.79167  336.41667  342.75000  350.66667  356.41667  359.62500\n",
       "18  386.04167  388.62500  390.75000  392.25000  393.08333  392.54167  391.50000\n",
       "19  391.54167  394.33333  395.37500  393.37500  392.20833  394.62500  398.25000\n",
       "20  432.37500  439.45833  450.12500  463.91667  474.45833  480.41667  487.45833\n",
       "21  518.08333  518.54167  517.75000  517.83333  520.41667  525.62500  528.08333\n",
       "22  538.04167  542.66667  546.54167  547.75000  549.00000  546.62500  539.20833\n",
       "23  485.20833  476.25000  469.75000  464.54167  459.58333  459.45833  465.12500\n",
       "24  501.29167  505.25000  507.37500  509.08333  510.95833  510.12500  509.33333\n",
       "25  497.91667  495.20833  491.08333  487.08333  482.45833  477.66667  471.20833\n",
       "26  457.62500  453.62500  451.33333  450.79167  448.91667  447.70833  449.95833\n",
       "27  450.62500  444.08333  429.70833  415.70833  412.33333  409.45833  403.41667\n",
       "28  375.95833  381.83333  398.41667  415.62500  426.37500  436.54167  449.87500\n",
       "29  546.75000  561.70833  572.91667  582.83333  590.00000  597.12500  602.12500\n",
       "30  604.16667  610.20833  616.66667  621.00000  624.37500  629.37500  636.33333\n",
       "31  683.70833  685.91667  686.70833  689.00000  693.16667  695.66667  693.75000\n",
       "32  678.95833  685.29167  696.45833  710.12500  723.37500  736.29167  751.75000\n",
       "33  871.20833  880.33333  889.95833  900.91667  912.58333  926.62500  939.37500\n",
       "34 1046.04167 1067.95833 1087.66667 1104.29167 1123.12500 1143.87500 1167.75000\n",
       "35 1317.54167 1351.62500 1384.25000 1421.12500 1461.83333 1509.08333 1556.33333\n",
       "36 1827.50000 1873.91667 1923.75000 1968.95833 2007.20833 2043.45833 2079.29167\n",
       "37 2360.12500 2412.20833 2469.62500 2534.75000 2608.00000 2678.66667 2753.41667\n",
       "38         NA         NA                                                       \n",
       "          Aug        Sep        Oct        Nov        Dec\n",
       "1   160.37500  159.95833  160.04167  160.79167  161.83333\n",
       "2   160.50000  162.62500  165.04167  167.37500  169.87500\n",
       "3   183.45833  184.20833  184.37500  184.08333  183.37500\n",
       "4   186.04167  185.75000  186.50000  187.83333  189.79167\n",
       "5   181.04167  180.75000  179.87500  178.58333  176.50000\n",
       "6   178.20833  178.04167  177.83333  177.83333  178.12500\n",
       "7   169.08333  168.29167  166.79167  164.29167  162.25000\n",
       "8   151.04167  143.25000  134.16667  125.75000  117.54167\n",
       "9    59.87500   60.79167   68.70833   78.95833   88.00000\n",
       "10  156.70833  165.91667  169.66667  170.54167  172.08333\n",
       "11  173.54167  171.37500  169.75000  170.20833  171.50000\n",
       "12  196.29167  198.62500  200.58333  201.20833  201.29167\n",
       "13  212.16667  217.95833  223.12500  226.95833  225.29167\n",
       "14  241.54167  242.75000  244.00000  246.87500  255.54167\n",
       "15  272.00000  272.37500  272.87500  273.04167  273.75000\n",
       "16  300.62500  304.12500  308.37500  313.50000  319.20833\n",
       "17  365.08333  371.41667  376.04167  380.87500  384.25000\n",
       "18  388.29167  385.87500  387.66667  389.20833  389.70833\n",
       "19  403.95833  413.75000  421.45833  425.00000  428.00000\n",
       "20  494.75000  498.04167  500.41667  505.54167  512.75000\n",
       "21  529.87500  532.45833  534.25000  535.54167  536.25000\n",
       "22  529.54167  519.70833  511.04167  502.29167  493.75000\n",
       "23  471.62500  477.83333  484.50000  491.87500  497.66667\n",
       "24  508.66667  506.04167  502.66667  499.91667  498.58333\n",
       "25  467.08333  466.16667  464.58333  462.50000  460.08333\n",
       "26  452.20833  452.12500  453.04167  454.95833  454.95833\n",
       "27  396.79167  393.04167  389.29167  382.29167  376.79167\n",
       "28  465.45833  477.12500  488.75000  507.16667  528.04167\n",
       "29  604.87500  608.87500  609.79167  605.41667  601.62500\n",
       "30  642.83333  650.37500  660.54167  671.58333  679.87500\n",
       "31  690.20833  688.12500  687.45833  687.25000  681.70833\n",
       "32  771.37500  791.83333  808.66667  826.33333  851.37500\n",
       "33  949.83333  964.25000  985.08333 1005.79167 1025.50000\n",
       "34 1193.08333 1210.08333 1225.70833 1250.91667 1282.04167\n",
       "35 1600.29167 1655.12500 1706.91667 1748.37500 1788.79167\n",
       "36 2115.45833 2154.37500 2201.79167 2257.83333 2310.50000\n",
       "37 2846.58333         NA         NA         NA         NA\n",
       "38                                                       \n",
       "\n",
       "$random\n",
       "         Jan       Feb       Mar       Apr       May       Jun       Jul\n",
       "1         NA        NA        NA        NA        NA        NA 1.0567484\n",
       "2  0.9509362 0.9786384 0.9242139 0.9799344 0.9748518 0.9873093 1.0238589\n",
       "3  1.0137769 0.9975998 1.0049659 0.9935885 1.0116616 1.0256831 1.0747853\n",
       "4  1.0777435 1.0345501 1.0152932 0.9922691 0.9745477 0.9334351 0.9602401\n",
       "5  0.9344986 0.9250662 0.9973814 1.0397942 1.0747313 1.1328537 1.0879868\n",
       "6  1.0338264 1.0458239 1.0100027 1.0529571 0.9856688 0.9833423 0.9697439\n",
       "7  1.0611818 1.0139767 1.0289469 1.0410614 1.0508668 1.0271463 0.8426664\n",
       "8  0.9757822 1.0218717 1.0328858 0.9329021 0.9192444 1.0101962 1.0796027\n",
       "9  1.1274367 0.9818588 0.6322413 0.6294889 0.6906363 0.8797232 0.9796817\n",
       "10 0.5953048 0.5383023 1.0575002 1.4679426 1.3472067 1.1734682 1.1013689\n",
       "11 1.0460170 1.1336197 1.1381085 1.0766602 1.0117318 1.0742442 0.9351261\n",
       "12 1.0328389 1.0324466 0.8496478 1.0091218 0.9793724 1.0883794 1.0885451\n",
       "13 0.9743464 0.9943812 1.0428474 0.9669765 1.0112990 0.9697450 0.8673634\n",
       "14 1.0531751 1.1783708 1.0972527 1.0737723 0.9609284 0.5420046 0.9426826\n",
       "15 1.0680979 1.0621722 1.0186641 0.9732062 1.0376295 1.0350011 0.9026904\n",
       "16 0.9166902 0.9977736 1.0292405 0.9361988 1.0095237 1.0229312 1.0321726\n",
       "17 1.0551674 0.9916206 0.9493434 0.9682923 0.9686634 1.0661168 1.0189480\n",
       "18 1.0036258 1.0694669 0.9699737 0.9691218 1.0290865 1.0044339 1.0099485\n",
       "19 0.9619644 0.8886059 0.9805248 1.0514692 1.0387846 1.0224271 1.0805810\n",
       "20 0.9759504 1.0077757 1.1604580 0.9871133 0.9402928 0.9078825 1.0323545\n",
       "21 1.0373882 0.9817213 1.0293247 0.9718180 1.0004406 1.0163552 1.0134403\n",
       "22 0.9908835 1.0223790 1.0015018 0.9690817 0.9536415 1.0034705 1.0462312\n",
       "23 0.8563357 0.9135719 0.9338149 0.9412659 0.8970271 0.9937593 0.9660034\n",
       "24 1.0204681 0.9902093 1.0200371 1.0098007 0.9943381 0.9751517 0.9742942\n",
       "25 1.0447249 0.9631154 0.9774805 0.9704921 1.0049354 1.0243076 1.0361717\n",
       "26 0.9079513 1.0471117 1.0209415 1.0092996 1.0110377 1.0335294 1.0118785\n",
       "27 1.0633574 1.0586511 1.0790362 1.1394896 1.1641085 1.0627221 0.9380397\n",
       "28 1.0276728 1.0451538 1.1227374 0.9667463 0.9101498 0.9102145 0.8788994\n",
       "29 1.0915607 1.0206448 0.9503590 0.9901643 1.0907617 1.0708507 1.0082140\n",
       "30 0.9967563 1.0368249 0.9375334 0.9086927 0.8881153 1.0176018 1.0481601\n",
       "31 1.0291728 1.0103662 1.0086092 0.9976776 0.9954332 1.0072627 1.0089063\n",
       "32 0.9378221 0.9786197 0.9571959 0.9832534 0.9324585 0.7893729 0.9988039\n",
       "33 1.0009235 1.0415352 1.0063354 0.9564834 1.0127240 1.0053347 0.9406761\n",
       "34 0.9687867 0.9679221 1.0232936 1.0246847 1.0150266 1.0376416 0.9644840\n",
       "35 1.0296331 0.9736226 0.8860503 0.9743322 1.0102222 1.0565973 1.0142968\n",
       "36 1.0434958 0.9853426 1.0231039 0.9393190 0.9878926 1.0037320 0.9906486\n",
       "37 0.9849683 0.9595492 0.9734149 0.9957894 1.0052213 0.9960344 0.9609698\n",
       "38        NA        NA                                                  \n",
       "         Aug       Sep       Oct       Nov       Dec\n",
       "1  1.0766859 1.0027517 1.0772101 1.0772179 1.0813598\n",
       "2  0.9444939 0.9925911 0.9674195 0.9736143 1.0126099\n",
       "3  1.0616016 1.0870447 1.0944250 0.6903791 0.9380619\n",
       "4  1.0468604 1.1220235 1.0031719 1.0312632 0.9954100\n",
       "5  0.9537777 0.9439278 0.9203155 0.6886852 1.1267066\n",
       "6  1.0647093 1.0271456 0.9418978 0.9394093 1.0047850\n",
       "7  0.9737340 0.9834517 0.9925061 1.0355545 1.0601979\n",
       "8  1.1299245 1.1268421 1.2119488 1.0839869 1.0574107\n",
       "9  0.9892447 0.9579248 0.9409257 0.7658336 0.6214491\n",
       "10 1.1018783 0.9605837 0.6004234 1.0336615 1.0631745\n",
       "11 0.8793000 0.9061430 0.9290454 1.0116001 0.9450374\n",
       "12 1.0893690 0.9978573 1.0450565 0.9932740 0.9829984\n",
       "13 0.6435155 1.0452785 1.1019105 1.0928225 1.1210220\n",
       "14 0.9767267 0.9764036 1.0437689 1.0627797 1.0077750\n",
       "15 1.0592787 1.0652504 0.9297300 0.9759438 1.0170199\n",
       "16 0.9517372 0.9977114 0.9688164 0.9186481 1.0964630\n",
       "17 0.9789382 0.9929936 1.0237111 1.0306156 1.0040224\n",
       "18 1.0057471 1.0034441 1.0384945 1.0138157 0.9516882\n",
       "19 1.0462676 0.9185558 0.8599395 0.9597863 0.9710868\n",
       "20 1.0510932 1.0892547 1.0609340 0.9710888 0.9308101\n",
       "21 0.9416299 1.0226857 0.9937464 1.0353434 1.0068344\n",
       "22 1.0976798 1.0693991 1.0733776 1.1283649 0.9545458\n",
       "23 1.0196144 1.0433836 0.9926783 1.0480781 1.0409376\n",
       "24 1.0400988 0.9912788 1.0308522 1.0455696 0.9851781\n",
       "25 1.0101846 0.9840241 1.0014997 1.0038455 0.9422703\n",
       "26 0.9035519 1.0326622 0.9816090 0.9664204 0.9419572\n",
       "27 0.8273371 0.4990721 0.9637058 1.1233099 0.9816738\n",
       "28 0.9727315 0.9978249 1.0461755 1.0872063 0.9358661\n",
       "29 0.9925053 0.9866197 1.0248493 1.0055704 1.0114655\n",
       "30 1.0666442 1.0336242 0.9965289 0.9782245 1.0018139\n",
       "31 1.0225214 0.9754357 1.0373035 1.0215420 1.0224568\n",
       "32 1.0463760 1.0631488 1.0768446 1.0443287 0.9973843\n",
       "33 0.9406756 1.0266792 1.0013302 1.0230717 0.9977121\n",
       "34 0.9870167 0.9785179 0.9717784 1.0216884 0.9958374\n",
       "35 0.9648381 0.9734228 0.9658121 1.0299534 1.0605817\n",
       "36 1.0297991 1.0153037 0.9805194 0.9777644 1.0246581\n",
       "37 0.9991253        NA        NA        NA        NA\n",
       "38                                                  \n",
       "\n",
       "$figure\n",
       " [1] 0.9265918 1.0273769 1.0395306 1.0154206 1.0333317 0.9789943 1.0015305\n",
       " [8] 0.9960995 0.9788122 1.0208905 0.9757074 1.0057139\n",
       "\n",
       "$type\n",
       "[1] \"multiplicative\"\n",
       "\n",
       "attr(,\"class\")\n",
       "[1] \"decomposed.ts\""
      ]
     },
     "metadata": {},
     "output_type": "display_data"
    },
    {
     "data": {
      "text/html": [
       "<ol class=list-inline>\n",
       "\t<li>0.926591769742011</li>\n",
       "\t<li>1.02737693245784</li>\n",
       "\t<li>1.03953056843004</li>\n",
       "\t<li>1.01542061142037</li>\n",
       "\t<li>1.03333170960151</li>\n",
       "\t<li>0.978994312412538</li>\n",
       "\t<li>1.0015304902871</li>\n",
       "\t<li>0.996099526753091</li>\n",
       "\t<li>0.978812225812724</li>\n",
       "\t<li>1.0208905258123</li>\n",
       "\t<li>0.97570740011322</li>\n",
       "\t<li>1.00571392715726</li>\n",
       "</ol>\n"
      ],
      "text/latex": [
       "\\begin{enumerate*}\n",
       "\\item 0.926591769742011\n",
       "\\item 1.02737693245784\n",
       "\\item 1.03953056843004\n",
       "\\item 1.01542061142037\n",
       "\\item 1.03333170960151\n",
       "\\item 0.978994312412538\n",
       "\\item 1.0015304902871\n",
       "\\item 0.996099526753091\n",
       "\\item 0.978812225812724\n",
       "\\item 1.0208905258123\n",
       "\\item 0.97570740011322\n",
       "\\item 1.00571392715726\n",
       "\\end{enumerate*}\n"
      ],
      "text/markdown": [
       "1. 0.926591769742011\n",
       "2. 1.02737693245784\n",
       "3. 1.03953056843004\n",
       "4. 1.01542061142037\n",
       "5. 1.03333170960151\n",
       "6. 0.978994312412538\n",
       "7. 1.0015304902871\n",
       "8. 0.996099526753091\n",
       "9. 0.978812225812724\n",
       "10. 1.0208905258123\n",
       "11. 0.97570740011322\n",
       "12. 1.00571392715726\n",
       "\n",
       "\n"
      ],
      "text/plain": [
       " [1] 0.9265918 1.0273769 1.0395306 1.0154206 1.0333317 0.9789943 1.0015305\n",
       " [8] 0.9960995 0.9788122 1.0208905 0.9757074 1.0057139"
      ]
     },
     "metadata": {},
     "output_type": "display_data"
    },
    {
     "data": {
      "image/png": "[encoded data removed]",
      "text/plain": [
       "plot without title"
      ]
     },
     "metadata": {},
     "output_type": "display_data"
    },
    {
     "data": {
      "image/png": "[encoded data removed]",
      "text/plain": [
       "plot without title"
      ]
     },
     "metadata": {},
     "output_type": "display_data"
    }
   ],
   "source": [
    "multiplicative_model<-decompose(ts(data2[,2], freq=12), type= c(\"multiplicative\"))\n",
    "multiplicative_model\n",
    "plot(multiplicative_model)\n",
    "multiplicative_model$figure\n",
    "plot(multiplicative_model$figure, type=\"b\")"
   ]
  },
  {
   "cell_type": "markdown",
   "metadata": {},
   "source": [
    "Toplamsal ve çarpımsal ayrışma model grafiksel olarak  incelendiğinde random kısımlarında büyük farklılıklar gözlenmektedir.  Grafiksel olarak karar verilirse additive model dahal uygundur. Ancak doğruluğundan emin olmak için ilerleyen aşamalarda veriye arima modeli uygulayacağız. \n",
    "\n",
    "Summary fonksiyonu ile verinin özetini göstermiş olunur."
   ]
  },
  {
   "cell_type": "markdown",
   "metadata": {},
   "source": [
    "Aşağıda asıl verimize, toplamsal ayrıştırma sezonsal ve trendsel etkiden ayrılmış verimize, çarpımsal ayrıştırma ile sezonsal ve trendsel etkiden ayrılmış verimizin özetlerini görüyoruz."
   ]
  },
  {
   "cell_type": "code",
   "execution_count": 52,
   "metadata": {},
   "outputs": [
    {
     "data": {
      "text/plain": [
       "   Min. 1st Qu.  Median    Mean 3rd Qu.    Max. \n",
       "   53.0   185.5   390.0   539.2   563.8  3606.0 "
      ]
     },
     "metadata": {},
     "output_type": "display_data"
    },
    {
     "data": {
      "text/plain": [
       "     Min.   1st Qu.    Median      Mean   3rd Qu.      Max. \n",
       "-190.9838  -12.0257    0.9057   -1.0926   15.3770  112.8715 "
      ]
     },
     "metadata": {},
     "output_type": "display_data"
    },
    {
     "data": {
      "text/plain": [
       "   Min. 1st Qu.  Median    Mean 3rd Qu.    Max. \n",
       " 0.4991  0.9697  1.0046  0.9970  1.0395  1.4679 "
      ]
     },
     "metadata": {},
     "output_type": "display_data"
    }
   ],
   "source": [
    "summary(data2[,2])\n",
    "summary(na.omit(additive_model$random))\n",
    "summary(na.omit(multiplicative_model$random))"
   ]
  },
  {
   "cell_type": "markdown",
   "metadata": {},
   "source": [
    "Verinin normalliğini kontrol etmek için shapiro.test fonksiyonu kullanılmaktadır.P değeri testen ne kadar emin olduğunu göstermektedir. W değeri 1 değerine ne kadar yakınsa veri normalliğe o derece yakındır."
   ]
  },
  {
   "cell_type": "markdown",
   "metadata": {},
   "source": [
    "Shapiro testini toplumsal ve çarpımsal ayrışma modeline uygulanır."
   ]
  },
  {
   "cell_type": "code",
   "execution_count": 53,
   "metadata": {},
   "outputs": [
    {
     "data": {
      "text/plain": [
       "\n",
       "\tShapiro-Wilk normality test\n",
       "\n",
       "data:  na.omit(additive_model$random)\n",
       "W = 0.90008, p-value = 2.956e-16\n"
      ]
     },
     "metadata": {},
     "output_type": "display_data"
    },
    {
     "data": {
      "text/plain": [
       "\n",
       "\tShapiro-Wilk normality test\n",
       "\n",
       "data:  na.omit(multiplicative_model$random)\n",
       "W = 0.80709, p-value < 2.2e-16\n"
      ]
     },
     "metadata": {},
     "output_type": "display_data"
    }
   ],
   "source": [
    "shapiro.test(na.omit(additive_model$random))\n",
    "shapiro.test(na.omit(multiplicative_model$random))"
   ]
  },
  {
   "cell_type": "markdown",
   "metadata": {},
   "source": [
    "Toplamsal ve çarpımsal ayrışma modeline uygulanan normallik testi incellendiğinde p değerlerinin oldukça küçük olduğunu görüyoruz. Yaptığımız iki testte de oldukça eminiz. W değeri incelendiğin de ise toplamsal modelin 1 daha yakın olduğu görülmektedir. Verimiz normaldir, diyebiliriz."
   ]
  },
  {
   "cell_type": "markdown",
   "metadata": {},
   "source": [
    "Zaman serisiyle bu serinin gecikmeli serileri arasındaki ilişkiyi göstermek için R'ın acf ve pacf fonksiyonunu toplamsal ve çarpımsal ayrışma modeline uygulanır."
   ]
  },
  {
   "cell_type": "markdown",
   "metadata": {},
   "source": [
    "ACF eğer çok yüksek bir değerden başlayıp çok yavaş küçülüyorsa, bu serinin durağan olmadığının bir göstergesidir."
   ]
  },
  {
   "cell_type": "code",
   "execution_count": 54,
   "metadata": {
    "collapsed": true
   },
   "outputs": [
    {
     "data": {
      "image/png": "[encoded data removed]",
      "text/plain": [
       "Plot with title \"Series  na.omit(additive_model$random)\""
      ]
     },
     "metadata": {},
     "output_type": "display_data"
    },
    {
     "data": {
      "image/png": "[encoded data removed]",
      "text/plain": [
       "Plot with title \"Series  na.omit(multiplicative_model$random)\""
      ]
     },
     "metadata": {},
     "output_type": "display_data"
    }
   ],
   "source": [
    "acf(na.omit(additive_model$random))\n",
    "acf(na.omit(multiplicative_model$random))"
   ]
  },
  {
   "cell_type": "code",
   "execution_count": 55,
   "metadata": {
    "collapsed": true
   },
   "outputs": [
    {
     "data": {
      "image/png": "[encoded data removed]",
      "text/plain": [
       "Plot with title \"Series  na.omit(additive_model$random)\""
      ]
     },
     "metadata": {},
     "output_type": "display_data"
    },
    {
     "data": {
      "image/png": "[encoded data removed]",
      "text/plain": [
       "Plot with title \"Series  na.omit(multiplicative_model$random)\""
      ]
     },
     "metadata": {},
     "output_type": "display_data"
    }
   ],
   "source": [
    "pacf(na.omit(additive_model$random))\n",
    "pacf(na.omit(multiplicative_model$random))"
   ]
  },
  {
   "cell_type": "code",
   "execution_count": 56,
   "metadata": {
    "collapsed": true
   },
   "outputs": [
    {
     "data": {
      "image/png": "[encoded data removed]",
      "text/plain": [
       "Plot with title \"Histogram of na.omit(additive_model$random)\""
      ]
     },
     "metadata": {},
     "output_type": "display_data"
    }
   ],
   "source": [
    "hist(na.omit(additive_model$random))"
   ]
  },
  {
   "cell_type": "markdown",
   "metadata": {},
   "source": [
    "Veride durağanlık durumunu belirlemek için sırasıyla ;Augmented Dickey-Fuller Test- Kwiatkowski-Phillips-Schmidt-Shin (KPSS) Test - Phillips–Perron Birim Kök Testi uygulanır."
   ]
  },
  {
   "cell_type": "markdown",
   "metadata": {},
   "source": [
    "##### Augmented Dickey Fuller Test\n",
    "İlk olarak Augmented Dickey Fuller testini verinin bileşenlerden ayrılmamış haline, toplamsal ve çarpımsal ayrışma modellerine sırasıyla uyguluyarak verinin durağanlığını kontrol ediyoruz. ADF testini R içinde bulunan adf.test fonksiyonu ile elde edebiliriz."
   ]
  },
  {
   "cell_type": "code",
   "execution_count": 58,
   "metadata": {},
   "outputs": [
    {
     "name": "stderr",
     "output_type": "stream",
     "text": [
      "Warning message in adf.test(data2[, 2]):\n",
      "\"p-value greater than printed p-value\""
     ]
    },
    {
     "data": {
      "text/plain": [
       "\n",
       "\tAugmented Dickey-Fuller Test\n",
       "\n",
       "data:  data2[, 2]\n",
       "Dickey-Fuller = 6.9986, Lag order = 7, p-value = 0.99\n",
       "alternative hypothesis: stationary\n"
      ]
     },
     "metadata": {},
     "output_type": "display_data"
    },
    {
     "name": "stderr",
     "output_type": "stream",
     "text": [
      "Warning message in adf.test(na.omit(additive_model$random)):\n",
      "\"p-value smaller than printed p-value\""
     ]
    },
    {
     "data": {
      "text/plain": [
       "\n",
       "\tAugmented Dickey-Fuller Test\n",
       "\n",
       "data:  na.omit(additive_model$random)\n",
       "Dickey-Fuller = -9.7154, Lag order = 7, p-value = 0.01\n",
       "alternative hypothesis: stationary\n"
      ]
     },
     "metadata": {},
     "output_type": "display_data"
    },
    {
     "name": "stderr",
     "output_type": "stream",
     "text": [
      "Warning message in adf.test(na.omit(multiplicative_model$random)):\n",
      "\"p-value smaller than printed p-value\""
     ]
    },
    {
     "data": {
      "text/plain": [
       "\n",
       "\tAugmented Dickey-Fuller Test\n",
       "\n",
       "data:  na.omit(multiplicative_model$random)\n",
       "Dickey-Fuller = -8.2286, Lag order = 7, p-value = 0.01\n",
       "alternative hypothesis: stationary\n"
      ]
     },
     "metadata": {},
     "output_type": "display_data"
    }
   ],
   "source": [
    "adf.test(data2[,2])\n",
    "adf.test(na.omit(additive_model$random))\n",
    "adf.test(na.omit(multiplicative_model$random))"
   ]
  },
  {
   "cell_type": "markdown",
   "metadata": {},
   "source": [
    "Yapılan ADF testteki sonuçlar:\n",
    "\n",
    "p değeri bileşenlerden ayrılmamış  veri için :0.99\n",
    "\n",
    "p değeri additive modeli için :0.01\n",
    "\n",
    "p değeri multiplicative modeli için :0.01   çıkmıştır.\n",
    "\n",
    "Additive ve multiplicative modeline göre veri durağandır."
   ]
  },
  {
   "cell_type": "markdown",
   "metadata": {},
   "source": [
    "##### Kwiatkowski-Phillips-Schmidt-Shin (KPSS) Test\n",
    "İlk olarak  Kwiatkowski-Phillips-Schmidt-Shin (KPSS) Test testini verinin bileşenlerden ayrılmamış haline, toplamsal ve çarpımsal ayrışma modellerine sırasıyla uyguluyarak verinin durağanlığını kontrol ediyoruz. KPSS testini R içinde bulunan kpss.test fonksiyonu ile elde edebiliriz."
   ]
  },
  {
   "cell_type": "code",
   "execution_count": 60,
   "metadata": {},
   "outputs": [
    {
     "name": "stderr",
     "output_type": "stream",
     "text": [
      "Warning message in kpss.test(data2[, 2], null = \"Trend\"):\n",
      "\"p-value smaller than printed p-value\""
     ]
    },
    {
     "data": {
      "text/plain": [
       "\n",
       "\tKPSS Test for Trend Stationarity\n",
       "\n",
       "data:  data2[, 2]\n",
       "KPSS Trend = 1.0851, Truncation lag parameter = 4, p-value = 0.01\n"
      ]
     },
     "metadata": {},
     "output_type": "display_data"
    },
    {
     "name": "stderr",
     "output_type": "stream",
     "text": [
      "Warning message in kpss.test(na.omit(additive_model$random), null = \"Trend\"):\n",
      "\"p-value greater than printed p-value\""
     ]
    },
    {
     "data": {
      "text/plain": [
       "\n",
       "\tKPSS Test for Trend Stationarity\n",
       "\n",
       "data:  na.omit(additive_model$random)\n",
       "KPSS Trend = 0.036044, Truncation lag parameter = 4, p-value = 0.1\n"
      ]
     },
     "metadata": {},
     "output_type": "display_data"
    },
    {
     "name": "stderr",
     "output_type": "stream",
     "text": [
      "Warning message in kpss.test(na.omit(multiplicative_model$random), null = \"Trend\"):\n",
      "\"p-value greater than printed p-value\""
     ]
    },
    {
     "data": {
      "text/plain": [
       "\n",
       "\tKPSS Test for Trend Stationarity\n",
       "\n",
       "data:  na.omit(multiplicative_model$random)\n",
       "KPSS Trend = 0.016544, Truncation lag parameter = 4, p-value = 0.1\n"
      ]
     },
     "metadata": {},
     "output_type": "display_data"
    }
   ],
   "source": [
    "kpss.test(data2[,2], null=\"Trend\")\n",
    "kpss.test(na.omit(additive_model$random), null=\"Trend\")\n",
    "kpss.test(na.omit(multiplicative_model$random), null=\"Trend\")"
   ]
  },
  {
   "cell_type": "markdown",
   "metadata": {},
   "source": [
    "Yapılan KPSS testteki sonuçlar:\n",
    "\n",
    "p değeri mevsimsellikten arındırılmamış veri için :0.01 \n",
    "\n",
    "p değeri additive modeli için :0.1\n",
    "\n",
    "p değeri multiplicative modeli için :0.1   çıkmıştır.\n",
    "\n",
    "Additive ve multiplicative modeline göre veri durağandır."
   ]
  },
  {
   "cell_type": "markdown",
   "metadata": {},
   "source": [
    "##### Phillips–Perron Birim Kök Testi\n",
    "Phillips–Perron Birim Kök Testi testini verinin bileşenlerden ayrılmamış haline, toplamsal ve çarpımsal ayrışma modellerine sırasıyla uyguluyarak verinin durağanlığını kontrol ediyoruz. Phillips–Perron Birim Kök testini R içinde bulunan pp.test fonksiyonu ile elde edebiliriz."
   ]
  },
  {
   "cell_type": "code",
   "execution_count": 63,
   "metadata": {},
   "outputs": [
    {
     "name": "stderr",
     "output_type": "stream",
     "text": [
      "Warning message in pp.test(data2[, 2]):\n",
      "\"p-value greater than printed p-value\""
     ]
    },
    {
     "data": {
      "text/plain": [
       "\n",
       "\tPhillips-Perron Unit Root Test\n",
       "\n",
       "data:  data2[, 2]\n",
       "Dickey-Fuller Z(alpha) = 17.551, Truncation lag parameter = 5, p-value\n",
       "= 0.99\n",
       "alternative hypothesis: stationary\n"
      ]
     },
     "metadata": {},
     "output_type": "display_data"
    },
    {
     "name": "stderr",
     "output_type": "stream",
     "text": [
      "Warning message in pp.test(na.omit(additive_model$random)):\n",
      "\"p-value smaller than printed p-value\""
     ]
    },
    {
     "data": {
      "text/plain": [
       "\n",
       "\tPhillips-Perron Unit Root Test\n",
       "\n",
       "data:  na.omit(additive_model$random)\n",
       "Dickey-Fuller Z(alpha) = -280.28, Truncation lag parameter = 5, p-value\n",
       "= 0.01\n",
       "alternative hypothesis: stationary\n"
      ]
     },
     "metadata": {},
     "output_type": "display_data"
    },
    {
     "name": "stderr",
     "output_type": "stream",
     "text": [
      "Warning message in pp.test(na.omit(multiplicative_model$random)):\n",
      "\"p-value smaller than printed p-value\""
     ]
    },
    {
     "data": {
      "text/plain": [
       "\n",
       "\tPhillips-Perron Unit Root Test\n",
       "\n",
       "data:  na.omit(multiplicative_model$random)\n",
       "Dickey-Fuller Z(alpha) = -196.72, Truncation lag parameter = 5, p-value\n",
       "= 0.01\n",
       "alternative hypothesis: stationary\n"
      ]
     },
     "metadata": {},
     "output_type": "display_data"
    }
   ],
   "source": [
    "pp.test(data2[,2])\n",
    "pp.test(na.omit(additive_model$random))\n",
    "pp.test(na.omit(multiplicative_model$random))"
   ]
  },
  {
   "cell_type": "markdown",
   "metadata": {},
   "source": [
    "Yapılan Phillips-Person testteki sonuçlar:\n",
    "\n",
    "p değeri mevsimsellikten arındırılmamış veri için :0.99\n",
    "\n",
    "p değeri additive modeli için :0.01\n",
    "\n",
    "p değeri multiplicative modeli için :0.01   çıkmıştır. \n",
    "\n",
    "Additive ve multiplicative modeline göre veri durağandır."
   ]
  },
  {
   "cell_type": "markdown",
   "metadata": {},
   "source": [
    "##### Arima"
   ]
  },
  {
   "cell_type": "markdown",
   "metadata": {},
   "source": [
    "R'da olan auto.arima fonksiyonu ile verinin kalan sezonsal, trend ve diğer etkenleri kontrol eder ve onlardan arındırır. \n",
    "Veriye auto.arima uygulandığında AIC , BIC ve AICc değerlerinin en düşük olanı analiz  için daha kabul edilebilir bir değer almaktadır. ARIMA için p,d,q fonksiyonları ile verinin karmaşıklığı fark edilir ve en sade , en kolay model seçilir."
   ]
  },
  {
   "cell_type": "code",
   "execution_count": 67,
   "metadata": {},
   "outputs": [
    {
     "data": {
      "text/plain": [
       "Series: ts(data2[, 2]) \n",
       "ARIMA(0,2,2) \n",
       "\n",
       "Coefficients:\n",
       "          ma1     ma2\n",
       "      -1.4603  0.5198\n",
       "s.e.   0.0439  0.0435\n",
       "\n",
       "sigma^2 estimated as 2159:  log likelihood=-2335.03\n",
       "AIC=4676.06   AICc=4676.11   BIC=4688.35"
      ]
     },
     "metadata": {},
     "output_type": "display_data"
    },
    {
     "data": {
      "text/plain": [
       "Series: ts(na.omit(additive_model$random), start = c(1981, 1), end = c(2018,      1), freq = 12) \n",
       "ARIMA(2,0,1) with non-zero mean \n",
       "\n",
       "Coefficients:\n",
       "         ar1      ar2      ma1     mean\n",
       "      1.0579  -0.3104  -0.8928  -1.0126\n",
       "s.e.  0.0519   0.0456   0.0314   0.6058\n",
       "\n",
       "sigma^2 estimated as 885.3:  log likelihood=-2139.52\n",
       "AIC=4289.03   AICc=4289.17   BIC=4309.52"
      ]
     },
     "metadata": {},
     "output_type": "display_data"
    },
    {
     "data": {
      "text/plain": [
       "Series: ts(na.omit(multiplicative_model$random), start = c(1981, 1),      end = c(2018, 1), freq = 12) \n",
       "ARIMA(2,0,3)(0,0,1)[12] with non-zero mean \n",
       "\n",
       "Coefficients:\n",
       "         ar1      ar2      ma1     ma2     ma3     sma1    mean\n",
       "      1.5297  -0.8885  -1.0847  0.3008  0.2076  -0.1940  0.9973\n",
       "s.e.  0.0499   0.0461   0.0736  0.0774  0.0615   0.0509  0.0034\n",
       "\n",
       "sigma^2 estimated as 0.005781:  log likelihood=518.12\n",
       "AIC=-1020.24   AICc=-1019.91   BIC=-987.46"
      ]
     },
     "metadata": {},
     "output_type": "display_data"
    }
   ],
   "source": [
    "auto.arima(ts(data2[,2]))\n",
    "auto.arima(ts(na.omit(additive_model$random), start=c(1981, 1), end=c(2018, 1), freq=12))\n",
    "auto.arima(ts(na.omit(multiplicative_model$random), start=c(1981, 1), end=c(2018, 1), freq=12))"
   ]
  },
  {
   "cell_type": "markdown",
   "metadata": {},
   "source": [
    "Veriye, son(şubat ayı) verisi eklenemden önce arima modeli uyguladığımda sonuç aşağıdaki gibi olmuştur.\n",
    "\n",
    "Verinin hiçbir bileşenden ayrılmadığı durumda auto.arima uygulandığında p =0 , d= 2 ve q=2 çıkmaktadır. d=2 olması verinin \n",
    "durağan olmadığını gösterir. \n",
    "\n",
    "Verinin toplamsal ayrışma modeline auto.arima uygulandığında p= 2 , d=0 ve q=1 çıkmaktadır. d=0 veri durağandır.\n",
    "\n",
    "Verilerde çarpımsal modele auto.arima uygulandığında p= 2 , d=0 ve q=3 çıkmaktadır. d=0 veri durağandır.\n",
    "\n",
    "Hangi ayrışma modelini seçmemiz gerektiğine karar vermek için ilk olarak p,d,q değerlerini karşılaştırmak gerekmektedir. Verinin durağan modeli seçilmesi gerektiğinden hiçbir bileşenden ayrılmadığı model elenir. Toplamsal ve çarpımsal  model karşılaştırıldığında toplamsal modelin daha basit olduğu görülür. İkinci olarak ( Seçtiğimiz modelin doğruluğundan emin olmak için ) auto.arima nın bize vermiş olduğu AIC,AICc ve BIC değerlerinin en küçük olanı seçilmesi gerekmektedir. Ayrışma modelleri için incelendiğinde toplamsal modelin daha uygun olduğu görülmektedir. \n",
    ".\n",
    "Formülü : \n",
    "\n",
    " $$ \\hat Y_{d_t} =1.0579 Y_{t-1} -0.3104 Y_{t-2}+E$$\n",
    " \n",
    " d=0 olduğunda orijinal seri zaten durağandır ve farkının alınmasına da gerek yoktur."
   ]
  },
  {
   "cell_type": "markdown",
   "metadata": {},
   "source": [
    "Aşağıda her ay güncellenen verimizde şubat ayı eklendiği şekline arima modeli uygulayacağız."
   ]
  },
  {
   "cell_type": "code",
   "execution_count": 68,
   "metadata": {},
   "outputs": [
    {
     "data": {
      "text/plain": [
       "Series: ts(data2[, 2]) \n",
       "ARIMA(0,2,2) \n",
       "\n",
       "Coefficients:\n",
       "          ma1     ma2\n",
       "      -1.4603  0.5198\n",
       "s.e.   0.0439  0.0435\n",
       "\n",
       "sigma^2 estimated as 2159:  log likelihood=-2335.03\n",
       "AIC=4676.06   AICc=4676.11   BIC=4688.35"
      ]
     },
     "metadata": {},
     "output_type": "display_data"
    },
    {
     "data": {
      "text/plain": [
       "Series: ts(na.omit(additive_model$random)) \n",
       "ARIMA(2,0,1) with non-zero mean \n",
       "\n",
       "Coefficients:\n",
       "         ar1      ar2      ma1     mean\n",
       "      1.0680  -0.3148  -0.9066  -0.8773\n",
       "s.e.  0.0516   0.0466   0.0291   0.5558\n",
       "\n",
       "sigma^2 estimated as 902.4:  log likelihood=-2090.78\n",
       "AIC=4191.55   AICc=4191.69   BIC=4211.92"
      ]
     },
     "metadata": {},
     "output_type": "display_data"
    },
    {
     "data": {
      "text/plain": [
       "Series: ts(na.omit(multiplicative_model$random)) \n",
       "ARIMA(2,0,1) with non-zero mean \n",
       "\n",
       "Coefficients:\n",
       "         ar1      ar2      ma1    mean\n",
       "      1.3402  -0.5220  -0.8800  0.9967\n",
       "s.e.  0.0704   0.0408   0.0793  0.0025\n",
       "\n",
       "sigma^2 estimated as 0.006167:  log likelihood=490.07\n",
       "AIC=-970.14   AICc=-970   BIC=-949.78"
      ]
     },
     "metadata": {},
     "output_type": "display_data"
    }
   ],
   "source": [
    "auto.arima(ts(data2[,2]))\n",
    "auto.arima(ts(na.omit(additive_model$random)))\n",
    "auto.arima(ts(na.omit(multiplicative_model$random)))"
   ]
  },
  {
   "cell_type": "markdown",
   "metadata": {},
   "source": [
    "Ancak her ay güncellenen veride, yani şubat ayı eklenen veriye arima modeli uygulandığında sonuç aşağıdaki gibi olmuştur.\n",
    "\n",
    "Verinin hiçbir bileşenden ayrılmadığı durumda auto.arima uygulandığında p =0 , d= 2 ve q=2 çıkmaktadır. d=2 olması verinin \n",
    "durağan olmadığını gösterir. \n",
    "\n",
    "Verinin toplamsal ayrışma modeline auto.arima uygulandığında p= 2 , d=0 ve q=1 çıkmaktadır. d=0 veri durağandır.\n",
    "\n",
    "Verilerde çarpımsal modele auto.arima uygulandığında p= 2 , d=0 ve q=1 çıkmaktadır. d=0 veri durağandır.\n",
    "\n",
    "Hangi ayrışma modelini seçmemiz gerektiğine karar vermek için ilk olarak p,d,q değerlerini karşılaştırmak gerekmektedir. Verinin durağan modeli seçilmesi gerektiğinden hiçbir bileşenden ayrılmadığı model elenir. Toplamsal ve çarpımsal  model karşılaştırıldığında toplamsal modelin eşit olduğu görülür. İkinci olarak ( Seçtiğimiz modelin doğruluğundan emin olmak için ) auto.arima nın bize vermiş olduğu AIC,AICc ve BIC değerlerinin en küçük olanı seçilmesi gerekmektedir. \n",
    "\n",
    "Geri sapmalardan en düşük olanını yani toplamsal modeli seçersek:\n",
    "\n",
    "Formülü : \n",
    "\n",
    " $$ \\hat Y_{d_t} =1.0680 Y_{t-1}+-0.3148 Y_{t-2} +  E$$\n",
    " \n",
    " d=0 olduğunda orijinal seri zaten durağandır ve farkının alınmasına da gerek yoktur."
   ]
  },
  {
   "cell_type": "markdown",
   "metadata": {},
   "source": [
    "Bu durumda iki arima modelini karşılaştırırsak anlayacağımız, veride bir değerin (bir aylık verinin) dahi modeli değiştirebildiğini görmüş bulunmaktayız."
   ]
  },
  {
   "cell_type": "markdown",
   "metadata": {},
   "source": [
    "Veride sezonsal etkinin olup olmadığını kontrol etmek için veriden hiçbir bileşenin çıkarılmadığı haline auto.arima uygulanır.Bunun için arimanın argümanlarından sseasonal.test'ten yararlanılır."
   ]
  },
  {
   "cell_type": "code",
   "execution_count": 69,
   "metadata": {},
   "outputs": [
    {
     "data": {
      "text/plain": [
       "Series: ts(data2[, 2]) \n",
       "ARIMA(0,2,2) \n",
       "\n",
       "Coefficients:\n",
       "          ma1     ma2\n",
       "      -1.4603  0.5198\n",
       "s.e.   0.0439  0.0435\n",
       "\n",
       "sigma^2 estimated as 2159:  log likelihood=-2335.03\n",
       "AIC=4676.06   AICc=4676.11   BIC=4688.35"
      ]
     },
     "metadata": {},
     "output_type": "display_data"
    },
    {
     "data": {
      "text/plain": [
       "Series: ts(data2[, 2]) \n",
       "ARIMA(0,2,2) \n",
       "\n",
       "Coefficients:\n",
       "          ma1     ma2\n",
       "      -1.4603  0.5198\n",
       "s.e.   0.0439  0.0435\n",
       "\n",
       "sigma^2 estimated as 2159:  log likelihood=-2335.03\n",
       "AIC=4676.06   AICc=4676.11   BIC=4688.35"
      ]
     },
     "metadata": {},
     "output_type": "display_data"
    }
   ],
   "source": [
    "auto.arima(ts(data2[,2]))\n",
    "auto.arima(ts(data2[,2]) ,seasonal.test = c(\"ocsb\", \"ch\"))"
   ]
  },
  {
   "cell_type": "markdown",
   "metadata": {},
   "source": [
    "Herhangi bir işlem yapılmayan veriye auto.arima ile sezonsal test uygulandığında ARIMA modelinde; p,d,q değerlerinde ve\n",
    "AIC , AICc ,BIC değerlerinde herhangi bir farklılık görünmemektedir. Bir farklı ifade ile veride sezonsal etki bulunmamaktadır."
   ]
  },
  {
   "cell_type": "markdown",
   "metadata": {},
   "source": [
    "Normallik testini seçtiğimiz toplamsal modele tekrar uygulanır."
   ]
  },
  {
   "cell_type": "code",
   "execution_count": 71,
   "metadata": {},
   "outputs": [
    {
     "data": {
      "text/plain": [
       "\n",
       "\tShapiro-Wilk normality test\n",
       "\n",
       "data:  white_noise2$residuals\n",
       "W = 0.87153, p-value < 2.2e-16\n"
      ]
     },
     "metadata": {},
     "output_type": "display_data"
    }
   ],
   "source": [
    "white_noise2<-arima(ts(na.omit(additive_model$random)), order=c(2,0,1))\n",
    "shapiro.test(white_noise2$residuals)"
   ]
  },
  {
   "cell_type": "markdown",
   "metadata": {},
   "source": [
    "Normallik testine göre p değeri oldukça düşük ve w değeri yüksektir. Artık verinin beyaz gürültü olduğunu ve veride herhangi bir \n",
    "bileşen kalmadığını söylenebilir."
   ]
  },
  {
   "cell_type": "markdown",
   "metadata": {},
   "source": [
    "# Zaman Serilerinin Mevsimsellikten Arındırılması (de-seasonalize)\n",
    "Zaman serisinin mevsimsellik deseni hakkında fikir verir ve mevsimsel etkiler olmadan verilerin modellenmesine yardımcı olur. Zaman serisini mevsimsellikten arındırmak için aşağıdaki iki adım kullanılabilir.\n",
    "1. Adım: stl() fonksiyonu ile zaman serisi ayrılır.\n",
    "2. Adım: forecast kütüphanesi içerisindeki seasadj() fonksiyonu kullanılır."
   ]
  },
  {
   "cell_type": "code",
   "execution_count": 76,
   "metadata": {},
   "outputs": [
    {
     "data": {
      "text/plain": [
       "$time.series\n",
       "           seasonal      trend     remainder\n",
       "Jan  1 -34.17510460  154.55909  2.761602e+01\n",
       "Feb  1  18.50046636  155.53373 -1.103420e+01\n",
       "Mar  1  17.12353251  156.50838 -1.063191e+01\n",
       "Apr  1   0.08428933  157.34252 -9.426810e+00\n",
       "May  1  13.90988958  158.17666 -1.908655e+01\n",
       "Jun  1 -12.85804793  158.75577 -1.089772e+01\n",
       "Jul  1  -5.03140061  159.33488  1.569652e+01\n",
       "Aug  1  -2.74570454  159.93243  1.481327e+01\n",
       "Sep  1 -11.18971890  160.52999  7.659729e+00\n",
       "Oct  1  12.43730645  161.25678  2.305915e+00\n",
       "Nov  1  -3.96267290  161.98357  1.097911e+01\n",
       "Dec  1   7.90716532  161.64270  6.450132e+00\n",
       "Jan  2 -34.17510460  161.30184  1.587327e+01\n",
       "Feb  2  18.50046636  160.49270 -1.699317e+01\n",
       "Mar  2  17.12353251  159.68357 -2.280710e+01\n",
       "Apr  2   0.08428933  159.03415 -1.184394e-01\n",
       "May  2  13.90988958  158.38474 -1.229462e+01\n",
       "Jun  2 -12.85804793  158.83234  7.025706e+00\n",
       "Jul  2  -5.03140061  159.27995  8.751452e+00\n",
       "Aug  2  -2.74570454  161.00834 -7.262639e+00\n",
       "Sep  2 -11.18971890  162.73674  6.452979e+00\n",
       "Oct  2  12.43730645  164.98819 -1.442550e+01\n",
       "Nov  2  -3.96267290  167.23965 -4.276973e+00\n",
       "Dec  2   7.90716532  169.79402 -4.701183e+00\n",
       "Jan  3 -34.17510460  172.34839  2.382672e+01\n",
       "Feb  3  18.50046636  175.50639 -1.400686e+01\n",
       "Mar  3  17.12353251  178.66440 -8.787932e+00\n",
       "Apr  3   0.08428933  180.62556  3.290152e+00\n",
       "May  3  13.90988958  182.58672 -5.496607e+00\n",
       "Jun  3 -12.85804793  183.21587  1.164218e+01\n",
       "Jul  3  -5.03140061  183.84502  1.718638e+01\n",
       "Aug  3  -2.74570454  184.04677  1.269894e+01\n",
       "Sep  3 -11.18971890  184.24852  2.294120e+01\n",
       "Oct  3  12.43730645  183.90306  9.659635e+00\n",
       "Nov  3  -3.96267290  183.55760 -5.559493e+01\n",
       "Dec  3   7.90716532  182.52224 -1.742941e+01\n",
       "Jan  4 -34.17510460  181.48688  3.468822e+01\n",
       "Feb  4  18.50046636  181.47689 -6.977354e+00\n",
       "Mar  4  17.12353251  181.46689 -6.590427e+00\n",
       "Apr  4   0.08428933  182.77958  1.361347e-01\n",
       "May  4  13.90988958  184.09226 -1.300215e+01\n",
       "Jun  4 -12.85804793  185.40092 -1.542869e+00\n",
       "Jul  4  -5.03140061  186.70958 -1.678176e+00\n",
       "Aug  4  -2.74570454  186.94071  9.804998e+00\n",
       "Sep  4 -11.18971890  187.17184  2.801788e+01\n",
       "Oct  4  12.43730645  187.81055 -9.247853e+00\n",
       "Nov  4  -3.96267290  188.44926  4.513416e+00\n",
       "Dec  4   7.90716532  189.11509 -7.022256e+00\n",
       "Jan  5 -34.17510460  189.78092  1.039418e+01\n",
       "Feb  5  18.50046636  189.25261 -2.575308e+01\n",
       "Mar  5  17.12353251  188.72430 -9.847837e+00\n",
       "Apr  5   0.08428933  186.72988  1.018583e+01\n",
       "May  5  13.90988958  184.73545  4.354663e+00\n",
       "Jun  5 -12.85804793  183.22485  2.963320e+01\n",
       "Jul  5  -5.03140061  181.71425  2.031715e+01\n",
       "Aug  5  -2.74570454  180.70649 -5.960787e+00\n",
       "Sep  5 -11.18971890  179.69873 -1.509012e+00\n",
       "Oct  5  12.43730645  178.32316 -2.176047e+01\n",
       "Nov  5  -3.96267290  176.94759 -5.298491e+01\n",
       "Dec  5   7.90716532  175.77180  1.632104e+01\n",
       "Jan  6 -34.17510460  174.59601  2.657910e+01\n",
       "Feb  6  18.50046636  175.13539 -6.635851e+00\n",
       "Mar  6  17.12353251  175.67476 -8.798296e+00\n",
       "Apr  6   0.08428933  176.68012  1.123559e+01\n",
       "May  6  13.90988958  177.68548 -1.059537e+01\n",
       "Jun  6 -12.85804793  178.06069  6.797363e+00\n",
       "Jul  6  -5.03140061  178.43589 -4.044928e-01\n",
       "Aug  6  -2.74570454  178.26537  1.348034e+01\n",
       "Sep  6 -11.18971890  178.09484  1.209488e+01\n",
       "Oct  6  12.43730645  177.97872 -1.941603e+01\n",
       "Nov  6  -3.96267290  177.86260 -1.089993e+01\n",
       "Dec  6   7.90716532  177.07587 -4.983033e+00\n",
       "Jan  7 -34.17510460  176.28913  3.188597e+01\n",
       "Feb  7  18.50046636  175.17213 -1.167260e+01\n",
       "Mar  7  17.12353251  174.05513 -6.178664e+00\n",
       "Apr  7   0.08428933  173.08255  8.833156e+00\n",
       "May  7  13.90988958  172.10998  9.801333e-01\n",
       "Jun  7 -12.85804793  171.19212  1.466592e+01\n",
       "Jul  7  -5.03140061  170.27427 -2.124287e+01\n",
       "Aug  7  -2.74570454  169.01573 -2.270028e+00\n",
       "Sep  7 -11.18971890  167.75719  5.432525e+00\n",
       "Oct  7  12.43730645  166.30804 -9.745347e+00\n",
       "Nov  7  -3.96267290  164.85889  5.103785e+00\n",
       "Dec  7   7.90716532  163.97027  1.122566e+00\n",
       "Jan  8 -34.17510460  163.08165  1.809345e+01\n",
       "Feb  8  18.50046636  163.05836 -9.558824e+00\n",
       "Mar  8  17.12353251  163.03507 -4.158598e+00\n",
       "Apr  8   0.08428933  162.13326 -7.217553e+00\n",
       "May  8  13.90988958  161.23146 -2.114135e+01\n",
       "Jun  8 -12.85804793  158.60538  1.125267e+01\n",
       "Jul  8  -5.03140061  155.97930  1.705211e+01\n",
       "Aug  8  -2.74570454  150.52669  2.221902e+01\n",
       "Sep  8 -11.18971890  145.07408  2.411564e+01\n",
       "Oct  8  12.43730645  136.61105  1.695165e+01\n",
       "Nov  8  -3.96267290  128.14801  8.814661e+00\n",
       "Dec  8   7.90716532  118.21476 -1.121930e+00\n",
       "Jan  9 -34.17510460  108.28152  3.989359e+01\n",
       "Feb  9  18.50046636   98.79306 -1.629352e+01\n",
       "Mar  9  17.12353251   89.30459 -4.642813e+01\n",
       "Apr  9   0.08428933   81.56909 -2.865338e+01\n",
       "May  9  13.90988958   73.83358 -3.374347e+01\n",
       "Jun  9 -12.85804793   68.97109  3.886957e+00\n",
       "Jul  9  -5.03140061   64.10860  3.922799e+00\n",
       "Aug  9  -2.74570454   63.99809 -2.252387e+00\n",
       "Sep  9 -11.18971890   63.88758  4.302139e+00\n",
       "Oct  9  12.43730645   69.80389 -1.624119e+01\n",
       "Nov  9  -3.96267290   75.72020 -1.275752e+01\n",
       "Dec  9   7.90716532   84.63831 -3.754548e+01\n",
       "Jan 10 -34.17510460   93.55642 -6.381320e+00\n",
       "Feb 10  18.50046636  103.05889 -6.355935e+01\n",
       "Mar 10  17.12353251  112.56135 -4.684878e+00\n",
       "Apr 10   0.08428933  121.53209  5.638362e+01\n",
       "May 10  13.90988958  130.50284  3.058727e+01\n",
       "Jun 10 -12.85804793  139.47239  2.938565e+01\n",
       "Jul 10  -5.03140061  148.44195  1.758945e+01\n",
       "Aug 10  -2.74570454  155.60632  1.913938e+01\n",
       "Sep 10 -11.18971890  162.77069  4.419032e+00\n",
       "Oct 10  12.43730645  166.28156 -7.471887e+01\n",
       "Nov 10  -3.96267290  169.79244  6.170237e+00\n",
       "Dec 10   7.90716532  171.36310  4.729738e+00\n",
       "Jan 11 -34.17510460  172.93376  2.924135e+01\n",
       "Feb 11  18.50046636  173.99488  8.504658e+00\n",
       "Mar 11  17.12353251  175.05599  1.082047e+01\n",
       "Apr 11   0.08428933  175.30510  1.461061e+01\n",
       "May 11  13.90988958  175.55421 -5.464101e+00\n",
       "Jun 11 -12.85804793  174.53406  2.232399e+01\n",
       "Jul 11  -5.03140061  173.51391 -5.482513e+00\n",
       "Aug 11  -2.74570454  172.05472 -1.730902e+01\n",
       "Sep 11 -11.18971890  170.59553 -7.405810e+00\n",
       "Oct 11  12.43730645  170.26543 -2.170273e+01\n",
       "Nov 11  -3.96267290  169.93532  2.027349e+00\n",
       "Dec 11   7.90716532  172.10146 -1.700862e+01\n",
       "Jan 12 -34.17510460  174.26759  2.690751e+01\n",
       "Feb 12  18.50046636  178.48356 -6.984025e+00\n",
       "Mar 12  17.12353251  182.69952 -3.782306e+01\n",
       "Apr 12   0.08428933  186.69475  5.220961e+00\n",
       "May 12  13.90988958  190.68998 -1.159987e+01\n",
       "Jun 12 -12.85804793  193.53935  2.531870e+01\n",
       "Jul 12  -5.03140061  196.38873  2.164267e+01\n",
       "Aug 12  -2.74570454  198.16346  1.758224e+01\n",
       "Sep 12 -11.18971890  199.93820  5.251523e+00\n",
       "Oct 12  12.43730645  200.40853  1.154168e+00\n",
       "Nov 12  -3.96267290  200.87885 -1.916181e+00\n",
       "Dec 12   7.90716532  199.38625 -8.293415e+00\n",
       "Jan 13 -34.17510460  197.89365  1.628146e+01\n",
       "Feb 13  18.50046636  196.40483 -1.590530e+01\n",
       "Mar 13  17.12353251  194.91602 -3.039555e+00\n",
       "Apr 13   0.08428933  196.27080 -4.355092e+00\n",
       "May 13  13.90988958  197.62558 -3.535473e+00\n",
       "Jun 13 -12.85804793  201.72825  4.129797e+00\n",
       "Jul 13  -5.03140061  205.83092 -2.079952e+01\n",
       "Aug 13  -2.74570454  211.31877 -7.257306e+01\n",
       "Sep 13 -11.18971890  216.80662  1.738310e+01\n",
       "Oct 13  12.43730645  221.49492  1.706777e+01\n",
       "Nov 13  -3.96267290  226.18323  1.977944e+01\n",
       "Dec 13   7.90716532  228.63073  1.746211e+01\n",
       "Jan 14 -34.17510460  231.07822  2.209688e+01\n",
       "Feb 14  18.50046636  232.54286  2.795667e+01\n",
       "Mar 14  17.12353251  234.00750  1.686897e+01\n",
       "Apr 14   0.08428933  234.47274  2.244297e+01\n",
       "May 14  13.90988958  234.93798 -1.384787e+01\n",
       "Jun 14 -12.85804793  235.83942 -9.698137e+01\n",
       "Jul 14  -5.03140061  236.74086 -5.709455e+00\n",
       "Aug 14  -2.74570454  239.11690 -1.371197e+00\n",
       "Sep 14 -11.18971890  241.49295  1.696772e+00\n",
       "Oct 14  12.43730645  246.09394  1.468754e+00\n",
       "Nov 14  -3.96267290  250.69493  9.267741e+00\n",
       "Dec 14   7.90716532  256.35191 -5.259075e+00\n",
       "Jan 15 -34.17510460  262.00889  3.216622e+01\n",
       "Feb 15  18.50046636  265.93460  5.564933e+00\n",
       "Mar 15  17.12353251  269.86031 -9.838449e-01\n",
       "Apr 15   0.08428933  271.43399 -2.518277e+00\n",
       "May 15  13.90988958  273.00766  5.082447e+00\n",
       "Jun 15 -12.85804793  273.10669  1.675136e+01\n",
       "Jul 15  -5.03140061  273.20572 -2.117432e+01\n",
       "Aug 15  -2.74570454  272.85153  1.689418e+01\n",
       "Sep 15 -11.18971890  272.49733  2.269238e+01\n",
       "Oct 15  12.43730645  272.69548 -2.613278e+01\n",
       "Nov 15  -3.96267290  272.89362 -8.930943e+00\n",
       "Dec 15   7.90716532  274.06457 -1.971732e+00\n",
       "Jan 16 -34.17510460  275.23552 -6.060413e+00\n",
       "Feb 16  18.50046636  277.43528 -9.935742e+00\n",
       "Mar 16  17.12353251  279.63503  2.241434e+00\n",
       "Apr 16   0.08428933  282.61505 -1.469934e+01\n",
       "May 16  13.90988958  285.59507 -2.504962e+00\n",
       "Jun 16 -12.85804793  290.05423  1.180382e+01\n",
       "Jul 16  -5.03140061  294.51338  1.551802e+01\n",
       "Aug 16  -2.74570454  299.34504 -1.159934e+01\n",
       "Sep 16 -11.18971890  304.17670  4.013014e+00\n",
       "Oct 16  12.43730645  308.93876 -1.637607e+01\n",
       "Nov 16  -3.96267290  313.70082 -2.873815e+01\n",
       "Dec 16   7.90716532  319.11147  2.498137e+01\n",
       "Jan 17 -34.17510460  324.52212  2.765299e+01\n",
       "Feb 17  18.50046636  330.73104 -1.223150e+01\n",
       "Mar 17  17.12353251  336.93996 -2.206349e+01\n",
       "Apr 17   0.08428933  343.20597 -6.290258e+00\n",
       "May 17  13.90988958  349.47198 -1.238187e+01\n",
       "Jun 17 -12.85804793  355.17250  2.968555e+01\n",
       "Jul 17  -5.03140061  360.87303  1.115837e+01\n",
       "Aug 17  -2.74570454  366.21333 -7.467622e+00\n",
       "Sep 17 -11.18971890  371.55363  6.360926e-01\n",
       "Oct 17  12.43730645  376.04882  4.513876e+00\n",
       "Nov 17  -3.96267290  380.54401  6.418665e+00\n",
       "Dec 17   7.90716532  383.55087 -3.458032e+00\n",
       "Jan 18 -34.17510460  386.55773  6.617379e+00\n",
       "Feb 18  18.50046636  388.69567  1.980386e+01\n",
       "Mar 18  17.12353251  390.83361 -1.395715e+01\n",
       "Apr 18   0.08428933  391.83400 -5.918292e+00\n",
       "May 18  13.90988958  392.83439  1.125572e+01\n",
       "Jun 18 -12.85804793  392.13159  6.726457e+00\n",
       "Jul 18  -5.03140061  391.42879  9.602608e+00\n",
       "Aug 18  -2.74570454  389.90361  1.842093e+00\n",
       "Sep 18 -11.18971890  388.37843  1.811289e+00\n",
       "Oct 18  12.43730645  388.01738  1.054532e+01\n",
       "Nov 18  -3.96267290  387.65633  1.306348e+00\n",
       "Dec 18   7.90716532  388.83313 -2.374030e+01\n",
       "Jan 19 -34.17510460  390.00994 -6.834839e+00\n",
       "Feb 19  18.50046636  391.58756 -5.008803e+01\n",
       "Mar 19  17.12353251  393.16517 -7.288706e+00\n",
       "Apr 19   0.08428933  394.37016  2.554555e+01\n",
       "May 19  13.90988958  395.57514  1.151497e+01\n",
       "Jun 19 -12.85804793  398.14297  9.715081e+00\n",
       "Jul 19  -5.03140061  400.71079  3.532061e+01\n",
       "Aug 19  -2.74570454  405.85875  1.788695e+01\n",
       "Sep 19 -11.18971890  411.00671 -2.781699e+01\n",
       "Oct 19  12.43730645  416.36226 -5.879956e+01\n",
       "Nov 19  -3.96267290  421.71780 -1.975513e+01\n",
       "Dec 19   7.90716532  427.56891 -1.747607e+01\n",
       "Jan 20 -34.17510460  433.42001 -8.244903e+00\n",
       "Feb 20  18.50046636  442.62357 -6.124039e+00\n",
       "Mar 20  17.12353251  451.82714  7.404933e+01\n",
       "Apr 20   0.08428933  462.52564  2.390072e+00\n",
       "May 20  13.90988958  473.22414 -2.613403e+01\n",
       "Jun 20 -12.85804793  480.85402 -4.099597e+01\n",
       "Jul 20  -5.03140061  488.48390  2.054750e+01\n",
       "Aug 20  -2.74570454  493.54637  2.719934e+01\n",
       "Sep 20 -11.18971890  498.60883  4.358089e+01\n",
       "Oct 20  12.43730645  503.03870  2.652400e+01\n",
       "Nov 20  -3.96267290  507.46856 -2.450589e+01\n",
       "Dec 20   7.90716532  511.17353 -3.908069e+01\n",
       "Jan 21 -34.17510460  514.87850  1.729661e+01\n",
       "Feb 21  18.50046636  516.44743 -1.194790e+01\n",
       "Mar 21  17.12353251  518.01636  1.886011e+01\n",
       "Apr 21   0.08428933  520.04662 -9.130905e+00\n",
       "May 21  13.90988958  522.07687  2.013240e+00\n",
       "Jun 21 -12.85804793  524.90245  1.095559e+01\n",
       "Jul 21  -5.03140061  527.72804  1.330336e+01\n",
       "Aug 21  -2.74570454  529.90058 -3.015488e+01\n",
       "Sep 21 -11.18971890  532.07312  1.211659e+01\n",
       "Oct 21  12.43730645  533.69645 -4.133752e+00\n",
       "Nov 21  -3.96267290  535.31977  9.642907e+00\n",
       "Dec 21   7.90716532  537.33455 -2.241715e+00\n",
       "Jan 22 -34.17510460  539.34933 -1.117423e+01\n",
       "Feb 22  18.50046636  542.05037  9.449161e+00\n",
       "Mar 22  17.12353251  544.75141  7.125054e+00\n",
       "Apr 22   0.08428933  546.21755 -7.301843e+00\n",
       "May 22  13.90988958  547.68369 -2.059358e+01\n",
       "Jun 22 -12.85804793  544.31078  5.547264e+00\n",
       "Jul 22  -5.03140061  540.93787  2.909353e+01\n",
       "Aug 22  -2.74570454  532.77204  4.897367e+01\n",
       "Sep 22 -11.18971890  524.60620  3.058352e+01\n",
       "Oct 22  12.43730645  514.07638  3.348632e+01\n",
       "Nov 22  -3.96267290  503.54655  5.341612e+01\n",
       "Dec 22   7.90716532  492.91618 -2.682335e+01\n",
       "Jan 23 -34.17510460  482.28581 -6.311070e+01\n",
       "Feb 23  18.50046636  473.77151 -4.527198e+01\n",
       "Mar 23  17.12353251  465.25722 -2.638075e+01\n",
       "Apr 23   0.08428933  462.12812 -1.821241e+01\n",
       "May 23  13.90988958  458.99902 -4.690891e+01\n",
       "Jun 23 -12.85804793  462.14558 -2.287530e+00\n",
       "Jul 23  -5.03140061  465.29213 -1.026073e+01\n",
       "Aug 23  -2.74570454  472.10972  9.635988e+00\n",
       "Sep 23 -11.18971890  478.92730  2.026242e+01\n",
       "Oct 23  12.43730645  485.62919 -7.066499e+00\n",
       "Nov 23  -3.96267290  492.33108  1.463159e+01\n",
       "Dec 23   7.90716532  497.25367  1.583916e+01\n",
       "Jan 24 -34.17510460  502.17627  5.998840e+00\n",
       "Feb 24  18.50046636  504.89938 -9.399850e+00\n",
       "Mar 24  17.12353251  507.62250  1.325397e+01\n",
       "Apr 24   0.08428933  508.83601  1.307970e+01\n",
       "May 24  13.90988958  510.04952  1.040591e+00\n",
       "Jun 24 -12.85804793  509.85441 -9.996366e+00\n",
       "Jul 24  -5.03140061  509.65931 -7.627909e+00\n",
       "Aug 24  -2.74570454  507.96806  2.177765e+01\n",
       "Sep 24 -11.18971890  506.27681 -4.087089e+00\n",
       "Oct 24  12.43730645  503.78992  1.277277e+01\n",
       "Nov 24  -3.96267290  501.30304  1.265964e+01\n",
       "Dec 24   7.90716532  498.95803 -1.286520e+01\n",
       "Jan 25 -34.17510460  496.61302  1.956208e+01\n",
       "Feb 25  18.50046636  493.58321 -2.208368e+01\n",
       "Mar 25  17.12353251  490.55341 -8.676940e+00\n",
       "Apr 25   0.08428933  486.55455 -6.638844e+00\n",
       "May 25  13.90988958  482.55570  4.534408e+00\n",
       "Jun 25 -12.85804793  477.98533  1.387272e+01\n",
       "Jul 25  -5.03140061  473.41496  2.061644e+01\n",
       "Aug 25  -2.74570454  469.74649  2.999210e+00\n",
       "Sep 25 -11.18971890  466.07803 -5.888312e+00\n",
       "Oct 25  12.43730645  463.37104 -8.083487e-01\n",
       "Nov 25  -3.96267290  460.66405 -3.701381e+00\n",
       "Dec 25   7.90716532  458.27494 -3.018211e+01\n",
       "Jan 26 -34.17510460  455.88583 -3.671072e+01\n",
       "Feb 26  18.50046636  454.07105  1.542848e+01\n",
       "Mar 26  17.12353251  452.25627  9.620195e+00\n",
       "Apr 26   0.08428933  451.36341  1.055230e+01\n",
       "May 26  13.90988958  450.47055  4.619564e+00\n",
       "Jun 26 -12.85804793  450.36901  1.548904e+01\n",
       "Jul 26  -5.03140061  450.26747  1.076393e+01\n",
       "Aug 26  -2.74570454  450.66837 -4.092266e+01\n",
       "Sep 26 -11.18971890  451.06927  1.712045e+01\n",
       "Oct 26  12.43730645  451.85651 -1.029381e+01\n",
       "Nov 26  -3.96267290  452.64375 -1.968107e+01\n",
       "Dec 26   7.90716532  451.40430 -2.831146e+01\n",
       "Jan 27 -34.17510460  450.16485  2.801026e+01\n",
       "Feb 27  18.50046636  442.89898  2.160055e+01\n",
       "Mar 27  17.12353251  435.63311  2.924335e+01\n",
       "Apr 27   0.08428933  426.06478  5.485093e+01\n",
       "May 27  13.90988958  416.49644  6.559367e+01\n",
       "Jun 27 -12.85804793  408.22418  3.063387e+01\n",
       "Jul 27  -5.03140061  399.95191 -1.592051e+01\n",
       "Aug 27  -2.74570454  393.38109 -6.363539e+01\n",
       "Sep 27 -11.18971890  386.81027 -1.836206e+02\n",
       "Oct 27  12.43730645  382.77353 -1.221083e+01\n",
       "Nov 27  -3.96267290  378.73678  4.422589e+01\n",
       "Dec 27   7.90716532  380.33866 -1.624583e+01\n",
       "Jan 28 -34.17510460  381.94055  1.023456e+01\n",
       "Feb 28  18.50046636  390.79470  7.048319e-01\n",
       "Mar 28  17.12353251  399.64886  4.822761e+01\n",
       "Apr 28   0.08428933  411.59418 -3.678474e+00\n",
       "May 28  13.90988958  423.53951 -3.644940e+01\n",
       "Jun 28 -12.85804793  435.79544 -3.393739e+01\n",
       "Jul 28  -5.03140061  448.05137 -4.701997e+01\n",
       "Aug 28  -2.74570454  462.16611 -8.420406e+00\n",
       "Sep 28 -11.18971890  476.28085  9.088712e-01\n",
       "Oct 28  12.43730645  493.00945  1.655324e+01\n",
       "Nov 28  -3.96267290  509.73806  3.222462e+01\n",
       "Dec 28   7.90716532  527.65528 -3.856245e+01\n",
       "Jan 29 -34.17510460  545.57251  4.160260e+01\n",
       "Feb 29  18.50046636  559.66463  1.083491e+01\n",
       "Mar 29  17.12353251  573.75675 -2.488028e+01\n",
       "Apr 29   0.08428933  582.90065  3.015063e+00\n",
       "May 29  13.90988958  592.04454  5.904557e+01\n",
       "Jun 29 -12.85804793  597.73239  4.112566e+01\n",
       "Jul 29  -5.03140061  603.42023  9.611171e+00\n",
       "Aug 29  -2.74570454  605.73681 -4.991105e+00\n",
       "Sep 29 -11.18971890  608.05339 -8.863671e+00\n",
       "Oct 29  12.43730645  606.91856  1.864413e+01\n",
       "Nov 29  -3.96267290  605.78374 -7.821064e+00\n",
       "Dec 29   7.90716532  605.37768 -1.284844e+00\n",
       "Jan 30 -34.17510460  604.97162 -1.279652e+01\n",
       "Feb 30  18.50046636  608.81716  2.268237e+01\n",
       "Mar 30  17.12353251  612.66270 -2.878623e+01\n",
       "Apr 30   0.08428933  618.17959 -4.526388e+01\n",
       "May 30  13.90988958  623.69649 -6.460638e+01\n",
       "Jun 30 -12.85804793  630.21552  9.642531e+00\n",
       "Jul 30  -5.03140061  636.73454  3.629686e+01\n",
       "Aug 30  -2.74570454  645.08249  4.066322e+01\n",
       "Sep 30 -11.18971890  653.43043  1.575929e+01\n",
       "Oct 30  12.43730645  662.07862 -2.515929e+00\n",
       "Nov 30  -3.96267290  670.72682 -2.576415e+01\n",
       "Dec 30   7.90716532  676.51519  5.776434e-01\n",
       "Jan 31 -34.17510460  682.30356  3.871541e+00\n",
       "Feb 31  18.50046636  685.34454  8.154989e+00\n",
       "Mar 31  17.12353251  688.38553  1.449094e+01\n",
       "Apr 31   0.08428933  690.93478  6.980933e+00\n",
       "May 31  13.90988958  693.48403  5.606081e+00\n",
       "Jun 31 -12.85804793  693.67275  5.185296e+00\n",
       "Jul 31  -5.03140061  693.86147  1.216993e+01\n",
       "Aug 31  -2.74570454  691.80884  1.393686e+01\n",
       "Sep 31 -11.18971890  689.75621 -2.156649e+01\n",
       "Oct 31  12.43730645  687.21841  2.834428e+01\n",
       "Nov 31  -3.96267290  684.68062  4.282057e+00\n",
       "Dec 31   7.90716532  683.50890  9.583934e+00\n",
       "Jan 32 -34.17510460  682.33719 -5.816208e+01\n",
       "Feb 32  18.50046636  687.59543 -1.709590e+01\n",
       "Mar 32  17.12353251  692.85368 -1.697721e+01\n",
       "Apr 32   0.08428933  705.57761  3.338105e+00\n",
       "May 32  13.90988958  718.30153 -3.521142e+01\n",
       "Jun 32 -12.85804793  735.32288 -1.534648e+02\n",
       "Jul 32  -5.03140061  752.34423  4.687169e+00\n",
       "Aug 32  -2.74570454  772.16523  3.458048e+01\n",
       "Sep 32 -11.18971890  791.98622  4.320350e+01\n",
       "Oct 32  12.43730645  812.51602  6.404667e+01\n",
       "Nov 32  -3.96267290  833.04582  1.291685e+01\n",
       "Dec 32   7.90716532  850.56488 -4.472046e+00\n",
       "Jan 33 -34.17510460  868.08394 -2.590883e+01\n",
       "Feb 33  18.50046636  879.66157  4.383796e+01\n",
       "Mar 33  17.12353251  891.23921  2.263726e+01\n",
       "Apr 33   0.08428933  901.99324 -2.707753e+01\n",
       "May 33  13.90988958  912.74726  2.834285e+01\n",
       "Jun 33 -12.85804793  924.86689 -8.841762e-03\n",
       "Jul 33  -5.03140061  936.98652 -4.695512e+01\n",
       "Aug 33  -2.74570454  951.17080 -5.842509e+01\n",
       "Sep 33 -11.18971890  965.35508  1.483464e+01\n",
       "Oct 33  12.43730645  984.18729  1.037541e+01\n",
       "Nov 33  -3.96267290 1003.01949  4.943180e+00\n",
       "Dec 33   7.90716532 1024.67491 -3.582076e+00\n",
       "Jan 34 -34.17510460 1046.33033 -7.315522e+01\n",
       "Feb 34  18.50046636 1067.02475 -2.352522e+01\n",
       "Mar 34  17.12353251 1087.71917  5.215729e+01\n",
       "Apr 34   0.08428933 1107.25454  4.166117e+01\n",
       "May 34  13.90988958 1126.78991  3.730020e+01\n",
       "Jun 34 -12.85804793 1147.43632  2.742172e+01\n",
       "Jul 34  -5.03140061 1168.08274 -3.505134e+01\n",
       "Aug 34  -2.74570454 1187.74865 -1.200295e+01\n",
       "Sep 34 -11.18971890 1207.41456 -3.722484e+01\n",
       "Oct 34  12.43730645 1229.43392 -2.587122e+01\n",
       "Nov 34  -3.96267290 1251.45327 -4.905973e-01\n",
       "Dec 34   7.90716532 1282.02593 -5.933093e+00\n",
       "Jan 35 -34.17510460 1312.59858 -2.142348e+01\n",
       "Feb 35  18.50046636 1348.45275 -1.495322e+01\n",
       "Mar 35  17.12353251 1384.30691 -1.264304e+02\n",
       "Apr 35   0.08428933 1424.17531 -1.825960e+01\n",
       "May 35  13.90988958 1464.04370  4.804641e+01\n",
       "Jun 35 -12.85804793 1509.63346  6.422459e+01\n",
       "Jul 35  -5.03140061 1555.22323  3.080817e+01\n",
       "Aug 35  -2.74570454 1604.28173 -6.353602e+01\n",
       "Sep 35 -11.18971890 1653.34023 -6.515051e+01\n",
       "Oct 35  12.43730645 1699.89178 -2.932909e+01\n",
       "Nov 35  -3.96267290 1746.44333  1.451934e+01\n",
       "Dec 35   7.90716532 1790.25584  1.098370e+02\n",
       "Jan 36 -34.17510460 1834.06835 -3.289324e+01\n",
       "Feb 36  18.50046636 1878.69530 -1.957698e-01\n",
       "Mar 36  17.12353251 1923.32226  1.055542e+02\n",
       "Apr 36   0.08428933 1964.67857 -8.676286e+01\n",
       "May 36  13.90988958 2006.03488  2.905523e+01\n",
       "Jun 36 -12.85804793 2042.87468 -2.201663e+01\n",
       "Jul 36  -5.03140061 2079.71447 -1.168307e+01\n",
       "Aug 36  -2.74570454 2118.90436  5.384135e+01\n",
       "Sep 36 -11.18971890 2158.09424 -5.904519e+00\n",
       "Oct 36  12.43730645 2204.89752 -1.333483e+01\n",
       "Nov 36  -3.96267290 2251.70080 -9.373813e+01\n",
       "Dec 36   7.90716532 2303.97128  6.912155e+01\n",
       "Jan 37 -34.17510460 2356.24176 -1.680667e+02\n",
       "Feb 37  18.50046636 2413.97208 -5.447254e+01\n",
       "Mar 37  17.12353251 2471.70239  1.017408e+01\n",
       "Apr 37   0.08428933 2538.92874  2.398697e+01\n",
       "May 37  13.90988958 2606.15509  8.893502e+01\n",
       "Jun 37 -12.85804793 2687.23272 -6.237467e+01\n",
       "Jul 37  -5.03140061 2768.31034 -1.132789e+02\n",
       "Aug 37  -2.74570454 2852.96330 -1.721759e+01\n",
       "Sep 37 -11.18971890 2937.61626 -7.042654e+01\n",
       "Oct 37  12.43730645 3023.04411  1.651858e+01\n",
       "Nov 37  -3.96267290 3108.47196 -4.050929e+01\n",
       "Dec 37   7.90716532 3194.85974 -3.576690e+01\n",
       "Jan 38 -34.17510460 3281.24752 -8.507241e+01\n",
       "Feb 38  18.50046636 3368.70202  2.187975e+02\n",
       "\n",
       "$weights\n",
       "  [1] 1 1 1 1 1 1 1 1 1 1 1 1 1 1 1 1 1 1 1 1 1 1 1 1 1 1 1 1 1 1 1 1 1 1 1 1 1\n",
       " [38] 1 1 1 1 1 1 1 1 1 1 1 1 1 1 1 1 1 1 1 1 1 1 1 1 1 1 1 1 1 1 1 1 1 1 1 1 1\n",
       " [75] 1 1 1 1 1 1 1 1 1 1 1 1 1 1 1 1 1 1 1 1 1 1 1 1 1 1 1 1 1 1 1 1 1 1 1 1 1\n",
       "[112] 1 1 1 1 1 1 1 1 1 1 1 1 1 1 1 1 1 1 1 1 1 1 1 1 1 1 1 1 1 1 1 1 1 1 1 1 1\n",
       "[149] 1 1 1 1 1 1 1 1 1 1 1 1 1 1 1 1 1 1 1 1 1 1 1 1 1 1 1 1 1 1 1 1 1 1 1 1 1\n",
       "[186] 1 1 1 1 1 1 1 1 1 1 1 1 1 1 1 1 1 1 1 1 1 1 1 1 1 1 1 1 1 1 1 1 1 1 1 1 1\n",
       "[223] 1 1 1 1 1 1 1 1 1 1 1 1 1 1 1 1 1 1 1 1 1 1 1 1 1 1 1 1 1 1 1 1 1 1 1 1 1\n",
       "[260] 1 1 1 1 1 1 1 1 1 1 1 1 1 1 1 1 1 1 1 1 1 1 1 1 1 1 1 1 1 1 1 1 1 1 1 1 1\n",
       "[297] 1 1 1 1 1 1 1 1 1 1 1 1 1 1 1 1 1 1 1 1 1 1 1 1 1 1 1 1 1 1 1 1 1 1 1 1 1\n",
       "[334] 1 1 1 1 1 1 1 1 1 1 1 1 1 1 1 1 1 1 1 1 1 1 1 1 1 1 1 1 1 1 1 1 1 1 1 1 1\n",
       "[371] 1 1 1 1 1 1 1 1 1 1 1 1 1 1 1 1 1 1 1 1 1 1 1 1 1 1 1 1 1 1 1 1 1 1 1 1 1\n",
       "[408] 1 1 1 1 1 1 1 1 1 1 1 1 1 1 1 1 1 1 1 1 1 1 1 1 1 1 1 1 1 1 1 1 1 1 1 1 1\n",
       "[445] 1 1\n",
       "\n",
       "$call\n",
       "stl(x = ts(data2[, 2], freq = 12), s.window = \"periodic\")\n",
       "\n",
       "$win\n",
       "   s    t    l \n",
       "4461   19   13 \n",
       "\n",
       "$deg\n",
       "s t l \n",
       "0 1 1 \n",
       "\n",
       "$jump\n",
       "  s   t   l \n",
       "447   2   2 \n"
      ]
     },
     "metadata": {},
     "output_type": "display_data"
    },
    {
     "data": {
      "image/png": "[encoded data removed]",
      "text/plain": [
       "plot without title"
      ]
     },
     "metadata": {},
     "output_type": "display_data"
    }
   ],
   "source": [
    "datastl2<- stl(ts(data2[,2], freq=12), s.window=\"periodic\")\n",
    "head(datastl2)\n",
    "plot(datastl2)"
   ]
  },
  {
   "cell_type": "code",
   "execution_count": 78,
   "metadata": {
    "collapsed": true
   },
   "outputs": [],
   "source": [
    "ts_sa2 <- seasadj(datastl2)"
   ]
  },
  {
   "cell_type": "code",
   "execution_count": 79,
   "metadata": {
    "collapsed": true
   },
   "outputs": [
    {
     "data": {
      "image/png": "[encoded data removed]",
      "text/plain": [
       "Plot with title \"Seasonal Adjusted\""
      ]
     },
     "metadata": {},
     "output_type": "display_data"
    }
   ],
   "source": [
    "par(mfrow=c(3,2))\n",
    "plot(data2[,2], type=\"l\", main=\"Real\")  \n",
    "plot(ts_sa2, type=\"l\", main=\"Seasonal Adjusted\")"
   ]
  },
  {
   "cell_type": "code",
   "execution_count": 80,
   "metadata": {
    "collapsed": true
   },
   "outputs": [
    {
     "data": {
      "image/png": "[encoded data removed]",
      "text/plain": [
       "Plot with title \"Seasonal plot: Data\""
      ]
     },
     "metadata": {},
     "output_type": "display_data"
    }
   ],
   "source": [
    "par(mfrow=c(1,1))\n",
    "seasonplot(ts_sa2, \n",
    "           s=12, \n",
    "           col=rainbow(12), \n",
    "           year.labels=TRUE, \n",
    "           main=\"Seasonal plot: Data\")"
   ]
  },
  {
   "cell_type": "markdown",
   "metadata": {},
   "source": [
    "Normallik testini ölçmek için sezonsal etkisi çıkarılmış veriye shapiro.test uygulanır."
   ]
  },
  {
   "cell_type": "code",
   "execution_count": 81,
   "metadata": {},
   "outputs": [
    {
     "data": {
      "text/plain": [
       "\n",
       "\tShapiro-Wilk normality test\n",
       "\n",
       "data:  ts_sa2\n",
       "W = 0.66646, p-value < 2.2e-16\n"
      ]
     },
     "metadata": {},
     "output_type": "display_data"
    }
   ],
   "source": [
    "shapiro.test(ts_sa2)"
   ]
  },
  {
   "cell_type": "markdown",
   "metadata": {},
   "source": [
    "Durağanlık testine göre w  değeri 1'den oldukça düşüktür.\n",
    "Bu yüzden ilk yol olarak yapılan çarpımsal modele ilk başta decompose ve sonrasında da auto.arima modelinin\n",
    "uygulandığı analiz yöntemi tercih edilir."
   ]
  },
  {
   "cell_type": "code",
   "execution_count": 83,
   "metadata": {
    "collapsed": true
   },
   "outputs": [
    {
     "data": {
      "image/png": "[encoded data removed]",
      "text/plain": [
       "Plot with title \"Series  ts_sa2\""
      ]
     },
     "metadata": {},
     "output_type": "display_data"
    }
   ],
   "source": [
    "acf(ts_sa2)"
   ]
  },
  {
   "cell_type": "code",
   "execution_count": 85,
   "metadata": {
    "collapsed": true
   },
   "outputs": [
    {
     "data": {
      "image/png": "[encoded data removed]",
      "text/plain": [
       "Plot with title \"Series  ts_sa2\""
      ]
     },
     "metadata": {},
     "output_type": "display_data"
    }
   ],
   "source": [
    "pacf(ts_sa2)"
   ]
  },
  {
   "cell_type": "markdown",
   "metadata": {},
   "source": [
    "Sezonsal etkiden arındırılan verinin (ts_sa2) , hala sezonsal etki içerip içermediğini anlamak (mevsimsellik farkını bulmak) \n",
    "için nsdiffs fonksiyonu uygulanır."
   ]
  },
  {
   "cell_type": "code",
   "execution_count": 88,
   "metadata": {},
   "outputs": [
    {
     "data": {
      "text/html": [
       "0"
      ],
      "text/latex": [
       "0"
      ],
      "text/markdown": [
       "0"
      ],
      "text/plain": [
       "[1] 0"
      ]
     },
     "metadata": {},
     "output_type": "display_data"
    }
   ],
   "source": [
    "nsdiffs(ts_sa2)"
   ]
  },
  {
   "cell_type": "markdown",
   "metadata": {},
   "source": [
    "Mevsimsellik farkı sıfırdır. Mevsimsel etki yoktur."
   ]
  },
  {
   "cell_type": "markdown",
   "metadata": {},
   "source": [
    "### FORECAST"
   ]
  },
  {
   "cell_type": "code",
   "execution_count": 89,
   "metadata": {
    "collapsed": true
   },
   "outputs": [],
   "source": [
    "require(forecast)"
   ]
  },
  {
   "cell_type": "markdown",
   "metadata": {},
   "source": [
    "İlk olarak verimizin zaman serisi olduğunu gösteriyoruz. Zaman serisi sıklığını aylık olarak tanımlıyoruz.\n",
    "Zaman aralığımızı 01.1981 - 11.2017 kadar olan süreyi alıyoruz.\n",
    "12.2017-02.2018 süresini de test verisi olarak alıyoruz."
   ]
  },
  {
   "cell_type": "code",
   "execution_count": 110,
   "metadata": {},
   "outputs": [
    {
     "data": {
      "text/plain": [
       "      Jan  Feb  Mar  Apr  May  Jun  Jul  Aug  Sep  Oct  Nov  Dec\n",
       "1981  148  163  163  148  153  135  170  172  157  176  169  176\n",
       "1982  143  162  154  159  160  153  163  151  158  163  159  173\n",
       "1983  162  180  187  184  191  182  196  194  196  206  124  173\n",
       "1984  182  193  192  183  185  171  180  194  204  191  189  190\n",
       "1985  166  182  196  197  203  200  197  172  167  169  120  200\n",
       "1986  167  187  184  188  181  172  173  189  179  171  163  180\n",
       "1987  174  182  185  182  187  173  144  164  162  169  166  173\n",
       "1988  147  172  176  155  154  157  168  170  158  166  133  125\n",
       "1989  114  101   60   53   54   60   63   59   57   66   59   55\n",
       "1990   53   58  125  178  175  156  161  172  156  104  172  184\n",
       "1991  168  201  203  190  184  184  163  152  152  161  168  163\n",
       "1992  167  190  162  192  193  206  213  213  194  214  195  199\n",
       "1993  180  199  209  192  208  193  180  136  223  251  242  254\n",
       "1994  219  279  268  257  235  126  226  235  232  260  256  259\n",
       "1995  260  290  286  269  292  277  247  287  284  259  260  280\n",
       "1996  235  286  299  268  297  289  305  285  297  305  281  352\n",
       "1997  318  337  332  337  351  372  367  356  361  393  383  388\n",
       "1998  359  427  394  386  418  386  396  389  379  411  385  373\n",
       "1999  349  360  403  420  421  395  431  421  372  370  398  418\n",
       "2000  391  455  543  465  461  427  504  518  531  542  479  480\n",
       "2001  498  523  554  511  538  523  536  497  533  542  541  543\n",
       "2002  494  570  569  539  541  537  565  579  544  560  553  474\n",
       "2003  385  447  456  444  426  447  450  479  488  491  503  521\n",
       "2004  474  514  538  522  525  487  497  527  491  529  510  494\n",
       "2005  482  490  499  480  501  479  489  470  449  475  453  436\n",
       "2006  385  488  479  462  469  453  456  407  457  454  429  431\n",
       "2007  444  483  482  481  496  426  379  327  192  383  419  372\n",
       "2008  358  410  465  408  401  389  396  451  466  522  538  497\n",
       "2009  553  589  566  586  665  626  608  598  588  638  594  612\n",
       "2010  558  650  601  573  573  627  668  683  658  672  641  685\n",
       "2011  652  712  720  698  713  686  701  703  657  728  685  701\n",
       "2012  590  689  693  709  697  569  752  804  824  889  842  854\n",
       "2013  808  942  931  875  955  912  885  890  969 1007 1004 1029\n",
       "2014  939 1062 1157 1149 1178 1162 1128 1173 1159 1216 1247 1284\n",
       "2015 1257 1352 1275 1406 1526 1561 1581 1538 1577 1683 1757 1908\n",
       "2016 1767 1897 2046 1878 2049 2008 2063 2170 2141 2204 2154 2381\n",
       "2017 2154 2378 2499 2563 2709 2612 2650 2833 2856 3052 3064     "
      ]
     },
     "metadata": {},
     "output_type": "display_data"
    },
    {
     "data": {
      "image/png": "[encoded data removed]",
      "text/plain": [
       "plot without title"
      ]
     },
     "metadata": {},
     "output_type": "display_data"
    }
   ],
   "source": [
    "time_series3 <-ts(data2[,2], start=c(1981, 1), end=c(2017, 11), freq=12)\n",
    "time_series3\n",
    "plot(time_series3)"
   ]
  },
  {
   "cell_type": "markdown",
   "metadata": {},
   "source": [
    "Aşağıda üssel düzgünleştirme yönteminin ets() fonksiyonu kullanılmış halini uygulayacağız. Öngörü doğruluğunu hesaplamak için R'ın accuracy fonksiyonunu kullanılır. Accuracy fonksiyonu ile gelen verilerde:"
   ]
  },
  {
   "cell_type": "markdown",
   "metadata": {},
   "source": [
    "Öngörü modellerinden ilk olarak ets modelini deniyoruz. "
   ]
  },
  {
   "cell_type": "code",
   "execution_count": 111,
   "metadata": {
    "collapsed": true
   },
   "outputs": [
    {
     "data": {
      "text/html": [
       "<table>\n",
       "<thead><tr><th></th><th scope=col>ME</th><th scope=col>RMSE</th><th scope=col>MAE</th><th scope=col>MPE</th><th scope=col>MAPE</th><th scope=col>MASE</th><th scope=col>ACF1</th></tr></thead>\n",
       "<tbody>\n",
       "\t<tr><th scope=row>Training set</th><td>2.774238  </td><td>39.27737  </td><td>26.06343  </td><td>-0.3375955</td><td>7.387411  </td><td>0.2734303 </td><td>0.04872081</td></tr>\n",
       "</tbody>\n",
       "</table>\n"
      ],
      "text/latex": [
       "\\begin{tabular}{r|lllllll}\n",
       "  & ME & RMSE & MAE & MPE & MAPE & MASE & ACF1\\\\\n",
       "\\hline\n",
       "\tTraining set & 2.774238   & 39.27737   & 26.06343   & -0.3375955 & 7.387411   & 0.2734303  & 0.04872081\\\\\n",
       "\\end{tabular}\n"
      ],
      "text/markdown": [
       "\n",
       "| <!--/--> | ME | RMSE | MAE | MPE | MAPE | MASE | ACF1 | \n",
       "|---|\n",
       "| Training set | 2.774238   | 39.27737   | 26.06343   | -0.3375955 | 7.387411   | 0.2734303  | 0.04872081 | \n",
       "\n",
       "\n"
      ],
      "text/plain": [
       "             ME       RMSE     MAE      MPE        MAPE     MASE     \n",
       "Training set 2.774238 39.27737 26.06343 -0.3375955 7.387411 0.2734303\n",
       "             ACF1      \n",
       "Training set 0.04872081"
      ]
     },
     "metadata": {},
     "output_type": "display_data"
    },
    {
     "data": {
      "text/plain": [
       "         Point Forecast    Lo 80    Hi 80    Lo 95    Hi 95\n",
       "Dec 2017       3142.650 3092.314 3192.986 3065.667 3219.632\n",
       "Jan 2018       3101.060 3041.067 3161.054 3009.309 3192.812\n",
       "Feb 2018       3260.957 3191.518 3330.395 3154.760 3367.153"
      ]
     },
     "metadata": {},
     "output_type": "display_data"
    },
    {
     "data": {
      "image/png": "[encoded data removed]",
      "text/plain": [
       "Plot with title \"Forecasts from ETS(A,A,A)\""
      ]
     },
     "metadata": {},
     "output_type": "display_data"
    }
   ],
   "source": [
    "model11 <-ets(time_series3)\n",
    "data_forecast_ets <- forecast(model11, h=3)\n",
    "accuracy(data_forecast_ets)\n",
    "plot(data_forecast_ets, ,xlim=c(2017.12,2018.2))\n",
    "data_forecast_ets\n"
   ]
  },
  {
   "cell_type": "markdown",
   "metadata": {},
   "source": [
    "Verimize ets() fonksiyonu ile öngörü hesapladığımızda bize ETS(A,A,A) argümanlarını vermiştir."
   ]
  },
  {
   "cell_type": "code",
   "execution_count": 98,
   "metadata": {
    "collapsed": true
   },
   "outputs": [
    {
     "name": "stdout",
     "output_type": "stream",
     "text": [
      "List of 10\n",
      " $ model    :List of 19\n",
      "  ..$ loglik    : num -2976\n",
      "  ..$ aic       : num 5986\n",
      "  ..$ bic       : num 6055\n",
      "  ..$ aicc      : num 5987\n",
      "  ..$ mse       : num 1543\n",
      "  ..$ amse      : num 2259\n",
      "  ..$ fit       :List of 4\n",
      "  .. ..$ value  : num 5952\n",
      "  .. ..$ par    : num [1:16] 0.6024 0.0461 0.1034 166.9415 2.3989 ...\n",
      "  .. ..$ fail   : int 1\n",
      "  .. ..$ fncount: int 2001\n",
      "  ..$ residuals : Time-Series [1:443] from 1981 to 2018: 5.55 -21.86 -20.31 -7.83 -14.13 ...\n",
      "  ..$ fitted    : Time-Series [1:443] from 1981 to 2018: 142 185 183 156 167 ...\n",
      "  ..$ states    : Time-Series [1:444, 1:14] from 1981 to 2018: 167 173 162 152 148 ...\n",
      "  .. ..- attr(*, \"dimnames\")=List of 2\n",
      "  .. .. ..$ : NULL\n",
      "  .. .. ..$ : chr [1:14] \"l\" \"b\" \"s1\" \"s2\" ...\n",
      "  ..$ par       : Named num [1:16] 0.6024 0.0461 0.1034 166.9415 2.3989 ...\n",
      "  .. ..- attr(*, \"names\")= chr [1:16] \"alpha\" \"beta\" \"gamma\" \"l\" ...\n",
      "  ..$ m         : num 12\n",
      "  ..$ method    : chr \"ETS(A,A,A)\"\n",
      "  ..$ series    : chr \"time_series2\"\n",
      "  ..$ components: chr [1:4] \"A\" \"A\" \"A\" \"FALSE\"\n",
      "  ..$ call      : language ets(y = time_series2)\n",
      "  ..$ initstate : Named num [1:14] 166.94 2.4 4.24 -11.3 5.73 ...\n",
      "  .. ..- attr(*, \"names\")= chr [1:14] \"l\" \"b\" \"s1\" \"s2\" ...\n",
      "  ..$ sigma2    : num 1543\n",
      "  ..$ x         : Time-Series [1:443] from 1981 to 2018: 148 163 163 148 153 135 170 172 157 176 ...\n",
      "  ..- attr(*, \"class\")= chr \"ets\"\n",
      " $ mean     : Time-Series [1:3] from 2018 to 2018: 3143 3101 3261\n",
      " $ level    : num [1:2] 80 95\n",
      " $ x        : Time-Series [1:443] from 1981 to 2018: 148 163 163 148 153 135 170 172 157 176 ...\n",
      " $ upper    : Time-Series [1:3, 1:2] from 2018 to 2018: 3193 3161 3330 3220 3193 ...\n",
      "  ..- attr(*, \"dimnames\")=List of 2\n",
      "  .. ..$ : NULL\n",
      "  .. ..$ : chr [1:2] \"80%\" \"95%\"\n",
      " $ lower    : Time-Series [1:3, 1:2] from 2018 to 2018: 3092 3041 3192 3066 3009 ...\n",
      "  ..- attr(*, \"dimnames\")=List of 2\n",
      "  .. ..$ : NULL\n",
      "  .. ..$ : chr [1:2] \"80%\" \"95%\"\n",
      " $ fitted   : Time-Series [1:443] from 1981 to 2018: 142 185 183 156 167 ...\n",
      " $ method   : chr \"ETS(A,A,A)\"\n",
      " $ series   : chr \"time_series2\"\n",
      " $ residuals: Time-Series [1:443] from 1981 to 2018: 5.55 -21.86 -20.31 -7.83 -14.13 ...\n",
      " - attr(*, \"class\")= chr \"forecast\"\n"
     ]
    }
   ],
   "source": [
    "str(data_forecast_ets)"
   ]
  },
  {
   "cell_type": "markdown",
   "metadata": {},
   "source": [
    "Aşağıda üssel düzgünleştirme yönteminin HoltWinters() fonksiyonu kullanılmış halini uygulayacağız.Bu model trend, sezonsal bileşenleri de içermemediği durumdur."
   ]
  },
  {
   "cell_type": "code",
   "execution_count": 113,
   "metadata": {
    "collapsed": true
   },
   "outputs": [
    {
     "data": {
      "text/plain": [
       "Holt-Winters exponential smoothing without trend and without seasonal component.\n",
       "\n",
       "Call:\n",
       "HoltWinters(x = time_series3, beta = FALSE, gamma = FALSE)\n",
       "\n",
       "Smoothing parameters:\n",
       " alpha: 0.7810215\n",
       " beta : FALSE\n",
       " gamma: FALSE\n",
       "\n",
       "Coefficients:\n",
       "      [,1]\n",
       "a 3051.299"
      ]
     },
     "metadata": {},
     "output_type": "display_data"
    },
    {
     "data": {
      "text/html": [
       "<table>\n",
       "<thead><tr><th></th><th scope=col>ME</th><th scope=col>RMSE</th><th scope=col>MAE</th><th scope=col>MPE</th><th scope=col>MAPE</th><th scope=col>MASE</th><th scope=col>ACF1</th></tr></thead>\n",
       "<tbody>\n",
       "\t<tr><th scope=row>Training set</th><td>8.410204   </td><td>47.56481   </td><td>30.51237   </td><td>0.03430261 </td><td>7.450028   </td><td>0.320104   </td><td>-0.06453352</td></tr>\n",
       "</tbody>\n",
       "</table>\n"
      ],
      "text/latex": [
       "\\begin{tabular}{r|lllllll}\n",
       "  & ME & RMSE & MAE & MPE & MAPE & MASE & ACF1\\\\\n",
       "\\hline\n",
       "\tTraining set & 8.410204    & 47.56481    & 30.51237    & 0.03430261  & 7.450028    & 0.320104    & -0.06453352\\\\\n",
       "\\end{tabular}\n"
      ],
      "text/markdown": [
       "\n",
       "| <!--/--> | ME | RMSE | MAE | MPE | MAPE | MASE | ACF1 | \n",
       "|---|\n",
       "| Training set | 8.410204    | 47.56481    | 30.51237    | 0.03430261  | 7.450028    | 0.320104    | -0.06453352 | \n",
       "\n",
       "\n"
      ],
      "text/plain": [
       "             ME       RMSE     MAE      MPE        MAPE     MASE    \n",
       "Training set 8.410204 47.56481 30.51237 0.03430261 7.450028 0.320104\n",
       "             ACF1       \n",
       "Training set -0.06453352"
      ]
     },
     "metadata": {},
     "output_type": "display_data"
    },
    {
     "data": {
      "text/plain": [
       "         Point Forecast    Lo 80    Hi 80    Lo 95    Hi 95\n",
       "Dec 2017       3051.299 2991.235 3111.363 2959.439 3143.159\n",
       "Jan 2018       3051.299 2975.086 3127.512 2934.741 3167.857\n",
       "Feb 2018       3051.299 2961.805 3140.793 2914.430 3188.168"
      ]
     },
     "metadata": {},
     "output_type": "display_data"
    },
    {
     "data": {
      "image/png": "[encoded data removed]",
      "text/plain": [
       "Plot with title \"Forecasts from HoltWinters\""
      ]
     },
     "metadata": {},
     "output_type": "display_data"
    },
    {
     "data": {
      "text/html": [
       "<table>\n",
       "<thead><tr><th scope=col>fit</th><th scope=col>upr</th><th scope=col>lwr</th></tr></thead>\n",
       "<tbody>\n",
       "\t<tr><td>3051.299</td><td>3143.159</td><td>2959.439</td></tr>\n",
       "\t<tr><td>3051.299</td><td>3167.857</td><td>2934.741</td></tr>\n",
       "\t<tr><td>3051.299</td><td>3188.168</td><td>2914.430</td></tr>\n",
       "</tbody>\n",
       "</table>\n"
      ],
      "text/latex": [
       "\\begin{tabular}{lll}\n",
       " fit & upr & lwr\\\\\n",
       "\\hline\n",
       "\t 3051.299 & 3143.159 & 2959.439\\\\\n",
       "\t 3051.299 & 3167.857 & 2934.741\\\\\n",
       "\t 3051.299 & 3188.168 & 2914.430\\\\\n",
       "\\end{tabular}\n"
      ],
      "text/markdown": [
       "\n",
       "fit | upr | lwr | \n",
       "|---|---|---|\n",
       "| 3051.299 | 3143.159 | 2959.439 | \n",
       "| 3051.299 | 3167.857 | 2934.741 | \n",
       "| 3051.299 | 3188.168 | 2914.430 | \n",
       "\n",
       "\n"
      ],
      "text/plain": [
       "     fit      upr      lwr     \n",
       "[1,] 3051.299 3143.159 2959.439\n",
       "[2,] 3051.299 3167.857 2934.741\n",
       "[3,] 3051.299 3188.168 2914.430"
      ]
     },
     "metadata": {},
     "output_type": "display_data"
    },
    {
     "data": {
      "image/png": "[encoded data removed]",
      "text/plain": [
       "plot without title"
      ]
     },
     "metadata": {},
     "output_type": "display_data"
    }
   ],
   "source": [
    "model12 <-HoltWinters(time_series3, beta=FALSE, gamma=FALSE)\n",
    "model12\n",
    "data_forecast_simple <- forecast(model12, h=3)\n",
    "accuracy(data_forecast_simple)\n",
    "plot(data_forecast_simple, ,xlim=c(2017.11,2018.2))\n",
    "data_forecast_simple\n",
    "predict12 <- predict(model12, 3, prediction.interval = TRUE)\n",
    "plot(predict12)\n",
    "predict12"
   ]
  },
  {
   "cell_type": "markdown",
   "metadata": {},
   "source": [
    "### Düzeleştirme katsayı değeri arttıkça daha büyük tahmin farklılıkları oluşmaktadır.\n",
    "Basit üssel düzleştirme yöntemi uyguladığımızda gelen  alpha değeri 0.7810215'dir. "
   ]
  },
  {
   "cell_type": "code",
   "execution_count": 100,
   "metadata": {
    "collapsed": true
   },
   "outputs": [
    {
     "name": "stdout",
     "output_type": "stream",
     "text": [
      "List of 10\n",
      " $ method   : chr \"HoltWinters\"\n",
      " $ model    :List of 9\n",
      "  ..$ fitted      : Time-Series [1:442, 1:2] from 1981 to 2018: 148 160 162 151 153 ...\n",
      "  .. ..- attr(*, \"dimnames\")=List of 2\n",
      "  .. .. ..$ : NULL\n",
      "  .. .. ..$ : chr [1:2] \"xhat\" \"level\"\n",
      "  ..$ x           : Time-Series [1:443] from 1981 to 2018: 148 163 163 148 153 135 170 172 157 176 ...\n",
      "  ..$ alpha       : num 0.781\n",
      "  ..$ beta        : logi FALSE\n",
      "  ..$ gamma       : logi FALSE\n",
      "  ..$ coefficients: Named num 3051\n",
      "  .. ..- attr(*, \"names\")= chr \"a\"\n",
      "  ..$ seasonal    : chr \"additive\"\n",
      "  ..$ SSE         : num 1e+06\n",
      "  ..$ call        : language HoltWinters(x = time_series2, beta = FALSE, gamma = FALSE)\n",
      "  ..- attr(*, \"class\")= chr \"HoltWinters\"\n",
      " $ level    : num [1:2] 80 95\n",
      " $ mean     : Time-Series [1:3] from 2018 to 2018: 3051 3051 3051\n",
      " $ lower    : num [1:3, 1:2] 2991 2975 2962 2959 2935 ...\n",
      "  ..- attr(*, \"dimnames\")=List of 2\n",
      "  .. ..$ : NULL\n",
      "  .. ..$ : chr [1:2] \"80%\" \"95%\"\n",
      " $ upper    : num [1:3, 1:2] 3111 3128 3141 3143 3168 ...\n",
      "  ..- attr(*, \"dimnames\")=List of 2\n",
      "  .. ..$ : NULL\n",
      "  .. ..$ : chr [1:2] \"80%\" \"95%\"\n",
      " $ x        : Time-Series [1:443] from 1981 to 2018: 148 163 163 148 153 135 170 172 157 176 ...\n",
      " $ series   : chr \"time_series2\"\n",
      " $ fitted   : Time-Series [1:443] from 1981 to 2018: NA 148 160 162 151 ...\n",
      " $ residuals: Time-Series [1:443] from 1981 to 2018: NA 15 3.28 -14.28 1.87 ...\n",
      " - attr(*, \"class\")= chr \"forecast\"\n"
     ]
    }
   ],
   "source": [
    "str(data_forecast_simple)"
   ]
  },
  {
   "cell_type": "markdown",
   "metadata": {},
   "source": [
    "#### HOLT ÜSTEL DÜZLEŞTİRME YÖNTEMİ:  (Doğrusal Trendi Olan Seriler İçin) \n",
    "Trende sahip mevsimsel dalgalanması olmayan serilerin tahmin işleminde Holt üstel düzleştirme yöntemi kullanılmaktadır. "
   ]
  },
  {
   "cell_type": "code",
   "execution_count": 114,
   "metadata": {
    "collapsed": true
   },
   "outputs": [
    {
     "data": {
      "text/plain": [
       "Holt-Winters exponential smoothing with trend and without seasonal component.\n",
       "\n",
       "Call:\n",
       "HoltWinters(x = time_series3, gamma = FALSE)\n",
       "\n",
       "Smoothing parameters:\n",
       " alpha: 0.5032057\n",
       " beta : 0.09194811\n",
       " gamma: FALSE\n",
       "\n",
       "Coefficients:\n",
       "        [,1]\n",
       "a 3050.39138\n",
       "b   62.40611"
      ]
     },
     "metadata": {},
     "output_type": "display_data"
    },
    {
     "data": {
      "text/html": [
       "<table>\n",
       "<thead><tr><th></th><th scope=col>ME</th><th scope=col>RMSE</th><th scope=col>MAE</th><th scope=col>MPE</th><th scope=col>MAPE</th><th scope=col>MASE</th><th scope=col>ACF1</th></tr></thead>\n",
       "<tbody>\n",
       "\t<tr><th scope=row>Training set</th><td>2.323311  </td><td>43.32455  </td><td>29.40548  </td><td>-0.857256 </td><td>7.895946  </td><td>0.3084917 </td><td>0.02210322</td></tr>\n",
       "</tbody>\n",
       "</table>\n"
      ],
      "text/latex": [
       "\\begin{tabular}{r|lllllll}\n",
       "  & ME & RMSE & MAE & MPE & MAPE & MASE & ACF1\\\\\n",
       "\\hline\n",
       "\tTraining set & 2.323311   & 43.32455   & 29.40548   & -0.857256  & 7.895946   & 0.3084917  & 0.02210322\\\\\n",
       "\\end{tabular}\n"
      ],
      "text/markdown": [
       "\n",
       "| <!--/--> | ME | RMSE | MAE | MPE | MAPE | MASE | ACF1 | \n",
       "|---|\n",
       "| Training set | 2.323311   | 43.32455   | 29.40548   | -0.857256  | 7.895946   | 0.3084917  | 0.02210322 | \n",
       "\n",
       "\n"
      ],
      "text/plain": [
       "             ME       RMSE     MAE      MPE       MAPE     MASE      ACF1      \n",
       "Training set 2.323311 43.32455 29.40548 -0.857256 7.895946 0.3084917 0.02210322"
      ]
     },
     "metadata": {},
     "output_type": "display_data"
    },
    {
     "data": {
      "text/plain": [
       "         Point Forecast    Lo 80    Hi 80    Lo 95    Hi 95\n",
       "Dec 2017       3112.797 3057.292 3168.303 3027.909 3197.686\n",
       "Jan 2018       3175.204 3111.871 3238.537 3078.344 3272.063\n",
       "Feb 2018       3237.610 3166.164 3309.056 3128.343 3346.877"
      ]
     },
     "metadata": {},
     "output_type": "display_data"
    },
    {
     "data": {
      "image/png": "[encoded data removed]",
      "text/plain": [
       "Plot with title \"Forecasts from HoltWinters\""
      ]
     },
     "metadata": {},
     "output_type": "display_data"
    }
   ],
   "source": [
    "model13 <-HoltWinters(time_series3, gamma=FALSE)\n",
    "model13\n",
    "data_forecast_holt <- forecast(model13, h=3)\n",
    "accuracy(data_forecast_holt)\n",
    "plot(data_forecast_holt, ,xlim=c(2017.11,2018.2))\n",
    "data_forecast_holt"
   ]
  },
  {
   "cell_type": "markdown",
   "metadata": {},
   "source": [
    "Düzeleştirme katsayı değeri arttıkça daha büyük tahmin farklılıkları oluşmaktadır.\n",
    "Basit üssel düzleştirme yöntemi uyguladığımızda gelen  alpha değeri 0.5032057'dir. Bu sonuçta değerin düşük olduğunu gösterir. Hata oranı ortalama değerdedir.Diğer modellerde incelenip en uygun öngörü  model seçilmelidir."
   ]
  },
  {
   "cell_type": "code",
   "execution_count": 115,
   "metadata": {
    "collapsed": true
   },
   "outputs": [
    {
     "name": "stdout",
     "output_type": "stream",
     "text": [
      "List of 10\n",
      " $ method   : chr \"HoltWinters\"\n",
      " $ model    :List of 9\n",
      "  ..$ fitted      : Time-Series [1:441, 1:3] from 1981 to 2018: 178 185 179 177 165 ...\n",
      "  .. ..- attr(*, \"dimnames\")=List of 2\n",
      "  .. .. ..$ : NULL\n",
      "  .. .. ..$ : chr [1:3] \"xhat\" \"level\" \"trend\"\n",
      "  ..$ x           : Time-Series [1:443] from 1981 to 2018: 148 163 163 148 153 135 170 172 157 176 ...\n",
      "  ..$ alpha       : Named num 0.503\n",
      "  .. ..- attr(*, \"names\")= chr \"alpha\"\n",
      "  ..$ beta        : Named num 0.0919\n",
      "  .. ..- attr(*, \"names\")= chr \"beta\"\n",
      "  ..$ gamma       : logi FALSE\n",
      "  ..$ coefficients: Named num [1:2] 3050.4 62.4\n",
      "  .. ..- attr(*, \"names\")= chr [1:2] \"a\" \"b\"\n",
      "  ..$ seasonal    : chr \"additive\"\n",
      "  ..$ SSE         : num 827764\n",
      "  ..$ call        : language HoltWinters(x = time_series3, gamma = FALSE)\n",
      "  ..- attr(*, \"class\")= chr \"HoltWinters\"\n",
      " $ level    : num [1:2] 80 95\n",
      " $ mean     : Time-Series [1:3] from 2018 to 2018: 3113 3175 3238\n",
      " $ lower    : num [1:3, 1:2] 3057 3112 3166 3028 3078 ...\n",
      "  ..- attr(*, \"dimnames\")=List of 2\n",
      "  .. ..$ : NULL\n",
      "  .. ..$ : chr [1:2] \"80%\" \"95%\"\n",
      " $ upper    : num [1:3, 1:2] 3168 3239 3309 3198 3272 ...\n",
      "  ..- attr(*, \"dimnames\")=List of 2\n",
      "  .. ..$ : NULL\n",
      "  .. ..$ : chr [1:2] \"80%\" \"95%\"\n",
      " $ x        : Time-Series [1:443] from 1981 to 2018: 148 163 163 148 153 135 170 172 157 176 ...\n",
      " $ series   : chr \"time_series3\"\n",
      " $ fitted   : Time-Series [1:443] from 1981 to 2018: NA NA 178 185 179 ...\n",
      " $ residuals: Time-Series [1:443] from 1981 to 2018: NA NA -15 -36.8 -25.9 ...\n",
      " - attr(*, \"class\")= chr \"forecast\"\n"
     ]
    }
   ],
   "source": [
    "str(data_forecast_holt)"
   ]
  },
  {
   "cell_type": "markdown",
   "metadata": {},
   "source": [
    "#### Holt-Winters Yöntemi: (Doğrusal Trendi ve Mevsimlik Etkileri Olan Seriler İçin) \n",
    "Holt-Winters Yöntemi üç temel düzeltme esitligine sahiptir. Temel, trend ve mevsimsellik için olan bu üç düzeltme sabiti ile yapılan düzeltmeler, Holt’un\n",
    "Dogrusal Yöntemi’ne benzer olarak tek toplam esitlikte toplanarak mevsimsellik\n",
    "esitligi elde etmektedir. "
   ]
  },
  {
   "cell_type": "code",
   "execution_count": 116,
   "metadata": {
    "collapsed": true
   },
   "outputs": [
    {
     "data": {
      "text/plain": [
       "Holt-Winters exponential smoothing with trend and additive seasonal component.\n",
       "\n",
       "Call:\n",
       "HoltWinters(x = time_series3)\n",
       "\n",
       "Smoothing parameters:\n",
       " alpha: 0.6076044\n",
       " beta : 0.07480512\n",
       " gamma: 0.2946021\n",
       "\n",
       "Coefficients:\n",
       "           [,1]\n",
       "a   3051.309931\n",
       "b     58.897088\n",
       "s1    38.646959\n",
       "s2   -67.966539\n",
       "s3    39.639302\n",
       "s4    49.920330\n",
       "s5    11.787548\n",
       "s6    51.898138\n",
       "s7   -17.438469\n",
       "s8    -7.923449\n",
       "s9    15.317955\n",
       "s10  -10.934216\n",
       "s11   40.844742\n",
       "s12    6.342074"
      ]
     },
     "metadata": {},
     "output_type": "display_data"
    },
    {
     "data": {
      "text/html": [
       "<table>\n",
       "<thead><tr><th></th><th scope=col>ME</th><th scope=col>RMSE</th><th scope=col>MAE</th><th scope=col>MPE</th><th scope=col>MAPE</th><th scope=col>MASE</th><th scope=col>ACF1</th></tr></thead>\n",
       "<tbody>\n",
       "\t<tr><th scope=row>Training set</th><td>3.013304  </td><td>39.89378  </td><td>26.40596  </td><td>-0.2875972</td><td>7.228475  </td><td>0.2770238 </td><td>0.05248844</td></tr>\n",
       "</tbody>\n",
       "</table>\n"
      ],
      "text/latex": [
       "\\begin{tabular}{r|lllllll}\n",
       "  & ME & RMSE & MAE & MPE & MAPE & MASE & ACF1\\\\\n",
       "\\hline\n",
       "\tTraining set & 3.013304   & 39.89378   & 26.40596   & -0.2875972 & 7.228475   & 0.2770238  & 0.05248844\\\\\n",
       "\\end{tabular}\n"
      ],
      "text/markdown": [
       "\n",
       "| <!--/--> | ME | RMSE | MAE | MPE | MAPE | MASE | ACF1 | \n",
       "|---|\n",
       "| Training set | 3.013304   | 39.89378   | 26.40596   | -0.2875972 | 7.228475   | 0.2770238  | 0.05248844 | \n",
       "\n",
       "\n"
      ],
      "text/plain": [
       "             ME       RMSE     MAE      MPE        MAPE     MASE     \n",
       "Training set 3.013304 39.89378 26.40596 -0.2875972 7.228475 0.2770238\n",
       "             ACF1      \n",
       "Training set 0.05248844"
      ]
     },
     "metadata": {},
     "output_type": "display_data"
    },
    {
     "data": {
      "text/plain": [
       "         Point Forecast    Lo 80    Hi 80    Lo 95    Hi 95\n",
       "Dec 2017       3148.854 3097.815 3199.893 3070.796 3226.912\n",
       "Jan 2018       3101.138 3040.179 3162.096 3007.909 3194.366\n",
       "Feb 2018       3267.640 3197.022 3338.259 3159.639 3375.642"
      ]
     },
     "metadata": {},
     "output_type": "display_data"
    },
    {
     "data": {
      "image/png": "[encoded data removed]",
      "text/plain": [
       "Plot with title \"Forecasts from HoltWinters\""
      ]
     },
     "metadata": {},
     "output_type": "display_data"
    }
   ],
   "source": [
    "model14 <-HoltWinters(time_series3)\n",
    "model14\n",
    "data_forecast_holtWinter <- forecast(model14, h=3)\n",
    "accuracy(data_forecast_holtWinter)\n",
    "plot(data_forecast_holtWinter, ,xlim=c(2017.1,2018.2))\n",
    "data_forecast_holtWinter"
   ]
  },
  {
   "cell_type": "markdown",
   "metadata": {},
   "source": [
    "Düzeleştirme katsayı değeri arttıkça daha büyük tahmin farklılıkları oluşmaktadır.\n",
    "Basit üssel düzleştirme yöntemi uyguladığımızda gelen  alpha değeri 0.6076044'dir. Bu sonuçta değerin büyük olduğunu gösterir. Hata oranı fazladır. O yüzden öngörü yaparken bu model seçilmemelidir.\n"
   ]
  },
  {
   "cell_type": "code",
   "execution_count": 117,
   "metadata": {},
   "outputs": [
    {
     "name": "stdout",
     "output_type": "stream",
     "text": [
      "List of 10\n",
      " $ method   : chr \"HoltWinters\"\n",
      " $ model    :List of 9\n",
      "  ..$ fitted      : Time-Series [1:431, 1:4] from 1982 to 2018: 140 162 155 160 161 ...\n",
      "  .. ..- attr(*, \"dimnames\")=List of 2\n",
      "  .. .. ..$ : NULL\n",
      "  .. .. ..$ : chr [1:4] \"xhat\" \"level\" \"trend\" \"season\"\n",
      "  ..$ x           : Time-Series [1:443] from 1981 to 2018: 148 163 163 148 153 135 170 172 157 176 ...\n",
      "  ..$ alpha       : Named num 0.608\n",
      "  .. ..- attr(*, \"names\")= chr \"alpha\"\n",
      "  ..$ beta        : Named num 0.0748\n",
      "  .. ..- attr(*, \"names\")= chr \"beta\"\n",
      "  ..$ gamma       : Named num 0.295\n",
      "  .. ..- attr(*, \"names\")= chr \"gamma\"\n",
      "  ..$ coefficients: Named num [1:14] 3051.3 58.9 38.6 -68 39.6 ...\n",
      "  .. ..- attr(*, \"names\")= chr [1:14] \"a\" \"b\" \"s1\" \"s2\" ...\n",
      "  ..$ seasonal    : chr \"additive\"\n",
      "  ..$ SSE         : num 685942\n",
      "  ..$ call        : language HoltWinters(x = time_series3)\n",
      "  ..- attr(*, \"class\")= chr \"HoltWinters\"\n",
      " $ level    : num [1:2] 80 95\n",
      " $ mean     : Time-Series [1:3] from 2018 to 2018: 3149 3101 3268\n",
      " $ lower    : num [1:3, 1:2] 3098 3040 3197 3071 3008 ...\n",
      "  ..- attr(*, \"dimnames\")=List of 2\n",
      "  .. ..$ : NULL\n",
      "  .. ..$ : chr [1:2] \"80%\" \"95%\"\n",
      " $ upper    : num [1:3, 1:2] 3200 3162 3338 3227 3194 ...\n",
      "  ..- attr(*, \"dimnames\")=List of 2\n",
      "  .. ..$ : NULL\n",
      "  .. ..$ : chr [1:2] \"80%\" \"95%\"\n",
      " $ x        : Time-Series [1:443] from 1981 to 2018: 148 163 163 148 153 135 170 172 157 176 ...\n",
      " $ series   : chr \"time_series3\"\n",
      " $ fitted   : Time-Series [1:443] from 1981 to 2018: NA NA NA NA NA NA NA NA NA NA ...\n",
      " $ residuals: Time-Series [1:443] from 1981 to 2018: NA NA NA NA NA NA NA NA NA NA ...\n",
      " - attr(*, \"class\")= chr \"forecast\"\n"
     ]
    }
   ],
   "source": [
    "str(data_forecast_holtWinter)"
   ]
  },
  {
   "cell_type": "code",
   "execution_count": 118,
   "metadata": {},
   "outputs": [
    {
     "data": {
      "text/html": [
       "<ol class=list-inline>\n",
       "\t<li>80</li>\n",
       "\t<li>95</li>\n",
       "</ol>\n"
      ],
      "text/latex": [
       "\\begin{enumerate*}\n",
       "\\item 80\n",
       "\\item 95\n",
       "\\end{enumerate*}\n"
      ],
      "text/markdown": [
       "1. 80\n",
       "2. 95\n",
       "\n",
       "\n"
      ],
      "text/plain": [
       "[1] 80 95"
      ]
     },
     "metadata": {},
     "output_type": "display_data"
    }
   ],
   "source": [
    "data_forecast_holtWinter$level"
   ]
  },
  {
   "cell_type": "markdown",
   "metadata": {},
   "source": [
    "Komutu bize %80 ve %95 alt ve üst sınırlarda hesap yaptığını göstermektedir.\n",
    "\n",
    "Yani sadece projeksiyon yapmayıp, aynı zamanda alt ve üst kesinlik aralıkları ile kestirim sonuçları bulunmaktadır."
   ]
  },
  {
   "cell_type": "markdown",
   "metadata": {},
   "source": [
    "#### Arima Modeli \n",
    "\n",
    "Zaman serilerinde öngörü analizi yapmanın bir diğer yolu da arima modeli uygulamaktır."
   ]
  },
  {
   "cell_type": "code",
   "execution_count": 129,
   "metadata": {
    "collapsed": true
   },
   "outputs": [],
   "source": [
    "time_series3<-ts(data2[,2], start=c(1981, 1), end=c(2017, 11), freq=12)"
   ]
  },
  {
   "cell_type": "markdown",
   "metadata": {},
   "source": [
    "### ?? neden çalışmıyor?\n"
   ]
  },
  {
   "cell_type": "code",
   "execution_count": 138,
   "metadata": {},
   "outputs": [
    {
     "ename": "ERROR",
     "evalue": "Error in arima(time_series3, order = c(2, 0, 1)): non-stationary AR part from CSS\n",
     "output_type": "error",
     "traceback": [
      "Error in arima(time_series3, order = c(2, 0, 1)): non-stationary AR part from CSS\nTraceback:\n",
      "1. arima(time_series3, order = c(2, 0, 1))",
      "2. stop(\"non-stationary AR part from CSS\")"
     ]
    }
   ],
   "source": [
    "model21 <- arima(time_series3, order=c(2,0,1))\n",
    "model21\n",
    "data_forecast_arima <- forecast(model21, h=3)\n",
    "accuracy(data_forecast_arima)\n",
    "plot(data_forecast_arima, ,xlim=c(2017.12,2018.2))\n",
    "data_forecast_arima\n",
    "predict(model21,3)"
   ]
  },
  {
   "cell_type": "code",
   "execution_count": 140,
   "metadata": {},
   "outputs": [
    {
     "name": "stdout",
     "output_type": "stream",
     "text": [
      "List of 10\n",
      " $ method   : chr \"ARIMA(0,0,0) with non-zero mean\"\n",
      " $ model    :List of 15\n",
      "  ..$ coef     : Named num 520\n",
      "  .. ..- attr(*, \"names\")= chr \"intercept\"\n",
      "  ..$ sigma2   : num 282259\n",
      "  ..$ var.coef : num [1, 1] 637\n",
      "  .. ..- attr(*, \"dimnames\")=List of 2\n",
      "  .. .. ..$ : chr \"intercept\"\n",
      "  .. .. ..$ : chr \"intercept\"\n",
      "  ..$ mask     : logi TRUE\n",
      "  ..$ loglik   : num -3409\n",
      "  ..$ aic      : num 6821\n",
      "  ..$ arma     : int [1:7] 0 0 0 0 12 0 0\n",
      "  ..$ residuals: Time-Series [1:443] from 1981 to 2018: -372 -357 -357 -372 -367 ...\n",
      "  ..$ call     : language arima(x = time_series3)\n",
      "  ..$ series   : chr \"time_series3\"\n",
      "  ..$ code     : int 0\n",
      "  ..$ n.cond   : int 0\n",
      "  ..$ nobs     : int 443\n",
      "  ..$ model    :List of 10\n",
      "  .. ..$ phi  : num(0) \n",
      "  .. ..$ theta: num(0) \n",
      "  .. ..$ Delta: num(0) \n",
      "  .. ..$ Z    : num 1\n",
      "  .. ..$ a    : num 2544\n",
      "  .. ..$ P    : num [1, 1] 0\n",
      "  .. ..$ T    : num [1, 1] 0\n",
      "  .. ..$ V    : num [1, 1] 1\n",
      "  .. ..$ h    : num 0\n",
      "  .. ..$ Pn   : num [1, 1] 1\n",
      "  ..$ x        : Time-Series [1:443] from 1981 to 2018: 148 163 163 148 153 135 170 172 157 176 ...\n",
      "  ..- attr(*, \"class\")= chr \"Arima\"\n",
      " $ level    : num [1:2] 80 95\n",
      " $ mean     : Time-Series [1:3] from 2018 to 2018: 520 520 520\n",
      " $ lower    : Time-Series [1:3, 1:2] from 2018 to 2018: -160 -160 -160 -521 -521 ...\n",
      "  ..- attr(*, \"dimnames\")=List of 2\n",
      "  .. ..$ : NULL\n",
      "  .. ..$ : chr [1:2] \"80%\" \"95%\"\n",
      " $ upper    : Time-Series [1:3, 1:2] from 2018 to 2018: 1201 1201 1201 1562 1562 ...\n",
      "  ..- attr(*, \"dimnames\")=List of 2\n",
      "  .. ..$ : NULL\n",
      "  .. ..$ : chr [1:2] \"80%\" \"95%\"\n",
      " $ x        : Time-Series [1:443] from 1981 to 2018: 148 163 163 148 153 135 170 172 157 176 ...\n",
      " $ series   : chr \"time_series3\"\n",
      " $ fitted   : Time-Series [1:443] from 1981 to 2018: 520 520 520 520 520 ...\n",
      " $ residuals: Time-Series [1:443] from 1981 to 2018: -372 -357 -357 -372 -367 ...\n",
      " - attr(*, \"class\")= chr \"forecast\"\n"
     ]
    }
   ],
   "source": [
    "str(data_forecast_arima)"
   ]
  },
  {
   "cell_type": "markdown",
   "metadata": {},
   "source": [
    "Aşağıda genel olarak bütün doğrulukları göstereceğiz.Hatırlamak için \n",
    "\n",
    "ME:Ortalama Hata  \n",
    "\n",
    "MAE : Ortalama Mutlak Hata  \n",
    "\n",
    "MSE: Ortalama Hata Kare \n",
    "\n",
    "MPE: Ortalama Yüzde Hata \n",
    "\n",
    "MAPE: Ortalama Mutlak Yüzde Hata\n"
   ]
  },
  {
   "cell_type": "code",
   "execution_count": 142,
   "metadata": {},
   "outputs": [
    {
     "data": {
      "text/html": [
       "<table>\n",
       "<thead><tr><th></th><th scope=col>ME</th><th scope=col>RMSE</th><th scope=col>MAE</th><th scope=col>MPE</th><th scope=col>MAPE</th><th scope=col>MASE</th><th scope=col>ACF1</th></tr></thead>\n",
       "<tbody>\n",
       "\t<tr><th scope=row>Training set</th><td>2.774238  </td><td>39.27737  </td><td>26.06343  </td><td>-0.3375955</td><td>7.387411  </td><td>0.2734303 </td><td>0.04872081</td></tr>\n",
       "</tbody>\n",
       "</table>\n"
      ],
      "text/latex": [
       "\\begin{tabular}{r|lllllll}\n",
       "  & ME & RMSE & MAE & MPE & MAPE & MASE & ACF1\\\\\n",
       "\\hline\n",
       "\tTraining set & 2.774238   & 39.27737   & 26.06343   & -0.3375955 & 7.387411   & 0.2734303  & 0.04872081\\\\\n",
       "\\end{tabular}\n"
      ],
      "text/markdown": [
       "\n",
       "| <!--/--> | ME | RMSE | MAE | MPE | MAPE | MASE | ACF1 | \n",
       "|---|\n",
       "| Training set | 2.774238   | 39.27737   | 26.06343   | -0.3375955 | 7.387411   | 0.2734303  | 0.04872081 | \n",
       "\n",
       "\n"
      ],
      "text/plain": [
       "             ME       RMSE     MAE      MPE        MAPE     MASE     \n",
       "Training set 2.774238 39.27737 26.06343 -0.3375955 7.387411 0.2734303\n",
       "             ACF1      \n",
       "Training set 0.04872081"
      ]
     },
     "metadata": {},
     "output_type": "display_data"
    },
    {
     "data": {
      "text/html": [
       "<table>\n",
       "<thead><tr><th></th><th scope=col>ME</th><th scope=col>RMSE</th><th scope=col>MAE</th><th scope=col>MPE</th><th scope=col>MAPE</th><th scope=col>MASE</th><th scope=col>ACF1</th></tr></thead>\n",
       "<tbody>\n",
       "\t<tr><th scope=row>Training set</th><td>8.410204   </td><td>47.56481   </td><td>30.51237   </td><td>0.03430261 </td><td>7.450028   </td><td>0.320104   </td><td>-0.06453352</td></tr>\n",
       "</tbody>\n",
       "</table>\n"
      ],
      "text/latex": [
       "\\begin{tabular}{r|lllllll}\n",
       "  & ME & RMSE & MAE & MPE & MAPE & MASE & ACF1\\\\\n",
       "\\hline\n",
       "\tTraining set & 8.410204    & 47.56481    & 30.51237    & 0.03430261  & 7.450028    & 0.320104    & -0.06453352\\\\\n",
       "\\end{tabular}\n"
      ],
      "text/markdown": [
       "\n",
       "| <!--/--> | ME | RMSE | MAE | MPE | MAPE | MASE | ACF1 | \n",
       "|---|\n",
       "| Training set | 8.410204    | 47.56481    | 30.51237    | 0.03430261  | 7.450028    | 0.320104    | -0.06453352 | \n",
       "\n",
       "\n"
      ],
      "text/plain": [
       "             ME       RMSE     MAE      MPE        MAPE     MASE    \n",
       "Training set 8.410204 47.56481 30.51237 0.03430261 7.450028 0.320104\n",
       "             ACF1       \n",
       "Training set -0.06453352"
      ]
     },
     "metadata": {},
     "output_type": "display_data"
    },
    {
     "data": {
      "text/html": [
       "<table>\n",
       "<thead><tr><th></th><th scope=col>ME</th><th scope=col>RMSE</th><th scope=col>MAE</th><th scope=col>MPE</th><th scope=col>MAPE</th><th scope=col>MASE</th><th scope=col>ACF1</th></tr></thead>\n",
       "<tbody>\n",
       "\t<tr><th scope=row>Training set</th><td>2.323311  </td><td>43.32455  </td><td>29.40548  </td><td>-0.857256 </td><td>7.895946  </td><td>0.3084917 </td><td>0.02210322</td></tr>\n",
       "</tbody>\n",
       "</table>\n"
      ],
      "text/latex": [
       "\\begin{tabular}{r|lllllll}\n",
       "  & ME & RMSE & MAE & MPE & MAPE & MASE & ACF1\\\\\n",
       "\\hline\n",
       "\tTraining set & 2.323311   & 43.32455   & 29.40548   & -0.857256  & 7.895946   & 0.3084917  & 0.02210322\\\\\n",
       "\\end{tabular}\n"
      ],
      "text/markdown": [
       "\n",
       "| <!--/--> | ME | RMSE | MAE | MPE | MAPE | MASE | ACF1 | \n",
       "|---|\n",
       "| Training set | 2.323311   | 43.32455   | 29.40548   | -0.857256  | 7.895946   | 0.3084917  | 0.02210322 | \n",
       "\n",
       "\n"
      ],
      "text/plain": [
       "             ME       RMSE     MAE      MPE       MAPE     MASE      ACF1      \n",
       "Training set 2.323311 43.32455 29.40548 -0.857256 7.895946 0.3084917 0.02210322"
      ]
     },
     "metadata": {},
     "output_type": "display_data"
    },
    {
     "data": {
      "text/html": [
       "<table>\n",
       "<thead><tr><th></th><th scope=col>ME</th><th scope=col>RMSE</th><th scope=col>MAE</th><th scope=col>MPE</th><th scope=col>MAPE</th><th scope=col>MASE</th><th scope=col>ACF1</th></tr></thead>\n",
       "<tbody>\n",
       "\t<tr><th scope=row>Training set</th><td>3.013304  </td><td>39.89378  </td><td>26.40596  </td><td>-0.2875972</td><td>7.228475  </td><td>0.2770238 </td><td>0.05248844</td></tr>\n",
       "</tbody>\n",
       "</table>\n"
      ],
      "text/latex": [
       "\\begin{tabular}{r|lllllll}\n",
       "  & ME & RMSE & MAE & MPE & MAPE & MASE & ACF1\\\\\n",
       "\\hline\n",
       "\tTraining set & 3.013304   & 39.89378   & 26.40596   & -0.2875972 & 7.228475   & 0.2770238  & 0.05248844\\\\\n",
       "\\end{tabular}\n"
      ],
      "text/markdown": [
       "\n",
       "| <!--/--> | ME | RMSE | MAE | MPE | MAPE | MASE | ACF1 | \n",
       "|---|\n",
       "| Training set | 3.013304   | 39.89378   | 26.40596   | -0.2875972 | 7.228475   | 0.2770238  | 0.05248844 | \n",
       "\n",
       "\n"
      ],
      "text/plain": [
       "             ME       RMSE     MAE      MPE        MAPE     MASE     \n",
       "Training set 3.013304 39.89378 26.40596 -0.2875972 7.228475 0.2770238\n",
       "             ACF1      \n",
       "Training set 0.05248844"
      ]
     },
     "metadata": {},
     "output_type": "display_data"
    },
    {
     "data": {
      "text/html": [
       "<table>\n",
       "<thead><tr><th></th><th scope=col>ME</th><th scope=col>RMSE</th><th scope=col>MAE</th><th scope=col>MPE</th><th scope=col>MAPE</th><th scope=col>MASE</th><th scope=col>ACF1</th></tr></thead>\n",
       "<tbody>\n",
       "\t<tr><th scope=row>Training set</th><td>2.34856e-14</td><td>531.2802   </td><td>336.8926   </td><td>-90.99407  </td><td>113.0041   </td><td>3.534326   </td><td>0.969329   </td></tr>\n",
       "</tbody>\n",
       "</table>\n"
      ],
      "text/latex": [
       "\\begin{tabular}{r|lllllll}\n",
       "  & ME & RMSE & MAE & MPE & MAPE & MASE & ACF1\\\\\n",
       "\\hline\n",
       "\tTraining set & 2.34856e-14 & 531.2802    & 336.8926    & -90.99407   & 113.0041    & 3.534326    & 0.969329   \\\\\n",
       "\\end{tabular}\n"
      ],
      "text/markdown": [
       "\n",
       "| <!--/--> | ME | RMSE | MAE | MPE | MAPE | MASE | ACF1 | \n",
       "|---|\n",
       "| Training set | 2.34856e-14 | 531.2802    | 336.8926    | -90.99407   | 113.0041    | 3.534326    | 0.969329    | \n",
       "\n",
       "\n"
      ],
      "text/plain": [
       "             ME          RMSE     MAE      MPE       MAPE     MASE     ACF1    \n",
       "Training set 2.34856e-14 531.2802 336.8926 -90.99407 113.0041 3.534326 0.969329"
      ]
     },
     "metadata": {},
     "output_type": "display_data"
    }
   ],
   "source": [
    "accuracy(data_forecast_ets)\n",
    "accuracy(data_forecast_simple)\n",
    "accuracy(data_forecast_holt)\n",
    "accuracy(data_forecast_holtWinter)\n",
    "accuracy(data_forecast_arima)"
   ]
  },
  {
   "cell_type": "code",
   "execution_count": null,
   "metadata": {
    "collapsed": true
   },
   "outputs": [],
   "source": []
  }
 ],
 "metadata": {
  "kernelspec": {
   "display_name": "R",
   "language": "R",
   "name": "ir"
  },
  "language_info": {
   "codemirror_mode": "r",
   "file_extension": ".r",
   "mimetype": "text/x-r-source",
   "name": "R",
   "pygments_lexer": "r",
   "version": "3.4.2"
  }
 },
 "nbformat": 4,
 "nbformat_minor": 2
}
