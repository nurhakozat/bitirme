{
 "cells": [
  {
   "cell_type": "markdown",
   "metadata": {
    "collapsed": true
   },
   "source": [
    "# ZAMAN SERİLERİ"
   ]
  },
  {
   "cell_type": "code",
   "execution_count": 1,
   "metadata": {},
   "outputs": [
    {
     "name": "stderr",
     "output_type": "stream",
     "text": [
      "Warning message:\n",
      "\"package 'Quandl' was built under R version 3.4.3\"Loading required package: xts\n",
      "Loading required package: zoo\n",
      "\n",
      "Attaching package: 'zoo'\n",
      "\n",
      "The following objects are masked from 'package:base':\n",
      "\n",
      "    as.Date, as.Date.numeric\n",
      "\n",
      "Warning message:\n",
      "\"package 'forecast' was built under R version 3.4.3\"Warning message:\n",
      "\"package 'tseries' was built under R version 3.4.3\""
     ]
    }
   ],
   "source": [
    "# install.packages(\"Quandl\", repos='http://cran.us.r-project.org')\n",
    "#install.packages(\"forecast\", repos='http://cran.us.r-project.org')\n",
    "library(Quandl)\n",
    "library(forecast)\n",
    "library(tseries)"
   ]
  },
  {
   "cell_type": "markdown",
   "metadata": {},
   "source": [
    "### Zaman Serisi ve Temel Kavramlar\n",
    "\n",
    "\n",
    "Zaman serisi, bir değişkenin zaman içindeki hareketini gözlemleyen, gözlem sonuçlarının zamana göre dağılım gösterdiği serilerdir. Bütün değerleri belirli bir zman farkı ile art arda gelen nümerik verilerden oluşur. Bu değerler günlük, haftalık, aylık, yıllık olabilirler.\n",
    "\n",
    "\n",
    "Zaman serisi değişkeni, n zaman serisindeki veri sayısı olmak üzere; x(t), (t= 1, 2, …, n) \n",
    "- ilk gözlemlenen veri x(1), \n",
    "- ikinci gözlemlenen veri x(2),\n",
    "- son gözlemlenen veri x(n) ile ifade edilir.\n",
    "\n",
    "Sürekli Zaman Serileri; zaman içinde sürekli olarak kaydedilebilen verilere sahip serilerdir elektrik sinyalleri, voltaj, ses titreşimleri gibi mühendislik alanlarına ait seriler\n",
    "\n",
    " Kesikli Zaman Serileri; belli aralıklarda elde edilebilen verilere sahip serilerdir. faiz oranı, satış hacmi, üretim miktarı gibi iktisadi serilerdir.\n",
    "\n",
    "Zaman serilerinde veriler nicel  ya da nitel verilerden oluşur.\n",
    "\n",
    "- Nitel ( Kalitatif ) Yöntemler : Öngörü işlemi ile bilgilerden yararlanılarak geleceğe ait tahmin yapılmaktadır. Dolayısıyla, öngörü yöntemleri tecrübeye, kararlara, bilirkişinin düşüncelerine  dayanmaktadır. Bu tür öngörü yöntemlerine genel olarak nitel  ( kalitatif ) yöntemler denir.\n",
    " \n",
    " \n",
    "- Nicel ( Kantitatif ) Yöntemler : Öngörü yöntemleri subjectif kararlardan ziyade elde edilen verilerin yapısını açıklayabilen modellere dayanırsa bu tür modellere dayanan öngörü yöntemlerine genel olarak nicel ( Kantitatif  ) yöntemler denir.\n",
    " \n",
    "Zaman Serisi analizinde ,\n",
    "- Tek Değişkenli ( Unvariate Time Series ): Eğer zaman serisi tek değişikenin zaman içerisindeki hareketini inceleniyorsa ,\n",
    " \n",
    "- Çok Değişkenli ( Multivariate Time Series ): Eğer birden fazla değişkenin zaman içindeki değişimlerini gözlemleniyorsa , \n",
    "olmak üzere iki çeşit değişken sayısı bulunur.\n",
    "\n",
    "\n",
    "### Zaman Serisi Bileşenleri :\n",
    "\n",
    "\n",
    "Zaman serilerinin gözlemlenen değerleri arasında artma, azalma ya da belli dönemlerde sabit kalma gibi değişmeler gerçekleşebilir.  Bu değişmeler çeşitli nedenleri olabilir. Bu değişmelerin incelenmesi , bir öngürü yapılmak istendiğinde yardımcı olur. Nedeni ise zaman serileri gelecekte de benzer özellikler gösterebilir. Bu değişmeler zaman serilerinin bileşenlerini oluşturur. Bu değişmeler  dört grupta incelenir: \n",
    "-\tTrend  Bileşen\n",
    "-\tMevsimsel bileşen \n",
    "-\tÇevrimsel bileşen ( Konjoktürel )\n",
    "-\tDüzensiz Bileşen ( Rassal Bileşen )\n",
    " \n",
    " \n",
    "### Trend :  \n",
    "\n",
    "Zamana göre gözlemlenen bir değişkenin uzun dönemde gösterdiği artış veya azalışa denir. İki farklı şekilde ifade edilebilir.Trend iki şekilde olabilir:\n",
    "-\tDoğrusal Trend\n",
    "-\tDoğrusal Olmayan Trend\n",
    "\n",
    "Gözlemlerin toplanış sırası ile aldığı değerler arasındaki korelasyonun önemini belirlemek için trend analizleri yapılır.\n",
    "Trend analizi matematiksel bir tekniktir ve bu analiz ile geçmişe ait sonuçları kullanarak geleceğe yönelik sonuçlar için tahmin yapılır. Serinin gözlem sayısı arttıkça trende sahip olmadığı daha kolay anlaşılır.\n",
    "Zaman içerisinde artış veya azalış göstermeyen, aynı düzeyde kararlılık gösteren serilerin ise trendi yoktur.\n",
    "\n",
    "Trend doğrusal olabileceği gibi üstel de olabilir. Trend tamamen öngörülebiliyorsa deterministik, tamamen öngörülemiyorsa rassaldır.\n",
    "\n",
    "### Mevsimsel Bileşen:\n",
    "\n",
    "Sistematik ( gözlemlenebilir ve ölçülebilir ) etkileri olan faktörlerdir. Mevsim etkisinde olan zaman serileri yılın bazı dönemlerinde diğer dönemlere göre daha yüksek ve ya daha düşük değerler ulaşır. Örnek olarak; bazı dönemlerde doğalgaz kullanımının artması veya azalması verilebilir.Mevsimsellik farklı biçimlerde ( Anneler Günü, Babalar Günü, Öğretmenler günü , Dini bayramlar da yapılan alışverişteki artışlar  )gözlemlenebilir. Zaman serilerinde mevsimsellik etkisi bir yıl  ve daha az zaman süresinde tekrarlanan periyodik dalgalanmalar olarak tanımlanır.\n",
    "\n",
    "\n",
    "Zaman serisi analizlerinde mevsimsel etkinin olup olmadığını belirlemek için bir çok yöntem kullanılır. Zaman serisinde mevsimsel bileşen varsa , veriden mevsimsel dalgalanmaları arındırılması için en çok kullanılan yöntemler mutlak ve  nispi hareketli ortalamalar ve ortalama yüzde yöntemleridir.\n",
    "\n",
    "### Çevrimsel  Bileşen:\n",
    "\n",
    "Mevsimsel değişimle ilişkisi olmayan daha uzun zaman aralığındaki dönemsel değişimdir.Trend doğrusu veya eğrisinin etrafındaki uzun süreli dalgalanmalardır.\n",
    "Örnek olarak;  Ekonominin maksimum olduğu noktada oluşan bir kriz ile birlkte ekonominin düşüşe başlamasını , devamında belli bir süre hareketsizlik gözlenmesi  ,ardından yeniden kıvılcımlarla canlanmaya başlamasını  ve bu sürecin tekrarlanıp devam etmesini  verebiliriz.\n",
    "\n",
    "### Düzensiz Bileşen ( Rassal Bileşen )\n",
    "\n",
    "Rassal veya geçici olarak ortaya çıkan , trend , mevsimsel ve çevrimsel bileşenlerin dışında kalan bileşenelere veya  belirli bir modele uymayan dalgalanmalara düzensiz bileşen denir. Değişimin  zamanı ve şiddeti tahmin edilemez. Serideki yanıltıcı hareketlerdir.\n",
    "\n",
    "\n",
    "### Geleneksel Zaman Serisi Ayrışım Yöntemleri\n",
    "\n",
    "Serinin trend konjonktürel ve mevsimsel etkisi altında kaldığını varsayılmaktadır.\n",
    "Toplamsal Ayrıştırma ( Additive )ve Çarpımsal Araştırma ( Multiplicative ) yöntemleri olmak üzere iki yöntemi vardır.\n",
    "\n",
    "\n",
    "Toplamsal Ayrıştırma ( Additive ) : \n",
    "     \n",
    " $$ \\hat Y_{d_t} = T_{t}+ S_{t}+ C_{t}+ I_{t} $$\n",
    "\n",
    "Çarpımsal Araştırma ( Multiplicative ):\n",
    "   \n",
    " $$ \\hat Y_{d_t} = T_{t}* S_{t}* C_{t}* I_{t} $$\n"
   ]
  },
  {
   "cell_type": "markdown",
   "metadata": {},
   "source": [
    "### Doğrusal Zaman Serisi Analizi: \n",
    "\n",
    "  \n",
    "#### 1-\tOtoregresif Süreç ( AutoRegressive Process )       \n",
    "\n",
    "Otoregresif süreç AR ( p ) ile ifade edilir ve serinin mevcut değeri önceki p adet değere bağlıdır.Başka bir şekilde ifade edilirse, bağımlı değişken geçmişteki değerinin bir fonksiyonudur.( p otoregresif sürecin derecesini vermektedir. )\n",
    "\n",
    "AR (p ): p’ninci dereceden otoregresif süreç: $  Y_{t}  $  değeri sadece bir önceki değerine değil  önceki bir çok değere bağlı olabilir.\n",
    "$$ \\hat Y_{t} = ϵ_{t}+a_{0}+ \\sum_{i=1}^\\ell a_{i}*y_{t-i}  $$                            \n",
    "                     \n",
    "\n",
    "AR(1) : \n",
    "$$ \\hat Y_{t} = a_{0}+ a_{1}*y_{t-1}+ ϵ_{t}  $$  \n",
    "AR(2) : \n",
    "$$ \\hat Y_{t} = a_{0}+ a_{1}*y_{t-1}+ a_{2}*y_{t-2}+ϵ_{t}  $$\n",
    "\n",
    "https://onlinecourses.science.psu.edu/stat501/node/358\n",
    "\n",
    "\n",
    "a : sabit terim \n",
    "\n",
    "$a_{1} ….$ : Gecikmeli değerlerin şimdiki değerle olan ilişkisi\n",
    "\n",
    "ε : hata terimi – rassal  şoklar\n",
    "\n",
    "AR(1) : Birinci mertebeden otoregresif süreç\n",
    "\n",
    "AR(2): Ikinci mertebeden otoregresif süreç\n",
    "\n",
    "\n",
    "Otoregresif süreçlerde AR (1) için durağan olma koşulu  \n",
    "\n",
    "                                                |a1|<1    \n",
    "\n",
    "olmasına bağlıdır.\n",
    "\n",
    "Otoregresif süreçlerde AR (2) için durağan olma koşulu \n",
    "\n",
    "                                                 a1+a2<1\n",
    "\n",
    "                                                  |a2| <1 \n",
    "\n",
    "olmasına bağlıdır.\n",
    "\n",
    "Otoregresif modeli özetlemek gerekirse:\n",
    "                \n",
    "Tüm gecikmeli değerler Yt üzerinde birikimli bir etkiye sahiptir. Dolayısıyla otoregresif modellerin uzun süreli bir etkiye sahiptir. Rassal değişken ile yt arasındaki korelasyon sıfır olduğundan otoregresif modelleri En küçük kareler yöntemini kullanarak tahmin edilebilir. Otoregresif süreçlerde ACF gecikmeden sonra üstel olarak azalmakta ve PACF değeri de sıfır değerini almaktadır. \n",
    "\n",
    "\n",
    "#### 2-\tHareketli Ortalama Süreci ( Moving Average )\n",
    "\n",
    "Serinin gecikmeli hata terimi, şu anda ki hata terimini etkilemesine hareketli ortalama süreci denir. Değişkenin tahmin değeri hata teriminin tahmin değeri ile ilişkilidir.Modelin derecesi geçmiş dönemdeki  hata terim sayısına gore belirlenir. Örneğin geçmiş dönemde bir hata varsa modelin derecesi 1, n tane hata varsa modelin derecesi n olmaktadır. Hareketli ortalama sürece MA (q) olarak ifade edilir\n",
    "$$ \\hat Y_{d_t} = b_{0}+ b_{1}*e_{t-1}+ b_{2}*e_{t-2}+ b_{3}*e_{t-3}+b_{4}*e_{t-4} + .... + b_{q}*e_{t-q}  $$   \n",
    "$$ Y_{t}\\sim  N(0,s^2_{e} ) $$\n",
    "$ b_{1} $: bilinmeyen parametreler \n",
    "\n",
    "b: sabit parametre\n",
    "\n",
    "Hareketli ortalama süreçlerinde q değeri durağan hata terimlerinin ortalamasıdır. Dolayısıyla hareketli ortalama süreçlerinin tamamı durağandır.\n",
    "\n",
    "Hareketli ortalama süreçlerinde PACF sonsuz görüntülenmektedir , bu durum süreç belirlemekte sıkıntılar oluşturmaktadır.\n",
    "\n",
    "#### 3-\tKarma Otoregresif Hareketli Ortalama Süreci (ARMA)\n",
    "\n",
    "Zaman serilerinde veriler bazen hem otokerelasyon hem de kısmi otokorelasyon fonksiyonları belirli bir gecikmede kesilmeden sıfıra doğru çok yavaş hareket edebilir.Bu durumda seri hem otoregresif hem de hareketli ortalama bileşenlerini aynı anda içerebilir. Özetle seri modelini hem AR, hem de MA bileşenleriyle p ve q dereceden olmak üzere ARMA(p,q) olarak tanımlanır \n",
    "\n",
    "Arma sürecinin özetlemek gerekirse:\n",
    " \n",
    "Karma otoregresif harektli ortalama sürecinin (ARMA (p,q ) ) otokorelasyon fonksiyonu, otoregresif sürecin AR(p) sürecinin özelliklerini taşır.\n",
    "\n",
    "\n",
    "ARMA(p,q ) sürecinin kısmi otokorelasyon fonksiyonu:\n",
    "                             \n",
    "a > p-q  => MA(q) sürecinin PACF özelliklerini taşır,\t\n",
    "\n",
    "a <= p-q => MA(q) sürecinin genel bir özelliği yoktur.\n",
    "\n",
    "ARMA(p,q) modelinde büyük gecikme uzunluklarında ACF ve PACF değerleri sıfıra yaklaşır.\n",
    "Model de durağanlığı AR(p) koşulu ile , tersine çevirebilirliği ise MA(q) koşuluyla aynıdır.\n",
    "                      \n",
    "#### 4-\tHomojen Durağan Olmayan Süreç (ARIMA)\n",
    "\n",
    "Fark alma işlemiyle durağan olmayan modellere durağan hale dönüştürülmüş serilere uygulanan modellere “durağan olmayan doğrusal stokastik modeller” denir.Bu tür serilere uygulanan model, arima modelidir. Bu modeller d dereceden farkı alınmış serilere uygulanan, değişkenin t-dönemindeki değerinin belirli sayıdaki geri dönem değerleri ile aynı dönemdeki hata teriminin doğrusal bir fonksiyonu olarak ifade edildiği AR ve değişkenin t-dönemindeki değerinin aynı dönemdeki hata terimi ve belirli sayıda geri dönem hata terimlerinin doğrusal fonksiyonu olarak ifade edildiği MA modellerinin birer birleşimidir. Farklı bir şekilde ifade edilirse , ARIMA , otoregresresif (AR) , entegre (I) ve hareketli ortalama (MA) süreçlerinden oluşur. \n",
    "Modelin gösterimi ARIMA (p, d, q) şeklinde ifade edilir. ( p: otoregresif(AR) , q: hareketli ortalama(MA) ve d: fark alma derecesi)\n",
    "\n",
    "\n",
    "d=1 ise orijinal seri birinci derecen farkı alınarak durağan hale getirilmiştir.\n",
    "\n",
    "\n",
    "d=0 olduğunda orijinal seri zaten durağandır ve farkının alınmasına da gerek yoktur. ARIMA(p,d=0,q)=ARMA(p,q) olur.\n",
    "\n",
    "\n",
    "\n",
    "Örnek olarak ARIMA(3,2,2) alınırsa; zaman serisini durağan olması için farkının iki kez (d= 2) alınması gerekir.ilk farkı alınan  zaman serisini  ARMA(2,2) süreci olarak yazılabilir.Bu süreçte otoregresif modeli (AR) iki terimiyle ve hareketli ortalama modeli (MA) iki terimiyle modellenebilir. \n",
    "Bilgi Kriterleri :\n",
    "Akaiki bilgi kriteri (AIC )44 Schwarz Bayesian kriteri ( BIC45) ve Hannan Quinn bilgi kriteri (HOİC )46\n",
    "Bilgi kriterleri iki bileşeni vardır: \n",
    "- Kalanların karelerinin toplamı \n",
    "- Eklenen her parametrenin neden olduğu serbestik derecesi kaybı için modelin tabi tutulduğu ceza \n",
    "\n",
    "\n",
    "bileşenleridir.Modele eklenen her yeni değişken ,yani  her yeni gecikme, ceza teriminin değerini arttırır. Aynı zamanda kalanların karelerinin değerini düşürmektedir.\n",
    "Akaiki bilgi kriteri  (AIC)  değeri, otoregresif sürecin gecikme derecesinin belirlenmesinde kullanılır.\n",
    "\n",
    "$$ AIC =(-2 / T)*ln L +(2/T)*k $$\n",
    "( ln(L):  en çok benzerlik tahminlerinin benzerlik\n",
    "fonksiyon\n",
    "\n",
    "T:örnek büyüklüğü k parametre sayısıdır.\n",
    "\n",
    "Hareketli ortamala (MA) modelleri için q+(varsa) sabit terim, ARMA modeller için p+q+(varsa) sabit terim . )\n",
    "\n",
    "\n",
    "Schwarz Bayesian bilgi kriteri ( BIC )  değeri, otoregresif sürecin gecikme derecesinin belirlenmesinde kullanılır.\n",
    "\n",
    "$$ BIC = ( -2 / T )*lnL + (k / T )*lnT $$\n",
    "\n",
    "BIC , AIC ile mukayese edildiğinde örnek büyüklüğü orta veya geniş ise gecikme\n",
    "sayısı az olan AR modelin seçimine eğilim söz konusudur.\n",
    "\n",
    "Hannan – Quinn bilgi kriteri ( HQIC )\n",
    "\n",
    "$$ HQIC = ( -2 / T )*lnL +(2k / T )*lnT $$\n",
    "\n",
    "T>=16 ise  tahmin edilen AR derecesi için bilgi kriterlerinin büyüklüğü açısından aşğıdaki sıralamaya yol açmaktadır.\n",
    "BIC derecesi <= HQ derecesi <= AIC derecesi\n"
   ]
  },
  {
   "cell_type": "markdown",
   "metadata": {},
   "source": [
    "### Box-Jenkins Yöntemi (ARIMA) \n",
    "\n",
    "George E.P. BOX ve Gwilym M. JENKINS tarafından durağan tek değişkenli zaman serilerinin analizi için geliştirilen (Yaffee and McGee 2000) ve öngörü uygulamalarında kullanılan Box-Jenkins yöntemi, ARIMA modelleri olarak da adlandırılmaktadır.\n",
    " Box-Jenkis yöntemi ele alınan zaman serisinin özelliklerine göre belirlenen çeşitli modeller arasında uygun olanını seçerek tahmin etme sürecini kapsamaktadır.Zaman serisi modellerinde serinin kendi iç dinamiği önemli olup oluşturulan modeldeki değişken, kendi gecikmeli değerleri ve hata teriminin gecikmeli değerleriyle açıklanmaktadır.\n",
    "Box ve Jenkins uygulama aşamaları:\n",
    "\n",
    "- Yöntemi Belirleme :\n",
    " \n",
    "Durağan zaman serisine ARMA modellerinden herhangi birinin aday olarak belirlenmesi aşamasıdır. Yani ARMA (p,q) modelinde p ve q nun derecesinin bulunması aşamasıdır.Değerleri otoregresif ve hareketli ortalamalar sürecinin özelliklerinden faydalanılarak bulunur. ARMA modelleri otokorelasyon ve kısmi otokorelasyon fonksiyonları sayesinde karakterize edilebilir.\n",
    " \n",
    "- Parametre Tahmini :\n",
    "\n",
    "ARMA modellerinde parametrelerini tahmin edilebilmesi için bir çok yöntem bulunmaktadır.Yöntemler olabilirlik fonksiyonuna dayalı yöntemler ya da eğrisel en küçük kareler yöntemleridir. ARMA modelinin parametreleri olabilirlik fonksiyonunun maksimize edilebilir ya da hata kareler fonksiyonunun minimize edilmesiyle bulunabilir.\n",
    "\n",
    "- Teşhis Etme :\n",
    "\n",
    "Modelin yeterliliğini kontrol edilmesidir.Zaman serisi modeli belirlenip parametreleri tahmin edildikten sonra ayırt edici testler yardımıyla belirlenen modelin ne kadar doğru olduğu ortaya konulabilir. Modelin artık terimleri, test süreci için önemlidir. Belirlenen model yeterli ise artıklar yaklaşık olarak bir beyaz gürültü sürecidir (white noise). Beyaz gürültü sürecinde olması,  ARIMA (p,d,q) modeli öngörü için yeterli düzeydedir.\n",
    "\n",
    " LjungBox testi, Modelin artık terimlerinin standart normal dağılımlı rasgele değişkenlerin dizisinden oluşan bir beyaz gürültü sürecinde olup olmadığının test etmek için kullanılmaktadır.\n"
   ]
  },
  {
   "cell_type": "markdown",
   "metadata": {},
   "source": [
    "### DURAĞANLIK\n",
    "\n",
    "Serinin durağan olması, zaman serisinde  ortalaması, varyansı ve kovaryansı zaman içinde sabit kalmasıyla söylenir. Durağan zaman serisinde ard arda gelen iki değer arasındaki fark zamanın kendisinden kaynaklanmamakta, sadece zaman aralığından kaynaklanmaktadır. Bundan dolayı serinin ortalaması zamanla değişmemektedir. \n",
    "Yt serisi tanımlayalım.\n",
    "\n",
    "$$ E(Y_{t}) = µ $$\n",
    "$$ var(Y_{t}) = γ0 $$\n",
    "$$ cov(Y_{t},Y_{t+k} ) = γ_{k} $$\n",
    "\n",
    "Başlangıç noktasını t’den t + k’ye kaydırdıgımızı düşünelim.\n",
    "\n",
    "Y durağan ise $$ Y_{t} ve Y_{t+k} $$ serilerinin ortalama, varyans ve  kovaryansları aynı olmalıdır.\n",
    "(k = 0 ise $cov(Y_{t}, Y_{t+0}) = var(Y_{t}) = σ^2 $ ’dir)\n",
    "\n",
    "Durağan olmayan seriler birim kök içerirler. Bir serideki birim kök sayısı serinin durağan olana dek alınması gereken fark sayısına eşittir.Yt serisi d= 1 farkı alınınca durağan hale geliyorsa seri 1. dereceden durağandır denir ve I(1) olarak gösterilir. Genel olarak seri d kez farkı alınınca durağan oluyorsa seri d. dereceden durağandır denir ve I(d) ile gösterilir\n",
    ".\n",
    "#### Trend Durağanlık ve Fark Durağanlık\n",
    "\n",
    "Trend durağan olmayan süreçler için durağanlaştırmak için  iki temel yöntem vardır:\n",
    "\n",
    "- Durağan olmayan zaman serisi için kurulacak regresyon denkleminde, seri trend (zaman) üzerine regrese edilir. Daha sonra bu regresyondan elde edilen kalıntılar üzerinde analizler yapılır.\n",
    "- Zaman serisine trend bir regresör olarak ilave edilerek gerekli analizler yapılır.\n",
    "\n",
    "$$Y_t = \\mu + B_t + e_t$$\n",
    "\n",
    "($Y_t$: deterministik trend,et ~ IID(0,): durağan stokastik bileşen)\n",
    "\n",
    "Rassal Yürüyüş:\n",
    "\n",
    "Rastsal yürüyüşü en basit şekilde şöyle gösterilir:\n",
    "\n",
    "$$ Y_{t} = Y_{t−1} + u_{t} $$ ( $ u_{t} $: beyaz gürültü)\n",
    "\n",
    "Markov 1.derece özbağlanımsal tasarımla rastsal yürüyüş bağlantısı :\n",
    "\n",
    "$$ Y_{t} = ρ* Y_{t−1} + u_{t}  ,  −1 < ρ < 1 $$   \n",
    "  \n",
    "Rastsal yürüyüşte ρ = 1 oldugu için, bu sürece ˘ “birim kök” (unit root) süreci de denilmektedir.Rastsal yürüyüş sürecinde ut sarsıntıları kalıcıdır:\n",
    "\n",
    "$$ Y_{1} = Y_{0} + u_{1} $$\n",
    "$$ Y_{2} = Y_{1} + u_{2} = Y_{0} + u_{1} + u_{2} $$\n",
    "$$ Y_{3} = Y_{2} + u_{3} = Y_{0} + u_{1} + u_{2} + u_{3} $$\n",
    "T dönemindeki deger :\n",
    "\n",
    "$$ Y_{t} = Y_{0} + (Sum Sembolü) u_{t}  $$\n",
    "\n",
    "Herhangi bir dönemdeki değerin daha önceki tüm rastsal sarsıntıların toplamı olmasına, rastsal yürüyüşün “sonsuz\n",
    "bellek” (infinite memory) özelligi de denir.\n",
    "$ E(u_{t}) = 0 $ oldugundan, $ E(Y_{t}) = Y_{t} $ olduguna dikkat edelir.\n",
    "Başka bir ifadeyle $ Y_{t} $ ’nin ortalaması sabittir.Rastsal hatalar toplandıgı için,  $ var(Y_{t})  $ sürekli artmakta ve böylece duraganlık varsayımı engellenmemiş olmaktadır. $ Y_{t} $ ’nin varyansının $  var(Y_{t}) = tσ^2 $oldugu gösterilebilir. Buna göre, t sonsuza giderken varyans da sonsuza gitmektedir\n",
    "\n",
    "### Durağanlık Analizi\n",
    "\n",
    "Durağanlık analizini grafiksel analiz, kolegram analiz ve birim kök analizi kullanılarak yapılmaktadır. \n",
    "\n",
    "#### Birim Kök Analizi\n",
    "Serinin durağanlığını ve durağanlık derecesini belirlemede kullanılır.Birim Kök Analizi'nde 5 farklı yöntem bulunmaktadır.\n",
    "\n",
    "- Dickey Fuller Testi (DF)\n",
    "- Genişletilmiş Dickey-Fuller Testi (ADF) \n",
    "- Phillips- Perron Testi (PP)\n",
    "- Kwiatkowski-Phillips-Schmidt-Shin  Testi (Kpss)\n",
    "- Ng Perron Testi\n",
    "\n",
    "En çok kullanılan DF,ADF ve PP testleridir.\n",
    "\n",
    "##### Dickey Fuller Testi (DF)\n",
    "\n",
    "Serinin durağan olmadığı (birim köke sahip olduğu) boş hipotezinin , durağan olduğu (birim kök olmadığı ) alternatif hipotezine göre sınanmasıdır.\n",
    "$ Y_{t} $ değişkeninin bu dönemde aldığı değerin geçen dönemdeki değeri olan ile ilişkisi,\n",
    "$$ Y_{t}=p*Y_{t-1} + u_{t} $$ \n",
    "şeklinde ifade edilir. ($ u_{t}$: kalıntı terim )\n",
    "\n",
    "Yukarıdaki model 1. dereceden otoregresif AR(1) modelidir.ρ katsayısı 1 eşit olursa birim kök sorunu (durağan olmama durumu) ortaya çıkmaktadır ve model\n",
    "$p=1$ ise $$ Y_{t}=Y_{t-1} + u_{t} $$ \n",
    "şeklini almaktadır.\n",
    "Sonuç bir önceki dönemde iktisadi değişkenin değerinin ve dolayısıyla o dönemde maruz kaldığı şokun olduğu gibi sistemde kalması anlamına gelir. Bu şokların kalıcı nitelikte olması serinin durağan olmaması ve zaman içinde gösterdiği trendin stokastik olması anlamına gelir.\n",
    "\n",
    "$p<1 $ ise geçmiş dönemlerdeki şoklar belli bir süreetkilerini sürdürseler de, bu etki giderek azalacak ve kısa bir dönem sonra tamamen ortadan kalkacaktır.\n",
    "\n",
    "##### Genişletilmiş Dickey-Fuller Testi (ADF)\n",
    "\n",
    "Dickey-Fuller testi, hata terimlerinin otokorelasyon içermesi halinde kullanılamamaktadır. Zaman serisinin gecikmeli değerleri kullanılarak hata terimindeki otokorelasyon ortadan kaldırılabilmektedir. Dickey-Fuller bağımlı değişkenin gecikmeli değerlerini, bağımsız değişken olarak modele dahil eden yeni bir test geliştirmiştir. Bu test Genişletilmiş Dickey-Fuller testidir. Burada gecikmeli değişkene ait uygun gecikme mertebesi belirlenirken Akaike ve Schwarz kriterlerinden\n",
    "yararlanılmaktadır.\n",
    "\n",
    "ADF denklemi :\n",
    "$$\\delta Y_{t}= a+ b_{t}+\\gamma Y_{t-1}+ u_{t-1} +c\\sum_{i=1}^n  \\delta Y_{t} $$  \n",
    "$\\delta$ : delta\n",
    "\n",
    "##### Phillips- Perron Testi (PP)\n",
    "\n",
    "Phillips-Perron birim kök testi ise hata teriminin zayıf derecede bağımlı olmasına ve heterojen olarak dağılmasına izin vermektedir. Bu sayede otokorelasyon sorunu ortaya çıkmamaktadır. \n",
    "\n",
    "##### Kwiatkowski-Phillips-Schmidt-Shin  Testi (Kpss)\n",
    "\n",
    "KPSS  testinde amaç gözlenen serideki deterministik trendi arındırarak serinin durağan olmasını sağlamaktır. Bu testte\n",
    "kurulan birim kök hipotezi ADF testinde kurulan hipotezlerden farklıdır. Sıfır hipotezi serinin durağan olduğunu ve birim kök içermediğini, buna karşın alternatif hipotez ise seride birim kök olduğunu ve durağan olmadığını ifade eder. Boş\n",
    "hipotezdeki durağanlık trend durağanlıktır. Çünkü seriler trendden arındırılmışlardır. \n",
    "\n",
    "Trendden arındırılan seride birim kök olmaması, serinin trend durağanlığını gösterir. KPSS testinin en önemli özelliği bir veya daha büyük bir MA yapısı içeren serilerde ADF’ nin aksine gücünün azalmamasıdır.\n",
    "\n",
    " KPSS testi LM testi ile benzer biçimde belirlenmektedir. Dolayısıyla LM istatistiğinin oluşumu önemlidir. LM testinde boş hipotez, rassal yürüyüşün sıfır varyansa sahip olduğunu ve serinin deterministik trend, rassal yürüyüş ve durağan\n",
    "kalıntılar toplamından oluştuğunu ima eder.\n",
    "\n",
    "##### Ng Perron Testi\n",
    "\n",
    "Ng-Perron birim kök testi, Phillips-Perron birim kök testinde ortaya çıkan hata teriminin hacmindeki çarpıklığın düzeltilmesi için geliştirilmiştir.PP testinde serilerde negatif hareketli ortalama yapısı olduğunda, büyük oranda hata teriminde nörneklem çarpıklığı olmaktadır. DF testlerinde bu durum çok büyük bir sorun yaratmamaktadır.\n",
    "\n",
    "NG - Perron testi bu nedenle PP testlerini ve bilgi kriterlerini modifiye etmektedir.MSB ve MPT lerde sıfır hipotezi birim kökün olmadığını , alternatif hipotez ise birim kökün varlığını ifade eder.\n",
    " \n",
    " \n",
    " adf.test ve pp.test için:\n",
    "- H0: birim kök içerir.\n",
    "- HA: birim kök içermez, durağandır.\n",
    "\n",
    "kpss.test için:\n",
    "- H0: level veya trend durağandır.\n",
    "- HA: durağan değildir.\n",
    "\n",
    "Test sonuçlarına göre p-value (test istatistiğinin olasılık değeri) %5'den küçük ise (%95 güven seviyesinde) testin boş hipotezi ret edilir. \n"
   ]
  },
  {
   "cell_type": "markdown",
   "metadata": {},
   "source": [
    "### Normallik Testi- Shapiro Wilk Test\n",
    "Veri seti üzerinde yapılan bir çok veri analizi verinin normal dağıldığı varsayımına dayanır. Veri analizine başlamadan önce verinin normal dağılıma uygun olup olmadığına bakılmalıdır. Normallik kontrolü için yaygın olarak kullanılan testlerden birisi de Shapiro-Wilks testidir.\n",
    "\n",
    "Shapiro-Wilk (1965) testi, verinin sıra istatistiklerinin uygun bir lineer bileşeninin karesinin, kareler toplamına bölümü uygulanarak elde edilir. \n",
    "\n",
    "$$  W = [(\\sum_{i=1}^n a_{i}*x_{i})^2 ]/ \\sum_{i=1}^n x_{i}*x^-_{i} $$   \n",
    "$$  a_{i}=(a_{1},a_{2},...,a_{n}) = (m_{i}*(1/V)) / [(m_{i}*(1/V)*(1/V)*m)]^(0.5) $$\n",
    "$  m_{i}=(m_{1},m_{2},...,m_{n})$: standart normal dağılımda  N(0,1)’ da  n adet sıra istatistiğinin beklenen değerlerinin vektörünü ifade eder.\n",
    "\n",
    "$ V=v_{ij} $:  sıra istatistiklerinin varyans kovaryans matrisini ifade eder.\n",
    " \n",
    "Sadece numeric (numeric factor) veriyi, argüman olarak shapiro.test(veri) fonksiyonuna eklenir.\n",
    "\n"
   ]
  },
  {
   "cell_type": "markdown",
   "metadata": {},
   "source": [
    "### Otokorelasyon Fonksiyonu (ACF )\n",
    "\n",
    "Otokorelasyon katsayısı, zaman serisiyle bu serinin gecikmeli serileri arasındaki ilişkiyi gösterir.Serideki bütün gecikmeler otokorelasyon fonksiyonunu oluşturmaktadır.Otokorelasyona; ihmal edilen değişkenler, modelin fonksiyonel biçiminin doğru belirlenmemesi, verilerle ilgili ölçme hataları, tesadüfi olarak ortaya çıkan savaş, kuraklık gibi olayların, etkilerini ortaya çıktıkları dönemlerden sonra da sürdürmesi neden olabilirler.\n",
    "\n",
    "$$ E(u_{i},u_{j})=0 i≠j $$\n",
    "\n",
    "şeklinde ifade edilir.\n",
    "\n",
    "Hata terimleri arasında bir ilişki varsa yani otokorelasyon durumu söz konusu ise\n",
    "$$ E(u_{i},u_{j})≠0 i≠j $$\n",
    "şeklinde ifade edilir.\n",
    "\n",
    "Otokorelasyon durumunda parametrelerin en küçük kareler tahmincileri sapmasız ve tutarlıdır,ancak  etkin değildir. Hata teriminin varyansının tahmincisi sapmalıdır ve bu yüzden parametrelerin varyansları da sapmalı olur. Pozitif otokorelasyon varsa sapma negatif olur. Varyanslar olduğundan küçük bulunur. Bunun sonucunda t test istatistiği değeri büyük çıkar. Böylece anlamsız bir katsayının anlamlı olma olasılığı artar. R2 de yükselir. Dolayısıyla F değeri olduğundan büyük bulunur. Sonuç olarak t ve F testleri güvenilirliğini yitirip yanıltıcı sonuç verirler.\n",
    "Otokorelasyonu durumunu göstermek için 2 yöntem kullanılır. \n",
    "- Grafik Yorumu\n",
    "- Otokorelasyon Testleri ( Durbin-Watson d , Wallis , King ,Breush ve Godfrey)\n",
    "\n",
    "##### Otokorelasyon Testleri\n",
    "\n",
    "######  Durbin- Watson d Testi\n",
    "\n",
    "Sabit parametresi olan modellerde 1.dereceden otokorelasyonun varligini test etmek icin kullanilir.\n",
    "\n",
    "Durbin Tablo Degeri:\n",
    "\n",
    "Testin aşamaları;\n",
    "- Hipotez yazılır\n",
    "\n",
    "H0: p=0\n",
    "HA: p≠0\n",
    "\n",
    "- Anlamlılık seviyesi seçilir.\n",
    "\n",
    "a=0.05  \n",
    "\n",
    "- Durbin Watson d istatistiği hesaplanır.\n",
    "\n",
    "d=2(1-p)\n",
    "         \n",
    "- Karar :\n",
    "\n",
    "alfa=0.05, k’ = bagimsiz degisken sayisi, n=gozlem sayisi degeleri ile tablodan dU ve dL degerleri bulunur.\n",
    "\n",
    "0<d < dL ise pozitif otokorelasyon vardır.\n",
    "\n",
    "dL≤ d ≤ dU ise karar verilmemektedir.\n",
    "\n",
    "dU< d <4- dU ise otokorelasyon yoktur.\n",
    "\n",
    "4-dU≤ d ≤4- dL ise karar verilmemektedir.\n",
    "\n",
    "4- dL<d<4 ise negatif otokorelasyon vardır.\n",
    "\n",
    "Model sabit terimsiz ise,bağımsız X değişkenleri stokastikse, otokorelasyonun derecesi 1’den büyük ise,zaman serisinde ara yıllar noksan ise, modelde bağımsız değişken olarak gecikmeli bağımlı değişken varsa  dw testi uygulanamaz.\n",
    "\n",
    "###### Wellis Testi:\n",
    "\n",
    "3’er aylik verilerde 4.dereceden otokorelasyon varligini test etmek icin kullanilir.\n",
    "Durbin Watson testinin, 4.dereceden otokorelasyon varligini test etmek icin duzenlenmis halidir.\n",
    "###### Breush ve Godfrey Testi:\n",
    "Yuksek dereceden otokorelasyonun varliginin test edilmesi icin kullanilir.Orjinal denklemde bagimli degiskenin gecikmeli halinin bagimsiz degiskenler arasinda yer almasi durumunda da kullanilir.\n",
    "\n",
    "Bagimli degisken: Orjinal model kalintilari\n",
    "\n",
    "Bagimsiz degiskenler: Orjinal modelin aciklayici degiskenleri ve incelenen otokorelasyonun derecesi sayisinda gecikme katsayisi modelde yer alir.\n",
    "\n",
    "Örneğin 2.dereceden otokorelasyonun varligi arastiriliyorsa, orjinal modelin bagimsiz degiskenleri ve $$ u*t-1, u*t-2 $$  katsayilari yeni modelde bagimsiz degiskenler arasinda yer alir.\n",
    "Test istatistigi: $$ n*R{_2} $$ ile yeni modelin karesi hesaplanir, n ile carpilarak test istatistigi elde edilir.\n",
    "\n",
    "### Kısmi Otokorelasyon Fonksiyonu (PACF )\n",
    "Kısmi korelasyon PACF ise, gecikmeli değişkenler arasındaki ilişkiyi ifade eder.Zaman serilerinin durağan olması demek, zaman içinde varyansın ve ortalamanın sabit olması ve gecikmeli iki zaman periyodundaki değişkenlerin kovaryansının değişkenler arasındaki gecikmeye bağlı olup, zamana bağlı olmamasıdır."
   ]
  },
  {
   "cell_type": "markdown",
   "metadata": {},
   "source": [
    "#### Verinin Yayıncısı: U.S. Energy Information Administration Data\n",
    "\n",
    "ABD ulusal ve devlet verilerinin;elektrik, kömür, doğal gaz ve petrol gibi tüm ana enerji ürünleri üzerindeki üretim, tüketim ve diğer göstergelere ilişkisini göstermektedir.\n",
    "#### Verinin Adı:   Natural Gas Futures Contract 3 \n",
    "\n",
    "ABD ulusal ve devlet verilerinin;doğal gaz üretim, tüketim ve diğer göstergelere ilişkisini göstermektedir.Veri zaman serisi olarak ilerlemektedir.\n",
    "#### Verinin Sıklığı: Aylık\n",
    "\n",
    "#### Verinin Zaman Aralığı: 31.01.1994- 31.03.2018\n",
    "\n",
    "#### Verinin Alındığı Yer: Quandl\n",
    "\n",
    "Quandl yatırım profesyonellerine hizmet veren finansal, ekonomik ve alternatif veriler için bir platformdur.Verileri 500'den fazla yayıncıdan sağlar. Quandl’ın verilerine bir API aracılığıyla erişilebilir. Bir çok programlama dili için API erişimi (R, Python, Matlab, Maple ve Stata) vardır. \n",
    "\n",
    "Excel eklentisi, stok fiyat bilgisi dahil olmak üzere verilere erişim sağlar.\n",
    "\n"
   ]
  },
  {
   "cell_type": "code",
   "execution_count": 72,
   "metadata": {
    "collapsed": true
   },
   "outputs": [],
   "source": [
    "data<-Quandl(\"EIA/NG_RNGC3_M\", api_key=\"BtbwkANCR4aHKBscujRb\", collapse=\"monthly\")"
   ]
  },
  {
   "cell_type": "markdown",
   "metadata": {},
   "source": [
    "Veriyi quandl veri sitesinden alıyoruz. Veri iki sütundan oluşmaktadır. İlk sütun tarih ikinci sütun ise kullanım miktarıdır."
   ]
  },
  {
   "cell_type": "code",
   "execution_count": 73,
   "metadata": {
    "collapsed": true
   },
   "outputs": [
    {
     "data": {
      "text/html": [
       "<ol class=list-inline>\n",
       "\t<li>2.784</li>\n",
       "\t<li>2.695</li>\n",
       "\t<li>2.8</li>\n",
       "\t<li>2.737</li>\n",
       "\t<li>3.149</li>\n",
       "\t<li>3.203</li>\n",
       "\t<li>3.229</li>\n",
       "\t<li>3.023</li>\n",
       "\t<li>2.988</li>\n",
       "\t<li>3.013</li>\n",
       "\t<li>3.346</li>\n",
       "\t<li>3.344</li>\n",
       "\t<li>3.14</li>\n",
       "\t<li>3.067</li>\n",
       "\t<li>3.294</li>\n",
       "\t<li>3.547</li>\n",
       "\t<li>3.047</li>\n",
       "\t<li>3.446</li>\n",
       "\t<li>3.193</li>\n",
       "\t<li>2.93</li>\n",
       "\t<li>2.798</li>\n",
       "\t<li>2.704</li>\n",
       "\t<li>2.311</li>\n",
       "\t<li>2.231</li>\n",
       "\t<li>2.011</li>\n",
       "\t<li>2.068</li>\n",
       "\t<li>2.301</li>\n",
       "\t<li>2.156</li>\n",
       "\t<li>2.465</li>\n",
       "\t<li>2.726</li>\n",
       "\t<li>2.875</li>\n",
       "\t<li>2.883</li>\n",
       "\t<li>2.849</li>\n",
       "\t<li>2.807</li>\n",
       "\t<li>2.92</li>\n",
       "\t<li>2.69</li>\n",
       "\t<li>2.821</li>\n",
       "\t<li>2.806</li>\n",
       "\t<li>2.883</li>\n",
       "\t<li>3.496</li>\n",
       "\t<li>4.299</li>\n",
       "\t<li>3.959</li>\n",
       "\t<li>4.06</li>\n",
       "\t<li>4.002</li>\n",
       "\t<li>4.038</li>\n",
       "\t<li>4.578</li>\n",
       "\t<li>4.532</li>\n",
       "\t<li>4.658</li>\n",
       "\t<li>4.484</li>\n",
       "\t<li>4.556</li>\n",
       "\t<li>4.188</li>\n",
       "\t<li>4.249</li>\n",
       "\t<li>3.694</li>\n",
       "\t<li>3.875</li>\n",
       "\t<li>3.858</li>\n",
       "\t<li>3.569</li>\n",
       "\t<li>3.667</li>\n",
       "\t<li>3.825</li>\n",
       "\t<li>4.134</li>\n",
       "\t<li>4.245</li>\n",
       "\t<li>3.852</li>\n",
       "\t<li>3.431</li>\n",
       "\t<li>3.403</li>\n",
       "\t<li>3.488</li>\n",
       "\t<li>3.808</li>\n",
       "\t<li>3.911</li>\n",
       "\t<li>3.332</li>\n",
       "\t<li>3.034</li>\n",
       "\t<li>2.994</li>\n",
       "\t<li>2.576</li>\n",
       "\t<li>2.624</li>\n",
       "\t<li>2.274</li>\n",
       "\t<li>2.509</li>\n",
       "\t<li>2.79</li>\n",
       "\t<li>2.852</li>\n",
       "\t<li>3.311</li>\n",
       "\t<li>3.694</li>\n",
       "\t<li>4.002</li>\n",
       "\t<li>4.175</li>\n",
       "\t<li>4.137</li>\n",
       "\t<li>4.37</li>\n",
       "\t<li>4.566</li>\n",
       "\t<li>4.436</li>\n",
       "\t<li>4.406</li>\n",
       "\t<li>4.207</li>\n",
       "\t<li>4.142</li>\n",
       "\t<li>4.492</li>\n",
       "\t<li>4.291</li>\n",
       "\t<li>4.211</li>\n",
       "\t<li>4.176</li>\n",
       "\t<li>4.35</li>\n",
       "\t<li>4.495</li>\n",
       "\t<li>4.659</li>\n",
       "\t<li>4.876</li>\n",
       "\t<li>4.323</li>\n",
       "\t<li>4.3</li>\n",
       "\t<li>4.447</li>\n",
       "\t<li>5.272</li>\n",
       "\t<li>5.532</li>\n",
       "\t<li>5.402</li>\n",
       "\t<li>5.018</li>\n",
       "\t<li>5.83</li>\n",
       "\t<li>5.123</li>\n",
       "\t<li>4.57</li>\n",
       "\t<li>3.975</li>\n",
       "\t<li>4.25</li>\n",
       "\t<li>4.168</li>\n",
       "\t<li>3.84</li>\n",
       "\t<li>4.211</li>\n",
       "\t<li>4.501</li>\n",
       "\t<li>5.127</li>\n",
       "\t<li>5.844</li>\n",
       "\t<li>6.864</li>\n",
       "\t<li>7.261</li>\n",
       "\t<li>8.17</li>\n",
       "\t<li>8.815</li>\n",
       "\t<li>11.26</li>\n",
       "\t<li>12.913</li>\n",
       "\t<li>11.588</li>\n",
       "\t<li>10.501</li>\n",
       "\t<li>9.775</li>\n",
       "\t<li>8.713</li>\n",
       "\t<li>7.943</li>\n",
       "\t<li>7.286</li>\n",
       "\t<li>8.147</li>\n",
       "\t<li>8.201</li>\n",
       "\t<li>7.718</li>\n",
       "\t<li>7.284</li>\n",
       "\t<li>6.763</li>\n",
       "\t<li>7.725</li>\n",
       "\t<li>8.094</li>\n",
       "\t<li>7.916</li>\n",
       "\t<li>7.48</li>\n",
       "\t<li>7.672</li>\n",
       "\t<li>6.9</li>\n",
       "\t<li>7.324</li>\n",
       "\t<li>8.435</li>\n",
       "\t<li>8.251</li>\n",
       "\t<li>8.333</li>\n",
       "\t<li>9.114</li>\n",
       "\t<li>6.834</li>\n",
       "\t<li>6.918</li>\n",
       "\t<li>6.894</li>\n",
       "\t<li>7.722</li>\n",
       "\t<li>7.335</li>\n",
       "\t<li>7.84</li>\n",
       "\t<li>9.203</li>\n",
       "\t<li>13.353</li>\n",
       "\t<li>12.267</li>\n",
       "\t<li>14.178</li>\n",
       "\t<li>13.024</li>\n",
       "\t<li>9.884</li>\n",
       "\t<li>7.727</li>\n",
       "\t<li>7.308</li>\n",
       "\t<li>6.631</li>\n",
       "\t<li>7.342</li>\n",
       "\t<li>7.245</li>\n",
       "\t<li>6.342</li>\n",
       "\t<li>6.159</li>\n",
       "\t<li>6.855</li>\n",
       "\t<li>8.246</li>\n",
       "\t<li>8.819</li>\n",
       "\t<li>6.594</li>\n",
       "\t<li>6.229</li>\n",
       "\t<li>6.205</li>\n",
       "\t<li>6.4</li>\n",
       "\t<li>6.5</li>\n",
       "\t<li>5.907</li>\n",
       "\t<li>5.674</li>\n",
       "\t<li>5.241</li>\n",
       "\t<li>5.51</li>\n",
       "\t<li>5.998</li>\n",
       "\t<li>5.001</li>\n",
       "\t<li>5.481</li>\n",
       "\t<li>5.155</li>\n",
       "\t<li>5.256</li>\n",
       "\t<li>5.097</li>\n",
       "\t<li>6.021</li>\n",
       "\t<li>6.042</li>\n",
       "\t<li>5.465</li>\n",
       "\t<li>5.441</li>\n",
       "\t<li>5.587</li>\n",
       "\t<li>5.01</li>\n",
       "\t<li>4.64</li>\n",
       "\t<li>4.078</li>\n",
       "\t<li>4.348</li>\n",
       "\t<li>4.094</li>\n",
       "\t<li>3.461</li>\n",
       "\t<li>3.019</li>\n",
       "\t<li>3.343</li>\n",
       "\t<li>3.671</li>\n",
       "\t<li>3.476</li>\n",
       "\t<li>3.083</li>\n",
       "\t<li>2.387</li>\n",
       "\t<li>2.252</li>\n",
       "\t<li>2.75</li>\n",
       "\t<li>3.022</li>\n",
       "\t<li>3.065</li>\n",
       "\t<li>2.891</li>\n",
       "\t<li>3.219</li>\n",
       "\t<li>3.309</li>\n",
       "\t<li>3.918</li>\n",
       "\t<li>4.384</li>\n",
       "\t<li>5.294</li>\n",
       "\t<li>5.287</li>\n",
       "\t<li>5.441</li>\n",
       "\t<li>6.027</li>\n",
       "\t<li>7.337</li>\n",
       "\t<li>5.455</li>\n",
       "\t<li>5.151</li>\n",
       "\t<li>5.335</li>\n",
       "\t<li>4.526</li>\n",
       "\t<li>3.981</li>\n",
       "\t<li>4.258</li>\n",
       "\t<li>3.612</li>\n",
       "\t<li>3.058</li>\n",
       "\t<li>2.868</li>\n",
       "\t<li>2.591</li>\n",
       "\t<li>2.396</li>\n",
       "\t<li>2.403</li>\n",
       "\t<li>2.586</li>\n",
       "\t<li>3.055</li>\n",
       "\t<li>2.977</li>\n",
       "\t<li>2.948</li>\n",
       "\t<li>2.378</li>\n",
       "\t<li>2.393</li>\n",
       "\t<li>2.315</li>\n",
       "\t<li>2.201</li>\n",
       "\t<li>1.857</li>\n",
       "\t<li>1.82</li>\n",
       "\t<li>1.86</li>\n",
       "\t<li>1.954</li>\n",
       "\t<li>2.38</li>\n",
       "\t<li>2.548</li>\n",
       "\t<li>2.479</li>\n",
       "\t<li>2.168</li>\n",
       "\t<li>2.22</li>\n",
       "\t<li>2.234</li>\n",
       "\t<li>2.249</li>\n",
       "\t<li>2.524</li>\n",
       "\t<li>2.312</li>\n",
       "\t<li>2.312</li>\n",
       "\t<li>2.11</li>\n",
       "\t<li>2.286</li>\n",
       "\t<li>2.803</li>\n",
       "\t<li>3.236</li>\n",
       "\t<li>3.043</li>\n",
       "\t<li>2.589</li>\n",
       "\t<li>2.14</li>\n",
       "\t<li>2.168</li>\n",
       "\t<li>2.263</li>\n",
       "\t<li>2.073</li>\n",
       "\t<li>1.978</li>\n",
       "\t<li>1.995</li>\n",
       "\t<li>2.393</li>\n",
       "\t<li>2.817</li>\n",
       "\t<li>2.571</li>\n",
       "\t<li>2.572</li>\n",
       "\t<li>2.272</li>\n",
       "\t<li>2.222</li>\n",
       "\t<li>2.485</li>\n",
       "\t<li>2.572</li>\n",
       "\t<li>2.307</li>\n",
       "\t<li>2.277</li>\n",
       "\t<li>2.1</li>\n",
       "\t<li>2.056</li>\n",
       "\t<li>1.964</li>\n",
       "\t<li>1.995</li>\n",
       "\t<li>1.858</li>\n",
       "\t<li>1.889</li>\n",
       "\t<li>1.883</li>\n",
       "\t<li>1.745</li>\n",
       "\t<li>1.605</li>\n",
       "\t<li>1.719</li>\n",
       "\t<li>1.801</li>\n",
       "\t<li>1.745</li>\n",
       "\t<li>1.639</li>\n",
       "\t<li>1.492</li>\n",
       "\t<li>1.49</li>\n",
       "\t<li>1.694</li>\n",
       "\t<li>1.873</li>\n",
       "\t<li>2.037</li>\n",
       "\t<li>2.066</li>\n",
       "\t<li>2.031</li>\n",
       "\t<li>2.083</li>\n",
       "\t<li>2.15</li>\n",
       "\t<li>2.038</li>\n",
       "\t<li>2.139</li>\n",
       "\t<li>2.118</li>\n",
       "\t<li>2.168</li>\n",
       "\t<li>2.116</li>\n",
       "</ol>\n"
      ],
      "text/latex": [
       "\\begin{enumerate*}\n",
       "\\item 2.784\n",
       "\\item 2.695\n",
       "\\item 2.8\n",
       "\\item 2.737\n",
       "\\item 3.149\n",
       "\\item 3.203\n",
       "\\item 3.229\n",
       "\\item 3.023\n",
       "\\item 2.988\n",
       "\\item 3.013\n",
       "\\item 3.346\n",
       "\\item 3.344\n",
       "\\item 3.14\n",
       "\\item 3.067\n",
       "\\item 3.294\n",
       "\\item 3.547\n",
       "\\item 3.047\n",
       "\\item 3.446\n",
       "\\item 3.193\n",
       "\\item 2.93\n",
       "\\item 2.798\n",
       "\\item 2.704\n",
       "\\item 2.311\n",
       "\\item 2.231\n",
       "\\item 2.011\n",
       "\\item 2.068\n",
       "\\item 2.301\n",
       "\\item 2.156\n",
       "\\item 2.465\n",
       "\\item 2.726\n",
       "\\item 2.875\n",
       "\\item 2.883\n",
       "\\item 2.849\n",
       "\\item 2.807\n",
       "\\item 2.92\n",
       "\\item 2.69\n",
       "\\item 2.821\n",
       "\\item 2.806\n",
       "\\item 2.883\n",
       "\\item 3.496\n",
       "\\item 4.299\n",
       "\\item 3.959\n",
       "\\item 4.06\n",
       "\\item 4.002\n",
       "\\item 4.038\n",
       "\\item 4.578\n",
       "\\item 4.532\n",
       "\\item 4.658\n",
       "\\item 4.484\n",
       "\\item 4.556\n",
       "\\item 4.188\n",
       "\\item 4.249\n",
       "\\item 3.694\n",
       "\\item 3.875\n",
       "\\item 3.858\n",
       "\\item 3.569\n",
       "\\item 3.667\n",
       "\\item 3.825\n",
       "\\item 4.134\n",
       "\\item 4.245\n",
       "\\item 3.852\n",
       "\\item 3.431\n",
       "\\item 3.403\n",
       "\\item 3.488\n",
       "\\item 3.808\n",
       "\\item 3.911\n",
       "\\item 3.332\n",
       "\\item 3.034\n",
       "\\item 2.994\n",
       "\\item 2.576\n",
       "\\item 2.624\n",
       "\\item 2.274\n",
       "\\item 2.509\n",
       "\\item 2.79\n",
       "\\item 2.852\n",
       "\\item 3.311\n",
       "\\item 3.694\n",
       "\\item 4.002\n",
       "\\item 4.175\n",
       "\\item 4.137\n",
       "\\item 4.37\n",
       "\\item 4.566\n",
       "\\item 4.436\n",
       "\\item 4.406\n",
       "\\item 4.207\n",
       "\\item 4.142\n",
       "\\item 4.492\n",
       "\\item 4.291\n",
       "\\item 4.211\n",
       "\\item 4.176\n",
       "\\item 4.35\n",
       "\\item 4.495\n",
       "\\item 4.659\n",
       "\\item 4.876\n",
       "\\item 4.323\n",
       "\\item 4.3\n",
       "\\item 4.447\n",
       "\\item 5.272\n",
       "\\item 5.532\n",
       "\\item 5.402\n",
       "\\item 5.018\n",
       "\\item 5.83\n",
       "\\item 5.123\n",
       "\\item 4.57\n",
       "\\item 3.975\n",
       "\\item 4.25\n",
       "\\item 4.168\n",
       "\\item 3.84\n",
       "\\item 4.211\n",
       "\\item 4.501\n",
       "\\item 5.127\n",
       "\\item 5.844\n",
       "\\item 6.864\n",
       "\\item 7.261\n",
       "\\item 8.17\n",
       "\\item 8.815\n",
       "\\item 11.26\n",
       "\\item 12.913\n",
       "\\item 11.588\n",
       "\\item 10.501\n",
       "\\item 9.775\n",
       "\\item 8.713\n",
       "\\item 7.943\n",
       "\\item 7.286\n",
       "\\item 8.147\n",
       "\\item 8.201\n",
       "\\item 7.718\n",
       "\\item 7.284\n",
       "\\item 6.763\n",
       "\\item 7.725\n",
       "\\item 8.094\n",
       "\\item 7.916\n",
       "\\item 7.48\n",
       "\\item 7.672\n",
       "\\item 6.9\n",
       "\\item 7.324\n",
       "\\item 8.435\n",
       "\\item 8.251\n",
       "\\item 8.333\n",
       "\\item 9.114\n",
       "\\item 6.834\n",
       "\\item 6.918\n",
       "\\item 6.894\n",
       "\\item 7.722\n",
       "\\item 7.335\n",
       "\\item 7.84\n",
       "\\item 9.203\n",
       "\\item 13.353\n",
       "\\item 12.267\n",
       "\\item 14.178\n",
       "\\item 13.024\n",
       "\\item 9.884\n",
       "\\item 7.727\n",
       "\\item 7.308\n",
       "\\item 6.631\n",
       "\\item 7.342\n",
       "\\item 7.245\n",
       "\\item 6.342\n",
       "\\item 6.159\n",
       "\\item 6.855\n",
       "\\item 8.246\n",
       "\\item 8.819\n",
       "\\item 6.594\n",
       "\\item 6.229\n",
       "\\item 6.205\n",
       "\\item 6.4\n",
       "\\item 6.5\n",
       "\\item 5.907\n",
       "\\item 5.674\n",
       "\\item 5.241\n",
       "\\item 5.51\n",
       "\\item 5.998\n",
       "\\item 5.001\n",
       "\\item 5.481\n",
       "\\item 5.155\n",
       "\\item 5.256\n",
       "\\item 5.097\n",
       "\\item 6.021\n",
       "\\item 6.042\n",
       "\\item 5.465\n",
       "\\item 5.441\n",
       "\\item 5.587\n",
       "\\item 5.01\n",
       "\\item 4.64\n",
       "\\item 4.078\n",
       "\\item 4.348\n",
       "\\item 4.094\n",
       "\\item 3.461\n",
       "\\item 3.019\n",
       "\\item 3.343\n",
       "\\item 3.671\n",
       "\\item 3.476\n",
       "\\item 3.083\n",
       "\\item 2.387\n",
       "\\item 2.252\n",
       "\\item 2.75\n",
       "\\item 3.022\n",
       "\\item 3.065\n",
       "\\item 2.891\n",
       "\\item 3.219\n",
       "\\item 3.309\n",
       "\\item 3.918\n",
       "\\item 4.384\n",
       "\\item 5.294\n",
       "\\item 5.287\n",
       "\\item 5.441\n",
       "\\item 6.027\n",
       "\\item 7.337\n",
       "\\item 5.455\n",
       "\\item 5.151\n",
       "\\item 5.335\n",
       "\\item 4.526\n",
       "\\item 3.981\n",
       "\\item 4.258\n",
       "\\item 3.612\n",
       "\\item 3.058\n",
       "\\item 2.868\n",
       "\\item 2.591\n",
       "\\item 2.396\n",
       "\\item 2.403\n",
       "\\item 2.586\n",
       "\\item 3.055\n",
       "\\item 2.977\n",
       "\\item 2.948\n",
       "\\item 2.378\n",
       "\\item 2.393\n",
       "\\item 2.315\n",
       "\\item 2.201\n",
       "\\item 1.857\n",
       "\\item 1.82\n",
       "\\item 1.86\n",
       "\\item 1.954\n",
       "\\item 2.38\n",
       "\\item 2.548\n",
       "\\item 2.479\n",
       "\\item 2.168\n",
       "\\item 2.22\n",
       "\\item 2.234\n",
       "\\item 2.249\n",
       "\\item 2.524\n",
       "\\item 2.312\n",
       "\\item 2.312\n",
       "\\item 2.11\n",
       "\\item 2.286\n",
       "\\item 2.803\n",
       "\\item 3.236\n",
       "\\item 3.043\n",
       "\\item 2.589\n",
       "\\item 2.14\n",
       "\\item 2.168\n",
       "\\item 2.263\n",
       "\\item 2.073\n",
       "\\item 1.978\n",
       "\\item 1.995\n",
       "\\item 2.393\n",
       "\\item 2.817\n",
       "\\item 2.571\n",
       "\\item 2.572\n",
       "\\item 2.272\n",
       "\\item 2.222\n",
       "\\item 2.485\n",
       "\\item 2.572\n",
       "\\item 2.307\n",
       "\\item 2.277\n",
       "\\item 2.1\n",
       "\\item 2.056\n",
       "\\item 1.964\n",
       "\\item 1.995\n",
       "\\item 1.858\n",
       "\\item 1.889\n",
       "\\item 1.883\n",
       "\\item 1.745\n",
       "\\item 1.605\n",
       "\\item 1.719\n",
       "\\item 1.801\n",
       "\\item 1.745\n",
       "\\item 1.639\n",
       "\\item 1.492\n",
       "\\item 1.49\n",
       "\\item 1.694\n",
       "\\item 1.873\n",
       "\\item 2.037\n",
       "\\item 2.066\n",
       "\\item 2.031\n",
       "\\item 2.083\n",
       "\\item 2.15\n",
       "\\item 2.038\n",
       "\\item 2.139\n",
       "\\item 2.118\n",
       "\\item 2.168\n",
       "\\item 2.116\n",
       "\\end{enumerate*}\n"
      ],
      "text/markdown": [
       "1. 2.784\n",
       "2. 2.695\n",
       "3. 2.8\n",
       "4. 2.737\n",
       "5. 3.149\n",
       "6. 3.203\n",
       "7. 3.229\n",
       "8. 3.023\n",
       "9. 2.988\n",
       "10. 3.013\n",
       "11. 3.346\n",
       "12. 3.344\n",
       "13. 3.14\n",
       "14. 3.067\n",
       "15. 3.294\n",
       "16. 3.547\n",
       "17. 3.047\n",
       "18. 3.446\n",
       "19. 3.193\n",
       "20. 2.93\n",
       "21. 2.798\n",
       "22. 2.704\n",
       "23. 2.311\n",
       "24. 2.231\n",
       "25. 2.011\n",
       "26. 2.068\n",
       "27. 2.301\n",
       "28. 2.156\n",
       "29. 2.465\n",
       "30. 2.726\n",
       "31. 2.875\n",
       "32. 2.883\n",
       "33. 2.849\n",
       "34. 2.807\n",
       "35. 2.92\n",
       "36. 2.69\n",
       "37. 2.821\n",
       "38. 2.806\n",
       "39. 2.883\n",
       "40. 3.496\n",
       "41. 4.299\n",
       "42. 3.959\n",
       "43. 4.06\n",
       "44. 4.002\n",
       "45. 4.038\n",
       "46. 4.578\n",
       "47. 4.532\n",
       "48. 4.658\n",
       "49. 4.484\n",
       "50. 4.556\n",
       "51. 4.188\n",
       "52. 4.249\n",
       "53. 3.694\n",
       "54. 3.875\n",
       "55. 3.858\n",
       "56. 3.569\n",
       "57. 3.667\n",
       "58. 3.825\n",
       "59. 4.134\n",
       "60. 4.245\n",
       "61. 3.852\n",
       "62. 3.431\n",
       "63. 3.403\n",
       "64. 3.488\n",
       "65. 3.808\n",
       "66. 3.911\n",
       "67. 3.332\n",
       "68. 3.034\n",
       "69. 2.994\n",
       "70. 2.576\n",
       "71. 2.624\n",
       "72. 2.274\n",
       "73. 2.509\n",
       "74. 2.79\n",
       "75. 2.852\n",
       "76. 3.311\n",
       "77. 3.694\n",
       "78. 4.002\n",
       "79. 4.175\n",
       "80. 4.137\n",
       "81. 4.37\n",
       "82. 4.566\n",
       "83. 4.436\n",
       "84. 4.406\n",
       "85. 4.207\n",
       "86. 4.142\n",
       "87. 4.492\n",
       "88. 4.291\n",
       "89. 4.211\n",
       "90. 4.176\n",
       "91. 4.35\n",
       "92. 4.495\n",
       "93. 4.659\n",
       "94. 4.876\n",
       "95. 4.323\n",
       "96. 4.3\n",
       "97. 4.447\n",
       "98. 5.272\n",
       "99. 5.532\n",
       "100. 5.402\n",
       "101. 5.018\n",
       "102. 5.83\n",
       "103. 5.123\n",
       "104. 4.57\n",
       "105. 3.975\n",
       "106. 4.25\n",
       "107. 4.168\n",
       "108. 3.84\n",
       "109. 4.211\n",
       "110. 4.501\n",
       "111. 5.127\n",
       "112. 5.844\n",
       "113. 6.864\n",
       "114. 7.261\n",
       "115. 8.17\n",
       "116. 8.815\n",
       "117. 11.26\n",
       "118. 12.913\n",
       "119. 11.588\n",
       "120. 10.501\n",
       "121. 9.775\n",
       "122. 8.713\n",
       "123. 7.943\n",
       "124. 7.286\n",
       "125. 8.147\n",
       "126. 8.201\n",
       "127. 7.718\n",
       "128. 7.284\n",
       "129. 6.763\n",
       "130. 7.725\n",
       "131. 8.094\n",
       "132. 7.916\n",
       "133. 7.48\n",
       "134. 7.672\n",
       "135. 6.9\n",
       "136. 7.324\n",
       "137. 8.435\n",
       "138. 8.251\n",
       "139. 8.333\n",
       "140. 9.114\n",
       "141. 6.834\n",
       "142. 6.918\n",
       "143. 6.894\n",
       "144. 7.722\n",
       "145. 7.335\n",
       "146. 7.84\n",
       "147. 9.203\n",
       "148. 13.353\n",
       "149. 12.267\n",
       "150. 14.178\n",
       "151. 13.024\n",
       "152. 9.884\n",
       "153. 7.727\n",
       "154. 7.308\n",
       "155. 6.631\n",
       "156. 7.342\n",
       "157. 7.245\n",
       "158. 6.342\n",
       "159. 6.159\n",
       "160. 6.855\n",
       "161. 8.246\n",
       "162. 8.819\n",
       "163. 6.594\n",
       "164. 6.229\n",
       "165. 6.205\n",
       "166. 6.4\n",
       "167. 6.5\n",
       "168. 5.907\n",
       "169. 5.674\n",
       "170. 5.241\n",
       "171. 5.51\n",
       "172. 5.998\n",
       "173. 5.001\n",
       "174. 5.481\n",
       "175. 5.155\n",
       "176. 5.256\n",
       "177. 5.097\n",
       "178. 6.021\n",
       "179. 6.042\n",
       "180. 5.465\n",
       "181. 5.441\n",
       "182. 5.587\n",
       "183. 5.01\n",
       "184. 4.64\n",
       "185. 4.078\n",
       "186. 4.348\n",
       "187. 4.094\n",
       "188. 3.461\n",
       "189. 3.019\n",
       "190. 3.343\n",
       "191. 3.671\n",
       "192. 3.476\n",
       "193. 3.083\n",
       "194. 2.387\n",
       "195. 2.252\n",
       "196. 2.75\n",
       "197. 3.022\n",
       "198. 3.065\n",
       "199. 2.891\n",
       "200. 3.219\n",
       "201. 3.309\n",
       "202. 3.918\n",
       "203. 4.384\n",
       "204. 5.294\n",
       "205. 5.287\n",
       "206. 5.441\n",
       "207. 6.027\n",
       "208. 7.337\n",
       "209. 5.455\n",
       "210. 5.151\n",
       "211. 5.335\n",
       "212. 4.526\n",
       "213. 3.981\n",
       "214. 4.258\n",
       "215. 3.612\n",
       "216. 3.058\n",
       "217. 2.868\n",
       "218. 2.591\n",
       "219. 2.396\n",
       "220. 2.403\n",
       "221. 2.586\n",
       "222. 3.055\n",
       "223. 2.977\n",
       "224. 2.948\n",
       "225. 2.378\n",
       "226. 2.393\n",
       "227. 2.315\n",
       "228. 2.201\n",
       "229. 1.857\n",
       "230. 1.82\n",
       "231. 1.86\n",
       "232. 1.954\n",
       "233. 2.38\n",
       "234. 2.548\n",
       "235. 2.479\n",
       "236. 2.168\n",
       "237. 2.22\n",
       "238. 2.234\n",
       "239. 2.249\n",
       "240. 2.524\n",
       "241. 2.312\n",
       "242. 2.312\n",
       "243. 2.11\n",
       "244. 2.286\n",
       "245. 2.803\n",
       "246. 3.236\n",
       "247. 3.043\n",
       "248. 2.589\n",
       "249. 2.14\n",
       "250. 2.168\n",
       "251. 2.263\n",
       "252. 2.073\n",
       "253. 1.978\n",
       "254. 1.995\n",
       "255. 2.393\n",
       "256. 2.817\n",
       "257. 2.571\n",
       "258. 2.572\n",
       "259. 2.272\n",
       "260. 2.222\n",
       "261. 2.485\n",
       "262. 2.572\n",
       "263. 2.307\n",
       "264. 2.277\n",
       "265. 2.1\n",
       "266. 2.056\n",
       "267. 1.964\n",
       "268. 1.995\n",
       "269. 1.858\n",
       "270. 1.889\n",
       "271. 1.883\n",
       "272. 1.745\n",
       "273. 1.605\n",
       "274. 1.719\n",
       "275. 1.801\n",
       "276. 1.745\n",
       "277. 1.639\n",
       "278. 1.492\n",
       "279. 1.49\n",
       "280. 1.694\n",
       "281. 1.873\n",
       "282. 2.037\n",
       "283. 2.066\n",
       "284. 2.031\n",
       "285. 2.083\n",
       "286. 2.15\n",
       "287. 2.038\n",
       "288. 2.139\n",
       "289. 2.118\n",
       "290. 2.168\n",
       "291. 2.116\n",
       "\n",
       "\n"
      ],
      "text/plain": [
       "  [1]  2.784  2.695  2.800  2.737  3.149  3.203  3.229  3.023  2.988  3.013\n",
       " [11]  3.346  3.344  3.140  3.067  3.294  3.547  3.047  3.446  3.193  2.930\n",
       " [21]  2.798  2.704  2.311  2.231  2.011  2.068  2.301  2.156  2.465  2.726\n",
       " [31]  2.875  2.883  2.849  2.807  2.920  2.690  2.821  2.806  2.883  3.496\n",
       " [41]  4.299  3.959  4.060  4.002  4.038  4.578  4.532  4.658  4.484  4.556\n",
       " [51]  4.188  4.249  3.694  3.875  3.858  3.569  3.667  3.825  4.134  4.245\n",
       " [61]  3.852  3.431  3.403  3.488  3.808  3.911  3.332  3.034  2.994  2.576\n",
       " [71]  2.624  2.274  2.509  2.790  2.852  3.311  3.694  4.002  4.175  4.137\n",
       " [81]  4.370  4.566  4.436  4.406  4.207  4.142  4.492  4.291  4.211  4.176\n",
       " [91]  4.350  4.495  4.659  4.876  4.323  4.300  4.447  5.272  5.532  5.402\n",
       "[101]  5.018  5.830  5.123  4.570  3.975  4.250  4.168  3.840  4.211  4.501\n",
       "[111]  5.127  5.844  6.864  7.261  8.170  8.815 11.260 12.913 11.588 10.501\n",
       "[121]  9.775  8.713  7.943  7.286  8.147  8.201  7.718  7.284  6.763  7.725\n",
       "[131]  8.094  7.916  7.480  7.672  6.900  7.324  8.435  8.251  8.333  9.114\n",
       "[141]  6.834  6.918  6.894  7.722  7.335  7.840  9.203 13.353 12.267 14.178\n",
       "[151] 13.024  9.884  7.727  7.308  6.631  7.342  7.245  6.342  6.159  6.855\n",
       "[161]  8.246  8.819  6.594  6.229  6.205  6.400  6.500  5.907  5.674  5.241\n",
       "[171]  5.510  5.998  5.001  5.481  5.155  5.256  5.097  6.021  6.042  5.465\n",
       "[181]  5.441  5.587  5.010  4.640  4.078  4.348  4.094  3.461  3.019  3.343\n",
       "[191]  3.671  3.476  3.083  2.387  2.252  2.750  3.022  3.065  2.891  3.219\n",
       "[201]  3.309  3.918  4.384  5.294  5.287  5.441  6.027  7.337  5.455  5.151\n",
       "[211]  5.335  4.526  3.981  4.258  3.612  3.058  2.868  2.591  2.396  2.403\n",
       "[221]  2.586  3.055  2.977  2.948  2.378  2.393  2.315  2.201  1.857  1.820\n",
       "[231]  1.860  1.954  2.380  2.548  2.479  2.168  2.220  2.234  2.249  2.524\n",
       "[241]  2.312  2.312  2.110  2.286  2.803  3.236  3.043  2.589  2.140  2.168\n",
       "[251]  2.263  2.073  1.978  1.995  2.393  2.817  2.571  2.572  2.272  2.222\n",
       "[261]  2.485  2.572  2.307  2.277  2.100  2.056  1.964  1.995  1.858  1.889\n",
       "[271]  1.883  1.745  1.605  1.719  1.801  1.745  1.639  1.492  1.490  1.694\n",
       "[281]  1.873  2.037  2.066  2.031  2.083  2.150  2.038  2.139  2.118  2.168\n",
       "[291]  2.116"
      ]
     },
     "metadata": {},
     "output_type": "display_data"
    }
   ],
   "source": [
    "data[,2]"
   ]
  },
  {
   "cell_type": "markdown",
   "metadata": {},
   "source": [
    "Aşağıda verimizi çizgizel grafik gösterimini görüyoruz. "
   ]
  },
  {
   "cell_type": "code",
   "execution_count": 4,
   "metadata": {
    "collapsed": true
   },
   "outputs": [
    {
     "data": {
      "image/png": "[encoded data removed]",
      "text/plain": [
       "plot without title"
      ]
     },
     "metadata": {},
     "output_type": "display_data"
    }
   ],
   "source": [
    "plot(data[,2],type=\"l\")"
   ]
  },
  {
   "cell_type": "markdown",
   "metadata": {},
   "source": [
    "Veriyi sezonsal veriden ayırmak için R paketinin decompose fonksiyonunu kullanıyoruz. Decompose fonksiyonu ile veri sezonsal etkiden ve trend etkisinden arınmaktadır.Veri aylık olduğundan dolayı sıklığı 12 olarak alıyoruz. \n",
    "\n",
    "\n",
    "Ek olarak verinin ayrışma yönteminin, toplamsal ya da çarpımsal olduğunu anlamak için  type= c(\"additive\") ve type= c(\"multiplicative\") fonksiyonu kullanıyoruz.\n",
    "\n",
    "Dönemsel mevsimselliği incelemek için ise R 'ın figure fonksiyonu kullanılmaktadır."
   ]
  },
  {
   "cell_type": "markdown",
   "metadata": {},
   "source": [
    "Aşağıda zaman serisi (ts) verimize toplamsal ayrıştırma tipine decompose fonsiyonu uyguluyoruz. Böylelikle verimizdeki sezonsal ve trendsel etkiden çıkartmış oluyoruz. Plot fonksiyonu ile yaptığımız modeli grafiksel olarak gösteriyoruz. Figure fonksiyonu ile de zaman seriminizn 12 aylık sezonsal etkisini gösteriyoruz."
   ]
  },
  {
   "cell_type": "code",
   "execution_count": 75,
   "metadata": {
    "collapsed": true
   },
   "outputs": [
    {
     "data": {
      "text/html": [
       "<ol class=list-inline>\n",
       "\t<li>-0.250571803291063</li>\n",
       "\t<li>-0.317711296044686</li>\n",
       "\t<li>-0.263535571407005</li>\n",
       "\t<li>0.139102109752416</li>\n",
       "\t<li>0.201556819897343</li>\n",
       "\t<li>0.475457182216184</li>\n",
       "\t<li>0.258317387530193</li>\n",
       "\t<li>0.0064302347524155</li>\n",
       "\t<li>-0.186884001358696</li>\n",
       "\t<li>0.05523616772343</li>\n",
       "\t<li>-0.0249105714070048</li>\n",
       "\t<li>-0.0924866583635267</li>\n",
       "</ol>\n"
      ],
      "text/latex": [
       "\\begin{enumerate*}\n",
       "\\item -0.250571803291063\n",
       "\\item -0.317711296044686\n",
       "\\item -0.263535571407005\n",
       "\\item 0.139102109752416\n",
       "\\item 0.201556819897343\n",
       "\\item 0.475457182216184\n",
       "\\item 0.258317387530193\n",
       "\\item 0.0064302347524155\n",
       "\\item -0.186884001358696\n",
       "\\item 0.05523616772343\n",
       "\\item -0.0249105714070048\n",
       "\\item -0.0924866583635267\n",
       "\\end{enumerate*}\n"
      ],
      "text/markdown": [
       "1. -0.250571803291063\n",
       "2. -0.317711296044686\n",
       "3. -0.263535571407005\n",
       "4. 0.139102109752416\n",
       "5. 0.201556819897343\n",
       "6. 0.475457182216184\n",
       "7. 0.258317387530193\n",
       "8. 0.0064302347524155\n",
       "9. -0.186884001358696\n",
       "10. 0.05523616772343\n",
       "11. -0.0249105714070048\n",
       "12. -0.0924866583635267\n",
       "\n",
       "\n"
      ],
      "text/plain": [
       " [1] -0.250571803 -0.317711296 -0.263535571  0.139102110  0.201556820\n",
       " [6]  0.475457182  0.258317388  0.006430235 -0.186884001  0.055236168\n",
       "[11] -0.024910571 -0.092486658"
      ]
     },
     "metadata": {},
     "output_type": "display_data"
    },
    {
     "data": {
      "image/png": "[encoded data removed]",
      "text/plain": [
       "plot without title"
      ]
     },
     "metadata": {},
     "output_type": "display_data"
    },
    {
     "data": {
      "image/png": "[encoded data removed]",
      "text/plain": [
       "plot without title"
      ]
     },
     "metadata": {},
     "output_type": "display_data"
    }
   ],
   "source": [
    "additive_model<-decompose(ts(data[,2], freq=12),type= c(\"additive\"))\n",
    "plot(additive_model)\n",
    "additive_model$figure\n",
    "plot(additive_model$figure,type=\"b\")\n"
   ]
  },
  {
   "cell_type": "markdown",
   "metadata": {},
   "source": [
    "Aşağıda zaman serisi (ts) verimize çarpımsal ayrıştırma tipine decompose fonsiyonu uyguluyoruz. Böylelikle verimizdeki sezonsal ve trendsel etkiden çıkartmış oluyoruz. Plot fonksiyonu ile yaptığımız modeli grafiksel olarak gösteriyoruz. Figure fonksiyonu ile de zaman seriminizn 12 aylık sezonsal etkisini gösteriyoruz."
   ]
  },
  {
   "cell_type": "code",
   "execution_count": 6,
   "metadata": {
    "collapsed": true
   },
   "outputs": [
    {
     "data": {
      "text/html": [
       "<ol class=list-inline>\n",
       "\t<li>0.942811774763166</li>\n",
       "\t<li>0.927045556038741</li>\n",
       "\t<li>0.940674011628285</li>\n",
       "\t<li>1.01902360679147</li>\n",
       "\t<li>1.04011959571431</li>\n",
       "\t<li>1.10399117941319</li>\n",
       "\t<li>1.0620630978449</li>\n",
       "\t<li>1.00625435638375</li>\n",
       "\t<li>0.965348207912725</li>\n",
       "\t<li>1.0098757797225</li>\n",
       "\t<li>1.00083056289512</li>\n",
       "\t<li>0.981962270891853</li>\n",
       "</ol>\n"
      ],
      "text/latex": [
       "\\begin{enumerate*}\n",
       "\\item 0.942811774763166\n",
       "\\item 0.927045556038741\n",
       "\\item 0.940674011628285\n",
       "\\item 1.01902360679147\n",
       "\\item 1.04011959571431\n",
       "\\item 1.10399117941319\n",
       "\\item 1.0620630978449\n",
       "\\item 1.00625435638375\n",
       "\\item 0.965348207912725\n",
       "\\item 1.0098757797225\n",
       "\\item 1.00083056289512\n",
       "\\item 0.981962270891853\n",
       "\\end{enumerate*}\n"
      ],
      "text/markdown": [
       "1. 0.942811774763166\n",
       "2. 0.927045556038741\n",
       "3. 0.940674011628285\n",
       "4. 1.01902360679147\n",
       "5. 1.04011959571431\n",
       "6. 1.10399117941319\n",
       "7. 1.0620630978449\n",
       "8. 1.00625435638375\n",
       "9. 0.965348207912725\n",
       "10. 1.0098757797225\n",
       "11. 1.00083056289512\n",
       "12. 0.981962270891853\n",
       "\n",
       "\n"
      ],
      "text/plain": [
       " [1] 0.9428118 0.9270456 0.9406740 1.0190236 1.0401196 1.1039912 1.0620631\n",
       " [8] 1.0062544 0.9653482 1.0098758 1.0008306 0.9819623"
      ]
     },
     "metadata": {},
     "output_type": "display_data"
    },
    {
     "data": {
      "image/png": "[encoded data removed]",
      "text/plain": [
       "plot without title"
      ]
     },
     "metadata": {},
     "output_type": "display_data"
    },
    {
     "data": {
      "image/png": "[encoded data removed]",
      "text/plain": [
       "plot without title"
      ]
     },
     "metadata": {},
     "output_type": "display_data"
    }
   ],
   "source": [
    "multiplicative_model<-decompose(ts(data[,2], freq=12), type= c(\"multiplicative\"))\n",
    "multiplicative_model$figure\n",
    "plot(multiplicative_model$figure, type=\"b\")\n",
    "plot(multiplicative_model)\n"
   ]
  },
  {
   "cell_type": "markdown",
   "metadata": {},
   "source": [
    "Toplamsal ve çarpımsal ayrışma model incelendiğinde büyük bir farklılık görünmediğinden bu aşamada karar verilememektedir. Bu yüzden ilerleyen aşamalarda veriye arima modeli uygulayacağız. \n",
    "\n",
    "Summary fonksiyonu ile verinin özetini göstermiş olunur."
   ]
  },
  {
   "cell_type": "markdown",
   "metadata": {},
   "source": [
    "Aşağıda asıl verimize, toplamsal ayrıştırma sezonsal ve trendsel etkiden ayrılmış verimize, çarpımsal ayrıştırma ile sezonsal ve trendsel etkiden ayrılmış verimizin özetlerini görüyoruz."
   ]
  },
  {
   "cell_type": "code",
   "execution_count": 7,
   "metadata": {
    "collapsed": true
   },
   "outputs": [
    {
     "data": {
      "text/plain": [
       "   Min. 1st Qu.  Median    Mean 3rd Qu.    Max. \n",
       "  1.490   2.571   3.671   4.313   5.369  14.178 "
      ]
     },
     "metadata": {},
     "output_type": "display_data"
    },
    {
     "data": {
      "text/plain": [
       "    Min.  1st Qu.   Median     Mean  3rd Qu.     Max. \n",
       "-1.92338 -0.32174 -0.06026 -0.00006  0.20006  4.01238 "
      ]
     },
     "metadata": {},
     "output_type": "display_data"
    },
    {
     "data": {
      "text/plain": [
       "   Min. 1st Qu.  Median    Mean 3rd Qu.    Max. \n",
       " 0.7723  0.9171  0.9859  0.9939  1.0549  1.3903 "
      ]
     },
     "metadata": {},
     "output_type": "display_data"
    }
   ],
   "source": [
    "summary(data[,2])\n",
    "summary(na.omit(additive_model$random))\n",
    "summary(na.omit(multiplicative_model$random))"
   ]
  },
  {
   "cell_type": "markdown",
   "metadata": {},
   "source": [
    "Verinin normalliğini kontrol etmek için shapiro.test fonksiyonu kullanılmaktadır.P değeri testen ne kadar emin olduğunu göstermektedir. W değeri 1 değerine ne kadar yakınsa veri normalliğe o derece yakındır. "
   ]
  },
  {
   "cell_type": "markdown",
   "metadata": {},
   "source": [
    "Shapiro testini toplumsal ve çarpımsal ayrışmamodeline uygulanır."
   ]
  },
  {
   "cell_type": "markdown",
   "metadata": {},
   "source": [
    "### Soru: ??\n",
    "Hocam bu kısımda biraz daha araştırma yaptım, kafam karıştı. Bazı yerlerde \n",
    "p değerinin normali olması için güven aralığından büyük olması gerektiğini söylüyor. Bakabilir misiniz?"
   ]
  },
  {
   "cell_type": "code",
   "execution_count": 86,
   "metadata": {
    "scrolled": true
   },
   "outputs": [
    {
     "data": {
      "text/plain": [
       "\n",
       "\tShapiro-Wilk normality test\n",
       "\n",
       "data:  na.omit(additive_model$random)\n",
       "W = 0.79271, p-value < 2.2e-16\n"
      ]
     },
     "metadata": {},
     "output_type": "display_data"
    },
    {
     "data": {
      "text/plain": [
       "\n",
       "\tShapiro-Wilk normality test\n",
       "\n",
       "data:  na.omit(multiplicative_model$random)\n",
       "W = 0.96522, p-value = 2.888e-06\n"
      ]
     },
     "metadata": {},
     "output_type": "display_data"
    }
   ],
   "source": [
    "shapiro.test(na.omit(additive_model$random))\n",
    "shapiro.test(na.omit(multiplicative_model$random))"
   ]
  },
  {
   "cell_type": "markdown",
   "metadata": {},
   "source": [
    "Toplamsal ve çarpımsal ayrışma modeline uygulanan normallik testi incellendiğinde p değerlerinin oldukça küçük olduğunu görüyoruz. Yaptığımız iki testte de oldukça eminiz. W değeri incelendiğin de ise çarpımsal modelin 1 daha yakın olduğu görülmektedir. Verimiz normaldir, diyebiliriz."
   ]
  },
  {
   "cell_type": "markdown",
   "metadata": {},
   "source": [
    "Zaman serisiyle bu serinin gecikmeli serileri arasındaki ilişkiyi göstermek için R'ın acf ve pacf fonksiyonunu toplamsal ve çarpımsal ayrışma modeline uygulanır."
   ]
  },
  {
   "cell_type": "markdown",
   "metadata": {},
   "source": [
    "ACF eğer çok yüksek bir değerden başlayıp çok yavaş küçülüyorsa, bu serinin durağan olmadığının bir göstergesidir"
   ]
  },
  {
   "cell_type": "code",
   "execution_count": 87,
   "metadata": {
    "collapsed": true
   },
   "outputs": [
    {
     "data": {
      "image/png": "[encoded data removed]",
      "text/plain": [
       "Plot with title \"Series  na.omit(additive_model$random)\""
      ]
     },
     "metadata": {},
     "output_type": "display_data"
    },
    {
     "data": {
      "image/png": "[encoded data removed]",
      "text/plain": [
       "Plot with title \"Series  na.omit(multiplicative_model$random)\""
      ]
     },
     "metadata": {},
     "output_type": "display_data"
    }
   ],
   "source": [
    "acf(na.omit(additive_model$random))\n",
    "acf(na.omit(multiplicative_model$random))"
   ]
  },
  {
   "cell_type": "code",
   "execution_count": 10,
   "metadata": {
    "collapsed": true
   },
   "outputs": [
    {
     "data": {
      "image/png": "[encoded data removed]",
      "text/plain": [
       "Plot with title \"Series  na.omit(additive_model$random)\""
      ]
     },
     "metadata": {},
     "output_type": "display_data"
    },
    {
     "data": {
      "image/png": "[encoded data removed]",
      "text/plain": [
       "Plot with title \"Series  na.omit(multiplicative_model$random)\""
      ]
     },
     "metadata": {},
     "output_type": "display_data"
    }
   ],
   "source": [
    "pacf(na.omit(additive_model$random))\n",
    "pacf(na.omit(multiplicative_model$random))"
   ]
  },
  {
   "cell_type": "code",
   "execution_count": 11,
   "metadata": {
    "collapsed": true
   },
   "outputs": [
    {
     "data": {
      "image/png": "[encoded data removed]",
      "text/plain": [
       "Plot with title \"Histogram of na.omit(multiplicative_model$random)\""
      ]
     },
     "metadata": {},
     "output_type": "display_data"
    }
   ],
   "source": [
    "hist(na.omit(multiplicative_model$random))"
   ]
  },
  {
   "cell_type": "markdown",
   "metadata": {},
   "source": [
    "Veride durağanlık durumunu belirlemek için sırasıyla ;Augmented Dickey-Fuller Test- Kwiatkowski-Phillips-Schmidt-Shin (KPSS) Test - Phillips–Perron Birim Kök Testi uygulanır."
   ]
  },
  {
   "cell_type": "markdown",
   "metadata": {},
   "source": [
    "##### Augmented Dickey Fuller Test\n",
    "İlk olarak Augmented Dickey Fuller testini verinin bileşenlerden ayrılmamış haline, toplamsal ve çarpımsal ayrışma modellerine sırasıyla uyguluyarak verinin durağanlığını kontrol ediyoruz. ADF testini R içinde bulunan adf.test fonksiyonu ile elde edebiliriz."
   ]
  },
  {
   "cell_type": "code",
   "execution_count": 88,
   "metadata": {
    "collapsed": true
   },
   "outputs": [
    {
     "data": {
      "text/plain": [
       "\n",
       "\tAugmented Dickey-Fuller Test\n",
       "\n",
       "data:  data[, 2]\n",
       "Dickey-Fuller = -2.4019, Lag order = 6, p-value = 0.4068\n",
       "alternative hypothesis: stationary\n"
      ]
     },
     "metadata": {},
     "output_type": "display_data"
    },
    {
     "name": "stderr",
     "output_type": "stream",
     "text": [
      "Warning message in adf.test(na.omit(additive_model$random)):\n",
      "\"p-value smaller than printed p-value\""
     ]
    },
    {
     "data": {
      "text/plain": [
       "\n",
       "\tAugmented Dickey-Fuller Test\n",
       "\n",
       "data:  na.omit(additive_model$random)\n",
       "Dickey-Fuller = -8.8027, Lag order = 6, p-value = 0.01\n",
       "alternative hypothesis: stationary\n"
      ]
     },
     "metadata": {},
     "output_type": "display_data"
    },
    {
     "name": "stderr",
     "output_type": "stream",
     "text": [
      "Warning message in adf.test(na.omit(multiplicative_model$random)):\n",
      "\"p-value smaller than printed p-value\""
     ]
    },
    {
     "data": {
      "text/plain": [
       "\n",
       "\tAugmented Dickey-Fuller Test\n",
       "\n",
       "data:  na.omit(multiplicative_model$random)\n",
       "Dickey-Fuller = -8.2546, Lag order = 6, p-value = 0.01\n",
       "alternative hypothesis: stationary\n"
      ]
     },
     "metadata": {},
     "output_type": "display_data"
    }
   ],
   "source": [
    "adf.test(data[,2])\n",
    "adf.test(na.omit(additive_model$random))\n",
    "adf.test(na.omit(multiplicative_model$random))"
   ]
  },
  {
   "cell_type": "markdown",
   "metadata": {},
   "source": [
    "Yapılan ADF testteki sonuçlar:\n",
    "\n",
    "p değeri bileşenlerden ayrılmamış  veri için :0.4068\n",
    "\n",
    "p değeri additive modeli için :0.01\n",
    "\n",
    "p değeri multiplicative modeli için :0.01   çıkmıştır.\n",
    "\n",
    "Additive ve multiplicative modeline göre veri durağandır."
   ]
  },
  {
   "cell_type": "markdown",
   "metadata": {},
   "source": [
    "##### Kwiatkowski-Phillips-Schmidt-Shin (KPSS) Test\n",
    "İlk olarak  Kwiatkowski-Phillips-Schmidt-Shin (KPSS) Test testini verinin bileşenlerden ayrılmamış haline, toplamsal ve çarpımsal ayrışma modellerine sırasıyla uyguluyarak verinin durağanlığını kontrol ediyoruz. KPSS testini R içinde bulunan kpss.test fonksiyonu ile elde edebiliriz."
   ]
  },
  {
   "cell_type": "code",
   "execution_count": 13,
   "metadata": {
    "collapsed": true
   },
   "outputs": [
    {
     "name": "stderr",
     "output_type": "stream",
     "text": [
      "Warning message in kpss.test(data[, 2], null = \"Trend\"):\n",
      "\"p-value smaller than printed p-value\""
     ]
    },
    {
     "data": {
      "text/plain": [
       "\n",
       "\tKPSS Test for Trend Stationarity\n",
       "\n",
       "data:  data[, 2]\n",
       "KPSS Trend = 1.2596, Truncation lag parameter = 3, p-value = 0.01\n"
      ]
     },
     "metadata": {},
     "output_type": "display_data"
    },
    {
     "name": "stderr",
     "output_type": "stream",
     "text": [
      "Warning message in kpss.test(na.omit(additive_model$random), null = \"Trend\"):\n",
      "\"p-value greater than printed p-value\""
     ]
    },
    {
     "data": {
      "text/plain": [
       "\n",
       "\tKPSS Test for Trend Stationarity\n",
       "\n",
       "data:  na.omit(additive_model$random)\n",
       "KPSS Trend = 0.0081125, Truncation lag parameter = 3, p-value = 0.1\n"
      ]
     },
     "metadata": {},
     "output_type": "display_data"
    },
    {
     "name": "stderr",
     "output_type": "stream",
     "text": [
      "Warning message in kpss.test(na.omit(multiplicative_model$random), null = \"Trend\"):\n",
      "\"p-value greater than printed p-value\""
     ]
    },
    {
     "data": {
      "text/plain": [
       "\n",
       "\tKPSS Test for Trend Stationarity\n",
       "\n",
       "data:  na.omit(multiplicative_model$random)\n",
       "KPSS Trend = 0.010172, Truncation lag parameter = 3, p-value = 0.1\n"
      ]
     },
     "metadata": {},
     "output_type": "display_data"
    }
   ],
   "source": [
    "kpss.test(data[,2], null=\"Trend\")\n",
    "kpss.test(na.omit(additive_model$random), null=\"Trend\")\n",
    "kpss.test(na.omit(multiplicative_model$random), null=\"Trend\")"
   ]
  },
  {
   "cell_type": "markdown",
   "metadata": {},
   "source": [
    "Yapılan KPSS testteki sonuçlar:\n",
    "\n",
    "p değeri mevsimsellikten arındırılmamış veri için :0.01 \n",
    "\n",
    "p değeri additive modeli için :0.1\n",
    "\n",
    "p değeri multiplicative modeli için :0.1   çıkmıştır.\n",
    "\n",
    "Additive ve multiplicative modeline göre veri durağandır."
   ]
  },
  {
   "cell_type": "markdown",
   "metadata": {},
   "source": [
    "##### Phillips–Perron Birim Kök Testi\n",
    "Phillips–Perron Birim Kök Testi testini verinin bileşenlerden ayrılmamış haline, toplamsal ve çarpımsal ayrışma modellerine sırasıyla uyguluyarak verinin durağanlığını kontrol ediyoruz. Phillips–Perron Birim Kök testini R içinde bulunan pp.test fonksiyonu ile elde edebiliriz."
   ]
  },
  {
   "cell_type": "code",
   "execution_count": 14,
   "metadata": {
    "collapsed": true
   },
   "outputs": [
    {
     "data": {
      "text/plain": [
       "\n",
       "\tPhillips-Perron Unit Root Test\n",
       "\n",
       "data:  data[, 2]\n",
       "Dickey-Fuller Z(alpha) = -12.871, Truncation lag parameter = 5, p-value\n",
       "= 0.3885\n",
       "alternative hypothesis: stationary\n"
      ]
     },
     "metadata": {},
     "output_type": "display_data"
    },
    {
     "name": "stderr",
     "output_type": "stream",
     "text": [
      "Warning message in pp.test(na.omit(additive_model$random)):\n",
      "\"p-value smaller than printed p-value\""
     ]
    },
    {
     "data": {
      "text/plain": [
       "\n",
       "\tPhillips-Perron Unit Root Test\n",
       "\n",
       "data:  na.omit(additive_model$random)\n",
       "Dickey-Fuller Z(alpha) = -89.544, Truncation lag parameter = 5, p-value\n",
       "= 0.01\n",
       "alternative hypothesis: stationary\n"
      ]
     },
     "metadata": {},
     "output_type": "display_data"
    },
    {
     "name": "stderr",
     "output_type": "stream",
     "text": [
      "Warning message in pp.test(na.omit(multiplicative_model$random)):\n",
      "\"p-value smaller than printed p-value\""
     ]
    },
    {
     "data": {
      "text/plain": [
       "\n",
       "\tPhillips-Perron Unit Root Test\n",
       "\n",
       "data:  na.omit(multiplicative_model$random)\n",
       "Dickey-Fuller Z(alpha) = -93.23, Truncation lag parameter = 5, p-value\n",
       "= 0.01\n",
       "alternative hypothesis: stationary\n"
      ]
     },
     "metadata": {},
     "output_type": "display_data"
    }
   ],
   "source": [
    "pp.test(data[,2])\n",
    "pp.test(na.omit(additive_model$random))\n",
    "pp.test(na.omit(multiplicative_model$random))"
   ]
  },
  {
   "cell_type": "markdown",
   "metadata": {},
   "source": [
    "Yapılan Phillips-Person testteki sonuçlar:\n",
    "\n",
    "p değeri mevsimsellikten arındırılmamış veri için :0.3885 \n",
    "\n",
    "p değeri additive modeli için :0.01\n",
    "\n",
    "p değeri multiplicative modeli için :0.01   çıkmıştır. \n",
    "\n",
    "Additive ve multiplicative modeline göre veri durağandır."
   ]
  },
  {
   "cell_type": "markdown",
   "metadata": {},
   "source": [
    "##### Arima"
   ]
  },
  {
   "cell_type": "markdown",
   "metadata": {},
   "source": [
    "R'da olan auto.arima fonksiyonu ile verinin kalan sezonsal, trend ve diğer etkenleri kontrol eder ve onlardan arındırır. \n",
    "Veriye auto.arima uygulandığında AIC , BIC ve AICc değerlerinin en düşük olanı analiz  için daha kabul edilebilir bir değer almaktadır. ARIMA için p,d,q fonksiyonları ile verinin karmaşıklığı fark edilir ve en sade , en kolay model seçilir."
   ]
  },
  {
   "cell_type": "code",
   "execution_count": 15,
   "metadata": {
    "collapsed": true
   },
   "outputs": [
    {
     "data": {
      "text/plain": [
       "Series: ts(data[, 2]) \n",
       "ARIMA(2,1,3) \n",
       "\n",
       "Coefficients:\n",
       "          ar1     ar2     ma1      ma2      ma3\n",
       "      -0.1163  0.8102  0.2907  -0.8441  -0.2721\n",
       "s.e.   0.0766  0.0815  0.0877   0.0786   0.0623\n",
       "\n",
       "sigma^2 estimated as 0.3445:  log likelihood=-254.66\n",
       "AIC=521.33   AICc=521.62   BIC=543.34"
      ]
     },
     "metadata": {},
     "output_type": "display_data"
    },
    {
     "data": {
      "text/plain": [
       "Series: ts(na.omit(additive_model$random)) \n",
       "ARIMA(5,0,1) with zero mean \n",
       "\n",
       "Coefficients:\n",
       "         ar1     ar2      ar3      ar4      ar5     ma1\n",
       "      0.0406  0.4164  -0.1532  -0.1215  -0.2638  0.7451\n",
       "s.e.  0.1305  0.1120   0.0631   0.0613   0.0572  0.1262\n",
       "\n",
       "sigma^2 estimated as 0.2154:  log likelihood=-179.33\n",
       "AIC=372.66   AICc=373.07   BIC=398.08"
      ]
     },
     "metadata": {},
     "output_type": "display_data"
    },
    {
     "data": {
      "text/plain": [
       "Series: ts(na.omit(multiplicative_model$random)) \n",
       "ARIMA(1,0,1) with non-zero mean \n",
       "\n",
       "Coefficients:\n",
       "         ar1     ma1    mean\n",
       "      0.5006  0.3012  0.9943\n",
       "s.e.  0.0698  0.0725  0.0120\n",
       "\n",
       "sigma^2 estimated as 0.006056:  log likelihood=317.68\n",
       "AIC=-627.37   AICc=-627.22   BIC=-612.84"
      ]
     },
     "metadata": {},
     "output_type": "display_data"
    }
   ],
   "source": [
    "auto.arima(ts(data[,2]))\n",
    "auto.arima(ts(na.omit(additive_model$random)))\n",
    "auto.arima(ts(na.omit(multiplicative_model$random)))"
   ]
  },
  {
   "cell_type": "markdown",
   "metadata": {},
   "source": [
    "Verinin hiçbir bileşenden ayrılmadığı durumda auto.arima uygulandığında p =2 , d= 1 ve q=3 çıkmaktadır. d=1 olması verinin \n",
    "durağan olmadığını gösterir. \n",
    "\n",
    "Verinin toplamsal ayrışma modeline auto.arima uygulandığında p= 5 , d=0 ve q=1 çıkmaktadır. d=0 veri durağandır.\n",
    "\n",
    "Verilerde çarpımsal modele auto.arima uygulandığında p= 1 , d=0 ve q=1 çıkmaktadır. d=0 veri durağandır.\n",
    "\n",
    "Hangi ayrışma modelini seçmemiz gerektiğine karar vermek için ilk olarak p,d,q değerlerini karşılaştırmak gerekmektedir. Verinin durağan modeli seçilmesi gerektiğinden hiçbir bileşenden ayrılmadığı model elenir. Toplamsal ve çarpımsal  model karşılaştırıldığında çarpımsal modelin daha basit olduğu görülür. İkinci olarak ( Seçtiğimiz modelin doğruluğundan emin olmak için ) auto.arima nın bize vermiş olduğu AIC,AICc ve BIC değerlerinin en küçük olanı seçilmesi gerekmektedir. Ayrışma modelleri için incelendiğinde çarpımsal modelin daha uygun olduğu görülmektedir. \n",
    ".\n",
    "Formülü : \n",
    "\n",
    " $$ \\hat Y_{d_t} =0.5006 Y_{t-1}  E$$\n",
    " \n",
    " d=0 olduğunda orijinal seri zaten durağandır ve farkının alınmasına da gerek yoktur."
   ]
  },
  {
   "cell_type": "markdown",
   "metadata": {},
   "source": [
    "Veride sezonsal etkinin olup olmadığını kontrol etmek için veriden hiçbir bileşenin çıkarılmadığı haline auto.arima uygulanır.Bunun için arimanın argümanlarından sseasonal.test'ten yararlanılır."
   ]
  },
  {
   "cell_type": "code",
   "execution_count": 16,
   "metadata": {
    "collapsed": true
   },
   "outputs": [
    {
     "data": {
      "text/plain": [
       "Series: ts(data[, 2]) \n",
       "ARIMA(2,1,3) \n",
       "\n",
       "Coefficients:\n",
       "          ar1     ar2     ma1      ma2      ma3\n",
       "      -0.1163  0.8102  0.2907  -0.8441  -0.2721\n",
       "s.e.   0.0766  0.0815  0.0877   0.0786   0.0623\n",
       "\n",
       "sigma^2 estimated as 0.3445:  log likelihood=-254.66\n",
       "AIC=521.33   AICc=521.62   BIC=543.34"
      ]
     },
     "metadata": {},
     "output_type": "display_data"
    },
    {
     "data": {
      "text/plain": [
       "Series: ts(data[, 2]) \n",
       "ARIMA(2,1,3) \n",
       "\n",
       "Coefficients:\n",
       "          ar1     ar2     ma1      ma2      ma3\n",
       "      -0.1163  0.8102  0.2907  -0.8441  -0.2721\n",
       "s.e.   0.0766  0.0815  0.0877   0.0786   0.0623\n",
       "\n",
       "sigma^2 estimated as 0.3445:  log likelihood=-254.66\n",
       "AIC=521.33   AICc=521.62   BIC=543.34"
      ]
     },
     "metadata": {},
     "output_type": "display_data"
    }
   ],
   "source": [
    "auto.arima(ts(data[,2]))\n",
    "auto.arima(ts(data[,2]) ,seasonal.test = c(\"ocsb\", \"ch\"))"
   ]
  },
  {
   "cell_type": "markdown",
   "metadata": {},
   "source": [
    "Herhangi bir işlem yapılmayan veriye auto.arima ile sezonsal test uygulandığında ARIMA modelinde; p,d,q değerlerinde ve\n",
    "AIC , AICc ,BIC değerlerinde herhangi bir farklılık görünmemektedir. Bir farklı ifade ile veride sezonsal etki bulunmamaktadır."
   ]
  },
  {
   "cell_type": "raw",
   "metadata": {},
   "source": [
    "Normallik testini seçtiğimiz çarpımsal modele tekrar uygulanır."
   ]
  },
  {
   "cell_type": "code",
   "execution_count": 83,
   "metadata": {
    "scrolled": false
   },
   "outputs": [
    {
     "data": {
      "text/plain": [
       "\n",
       "\tShapiro-Wilk normality test\n",
       "\n",
       "data:  white_noise$residuals\n",
       "W = 0.97827, p-value = 0.0002966\n"
      ]
     },
     "metadata": {},
     "output_type": "display_data"
    }
   ],
   "source": [
    "white_noise<-arima(ts(na.omit(multiplicative_model$random)), order=c(1,0,1))\n",
    "shapiro.test(white_noise$residuals)\n"
   ]
  },
  {
   "cell_type": "markdown",
   "metadata": {},
   "source": [
    "Normallik testine göre p değeri oldukça düşük ve w değeri yüksektir. Artık verinin beyaz gürültü olduğunu ve veride herhangi bir \n",
    "bileşen kalmadığını söylenebilir."
   ]
  },
  {
   "cell_type": "markdown",
   "metadata": {},
   "source": [
    "# Zaman Serilerinin Trendden Arındırılması (de-trend)\n",
    "Lineer trend barındıran zaman serilerini trendden arındırmak için sıklıkla doğrusal regresyonu kullanılmaktadır. Ortaya çıkan model kalıntıları, trend yoksun olan zaman serilerinin bir temsilidir.\n",
    "\n",
    "Bunun haricinde farklı yöntemler kullanılarak zaman serileri lineer ve lineer olmayan trendlerden arındırılabilmektedir: AR(1), fourier ve wavelet dönüşümleri, kalman filtreleri gibi farklı yöntemler kullanılabilir. Öte yandan forecast kütüphanesi içerisindeki seasonaldummy ve fourier fonksiyonları kullanılarak de-trend yapılabilir.\n",
    "\n",
    "datasets kütüphanesi içersisindeki JohnsonJohnson hisse senedinin 1960-1980 arasındaki çeyreklik datalarını inceleyelim. Model sonucu kalıntılar de-trend edilmiş zaman serisidir."
   ]
  },
  {
   "cell_type": "markdown",
   "metadata": {},
   "source": [
    "Doğrusal regresyon analizini gerçekleştiren lm() fonksiyonu ilk olarak bağımlı değişkeni, ardından bağımsız değişkenleri parametre olarak almaktadır. Bağımlı değişkenden sonra tilda (~) işareti, birden fazla bağımsız değişkenimiz varsa değişkenlerin arasına artı (+) işareti konulması unutulmamalıdır. "
   ]
  },
  {
   "cell_type": "code",
   "execution_count": 18,
   "metadata": {
    "collapsed": true
   },
   "outputs": [],
   "source": [
    "trModel <- lm(data[,2]~ c(1:length(data[,2])))\n",
    "trResid <- resid(trModel)\n",
    "\n",
    "trModel_AR1 <- arima(x=data[,2], order=c(1,0,0))\n",
    "trResid_AR1 <- resid(trModel_AR1)"
   ]
  },
  {
   "cell_type": "code",
   "execution_count": 19,
   "metadata": {
    "collapsed": true
   },
   "outputs": [
    {
     "data": {
      "text/plain": [
       "\n",
       "\tShapiro-Wilk normality test\n",
       "\n",
       "data:  trResid_AR1\n",
       "W = 0.83068, p-value < 2.2e-16\n"
      ]
     },
     "metadata": {},
     "output_type": "display_data"
    },
    {
     "data": {
      "image/png": "[encoded data removed]",
      "text/plain": [
       "Plot with title \"de-trended (ar(1))\""
      ]
     },
     "metadata": {},
     "output_type": "display_data"
    }
   ],
   "source": [
    "par(mfrow=c(1,2))\n",
    "plot(trResid, type=\"l\", col=\"blue\", main=\"de-trended (regresyon)\")\n",
    "plot(trResid_AR1,  type=\"l\", col=\"red\", main=\"de-trended (ar(1))\")\n",
    "shapiro.test(trResid_AR1)"
   ]
  },
  {
   "cell_type": "markdown",
   "metadata": {},
   "source": [
    "# Zaman Serilerinin Mevsimsellikten Arındırılması (de-seasonalize)\n",
    "Zaman serisinin mevsimsellik deseni hakkında fikir verir ve mevsimsel etkiler olmadan verilerin modellenmesine yardımcı olur. Zaman serisini mevsimsellikten arındırmak için aşağıdaki iki adım kullanılabilir.\n",
    "1. Adım: stl() fonksiyonu ile zaman serisi ayrılır.\n",
    "2. Adım: forecast kütüphanesi içerisindeki seasadj() fonksiyonu kullanılır."
   ]
  },
  {
   "cell_type": "code",
   "execution_count": 20,
   "metadata": {
    "collapsed": true
   },
   "outputs": [
    {
     "data": {
      "text/plain": [
       "$time.series\n",
       "           seasonal    trend    remainder\n",
       "Jan  1 -0.241978881 2.832883  0.193096267\n",
       "Feb  1 -0.309430130 2.865361  0.139069629\n",
       "Mar  1 -0.261161332 2.897838  0.163322946\n",
       "Apr  1  0.125592026 2.933216 -0.321808071\n",
       "May  1  0.201926779 2.968594 -0.021520483\n",
       "Jun  1  0.465440466 3.004576 -0.267016377\n",
       "Jul  1  0.260620424 3.040558 -0.072178542\n",
       "Aug  1  0.008599608 3.076275 -0.061874777\n",
       "Sep  1 -0.184879632 3.111992  0.060887413\n",
       "Oct  1  0.056738030 3.152327 -0.196065256\n",
       "Nov  1 -0.028436302 3.192662  0.181774068\n",
       "Dec  1 -0.093031070 3.209265  0.227766161\n",
       "Jan  2 -0.241978881 3.225868  0.156111298\n",
       "Feb  2 -0.309430130 3.213338  0.163092385\n",
       "Mar  2 -0.261161332 3.200808  0.354353427\n",
       "Apr  2  0.125592026 3.152551  0.268856791\n",
       "May  2  0.201926779 3.104294 -0.259221239\n",
       "Jun  2  0.465440466 3.019637 -0.039077309\n",
       "Jul  2  0.260620424 2.934979 -0.002599649\n",
       "Aug  2  0.008599608 2.841337  0.080063438\n",
       "Sep  2 -0.184879632 2.747695  0.235184949\n",
       "Oct  2  0.056738030 2.665003 -0.017741527\n",
       "Nov  2 -0.028436302 2.582312 -0.242876010\n",
       "Dec  2 -0.093031070 2.526920 -0.202888745\n",
       "Jan  3 -0.241978881 2.471527 -0.218548436\n",
       "Feb  3 -0.309430130 2.455624 -0.078193717\n",
       "Mar  3 -0.261161332 2.439720  0.122440957\n",
       "Apr  3  0.125592026 2.465270 -0.434862517\n",
       "May  3  0.201926779 2.490821 -0.227747385\n",
       "Jun  3  0.465440466 2.543762 -0.283202838\n",
       "Jul  3  0.260620424 2.596704  0.017675439\n",
       "Aug  3  0.008599608 2.666577  0.207822994\n",
       "Sep  3 -0.184879632 2.736451  0.297428973\n",
       "Oct  3  0.056738030 2.831713 -0.081451262\n",
       "Nov  3 -0.028436302 2.926976  0.021460496\n",
       "Dec  3 -0.093031070 3.031739 -0.248708026\n",
       "Jan  4 -0.241978881 3.136502 -0.073523506\n",
       "Feb  4 -0.309430130 3.244154 -0.128723899\n",
       "Mar  4 -0.261161332 3.351806 -0.207644339\n",
       "Apr  4  0.125592026 3.481881 -0.111472918\n",
       "May  4  0.201926779 3.611956  0.485117109\n",
       "Jun  4  0.465440466 3.760824 -0.267264075\n",
       "Jul  4  0.260620424 3.909691 -0.110311530\n",
       "Aug  4  0.008599608 4.039725 -0.046324358\n",
       "Sep  4 -0.184879632 4.169758  0.053121238\n",
       "Oct  4  0.056738030 4.234939  0.286323144\n",
       "Nov  4 -0.028436302 4.300119  0.260317042\n",
       "Dec  4 -0.093031070 4.293136  0.457894625\n",
       "Jan  5 -0.241978881 4.286154  0.439825250\n",
       "Feb  5 -0.309430130 4.236415  0.629015619\n",
       "Mar  5 -0.261161332 4.186675  0.262485941\n",
       "Apr  5  0.125592026 4.120897  0.002511412\n",
       "May  5  0.201926779 4.055118 -0.563044512\n",
       "Jun  5  0.465440466 3.996521 -0.586961522\n",
       "Jul  5  0.260620424 3.937924 -0.340544802\n",
       "Aug  5  0.008599608 3.892915 -0.332514349\n",
       "Sep  5 -0.184879632 3.847905  0.003974528\n",
       "Oct  5  0.056738030 3.825136 -0.056874019\n",
       "Nov  5 -0.028436302 3.802367  0.360069429\n",
       "Dec  5 -0.093031070 3.782122  0.555909537\n",
       "Jan  6 -0.241978881 3.761876  0.332102688\n",
       "Feb  6 -0.309430130 3.705734  0.034695787\n",
       "Mar  6 -0.261161332 3.649592  0.014568839\n",
       "Apr  6  0.125592026 3.544670 -0.182262003\n",
       "May  6  0.201926779 3.439747  0.166325760\n",
       "Jun  6  0.465440466 3.317670  0.127889880\n",
       "Jul  6  0.260620424 3.195592 -0.124212270\n",
       "Aug  6  0.008599608 3.110985 -0.085584708\n",
       "Sep  6 -0.184879632 3.026378  0.152501277\n",
       "Oct  6  0.056738030 2.996080 -0.476818178\n",
       "Nov  6 -0.028436302 2.965782 -0.313345638\n",
       "Dec  6 -0.093031070 2.992120 -0.625088469\n",
       "Jan  7 -0.241978881 3.018457 -0.267478256\n",
       "Feb  7 -0.309430130 3.115663 -0.016232896\n",
       "Mar  7 -0.261161332 3.212869 -0.099707581\n",
       "Apr  7  0.125592026 3.364456 -0.179047786\n",
       "May  7  0.201926779 3.516043 -0.023969386\n",
       "Jun  7  0.465440466 3.678069 -0.141509009\n",
       "Jul  7  0.260620424 3.840094  0.074285097\n",
       "Aug  7  0.008599608 3.975183  0.153217086\n",
       "Sep  7 -0.184879632 4.110272  0.444607499\n",
       "Oct  7  0.056738030 4.196087  0.313174986\n",
       "Nov  7 -0.028436302 4.281902  0.182534467\n",
       "Dec  7 -0.093031070 4.310229  0.188802159\n",
       "Jan  8 -0.241978881 4.338556  0.110422895\n",
       "Feb  8 -0.309430130 4.343047  0.108382689\n",
       "Mar  8 -0.261161332 4.347539  0.405622437\n",
       "Apr  8  0.125592026 4.352376 -0.186968489\n",
       "May  8  0.201926779 4.357214 -0.348140811\n",
       "Jun  8  0.465440466 4.374178 -0.663618445\n",
       "Jul  8  0.260620424 4.391142 -0.301762349\n",
       "Aug  8  0.008599608 4.453076  0.033324771\n",
       "Sep  8 -0.184879632 4.515009  0.328870316\n",
       "Oct  8  0.056738030 4.614485  0.204776928\n",
       "Nov  8 -0.028436302 4.713961 -0.362524466\n",
       "Dec  8 -0.093031070 4.803013 -0.409981506\n",
       "Jan  9 -0.241978881 4.892064 -0.203085502\n",
       "Feb  9 -0.309430130 4.917937  0.663493481\n",
       "Mar  9 -0.261161332 4.943809  0.849352417\n",
       "Apr  9  0.125592026 4.915662  0.360745894\n",
       "May  9  0.201926779 4.887515 -0.071442024\n",
       "Jun  9  0.465440466 4.829316  0.535244028\n",
       "Jul  9  0.260620424 4.771116  0.091263810\n",
       "Aug  9  0.008599608 4.718330 -0.156929759\n",
       "Sep  9 -0.184879632 4.665545 -0.505664903\n",
       "Oct  9  0.056738030 4.696139 -0.502877527\n",
       "Nov  9 -0.028436302 4.726734 -0.530298158\n",
       "Dec  9 -0.093031070 4.904979 -0.971947672\n",
       "Jan 10 -0.241978881 5.083223 -0.630244143\n",
       "Feb 10 -0.309430130 5.482035 -0.671604500\n",
       "Mar 10 -0.261161332 5.880846 -0.492684904\n",
       "Apr 10  0.125592026 6.485586 -0.767178184\n",
       "May 10  0.201926779 7.090326 -0.428252860\n",
       "Jun 10  0.465440466 7.698509 -0.902949885\n",
       "Jul 10  0.260620424 8.306693 -0.397313180\n",
       "Aug 10  0.008599608 8.729605  0.076795047\n",
       "Sep 10 -0.184879632 9.152518  2.292361697\n",
       "Oct 10  0.056738030 9.341048  3.515214149\n",
       "Nov 10 -0.028436302 9.529578  2.086858594\n",
       "Dec 10 -0.093031070 9.495135  1.098895618\n",
       "Jan 11 -0.241978881 9.460693  0.556285686\n",
       "Feb 11 -0.309430130 9.208171 -0.185740725\n",
       "Mar 11 -0.261161332 8.955649 -0.751487181\n",
       "Apr 11  0.125592026 8.617618 -1.457210300\n",
       "May 11  0.201926779 8.279588 -0.334514813\n",
       "Jun 11  0.465440466 8.055856 -0.320295996\n",
       "Jul 11  0.260620424 7.832123 -0.374743448\n",
       "Aug 11  0.008599608 7.742821 -0.467420242\n",
       "Sep 11 -0.184879632 7.653518 -0.705638612\n",
       "Oct 11  0.056738030 7.639937  0.028324530\n",
       "Nov 11 -0.028436302 7.626357  0.496079666\n",
       "Dec 11 -0.093031070 7.658842  0.350188640\n",
       "Jan 12 -0.241978881 7.691328  0.030650658\n",
       "Feb 12 -0.309430130 7.734164  0.247265963\n",
       "Mar 12 -0.261161332 7.777000 -0.615838778\n",
       "Apr 12  0.125592026 7.763843 -0.565435395\n",
       "May 12  0.201926779 7.750687  0.482386593\n",
       "Jun 12  0.465440466 7.719507  0.066052296\n",
       "Jul 12  0.260620424 7.688328  0.384051728\n",
       "Aug 12  0.008599608 7.759309  1.346091132\n",
       "Sep 12 -0.184879632 7.830291 -0.811411041\n",
       "Oct 12  0.056738030 8.093454 -1.232191754\n",
       "Nov 12 -0.028436302 8.356617 -1.434180473\n",
       "Dec 12 -0.093031070 8.741008 -0.925976743\n",
       "Jan 13 -0.241978881 9.125399 -1.548419971\n",
       "Feb 13 -0.309430130 9.433666 -1.284235776\n",
       "Mar 13 -0.261161332 9.741933 -0.277771628\n",
       "Apr 13  0.125592026 9.866610  3.360797832\n",
       "May 13  0.201926779 9.991287  2.073785896\n",
       "Jun 13  0.465440466 9.927028  3.785531340\n",
       "Jul 13  0.260620424 9.862769  2.900610514\n",
       "Aug 13  0.008599608 9.585619  0.289781104\n",
       "Sep 13 -0.184879632 9.308470 -1.396589881\n",
       "Oct 13  0.056738030 8.867297 -1.616035465\n",
       "Nov 13 -0.028436302 8.426125 -1.766689054\n",
       "Dec 13 -0.093031070 8.016942 -0.581910520\n",
       "Jan 14 -0.241978881 7.607758 -0.120778943\n",
       "Feb 14 -0.309430130 7.370656 -0.719225592\n",
       "Mar 14 -0.261161332 7.133554 -0.713392286\n",
       "Apr 14  0.125592026 7.032741 -0.303333401\n",
       "May 14  0.201926779 6.931929  1.112144089\n",
       "Jun 14  0.465440466 6.847461  1.506098995\n",
       "Jul 14  0.260620424 6.762992 -0.429612369\n",
       "Aug 14  0.008599608 6.654452 -0.434051992\n",
       "Sep 14 -0.184879632 6.545913 -0.156033191\n",
       "Oct 14  0.056738030 6.395131 -0.051868821\n",
       "Nov 14 -0.028436302 6.244349  0.284087542\n",
       "Dec 14 -0.093031070 6.069559 -0.069528141\n",
       "Jan 15 -0.241978881 5.894770  0.021209219\n",
       "Feb 15 -0.309430130 5.771048 -0.220618221\n",
       "Mar 15 -0.261161332 5.647327  0.123834291\n",
       "Apr 15  0.125592026 5.578527  0.293881112\n",
       "May 15  0.201926779 5.509727 -0.710653462\n",
       "Jun 15  0.465440466 5.484784 -0.469224954\n",
       "Jul 15  0.260620424 5.459842 -0.565462715\n",
       "Aug 15  0.008599608 5.454287 -0.206887005\n",
       "Sep 15 -0.184879632 5.448733 -0.166852871\n",
       "Oct 15  0.056738030 5.411174  0.553087774\n",
       "Nov 15 -0.028436302 5.373616  0.696820412\n",
       "Dec 15 -0.093031070 5.282793  0.275237624\n",
       "Jan 16 -0.241978881 5.191971  0.491007879\n",
       "Feb 16 -0.309430130 5.027188  0.869242392\n",
       "Mar 16 -0.261161332 4.862404  0.408756859\n",
       "Apr 16  0.125592026 4.650034 -0.135626227\n",
       "May 16  0.201926779 4.437664 -0.561590708\n",
       "Jun 16  0.465440466 4.222560 -0.340000367\n",
       "Jul 16  0.260620424 4.007456 -0.174076297\n",
       "Aug 16  0.008599608 3.810070 -0.357669730\n",
       "Sep 16 -0.184879632 3.612684 -0.408804739\n",
       "Oct 16  0.056738030 3.460222 -0.173959625\n",
       "Nov 16 -0.028436302 3.307759  0.391677482\n",
       "Dec 16 -0.093031070 3.207792  0.361238999\n",
       "Jan 17 -0.241978881 3.107825  0.217153560\n",
       "Feb 17 -0.309430130 3.061493 -0.365062833\n",
       "Mar 17 -0.261161332 3.015161 -0.501999272\n",
       "Apr 17  0.125592026 3.044805 -0.420397499\n",
       "May 17  0.201926779 3.074450 -0.254377120\n",
       "Jun 17  0.465440466 3.212869 -0.613308973\n",
       "Jul 17  0.260620424 3.351287 -0.720907097\n",
       "Aug 17  0.008599608 3.612619 -0.402218251\n",
       "Sep 17 -0.184879632 3.873951 -0.380070981\n",
       "Oct 17  0.056738030 4.183861 -0.322599310\n",
       "Nov 17 -0.028436302 4.493772 -0.081335645\n",
       "Dec 17 -0.093031070 4.739312  0.647718989\n",
       "Jan 18 -0.241978881 4.984852  0.544126667\n",
       "Feb 18 -0.309430130 5.110020  0.640410363\n",
       "Mar 18 -0.261161332 5.235187  1.052974013\n",
       "Apr 18  0.125592026 5.214675  1.996732804\n",
       "May 18  0.201926779 5.194163  0.058910201\n",
       "Jun 18  0.465440466 5.024835 -0.339275411\n",
       "Jul 18  0.260620424 4.855507  0.218872707\n",
       "Aug 18  0.008599608 4.583070 -0.065669212\n",
       "Sep 18 -0.184879632 4.310632 -0.144752706\n",
       "Oct 18  0.056738030 4.018433  0.182828568\n",
       "Nov 18 -0.028436302 3.726234 -0.085798165\n",
       "Dec 18 -0.093031070 3.499306 -0.348275034\n",
       "Jan 19 -0.241978881 3.272378 -0.162398860\n",
       "Feb 19 -0.309430130 3.110022 -0.209591660\n",
       "Mar 19 -0.261161332 2.947666 -0.290504506\n",
       "Apr 19  0.125592026 2.831803 -0.554395331\n",
       "May 19  0.201926779 2.715941 -0.331867551\n",
       "Jun 19  0.465440466 2.636414 -0.046854179\n",
       "Jul 19  0.260620424 2.556887  0.159492921\n",
       "Aug 19  0.008599608 2.502118  0.437282155\n",
       "Sep 19 -0.184879632 2.447350  0.115529813\n",
       "Oct 19  0.056738030 2.401871 -0.065609033\n",
       "Nov 19 -0.028436302 2.356392 -0.012955886\n",
       "Dec 19 -0.093031070 2.308713 -0.014682247\n",
       "Jan 20 -0.241978881 2.261034 -0.162055566\n",
       "Feb 20 -0.309430130 2.222745 -0.093314820\n",
       "Mar 20 -0.261161332 2.184455 -0.063294121\n",
       "Apr 20  0.125592026 2.174498 -0.346089588\n",
       "May 20  0.201926779 2.164540  0.013533550\n",
       "Jun 20  0.465440466 2.184902 -0.102342191\n",
       "Jul 20  0.260620424 2.205264  0.013115797\n",
       "Aug 20  0.008599608 2.241334 -0.081933466\n",
       "Sep 20 -0.184879632 2.277404  0.127475695\n",
       "Oct 20  0.056738030 2.314572 -0.137309547\n",
       "Nov 20 -0.028436302 2.351739 -0.074302795\n",
       "Dec 20 -0.093031070 2.390433  0.226597840\n",
       "Jan 21 -0.241978881 2.429127  0.124851520\n",
       "Feb 21 -0.309430130 2.456988  0.164442097\n",
       "Mar 21 -0.261161332 2.484849 -0.113687372\n",
       "Apr 21  0.125592026 2.485558 -0.325150268\n",
       "May 21  0.201926779 2.486268  0.114805441\n",
       "Jun 21  0.465440466 2.466281  0.304278345\n",
       "Jul 21  0.260620424 2.446295  0.336084979\n",
       "Aug 21  0.008599608 2.432130  0.148270458\n",
       "Sep 21 -0.184879632 2.417965 -0.093085638\n",
       "Oct 21  0.056738030 2.410357 -0.299094937\n",
       "Nov 21 -0.028436302 2.402749 -0.111312243\n",
       "Dec 21 -0.093031070 2.378705 -0.212673623\n",
       "Jan 22 -0.241978881 2.354661 -0.134681961\n",
       "Feb 22 -0.309430130 2.341159 -0.036728512\n",
       "Mar 22 -0.261161332 2.327656  0.326504890\n",
       "Apr 22  0.125592026 2.338602  0.352806139\n",
       "May 22  0.201926779 2.349547  0.019525993\n",
       "Jun 22  0.465440466 2.358923 -0.252363960\n",
       "Jul 22  0.260620424 2.368300 -0.356920184\n",
       "Aug 22  0.008599608 2.358249 -0.144848811\n",
       "Sep 22 -0.184879632 2.348199  0.321680985\n",
       "Oct 22  0.056738030 2.313894  0.201367787\n",
       "Nov 22 -0.028436302 2.279590  0.055846583\n",
       "Dec 22 -0.093031070 2.228824  0.141206961\n",
       "Jan 23 -0.241978881 2.178058  0.163920382\n",
       "Feb 23 -0.309430130 2.114066  0.251364070\n",
       "Mar 23 -0.261161332 2.050074  0.175087712\n",
       "Apr 23  0.125592026 1.983666 -0.114258333\n",
       "May 23  0.201926779 1.917259 -0.261185773\n",
       "Jun 23  0.465440466 1.867134 -0.443574602\n",
       "Jul 23  0.260620424 1.817009 -0.194629702\n",
       "Aug 23  0.008599608 1.785841 -0.049440653\n",
       "Sep 23 -0.184879632 1.754673  0.035206819\n",
       "Oct 23  0.056738030 1.744600 -0.082338327\n",
       "Nov 23 -0.028436302 1.734528  0.094908519\n",
       "Dec 23 -0.093031070 1.739694  0.098337432\n",
       "Jan 24 -0.241978881 1.744859  0.136119387\n",
       "Feb 24 -0.309430130 1.761679  0.039751178\n",
       "Mar 24 -0.261161332 1.778498 -0.027337079\n",
       "Apr 24  0.125592026 1.805433 -0.237024896\n",
       "May 24  0.201926779 1.832367 -0.161294108\n",
       "Jun 24  0.465440466 1.878723 -0.307163130\n",
       "Jul 24  0.260620424 1.925078 -0.119698422\n",
       "Aug 24  0.008599608 1.984907  0.037493301\n",
       "Sep 24 -0.184879632 2.044736  0.223143449\n",
       "Oct 24  0.056738030 2.107701 -0.014438695\n",
       "Nov 24 -0.028436302 2.170665 -0.104228846\n",
       "Dec 24 -0.093031070 2.236274 -0.004242773\n",
       "Jan 25 -0.241978881 2.301883  0.058096342\n",
       "Feb 25 -0.309430130 2.369437  0.107993037\n",
       "Mar 25 -0.261161332 2.436992 -0.059830314\n",
       "\n",
       "$weights\n",
       "  [1] 1 1 1 1 1 1 1 1 1 1 1 1 1 1 1 1 1 1 1 1 1 1 1 1 1 1 1 1 1 1 1 1 1 1 1 1 1\n",
       " [38] 1 1 1 1 1 1 1 1 1 1 1 1 1 1 1 1 1 1 1 1 1 1 1 1 1 1 1 1 1 1 1 1 1 1 1 1 1\n",
       " [75] 1 1 1 1 1 1 1 1 1 1 1 1 1 1 1 1 1 1 1 1 1 1 1 1 1 1 1 1 1 1 1 1 1 1 1 1 1\n",
       "[112] 1 1 1 1 1 1 1 1 1 1 1 1 1 1 1 1 1 1 1 1 1 1 1 1 1 1 1 1 1 1 1 1 1 1 1 1 1\n",
       "[149] 1 1 1 1 1 1 1 1 1 1 1 1 1 1 1 1 1 1 1 1 1 1 1 1 1 1 1 1 1 1 1 1 1 1 1 1 1\n",
       "[186] 1 1 1 1 1 1 1 1 1 1 1 1 1 1 1 1 1 1 1 1 1 1 1 1 1 1 1 1 1 1 1 1 1 1 1 1 1\n",
       "[223] 1 1 1 1 1 1 1 1 1 1 1 1 1 1 1 1 1 1 1 1 1 1 1 1 1 1 1 1 1 1 1 1 1 1 1 1 1\n",
       "[260] 1 1 1 1 1 1 1 1 1 1 1 1 1 1 1 1 1 1 1 1 1 1 1 1 1 1 1 1 1 1 1 1\n",
       "\n",
       "$call\n",
       "stl(x = ts(data[, 2], freq = 12), s.window = \"periodic\")\n",
       "\n",
       "$win\n",
       "   s    t    l \n",
       "2911   19   13 \n",
       "\n",
       "$deg\n",
       "s t l \n",
       "0 1 1 \n",
       "\n",
       "$jump\n",
       "  s   t   l \n",
       "292   2   2 \n"
      ]
     },
     "metadata": {},
     "output_type": "display_data"
    },
    {
     "data": {
      "image/png": "[encoded data removed]",
      "text/plain": [
       "plot without title"
      ]
     },
     "metadata": {},
     "output_type": "display_data"
    }
   ],
   "source": [
    "datastl<- stl(ts(data[,2], freq=12), s.window=\"periodic\")\n",
    "head(datastl)\n",
    "plot(datastl)"
   ]
  },
  {
   "cell_type": "code",
   "execution_count": 21,
   "metadata": {
    "collapsed": true
   },
   "outputs": [],
   "source": [
    "ts_sa <- seasadj(datastl)\n"
   ]
  },
  {
   "cell_type": "code",
   "execution_count": 22,
   "metadata": {
    "collapsed": true
   },
   "outputs": [
    {
     "data": {
      "image/png": "[encoded data removed]",
      "text/plain": [
       "Plot with title \"Seasonal Adjusted\""
      ]
     },
     "metadata": {},
     "output_type": "display_data"
    }
   ],
   "source": [
    "par(mfrow=c(3,2))\n",
    "plot(data[,2], type=\"l\", main=\"Real\")  \n",
    "plot(ts_sa, type=\"l\", main=\"Seasonal Adjusted\")"
   ]
  },
  {
   "cell_type": "code",
   "execution_count": 23,
   "metadata": {
    "collapsed": true
   },
   "outputs": [
    {
     "data": {
      "image/png": "[encoded data removed]",
      "text/plain": [
       "Plot with title \"Seasonal plot: Data\""
      ]
     },
     "metadata": {},
     "output_type": "display_data"
    }
   ],
   "source": [
    "par(mfrow=c(1,1))\n",
    "seasonplot(ts_sa, \n",
    "           s=12, \n",
    "           col=rainbow(12), \n",
    "           year.labels=TRUE, \n",
    "           main=\"Seasonal plot: Data\")\n"
   ]
  },
  {
   "cell_type": "markdown",
   "metadata": {},
   "source": [
    "Normallik testini ölçmek için sezonsal etkisi çıkarılmış veriye shapiro.test uygulanır."
   ]
  },
  {
   "cell_type": "code",
   "execution_count": 24,
   "metadata": {
    "scrolled": true
   },
   "outputs": [
    {
     "data": {
      "text/plain": [
       "\n",
       "\tShapiro-Wilk normality test\n",
       "\n",
       "data:  ts_sa\n",
       "W = 0.86274, p-value = 2.098e-15\n"
      ]
     },
     "metadata": {},
     "output_type": "display_data"
    }
   ],
   "source": [
    "shapiro.test(ts_sa)"
   ]
  },
  {
   "cell_type": "markdown",
   "metadata": {},
   "source": [
    "Durağanlık testine göre p değeri yüksek ( doğruluktan emin olunmadığı gösterir ) ve w değeri düşüktür.\n",
    "Bu yüzden ilk yol olarak yapılan çarpımsal modele ilk başta decompose ve sonrasında da auto.arima modelinin\n",
    "uygulandığı analiz yöntemi tercih edilir."
   ]
  },
  {
   "cell_type": "code",
   "execution_count": 25,
   "metadata": {
    "collapsed": true
   },
   "outputs": [
    {
     "data": {
      "image/png": "[encoded data removed]",
      "text/plain": [
       "Plot with title \"Series  ts_sa\""
      ]
     },
     "metadata": {},
     "output_type": "display_data"
    }
   ],
   "source": [
    "acf(ts_sa)"
   ]
  },
  {
   "cell_type": "code",
   "execution_count": 26,
   "metadata": {
    "collapsed": true
   },
   "outputs": [
    {
     "data": {
      "image/png": "[encoded data removed]",
      "text/plain": [
       "Plot with title \"Series  ts_sa\""
      ]
     },
     "metadata": {},
     "output_type": "display_data"
    }
   ],
   "source": [
    "pacf(ts_sa)"
   ]
  },
  {
   "cell_type": "markdown",
   "metadata": {},
   "source": [
    "Sezonsal etkiden arındırılan verinin (ts_sa) , hala sezonsal etki içerip içermediğini anlamak (mevsimsellik farkını bulmak) \n",
    "için nsdiffs fonksiyonu uygulanır.\n"
   ]
  },
  {
   "cell_type": "code",
   "execution_count": 27,
   "metadata": {
    "scrolled": true
   },
   "outputs": [
    {
     "data": {
      "text/html": [
       "0"
      ],
      "text/latex": [
       "0"
      ],
      "text/markdown": [
       "0"
      ],
      "text/plain": [
       "[1] 0"
      ]
     },
     "metadata": {},
     "output_type": "display_data"
    }
   ],
   "source": [
    "nsdiffs(ts_sa)\n"
   ]
  },
  {
   "cell_type": "markdown",
   "metadata": {},
   "source": [
    "Mevsimsellik farkı sıfırdır. Mevsimsel etki yoktur."
   ]
  },
  {
   "cell_type": "markdown",
   "metadata": {},
   "source": [
    "Verinin Adı:   Natural Gas Futures Contract 3 \n",
    "\n",
    "Verinin Alındığı Yer: Quandl\n",
    "\n",
    "Verinin Sıklığı: Aylık\n",
    "\n",
    "Verinin Zaman Aralığı: 31.01.1994- 31.03.2018"
   ]
  },
  {
   "cell_type": "markdown",
   "metadata": {},
   "source": [
    "Veride iki sütun bulunmaktadır. Sütunlardan birisi zaman, diğeri ise kullanılan değerdir. Amaç zaman serisindeki gözlenen değerlerinin trend, mevsimsel, çevresel ve rastgele etkenlerden ayırmaktır.\n",
    "Bu doğrultuda iki yöntem kullanılabilir.\n",
    "\n",
    "1. Yöntem : R'da bulunan decompose fonksiyonu ile seriyi mevsimsel ve trendsel etkenlerden ayırmaktır.\n",
    "Decompose fonksiyonunu zaman serilerin hep toplamına hem de çarpımına ayrı ayrı uygulanır. Daha net sonuç veren veri seçilir.\n",
    "Ancak kullanılan veride toplanan ve çarpılan veride net bir karar verilemedi. \n",
    "Toplanan ya da çarpılan model olduğunu anlamak için ;iki durum için ayrı ayrı normallik testi, adf,pacf,durağanlık testi ve auto.arima uygulanır.\n",
    "Elde edilen verilere göre çarpılan model veri için daha uygundur.\n",
    "Seçilen model için durağanlık testi mevsimsellik,trendsel ve auto.arima etkisinden geçtikten sonraki haline uygulanırsa elde edilen \n",
    "p değerinin çok küçük ( p< 0.05)ve w değerinin (w<1) yüksek olduğu görülür. Böylelikle analiz tamamlanmış olmaktadır."
   ]
  },
  {
   "cell_type": "markdown",
   "metadata": {},
   "source": [
    "### FORECAST"
   ]
  },
  {
   "cell_type": "code",
   "execution_count": 28,
   "metadata": {
    "collapsed": true
   },
   "outputs": [],
   "source": [
    "require(forecast)"
   ]
  },
  {
   "cell_type": "markdown",
   "metadata": {},
   "source": [
    "#### Üssel Düzgünleştirme -Exponential Smooting\n",
    "Verideki son değişim ve sıçramaları incelenerek tahminlerin ya da öngörülerin devamlı olarak güncelleştirildiği bir yöntemdir. Deterministik ve stokastik trende sahip olan tüm serilere uygulanabilmektedir. \n",
    "Üstel düzleştirme yönteminde gelecek dönemin (T+1 döneminin) tahminin hesabında son döneme ait tahmin ile bu tahminden elde edilen hatanın bir kısmı kullanılmaktadır.\n",
    "$$ Y_{t+1}= Y_{t}+ a(e_{t}) $$\n",
    "ile ifade edilir.\n",
    "\n",
    "$$ S_{t}= S_{t-1}+ a(Y_{t}-S_{t-1} ) $$ \n",
    "$S_{t}$: Bir sonraki (gelecek) dönemin, yani (T+1)’inci dönemin tahmini\n",
    "\n",
    "$S_{t-1}$: Son döneme ait tahmin ( bu tahmin (T-1)’inci dönemde yapılır.\n",
    "\n",
    "$Y_{t}$: Son döneme  ait gerçek değer\n",
    "\n",
    "a: Düzleştirme katsayısı yada ağırlık $ 0<a<1$\n",
    "\n",
    "$ Y_{t}-S_{t-1} $: Son döneme ait tahmin hatası\n",
    "\n",
    "$$ Y_{t+1}= S_{t}= a(Y_{t+1})+ (1-a)S_{t-1}$$\n",
    "\n",
    "Gelecek dönemin tahmini=ağırlık.(son dönemin gözlem değeri)+(1-ağırlık).(son döneme ait tahmin)\n",
    "Genel terimini yazmak istenirse:     \n",
    "$$ \\hat Y_{t+1} = S_{t} = a \\sum_{i=1}^t (1-a)^i*Y_{t-i}  $$       \n",
    "Üssel düzgünleştirme de 2 farklı yöntem vardır. Bu iki yöntem için de R da bulunan fonksiyonlar kullanılır.\n",
    "- ets() fonksiyonu\n",
    "- HoltWinters() fonkisyonu"
   ]
  },
  {
   "cell_type": "markdown",
   "metadata": {},
   "source": [
    "İlk olarak verimizin zaman serisi olduğunu gösteriyoruz. Zaman serisi sıklığını aylık olarak tanımlıyoruz.\n",
    "Zaman aralığımızı 01.1994 - 12.2017 kadar olan süreyi alıyoruz.\n",
    "01.2018-03.2018 süresini de test verisi olarak alıyoruz."
   ]
  },
  {
   "cell_type": "code",
   "execution_count": 90,
   "metadata": {
    "collapsed": true
   },
   "outputs": [
    {
     "data": {
      "text/plain": [
       "        Jan    Feb    Mar    Apr    May    Jun    Jul    Aug    Sep    Oct\n",
       "1994  2.784  2.695  2.800  2.737  3.149  3.203  3.229  3.023  2.988  3.013\n",
       "1995  3.140  3.067  3.294  3.547  3.047  3.446  3.193  2.930  2.798  2.704\n",
       "1996  2.011  2.068  2.301  2.156  2.465  2.726  2.875  2.883  2.849  2.807\n",
       "1997  2.821  2.806  2.883  3.496  4.299  3.959  4.060  4.002  4.038  4.578\n",
       "1998  4.484  4.556  4.188  4.249  3.694  3.875  3.858  3.569  3.667  3.825\n",
       "1999  3.852  3.431  3.403  3.488  3.808  3.911  3.332  3.034  2.994  2.576\n",
       "2000  2.509  2.790  2.852  3.311  3.694  4.002  4.175  4.137  4.370  4.566\n",
       "2001  4.207  4.142  4.492  4.291  4.211  4.176  4.350  4.495  4.659  4.876\n",
       "2002  4.447  5.272  5.532  5.402  5.018  5.830  5.123  4.570  3.975  4.250\n",
       "2003  4.211  4.501  5.127  5.844  6.864  7.261  8.170  8.815 11.260 12.913\n",
       "2004  9.775  8.713  7.943  7.286  8.147  8.201  7.718  7.284  6.763  7.725\n",
       "2005  7.480  7.672  6.900  7.324  8.435  8.251  8.333  9.114  6.834  6.918\n",
       "2006  7.335  7.840  9.203 13.353 12.267 14.178 13.024  9.884  7.727  7.308\n",
       "2007  7.245  6.342  6.159  6.855  8.246  8.819  6.594  6.229  6.205  6.400\n",
       "2008  5.674  5.241  5.510  5.998  5.001  5.481  5.155  5.256  5.097  6.021\n",
       "2009  5.441  5.587  5.010  4.640  4.078  4.348  4.094  3.461  3.019  3.343\n",
       "2010  3.083  2.387  2.252  2.750  3.022  3.065  2.891  3.219  3.309  3.918\n",
       "2011  5.287  5.441  6.027  7.337  5.455  5.151  5.335  4.526  3.981  4.258\n",
       "2012  2.868  2.591  2.396  2.403  2.586  3.055  2.977  2.948  2.378  2.393\n",
       "2013  1.857  1.820  1.860  1.954  2.380  2.548  2.479  2.168  2.220  2.234\n",
       "2014  2.312  2.312  2.110  2.286  2.803  3.236  3.043  2.589  2.140  2.168\n",
       "2015  1.978  1.995  2.393  2.817  2.571  2.572  2.272  2.222  2.485  2.572\n",
       "2016  2.100  2.056  1.964  1.995  1.858  1.889  1.883  1.745  1.605  1.719\n",
       "2017  1.639  1.492  1.490  1.694  1.873  2.037  2.066  2.031  2.083  2.150\n",
       "        Nov    Dec\n",
       "1994  3.346  3.344\n",
       "1995  2.311  2.231\n",
       "1996  2.920  2.690\n",
       "1997  4.532  4.658\n",
       "1998  4.134  4.245\n",
       "1999  2.624  2.274\n",
       "2000  4.436  4.406\n",
       "2001  4.323  4.300\n",
       "2002  4.168  3.840\n",
       "2003 11.588 10.501\n",
       "2004  8.094  7.916\n",
       "2005  6.894  7.722\n",
       "2006  6.631  7.342\n",
       "2007  6.500  5.907\n",
       "2008  6.042  5.465\n",
       "2009  3.671  3.476\n",
       "2010  4.384  5.294\n",
       "2011  3.612  3.058\n",
       "2012  2.315  2.201\n",
       "2013  2.249  2.524\n",
       "2014  2.263  2.073\n",
       "2015  2.307  2.277\n",
       "2016  1.801  1.745\n",
       "2017  2.038  2.139"
      ]
     },
     "metadata": {},
     "output_type": "display_data"
    },
    {
     "data": {
      "image/png": "[encoded data removed]",
      "text/plain": [
       "plot without title"
      ]
     },
     "metadata": {},
     "output_type": "display_data"
    }
   ],
   "source": [
    "time_series <-ts(data[,2], start=c(1994, 1), end=c(2017, 12), freq=12)\n",
    "time_series\n",
    "plot(time_series)"
   ]
  },
  {
   "cell_type": "markdown",
   "metadata": {},
   "source": [
    "Aşağıda üssel düzgünleştirme yönteminin ets() fonksiyonu kullanılmış halini uygulayacağız.\n",
    "Öngörü doğruluğunu hesaplamak için R'ın accuracy fonksiyonunu kullanılır. Accuracy fonksiyonu ile gelen verilerde:\n",
    "\n",
    "ME:Ortalama Hata\n",
    "$$  ME = 1/n \\sum_{t=1}^n e_{t}  $$    \n",
    "MAE : Ortalama Mutlak Hata\n",
    "$$  MAE = 1/n \\sum_{t=1}^n |e_{t}|  $$    \n",
    "MSE: Ortalama Hata Kare\n",
    "$$  MSE = 1/n \\sum_{t=1}^n e_{t}^2  $$    \n",
    "MPE: Ortalama Yüzde Hata \n",
    "$$  MPE = 1/n \\sum_{t=1}^n PE_{t}  $$\n",
    "MAPE: Ortalama Mutlak Yüzde Hata \n",
    "$$  MPE = 1/n \\sum_{t=1}^n |PE_{t}| $$\n",
    "$e_{t} $ : t dönemindeki hata\n",
    "\n",
    "$PE_{t} $ : t dönemindeki yüzde hata\n",
    "\n",
    "$PE_{t}= [(Y_{t}-F_{t})/Y_{t}]*100$\n",
    "\n",
    "n: dönem sayısı"
   ]
  },
  {
   "cell_type": "markdown",
   "metadata": {},
   "source": [
    "Öngörü modellerinden ilk olarak ets modelini deniyoruz. "
   ]
  },
  {
   "cell_type": "code",
   "execution_count": 91,
   "metadata": {
    "collapsed": true
   },
   "outputs": [
    {
     "data": {
      "text/html": [
       "<table>\n",
       "<thead><tr><th></th><th scope=col>ME</th><th scope=col>RMSE</th><th scope=col>MAE</th><th scope=col>MPE</th><th scope=col>MAPE</th><th scope=col>MASE</th><th scope=col>ACF1</th></tr></thead>\n",
       "<tbody>\n",
       "\t<tr><th scope=row>Training set</th><td>0.002077285</td><td>0.5633965  </td><td>0.3468675  </td><td>-0.184761  </td><td>7.32704    </td><td>0.273651   </td><td>0.1311451  </td></tr>\n",
       "</tbody>\n",
       "</table>\n"
      ],
      "text/latex": [
       "\\begin{tabular}{r|lllllll}\n",
       "  & ME & RMSE & MAE & MPE & MAPE & MASE & ACF1\\\\\n",
       "\\hline\n",
       "\tTraining set & 0.002077285 & 0.5633965   & 0.3468675   & -0.184761   & 7.32704     & 0.273651    & 0.1311451  \\\\\n",
       "\\end{tabular}\n"
      ],
      "text/markdown": [
       "\n",
       "| <!--/--> | ME | RMSE | MAE | MPE | MAPE | MASE | ACF1 | \n",
       "|---|\n",
       "| Training set | 0.002077285 | 0.5633965   | 0.3468675   | -0.184761   | 7.32704     | 0.273651    | 0.1311451   | \n",
       "\n",
       "\n"
      ],
      "text/plain": [
       "             ME          RMSE      MAE       MPE       MAPE    MASE    \n",
       "Training set 0.002077285 0.5633965 0.3468675 -0.184761 7.32704 0.273651\n",
       "             ACF1     \n",
       "Training set 0.1311451"
      ]
     },
     "metadata": {},
     "output_type": "display_data"
    },
    {
     "data": {
      "text/plain": [
       "         Point Forecast    Lo 80    Hi 80    Lo 95    Hi 95\n",
       "Jan 2018       2.055136 1.808749 2.301523 1.678320 2.431952\n",
       "Feb 2018       1.983254 1.635618 2.330891 1.451590 2.514919\n",
       "Mar 2018       1.986769 1.546085 2.427454 1.312801 2.660738"
      ]
     },
     "metadata": {},
     "output_type": "display_data"
    },
    {
     "data": {
      "image/png": "[encoded data removed]",
      "text/plain": [
       "Plot with title \"Forecasts from ETS(M,Ad,M)\""
      ]
     },
     "metadata": {},
     "output_type": "display_data"
    }
   ],
   "source": [
    "model11 <-ets(time_series)\n",
    "data_forecast_ets <- forecast(model11, h=3)\n",
    "accuracy(data_forecast_ets)\n",
    "plot(data_forecast_ets, ,xlim=c(2018.1,2018.3))\n",
    "data_forecast_ets\n"
   ]
  },
  {
   "cell_type": "markdown",
   "metadata": {
    "collapsed": true
   },
   "source": [
    "Verimize ets() fonksiyonu ile öngörü hesapladığımızda bize ETS(M,N,N) argümanlarını vermiştir."
   ]
  },
  {
   "cell_type": "code",
   "execution_count": 52,
   "metadata": {
    "collapsed": true
   },
   "outputs": [
    {
     "name": "stdout",
     "output_type": "stream",
     "text": [
      "List of 10\n",
      " $ model    :List of 19\n",
      "  ..$ loglik    : num -519\n",
      "  ..$ aic       : num 1073\n",
      "  ..$ bic       : num 1139\n",
      "  ..$ aicc      : num 1076\n",
      "  ..$ mse       : num 0.317\n",
      "  ..$ amse      : num 0.797\n",
      "  ..$ fit       :List of 4\n",
      "  .. ..$ value  : num 1037\n",
      "  .. ..$ par    : num [1:17] 0.988008 0.078206 0.000234 0.833233 2.70331 ...\n",
      "  .. ..$ fail   : int 1\n",
      "  .. ..$ fncount: int 2001\n",
      "  ..$ residuals : Time-Series [1:288] from 1994 to 2018: 0.1864 0.0914 0.1044 -0.0443 0.1637 ...\n",
      "  ..$ fitted    : Time-Series [1:288] from 1994 to 2018: 2.35 2.47 2.54 2.86 2.71 ...\n",
      "  ..$ states    : Time-Series [1:289, 1:14] from 1994 to 2018: 2.7 2.85 2.88 2.99 2.75 ...\n",
      "  .. ..- attr(*, \"dimnames\")=List of 2\n",
      "  .. .. ..$ : NULL\n",
      "  .. .. ..$ : chr [1:14] \"l\" \"b\" \"s1\" \"s2\" ...\n",
      "  ..$ par       : Named num [1:17] 0.988008 0.078206 0.000234 0.833233 2.70331 ...\n",
      "  .. ..- attr(*, \"names\")= chr [1:17] \"alpha\" \"beta\" \"gamma\" \"phi\" ...\n",
      "  ..$ m         : num 12\n",
      "  ..$ method    : chr \"ETS(M,Ad,M)\"\n",
      "  ..$ series    : chr \"model1\"\n",
      "  ..$ components: chr [1:4] \"M\" \"A\" \"M\" \"TRUE\"\n",
      "  ..$ call      : language ets(y = model1)\n",
      "  ..$ initstate : Named num [1:14] 2.703 -0.352 1.018 1.036 1.033 ...\n",
      "  .. ..- attr(*, \"names\")= chr [1:14] \"l\" \"b\" \"s1\" \"s2\" ...\n",
      "  ..$ sigma2    : num 0.00875\n",
      "  ..$ x         : Time-Series [1:288] from 1994 to 2018: 2.78 2.69 2.8 2.74 3.15 ...\n",
      "  ..- attr(*, \"class\")= chr \"ets\"\n",
      " $ mean     : Time-Series [1:3] from 2018 to 2018: 2.06 1.98 1.99\n",
      " $ level    : num [1:2] 80 95\n",
      " $ x        : Time-Series [1:288] from 1994 to 2018: 2.78 2.69 2.8 2.74 3.15 ...\n",
      " $ upper    : Time-Series [1:3, 1:2] from 2018 to 2018: 2.3 2.33 2.43 2.43 2.51 ...\n",
      "  ..- attr(*, \"dimnames\")=List of 2\n",
      "  .. ..$ : NULL\n",
      "  .. ..$ : chr [1:2] \"80%\" \"95%\"\n",
      " $ lower    : Time-Series [1:3, 1:2] from 2018 to 2018: 1.81 1.64 1.55 1.68 1.45 ...\n",
      "  ..- attr(*, \"dimnames\")=List of 2\n",
      "  .. ..$ : NULL\n",
      "  .. ..$ : chr [1:2] \"80%\" \"95%\"\n",
      " $ fitted   : Time-Series [1:288] from 1994 to 2018: 2.35 2.47 2.54 2.86 2.71 ...\n",
      " $ method   : chr \"ETS(M,Ad,M)\"\n",
      " $ series   : chr \"model1\"\n",
      " $ residuals: Time-Series [1:288] from 1994 to 2018: 0.1864 0.0914 0.1044 -0.0443 0.1637 ...\n",
      " - attr(*, \"class\")= chr \"forecast\"\n"
     ]
    }
   ],
   "source": [
    "str(data_forecast_ets)"
   ]
  },
  {
   "cell_type": "markdown",
   "metadata": {},
   "source": [
    "Aşağıda üssel düzgünleştirme yönteminin HoltWinters() fonksiyonu kullanılmış halini uygulayacağız.Bu model trend, sezonsal bileşenleri de içermektedir."
   ]
  },
  {
   "cell_type": "markdown",
   "metadata": {},
   "source": [
    "#### Basit Üssel Düzgünleştirme Yöntemi  (Durağan Seriler için):\n",
    "Bu yöntem trende ve mevsimsel dalgalanmaya sahip olmayan sadece bir ortalama düzey etrafında hareket eden serilerin analizinde uygulanmaktadır. Bu yöntemde serinin tahminin elde edilebilmesi için aşağıdaki formülden yararlanılmaktadır.  \n",
    "\n",
    "Düzleştirme katsayısı(aplha- a) tahmin hatasını en küçük yapan sabit bir değerdir.\n",
    "Düzleştirme katsayısı (alpha )1 değerine yakın ise son gözlemlerin değerleri doğrudan serinin tahminini etkiler ve bu durum tahmin serisinde aşırı sıçramalara neden olabilir.\n",
    "Düzleştirme katsayısının 0 değerine yakın olması durumunda orijinal serideki değişimler tahmin serisini pek etkileyemez. Tahmin serisindeki ilk verilerle son veriler arasında önemli bir fark olmaz. Bu iki durum da tahminlerin güvenilir olması bakımından istenilen bir özellik değildir. "
   ]
  },
  {
   "cell_type": "code",
   "execution_count": 92,
   "metadata": {
    "collapsed": true
   },
   "outputs": [
    {
     "data": {
      "text/plain": [
       "Holt-Winters exponential smoothing without trend and without seasonal component.\n",
       "\n",
       "Call:\n",
       "HoltWinters(x = time_series, beta = FALSE, gamma = FALSE)\n",
       "\n",
       "Smoothing parameters:\n",
       " alpha: 0.9999285\n",
       " beta : FALSE\n",
       " gamma: FALSE\n",
       "\n",
       "Coefficients:\n",
       "      [,1]\n",
       "a 2.138993"
      ]
     },
     "metadata": {},
     "output_type": "display_data"
    },
    {
     "data": {
      "text/html": [
       "<table>\n",
       "<thead><tr><th></th><th scope=col>ME</th><th scope=col>RMSE</th><th scope=col>MAE</th><th scope=col>MPE</th><th scope=col>MAPE</th><th scope=col>MASE</th><th scope=col>ACF1</th></tr></thead>\n",
       "<tbody>\n",
       "\t<tr><th scope=row>Training set</th><td>-0.002247573</td><td>0.6110673   </td><td>0.3742448   </td><td>-0.5994399  </td><td>7.861643    </td><td>0.2952495   </td><td>0.1758481   </td></tr>\n",
       "</tbody>\n",
       "</table>\n"
      ],
      "text/latex": [
       "\\begin{tabular}{r|lllllll}\n",
       "  & ME & RMSE & MAE & MPE & MAPE & MASE & ACF1\\\\\n",
       "\\hline\n",
       "\tTraining set & -0.002247573 & 0.6110673    & 0.3742448    & -0.5994399   & 7.861643     & 0.2952495    & 0.1758481   \\\\\n",
       "\\end{tabular}\n"
      ],
      "text/markdown": [
       "\n",
       "| <!--/--> | ME | RMSE | MAE | MPE | MAPE | MASE | ACF1 | \n",
       "|---|\n",
       "| Training set | -0.002247573 | 0.6110673    | 0.3742448    | -0.5994399   | 7.861643     | 0.2952495    | 0.1758481    | \n",
       "\n",
       "\n"
      ],
      "text/plain": [
       "             ME           RMSE      MAE       MPE        MAPE     MASE     \n",
       "Training set -0.002247573 0.6110673 0.3742448 -0.5994399 7.861643 0.2952495\n",
       "             ACF1     \n",
       "Training set 0.1758481"
      ]
     },
     "metadata": {},
     "output_type": "display_data"
    },
    {
     "data": {
      "text/plain": [
       "         Point Forecast     Lo 80    Hi 80      Lo 95    Hi 95\n",
       "Jan 2018       2.138993 1.3545160 2.923470 0.93923901 3.338747\n",
       "Feb 2018       2.138993 1.0296147 3.248371 0.44234537 3.835640\n",
       "Mar 2018       2.138993 0.7803038 3.497682 0.06105733 4.216928"
      ]
     },
     "metadata": {},
     "output_type": "display_data"
    },
    {
     "data": {
      "image/png": "[encoded data removed]",
      "text/plain": [
       "Plot with title \"Forecasts from HoltWinters\""
      ]
     },
     "metadata": {},
     "output_type": "display_data"
    },
    {
     "data": {
      "text/html": [
       "<table>\n",
       "<thead><tr><th scope=col>fit</th><th scope=col>upr</th><th scope=col>lwr</th></tr></thead>\n",
       "<tbody>\n",
       "\t<tr><td>2.138993  </td><td>3.338747  </td><td>0.93923901</td></tr>\n",
       "\t<tr><td>2.138993  </td><td>3.835640  </td><td>0.44234537</td></tr>\n",
       "\t<tr><td>2.138993  </td><td>4.216928  </td><td>0.06105733</td></tr>\n",
       "</tbody>\n",
       "</table>\n"
      ],
      "text/latex": [
       "\\begin{tabular}{lll}\n",
       " fit & upr & lwr\\\\\n",
       "\\hline\n",
       "\t 2.138993   & 3.338747   & 0.93923901\\\\\n",
       "\t 2.138993   & 3.835640   & 0.44234537\\\\\n",
       "\t 2.138993   & 4.216928   & 0.06105733\\\\\n",
       "\\end{tabular}\n"
      ],
      "text/markdown": [
       "\n",
       "fit | upr | lwr | \n",
       "|---|---|---|\n",
       "| 2.138993   | 3.338747   | 0.93923901 | \n",
       "| 2.138993   | 3.835640   | 0.44234537 | \n",
       "| 2.138993   | 4.216928   | 0.06105733 | \n",
       "\n",
       "\n"
      ],
      "text/plain": [
       "     fit      upr      lwr       \n",
       "[1,] 2.138993 3.338747 0.93923901\n",
       "[2,] 2.138993 3.835640 0.44234537\n",
       "[3,] 2.138993 4.216928 0.06105733"
      ]
     },
     "metadata": {},
     "output_type": "display_data"
    },
    {
     "data": {
      "image/png": "[encoded data removed]",
      "text/plain": [
       "plot without title"
      ]
     },
     "metadata": {},
     "output_type": "display_data"
    }
   ],
   "source": [
    "model12 <-HoltWinters(time_series, beta=FALSE, gamma=FALSE)\n",
    "model12\n",
    "data_forecast_simple <- forecast(model12, h=3)\n",
    "accuracy(data_forecast_simple)\n",
    "plot(data_forecast_simple, ,xlim=c(2018.1,2018.3))\n",
    "data_forecast_simple\n",
    "predict12 <- predict(model12, 3, prediction.interval = TRUE)\n",
    "plot(predict12)\n",
    "predict12"
   ]
  },
  {
   "cell_type": "markdown",
   "metadata": {},
   "source": [
    "Düzeleştirme katsayı değeri arttıkça daha büyük tahmin farklılıkları oluşmaktadır.\n",
    "Basit üssel düzleştirme yöntemi uyguladığımızda gelen  alpha değeri 0.9999435'dir. Bu sonuçta 1'e çok yakın ve değerin çok büyük olduğunu gösterir. Hata oranı fazladır. O yüzden öngörü yaparken bu model seçilmemelidir.\n"
   ]
  },
  {
   "cell_type": "code",
   "execution_count": 54,
   "metadata": {},
   "outputs": [
    {
     "name": "stdout",
     "output_type": "stream",
     "text": [
      "List of 10\n",
      " $ method   : chr \"HoltWinters\"\n",
      " $ model    :List of 9\n",
      "  ..$ fitted      : Time-Series [1:287, 1:2] from 1994 to 2018: 2.78 2.7 2.8 2.74 3.15 ...\n",
      "  .. ..- attr(*, \"dimnames\")=List of 2\n",
      "  .. .. ..$ : NULL\n",
      "  .. .. ..$ : chr [1:2] \"xhat\" \"level\"\n",
      "  ..$ x           : Time-Series [1:288] from 1994 to 2018: 2.78 2.69 2.8 2.74 3.15 ...\n",
      "  ..$ alpha       : num 1\n",
      "  ..$ beta        : logi FALSE\n",
      "  ..$ gamma       : logi FALSE\n",
      "  ..$ coefficients: Named num 2.14\n",
      "  .. ..- attr(*, \"names\")= chr \"a\"\n",
      "  ..$ seasonal    : chr \"additive\"\n",
      "  ..$ SSE         : num 107\n",
      "  ..$ call        : language HoltWinters(x = model1, beta = FALSE, gamma = FALSE)\n",
      "  ..- attr(*, \"class\")= chr \"HoltWinters\"\n",
      " $ level    : num [1:2] 80 95\n",
      " $ mean     : Time-Series [1:3] from 2018 to 2018: 2.14 2.14 2.14\n",
      " $ lower    : num [1:3, 1:2] 1.355 1.03 0.78 0.939 0.442 ...\n",
      "  ..- attr(*, \"dimnames\")=List of 2\n",
      "  .. ..$ : NULL\n",
      "  .. ..$ : chr [1:2] \"80%\" \"95%\"\n",
      " $ upper    : num [1:3, 1:2] 2.92 3.25 3.5 3.34 3.84 ...\n",
      "  ..- attr(*, \"dimnames\")=List of 2\n",
      "  .. ..$ : NULL\n",
      "  .. ..$ : chr [1:2] \"80%\" \"95%\"\n",
      " $ x        : Time-Series [1:288] from 1994 to 2018: 2.78 2.69 2.8 2.74 3.15 ...\n",
      " $ series   : chr \"model1\"\n",
      " $ fitted   : Time-Series [1:288] from 1994 to 2018: NA 2.78 2.7 2.8 2.74 ...\n",
      " $ residuals: Time-Series [1:288] from 1994 to 2018: NA -0.089 0.105 -0.063 0.412 ...\n",
      " - attr(*, \"class\")= chr \"forecast\"\n"
     ]
    }
   ],
   "source": [
    "str(data_forecast_simple)"
   ]
  },
  {
   "cell_type": "markdown",
   "metadata": {},
   "source": [
    "#### HOLT ÜSTEL DÜZLEŞTİRME YÖNTEMİ:  (Doğrusal Trendi Olan Seriler İçin) \n",
    "Trende sahip mevsimsel dalgalanması olmayan serilerin tahmin işleminde Holt üstel düzleştirme yöntemi kullanılmaktadır. "
   ]
  },
  {
   "cell_type": "code",
   "execution_count": 93,
   "metadata": {
    "collapsed": true
   },
   "outputs": [
    {
     "data": {
      "text/plain": [
       "Holt-Winters exponential smoothing with trend and without seasonal component.\n",
       "\n",
       "Call:\n",
       "HoltWinters(x = time_series, gamma = FALSE)\n",
       "\n",
       "Smoothing parameters:\n",
       " alpha: 1\n",
       " beta : 0.005553781\n",
       " gamma: FALSE\n",
       "\n",
       "Coefficients:\n",
       "         [,1]\n",
       "a  2.13900000\n",
       "b -0.02712351"
      ]
     },
     "metadata": {},
     "output_type": "display_data"
    },
    {
     "data": {
      "text/html": [
       "<table>\n",
       "<thead><tr><th></th><th scope=col>ME</th><th scope=col>RMSE</th><th scope=col>MAE</th><th scope=col>MPE</th><th scope=col>MAPE</th><th scope=col>MASE</th><th scope=col>ACF1</th></tr></thead>\n",
       "<tbody>\n",
       "\t<tr><th scope=row>Training set</th><td>0.03895569</td><td>0.615792  </td><td>0.3809091 </td><td>0.6912392 </td><td>8.003833  </td><td>0.3005071 </td><td>0.1778581 </td></tr>\n",
       "</tbody>\n",
       "</table>\n"
      ],
      "text/latex": [
       "\\begin{tabular}{r|lllllll}\n",
       "  & ME & RMSE & MAE & MPE & MAPE & MASE & ACF1\\\\\n",
       "\\hline\n",
       "\tTraining set & 0.03895569 & 0.615792   & 0.3809091  & 0.6912392  & 8.003833   & 0.3005071  & 0.1778581 \\\\\n",
       "\\end{tabular}\n"
      ],
      "text/markdown": [
       "\n",
       "| <!--/--> | ME | RMSE | MAE | MPE | MAPE | MASE | ACF1 | \n",
       "|---|\n",
       "| Training set | 0.03895569 | 0.615792   | 0.3809091  | 0.6912392  | 8.003833   | 0.3005071  | 0.1778581  | \n",
       "\n",
       "\n"
      ],
      "text/plain": [
       "             ME         RMSE     MAE       MPE       MAPE     MASE     \n",
       "Training set 0.03895569 0.615792 0.3809091 0.6912392 8.003833 0.3005071\n",
       "             ACF1     \n",
       "Training set 0.1778581"
      ]
     },
     "metadata": {},
     "output_type": "display_data"
    },
    {
     "data": {
      "text/plain": [
       "         Point Forecast     Lo 80    Hi 80       Lo 95    Hi 95\n",
       "Jan 2018       2.111876 1.3229074 2.900846  0.90525245 3.318501\n",
       "Feb 2018       2.084753 0.9658796 3.203626  0.37358378 3.795922\n",
       "Mar 2018       2.057629 0.6834916 3.431767 -0.04393308 4.159192"
      ]
     },
     "metadata": {},
     "output_type": "display_data"
    },
    {
     "data": {
      "image/png": "[encoded data removed]",
      "text/plain": [
       "Plot with title \"Forecasts from HoltWinters\""
      ]
     },
     "metadata": {},
     "output_type": "display_data"
    }
   ],
   "source": [
    "model13 <-HoltWinters(time_series, gamma=FALSE)\n",
    "model13\n",
    "data_forecast_holt <- forecast(model13, h=3)\n",
    "accuracy(data_forecast_holt)\n",
    "plot(data_forecast_holt, ,xlim=c(2018.1,2018.3))\n",
    "data_forecast_holt"
   ]
  },
  {
   "cell_type": "markdown",
   "metadata": {},
   "source": [
    "Düzeleştirme katsayı değeri arttıkça daha büyük tahmin farklılıkları oluşmaktadır.\n",
    "Basit üssel düzleştirme yöntemi uyguladığımızda gelen  alpha değeri 1'dir. Bu sonuçta değerin çok büyük olduğunu gösterir. Hata oranı fazladır. O yüzden öngörü yaparken bu model seçilmemelidir.\n"
   ]
  },
  {
   "cell_type": "code",
   "execution_count": 56,
   "metadata": {},
   "outputs": [
    {
     "name": "stdout",
     "output_type": "stream",
     "text": [
      "List of 10\n",
      " $ method   : chr \"HoltWinters\"\n",
      " $ model    :List of 9\n",
      "  ..$ fitted      : Time-Series [1:286, 1:3] from 1994 to 2018: 2.61 2.71 2.65 3.06 3.12 ...\n",
      "  .. ..- attr(*, \"dimnames\")=List of 2\n",
      "  .. .. ..$ : NULL\n",
      "  .. .. ..$ : chr [1:3] \"xhat\" \"level\" \"trend\"\n",
      "  ..$ x           : Time-Series [1:288] from 1994 to 2018: 2.78 2.69 2.8 2.74 3.15 ...\n",
      "  ..$ alpha       : Named num 1\n",
      "  .. ..- attr(*, \"names\")= chr \"alpha\"\n",
      "  ..$ beta        : Named num 0.00555\n",
      "  .. ..- attr(*, \"names\")= chr \"beta\"\n",
      "  ..$ gamma       : logi FALSE\n",
      "  ..$ coefficients: Named num [1:2] 2.139 -0.0271\n",
      "  .. ..- attr(*, \"names\")= chr [1:2] \"a\" \"b\"\n",
      "  ..$ seasonal    : chr \"additive\"\n",
      "  ..$ SSE         : num 108\n",
      "  ..$ call        : language HoltWinters(x = model1, gamma = FALSE)\n",
      "  ..- attr(*, \"class\")= chr \"HoltWinters\"\n",
      " $ level    : num [1:2] 80 95\n",
      " $ mean     : Time-Series [1:3] from 2018 to 2018: 2.11 2.08 2.06\n",
      " $ lower    : num [1:3, 1:2] 1.323 0.966 0.683 0.905 0.374 ...\n",
      "  ..- attr(*, \"dimnames\")=List of 2\n",
      "  .. ..$ : NULL\n",
      "  .. ..$ : chr [1:2] \"80%\" \"95%\"\n",
      " $ upper    : num [1:3, 1:2] 2.9 3.2 3.43 3.32 3.8 ...\n",
      "  ..- attr(*, \"dimnames\")=List of 2\n",
      "  .. ..$ : NULL\n",
      "  .. ..$ : chr [1:2] \"80%\" \"95%\"\n",
      " $ x        : Time-Series [1:288] from 1994 to 2018: 2.78 2.69 2.8 2.74 3.15 ...\n",
      " $ series   : chr \"model1\"\n",
      " $ fitted   : Time-Series [1:288] from 1994 to 2018: NA NA 2.61 2.71 2.65 ...\n",
      " $ residuals: Time-Series [1:288] from 1994 to 2018: NA NA 0.194 0.0249 0.4998 ...\n",
      " - attr(*, \"class\")= chr \"forecast\"\n"
     ]
    }
   ],
   "source": [
    "str(data_forecast_holt)"
   ]
  },
  {
   "cell_type": "markdown",
   "metadata": {},
   "source": [
    "#### Holt-Winters Yöntemi: (Doğrusal Trendi ve Mevsimlik Etkileri Olan Seriler İçin) \n",
    "Holt-Winters Yöntemi üç temel düzeltme esitligine sahiptir. Temel, trend ve mevsimsellik için olan bu üç düzeltme sabiti ile yapılan düzeltmeler, Holt’un\n",
    "Dogrusal Yöntemi’ne benzer olarak tek toplam esitlikte toplanarak mevsimsellik\n",
    "esitligi elde etmektedir. "
   ]
  },
  {
   "cell_type": "code",
   "execution_count": 57,
   "metadata": {},
   "outputs": [
    {
     "data": {
      "text/plain": [
       "Holt-Winters exponential smoothing with trend and additive seasonal component.\n",
       "\n",
       "Call:\n",
       "HoltWinters(x = model1)\n",
       "\n",
       "Smoothing parameters:\n",
       " alpha: 1\n",
       " beta : 0\n",
       " gamma: 0\n",
       "\n",
       "Coefficients:\n",
       "            [,1]\n",
       "a    2.060253472\n",
       "b    0.002626311\n",
       "s1  -0.133878472\n",
       "s2  -0.201503472\n",
       "s3   0.037288194\n",
       "s4   0.311079861\n",
       "s5  -0.132920139\n",
       "s6   0.355579861\n",
       "s7   0.119871528\n",
       "s8  -0.116461806\n",
       "s9  -0.187545139\n",
       "s10 -0.216878472\n",
       "s11  0.086621528\n",
       "s12  0.078746528"
      ]
     },
     "metadata": {},
     "output_type": "display_data"
    },
    {
     "data": {
      "text/html": [
       "<table>\n",
       "<thead><tr><th></th><th scope=col>ME</th><th scope=col>RMSE</th><th scope=col>MAE</th><th scope=col>MPE</th><th scope=col>MAPE</th><th scope=col>MASE</th><th scope=col>ACF1</th></tr></thead>\n",
       "<tbody>\n",
       "\t<tr><th scope=row>Training set</th><td>-0.00647159</td><td>0.6300516  </td><td>0.4066116  </td><td>-0.714579  </td><td>9.066583   </td><td>0.3207843  </td><td>0.1174706  </td></tr>\n",
       "</tbody>\n",
       "</table>\n"
      ],
      "text/latex": [
       "\\begin{tabular}{r|lllllll}\n",
       "  & ME & RMSE & MAE & MPE & MAPE & MASE & ACF1\\\\\n",
       "\\hline\n",
       "\tTraining set & -0.00647159 & 0.6300516   & 0.4066116   & -0.714579   & 9.066583    & 0.3207843   & 0.1174706  \\\\\n",
       "\\end{tabular}\n"
      ],
      "text/markdown": [
       "\n",
       "| <!--/--> | ME | RMSE | MAE | MPE | MAPE | MASE | ACF1 | \n",
       "|---|\n",
       "| Training set | -0.00647159 | 0.6300516   | 0.4066116   | -0.714579   | 9.066583    | 0.3207843   | 0.1174706   | \n",
       "\n",
       "\n"
      ],
      "text/plain": [
       "             ME          RMSE      MAE       MPE       MAPE     MASE     \n",
       "Training set -0.00647159 0.6300516 0.4066116 -0.714579 9.066583 0.3207843\n",
       "             ACF1     \n",
       "Training set 0.1174706"
      ]
     },
     "metadata": {},
     "output_type": "display_data"
    },
    {
     "data": {
      "text/plain": [
       "         Point Forecast     Lo 80    Hi 80       Lo 95    Hi 95\n",
       "Jan 2018       1.929001 1.1201336 2.737869  0.69194484 3.166058\n",
       "Feb 2018       1.864003 0.7200909 3.007914  0.11454058 3.613465\n",
       "Mar 2018       2.105421 0.7044206 3.506421 -0.03722407 4.248065"
      ]
     },
     "metadata": {},
     "output_type": "display_data"
    },
    {
     "data": {
      "image/png": "[encoded data removed]",
      "text/plain": [
       "Plot with title \"Forecasts from HoltWinters\""
      ]
     },
     "metadata": {},
     "output_type": "display_data"
    }
   ],
   "source": [
    "model14 <-HoltWinters(model1)\n",
    "model14\n",
    "data_forecast_holtWinter <- forecast(model14, h=3)\n",
    "accuracy(data_forecast_holtWinter)\n",
    "plot(data_forecast_holtWinter, ,xlim=c(2018.1,2018.3))\n",
    "data_forecast_holtWinter"
   ]
  },
  {
   "cell_type": "markdown",
   "metadata": {},
   "source": [
    "Düzeleştirme katsayı değeri arttıkça daha büyük tahmin farklılıkları oluşmaktadır.\n",
    "Basit üssel düzleştirme yöntemi uyguladığımızda gelen  alpha değeri 1'dir. Bu sonuçta değerin çok büyük olduğunu gösterir. Hata oranı fazladır. O yüzden öngörü yaparken bu model seçilmemelidir.\n"
   ]
  },
  {
   "cell_type": "code",
   "execution_count": 58,
   "metadata": {},
   "outputs": [
    {
     "name": "stdout",
     "output_type": "stream",
     "text": [
      "List of 10\n",
      " $ method   : chr \"HoltWinters\"\n",
      " $ model    :List of 9\n",
      "  ..$ fitted      : Time-Series [1:276, 1:4] from 1995 to 2018: 2.99 3.08 3.31 3.57 3.11 ...\n",
      "  .. ..- attr(*, \"dimnames\")=List of 2\n",
      "  .. .. ..$ : NULL\n",
      "  .. .. ..$ : chr [1:4] \"xhat\" \"level\" \"trend\" \"season\"\n",
      "  ..$ x           : Time-Series [1:288] from 1994 to 2018: 2.78 2.69 2.8 2.74 3.15 ...\n",
      "  ..$ alpha       : Named num 1\n",
      "  .. ..- attr(*, \"names\")= chr \"alpha\"\n",
      "  ..$ beta        : Named num 0\n",
      "  .. ..- attr(*, \"names\")= chr \"beta\"\n",
      "  ..$ gamma       : Named num 0\n",
      "  .. ..- attr(*, \"names\")= chr \"gamma\"\n",
      "  ..$ coefficients: Named num [1:14] 2.06025 0.00263 -0.13388 -0.2015 0.03729 ...\n",
      "  .. ..- attr(*, \"names\")= chr [1:14] \"a\" \"b\" \"s1\" \"s2\" ...\n",
      "  ..$ seasonal    : chr \"additive\"\n",
      "  ..$ SSE         : num 110\n",
      "  ..$ call        : language HoltWinters(x = model1)\n",
      "  ..- attr(*, \"class\")= chr \"HoltWinters\"\n",
      " $ level    : num [1:2] 80 95\n",
      " $ mean     : Time-Series [1:3] from 2018 to 2018: 1.93 1.86 2.11\n",
      " $ lower    : num [1:3, 1:2] 1.12 0.72 0.704 0.692 0.115 ...\n",
      "  ..- attr(*, \"dimnames\")=List of 2\n",
      "  .. ..$ : NULL\n",
      "  .. ..$ : chr [1:2] \"80%\" \"95%\"\n",
      " $ upper    : num [1:3, 1:2] 2.74 3.01 3.51 3.17 3.61 ...\n",
      "  ..- attr(*, \"dimnames\")=List of 2\n",
      "  .. ..$ : NULL\n",
      "  .. ..$ : chr [1:2] \"80%\" \"95%\"\n",
      " $ x        : Time-Series [1:288] from 1994 to 2018: 2.78 2.69 2.8 2.74 3.15 ...\n",
      " $ series   : chr \"model1\"\n",
      " $ fitted   : Time-Series [1:288] from 1994 to 2018: NA NA NA NA NA NA NA NA NA NA ...\n",
      " $ residuals: Time-Series [1:288] from 1994 to 2018: NA NA NA NA NA NA NA NA NA NA ...\n",
      " - attr(*, \"class\")= chr \"forecast\"\n"
     ]
    }
   ],
   "source": [
    "str(data_forecast_holtWinter)"
   ]
  },
  {
   "cell_type": "markdown",
   "metadata": {},
   "source": [
    "Modelin hangi aralıklarda hesap yaptığına bakalır."
   ]
  },
  {
   "cell_type": "code",
   "execution_count": 59,
   "metadata": {
    "scrolled": false
   },
   "outputs": [
    {
     "data": {
      "text/html": [
       "<ol class=list-inline>\n",
       "\t<li>80</li>\n",
       "\t<li>95</li>\n",
       "</ol>\n"
      ],
      "text/latex": [
       "\\begin{enumerate*}\n",
       "\\item 80\n",
       "\\item 95\n",
       "\\end{enumerate*}\n"
      ],
      "text/markdown": [
       "1. 80\n",
       "2. 95\n",
       "\n",
       "\n"
      ],
      "text/plain": [
       "[1] 80 95"
      ]
     },
     "metadata": {},
     "output_type": "display_data"
    }
   ],
   "source": [
    "data_forecast_holtWinter$level"
   ]
  },
  {
   "cell_type": "markdown",
   "metadata": {},
   "source": [
    "Komutu bize %80 ve %95 alt ve üst sınırlarda hesap yaptığını göstermektedir.\n",
    "\n",
    "Yani sadece projeksiyon yapmayıp, aynı zamanda alt ve üst kesinlik aralıkları ile kestirim sonuçları bulunmaktadır.\n",
    "\n",
    "rbind  ve cbind ile veri serilerini birbirine ekleyerek büyük veri tabloları oluşturulur.\n"
   ]
  },
  {
   "cell_type": "markdown",
   "metadata": {},
   "source": [
    "#### Arima Modeli \n",
    "\n",
    "Zaman serilerinde öngörü analizi yapmanın bir diğer yolu da arima modeli uygulamaktır."
   ]
  },
  {
   "cell_type": "code",
   "execution_count": 94,
   "metadata": {
    "collapsed": true
   },
   "outputs": [],
   "source": [
    "time_series2<-ts(data[,2], start=c(1994, 1), end=c(2017, 12), freq=12)"
   ]
  },
  {
   "cell_type": "code",
   "execution_count": 95,
   "metadata": {
    "scrolled": true
   },
   "outputs": [
    {
     "data": {
      "text/plain": [
       "\n",
       "Call:\n",
       "arima(x = time_series2, order = c(1, 0, 1))\n",
       "\n",
       "Coefficients:\n",
       "         ar1     ma1  intercept\n",
       "      0.9541  0.1787     4.1014\n",
       "s.e.  0.0173  0.0550     0.8453\n",
       "\n",
       "sigma^2 estimated as 0.3541:  log likelihood = -260.53,  aic = 529.07"
      ]
     },
     "metadata": {},
     "output_type": "display_data"
    },
    {
     "data": {
      "text/html": [
       "<table>\n",
       "<thead><tr><th></th><th scope=col>ME</th><th scope=col>RMSE</th><th scope=col>MAE</th><th scope=col>MPE</th><th scope=col>MAPE</th><th scope=col>MASE</th><th scope=col>ACF1</th></tr></thead>\n",
       "<tbody>\n",
       "\t<tr><th scope=row>Training set</th><td>0.006393077</td><td>0.5950556  </td><td>0.3656451  </td><td>-1.269798  </td><td>7.825533   </td><td>0.288465   </td><td>0.01735626 </td></tr>\n",
       "</tbody>\n",
       "</table>\n"
      ],
      "text/latex": [
       "\\begin{tabular}{r|lllllll}\n",
       "  & ME & RMSE & MAE & MPE & MAPE & MASE & ACF1\\\\\n",
       "\\hline\n",
       "\tTraining set & 0.006393077 & 0.5950556   & 0.3656451   & -1.269798   & 7.825533    & 0.288465    & 0.01735626 \\\\\n",
       "\\end{tabular}\n"
      ],
      "text/markdown": [
       "\n",
       "| <!--/--> | ME | RMSE | MAE | MPE | MAPE | MASE | ACF1 | \n",
       "|---|\n",
       "| Training set | 0.006393077 | 0.5950556   | 0.3656451   | -1.269798   | 7.825533    | 0.288465    | 0.01735626  | \n",
       "\n",
       "\n"
      ],
      "text/plain": [
       "             ME          RMSE      MAE       MPE       MAPE     MASE    \n",
       "Training set 0.006393077 0.5950556 0.3656451 -1.269798 7.825533 0.288465\n",
       "             ACF1      \n",
       "Training set 0.01735626"
      ]
     },
     "metadata": {},
     "output_type": "display_data"
    },
    {
     "data": {
      "text/plain": [
       "         Point Forecast     Lo 80    Hi 80     Lo 95    Hi 95\n",
       "Jan 2018       2.236492 1.4738979 2.999087 1.0702047 3.402780\n",
       "Feb 2018       2.322073 1.1697762 3.474369 0.5597873 4.084358\n",
       "Mar 2018       2.403726 0.9870019 3.820449 0.2370337 4.570417"
      ]
     },
     "metadata": {},
     "output_type": "display_data"
    },
    {
     "data": {
      "text/plain": [
       "$pred\n",
       "          Jan      Feb      Mar\n",
       "2018 2.236492 2.322073 2.403726\n",
       "\n",
       "$se\n",
       "           Jan       Feb       Mar\n",
       "2018 0.5950556 0.8991417 1.1054753\n"
      ]
     },
     "metadata": {},
     "output_type": "display_data"
    },
    {
     "data": {
      "image/png": "[encoded data removed]",
      "text/plain": [
       "Plot with title \"Forecasts from ARIMA(1,0,1) with non-zero mean\""
      ]
     },
     "metadata": {},
     "output_type": "display_data"
    }
   ],
   "source": [
    "model21 <- arima(time_series2, order=c(1,0,1))\n",
    "model21\n",
    "data_forecast_arima <- forecast(model21, h=3)\n",
    "accuracy(data_forecast_arima)\n",
    "plot(data_forecast_arima, ,xlim=c(2018.1,2018.3))\n",
    "data_forecast_arima\n",
    "predict(model21,3)"
   ]
  },
  {
   "cell_type": "code",
   "execution_count": 62,
   "metadata": {
    "collapsed": true
   },
   "outputs": [
    {
     "name": "stdout",
     "output_type": "stream",
     "text": [
      "List of 10\n",
      " $ method   : chr \"ARIMA(1,0,1) with non-zero mean\"\n",
      " $ model    :List of 15\n",
      "  ..$ coef     : Named num [1:3] 0.954 0.179 4.101\n",
      "  .. ..- attr(*, \"names\")= chr [1:3] \"ar1\" \"ma1\" \"intercept\"\n",
      "  ..$ sigma2   : num 0.354\n",
      "  ..$ var.coef : num [1:3, 1:3] 0.0003 -0.000227 -0.001391 -0.000227 0.003029 ...\n",
      "  .. ..- attr(*, \"dimnames\")=List of 2\n",
      "  .. .. ..$ : chr [1:3] \"ar1\" \"ma1\" \"intercept\"\n",
      "  .. .. ..$ : chr [1:3] \"ar1\" \"ma1\" \"intercept\"\n",
      "  ..$ mask     : logi [1:3] TRUE TRUE TRUE\n",
      "  ..$ loglik   : num -261\n",
      "  ..$ aic      : num 529\n",
      "  ..$ arma     : int [1:7] 1 1 0 0 12 0 0\n",
      "  ..$ residuals: Time-Series [1:288] from 1994 to 2018: -0.3367 -0.1321 0.0637 -0.1341 0.3733 ...\n",
      "  ..$ call     : language arima(x = model2, order = c(1, 0, 1))\n",
      "  ..$ series   : chr \"model2\"\n",
      "  ..$ code     : int 0\n",
      "  ..$ n.cond   : int 0\n",
      "  ..$ nobs     : int 288\n",
      "  ..$ model    :List of 10\n",
      "  .. ..$ phi  : num 0.954\n",
      "  .. ..$ theta: num 0.179\n",
      "  .. ..$ Delta: num(0) \n",
      "  .. ..$ Z    : num [1:2] 1 0\n",
      "  .. ..$ a    : num [1:2] -1.9624 0.00744\n",
      "  .. ..$ P    : num [1:2, 1:2] 0 0 0 0\n",
      "  .. ..$ T    : num [1:2, 1:2] 0.954 0 1 0\n",
      "  .. ..$ V    : num [1:2, 1:2] 1 0.1787 0.1787 0.0319\n",
      "  .. ..$ h    : num 0\n",
      "  .. ..$ Pn   : num [1:2, 1:2] 1 0.1787 0.1787 0.0319\n",
      "  ..$ x        : Time-Series [1:288] from 1994 to 2018: 2.78 2.69 2.8 2.74 3.15 ...\n",
      "  ..- attr(*, \"class\")= chr \"Arima\"\n",
      " $ level    : num [1:2] 80 95\n",
      " $ mean     : Time-Series [1:3] from 2018 to 2018: 2.24 2.32 2.4\n",
      " $ lower    : Time-Series [1:3, 1:2] from 2018 to 2018: 1.474 1.17 0.987 1.07 0.56 ...\n",
      "  ..- attr(*, \"dimnames\")=List of 2\n",
      "  .. ..$ : NULL\n",
      "  .. ..$ : chr [1:2] \"80%\" \"95%\"\n",
      " $ upper    : Time-Series [1:3, 1:2] from 2018 to 2018: 3 3.47 3.82 3.4 4.08 ...\n",
      "  ..- attr(*, \"dimnames\")=List of 2\n",
      "  .. ..$ : NULL\n",
      "  .. ..$ : chr [1:2] \"80%\" \"95%\"\n",
      " $ x        : Time-Series [1:288] from 1994 to 2018: 2.78 2.69 2.8 2.74 3.15 ...\n",
      " $ series   : chr \"model2\"\n",
      " $ fitted   : Time-Series [1:288] from 1994 to 2018: 3.12 2.83 2.74 2.87 2.78 ...\n",
      " $ residuals: Time-Series [1:288] from 1994 to 2018: -0.3367 -0.1321 0.0637 -0.1341 0.3733 ...\n",
      " - attr(*, \"class\")= chr \"forecast\"\n"
     ]
    }
   ],
   "source": [
    "str(data_forecast_arima)"
   ]
  },
  {
   "cell_type": "markdown",
   "metadata": {},
   "source": [
    "#### Naive and Random Walk Forecasts"
   ]
  },
  {
   "cell_type": "code",
   "execution_count": 63,
   "metadata": {
    "scrolled": true
   },
   "outputs": [
    {
     "data": {
      "text/html": [
       "<table>\n",
       "<thead><tr><th></th><th scope=col>ME</th><th scope=col>RMSE</th><th scope=col>MAE</th><th scope=col>MPE</th><th scope=col>MAPE</th><th scope=col>MASE</th><th scope=col>ACF1</th></tr></thead>\n",
       "<tbody>\n",
       "\t<tr><th scope=row>Training set</th><td>5.262527e-17</td><td>0.6110555   </td><td>0.374236    </td><td>-0.5336673  </td><td>7.85923     </td><td>0.2952426   </td><td>0.175778    </td></tr>\n",
       "</tbody>\n",
       "</table>\n"
      ],
      "text/latex": [
       "\\begin{tabular}{r|lllllll}\n",
       "  & ME & RMSE & MAE & MPE & MAPE & MASE & ACF1\\\\\n",
       "\\hline\n",
       "\tTraining set & 5.262527e-17 & 0.6110555    & 0.374236     & -0.5336673   & 7.85923      & 0.2952426    & 0.175778    \\\\\n",
       "\\end{tabular}\n"
      ],
      "text/markdown": [
       "\n",
       "| <!--/--> | ME | RMSE | MAE | MPE | MAPE | MASE | ACF1 | \n",
       "|---|\n",
       "| Training set | 5.262527e-17 | 0.6110555    | 0.374236     | -0.5336673   | 7.85923      | 0.2952426    | 0.175778     | \n",
       "\n",
       "\n"
      ],
      "text/plain": [
       "             ME           RMSE      MAE      MPE        MAPE    MASE     \n",
       "Training set 5.262527e-17 0.6110555 0.374236 -0.5336673 7.85923 0.2952426\n",
       "             ACF1    \n",
       "Training set 0.175778"
      ]
     },
     "metadata": {},
     "output_type": "display_data"
    },
    {
     "data": {
      "image/png": "[encoded data removed]",
      "text/plain": [
       "Plot with title \"Forecasts from Random walk with drift\""
      ]
     },
     "metadata": {},
     "output_type": "display_data"
    }
   ],
   "source": [
    "data_forecast_randomWalk= rwf(model1,h=3,  drift=T, fan=FALSE,lambda=NULL) \n",
    "accuracy(data_forecast_randomWalk)\n",
    "plot(data_forecast_randomWalk) "
   ]
  },
  {
   "cell_type": "code",
   "execution_count": 64,
   "metadata": {
    "collapsed": true
   },
   "outputs": [
    {
     "name": "stdout",
     "output_type": "stream",
     "text": [
      "List of 11\n",
      " $ method   : chr \"Random walk with drift\"\n",
      " $ level    : num [1:2] 80 95\n",
      " $ x        : Time-Series [1:288] from 1994 to 2018: 2.78 2.69 2.8 2.74 3.15 ...\n",
      " $ mean     : Time-Series [1:3] from 2018 to 2018: 2.14 2.13 2.13\n",
      " $ lower    : Time-Series [1:3, 1:2] from 2018 to 2018: 1.352 1.023 0.769 0.937 0.435 ...\n",
      "  ..- attr(*, \"dimnames\")=List of 2\n",
      "  .. ..$ : NULL\n",
      "  .. ..$ : chr [1:2] \"80%\" \"95%\"\n",
      " $ upper    : Time-Series [1:3, 1:2] from 2018 to 2018: 2.92 3.25 3.5 3.34 3.83 ...\n",
      "  ..- attr(*, \"dimnames\")=List of 2\n",
      "  .. ..$ : NULL\n",
      "  .. ..$ : chr [1:2] \"80%\" \"95%\"\n",
      " $ model    :List of 5\n",
      "  ..$ includedrift: logi TRUE\n",
      "  ..$ drift       : num -0.00225\n",
      "  ..$ drift.se    : num 0.0361\n",
      "  ..$ sd          : num 0.612\n",
      "  ..$ call        : language rwf(y = model1, h = 3, drift = T, fan = FALSE, lambda = NULL)\n",
      "  ..- attr(*, \"class\")= chr \"naive\"\n",
      " $ fitted   : Time-Series [1:288] from 1994 to 2018: NA 2.78 2.69 2.8 2.73 ...\n",
      " $ residuals: Time-Series [1:288] from 1994 to 2018: NA -0.0868 0.1072 -0.0608 0.4142 ...\n",
      " $ lambda   : NULL\n",
      " $ series   : chr \"model1\"\n",
      " - attr(*, \"class\")= chr \"forecast\"\n"
     ]
    }
   ],
   "source": [
    "str(data_forecast_randomWalk)"
   ]
  },
  {
   "cell_type": "markdown",
   "metadata": {},
   "source": [
    "Aşağıda genel olarak bütün doğrulukları göstereceğiz.Hatırlamak için \n",
    "\n",
    "ME:Ortalama Hata  \n",
    "\n",
    "MAE : Ortalama Mutlak Hata  \n",
    "\n",
    "MSE: Ortalama Hata Kare \n",
    "\n",
    "MPE: Ortalama Yüzde Hata \n",
    "\n",
    "MAPE: Ortalama Mutlak Yüzde Hata\n"
   ]
  },
  {
   "cell_type": "code",
   "execution_count": 65,
   "metadata": {},
   "outputs": [
    {
     "data": {
      "text/html": [
       "<table>\n",
       "<thead><tr><th></th><th scope=col>ME</th><th scope=col>RMSE</th><th scope=col>MAE</th><th scope=col>MPE</th><th scope=col>MAPE</th><th scope=col>MASE</th><th scope=col>ACF1</th></tr></thead>\n",
       "<tbody>\n",
       "\t<tr><th scope=row>Training set</th><td>0.002077285</td><td>0.5633965  </td><td>0.3468675  </td><td>-0.184761  </td><td>7.32704    </td><td>0.273651   </td><td>0.1311451  </td></tr>\n",
       "</tbody>\n",
       "</table>\n"
      ],
      "text/latex": [
       "\\begin{tabular}{r|lllllll}\n",
       "  & ME & RMSE & MAE & MPE & MAPE & MASE & ACF1\\\\\n",
       "\\hline\n",
       "\tTraining set & 0.002077285 & 0.5633965   & 0.3468675   & -0.184761   & 7.32704     & 0.273651    & 0.1311451  \\\\\n",
       "\\end{tabular}\n"
      ],
      "text/markdown": [
       "\n",
       "| <!--/--> | ME | RMSE | MAE | MPE | MAPE | MASE | ACF1 | \n",
       "|---|\n",
       "| Training set | 0.002077285 | 0.5633965   | 0.3468675   | -0.184761   | 7.32704     | 0.273651    | 0.1311451   | \n",
       "\n",
       "\n"
      ],
      "text/plain": [
       "             ME          RMSE      MAE       MPE       MAPE    MASE    \n",
       "Training set 0.002077285 0.5633965 0.3468675 -0.184761 7.32704 0.273651\n",
       "             ACF1     \n",
       "Training set 0.1311451"
      ]
     },
     "metadata": {},
     "output_type": "display_data"
    },
    {
     "data": {
      "text/html": [
       "<table>\n",
       "<thead><tr><th></th><th scope=col>ME</th><th scope=col>RMSE</th><th scope=col>MAE</th><th scope=col>MPE</th><th scope=col>MAPE</th><th scope=col>MASE</th><th scope=col>ACF1</th></tr></thead>\n",
       "<tbody>\n",
       "\t<tr><th scope=row>Training set</th><td>-0.002247573</td><td>0.6110673   </td><td>0.3742448   </td><td>-0.5994399  </td><td>7.861643    </td><td>0.2952495   </td><td>0.1758481   </td></tr>\n",
       "</tbody>\n",
       "</table>\n"
      ],
      "text/latex": [
       "\\begin{tabular}{r|lllllll}\n",
       "  & ME & RMSE & MAE & MPE & MAPE & MASE & ACF1\\\\\n",
       "\\hline\n",
       "\tTraining set & -0.002247573 & 0.6110673    & 0.3742448    & -0.5994399   & 7.861643     & 0.2952495    & 0.1758481   \\\\\n",
       "\\end{tabular}\n"
      ],
      "text/markdown": [
       "\n",
       "| <!--/--> | ME | RMSE | MAE | MPE | MAPE | MASE | ACF1 | \n",
       "|---|\n",
       "| Training set | -0.002247573 | 0.6110673    | 0.3742448    | -0.5994399   | 7.861643     | 0.2952495    | 0.1758481    | \n",
       "\n",
       "\n"
      ],
      "text/plain": [
       "             ME           RMSE      MAE       MPE        MAPE     MASE     \n",
       "Training set -0.002247573 0.6110673 0.3742448 -0.5994399 7.861643 0.2952495\n",
       "             ACF1     \n",
       "Training set 0.1758481"
      ]
     },
     "metadata": {},
     "output_type": "display_data"
    },
    {
     "data": {
      "text/html": [
       "<table>\n",
       "<thead><tr><th></th><th scope=col>ME</th><th scope=col>RMSE</th><th scope=col>MAE</th><th scope=col>MPE</th><th scope=col>MAPE</th><th scope=col>MASE</th><th scope=col>ACF1</th></tr></thead>\n",
       "<tbody>\n",
       "\t<tr><th scope=row>Training set</th><td>0.03895569</td><td>0.615792  </td><td>0.3809091 </td><td>0.6912392 </td><td>8.003833  </td><td>0.3005071 </td><td>0.1778581 </td></tr>\n",
       "</tbody>\n",
       "</table>\n"
      ],
      "text/latex": [
       "\\begin{tabular}{r|lllllll}\n",
       "  & ME & RMSE & MAE & MPE & MAPE & MASE & ACF1\\\\\n",
       "\\hline\n",
       "\tTraining set & 0.03895569 & 0.615792   & 0.3809091  & 0.6912392  & 8.003833   & 0.3005071  & 0.1778581 \\\\\n",
       "\\end{tabular}\n"
      ],
      "text/markdown": [
       "\n",
       "| <!--/--> | ME | RMSE | MAE | MPE | MAPE | MASE | ACF1 | \n",
       "|---|\n",
       "| Training set | 0.03895569 | 0.615792   | 0.3809091  | 0.6912392  | 8.003833   | 0.3005071  | 0.1778581  | \n",
       "\n",
       "\n"
      ],
      "text/plain": [
       "             ME         RMSE     MAE       MPE       MAPE     MASE     \n",
       "Training set 0.03895569 0.615792 0.3809091 0.6912392 8.003833 0.3005071\n",
       "             ACF1     \n",
       "Training set 0.1778581"
      ]
     },
     "metadata": {},
     "output_type": "display_data"
    },
    {
     "data": {
      "text/html": [
       "<table>\n",
       "<thead><tr><th></th><th scope=col>ME</th><th scope=col>RMSE</th><th scope=col>MAE</th><th scope=col>MPE</th><th scope=col>MAPE</th><th scope=col>MASE</th><th scope=col>ACF1</th></tr></thead>\n",
       "<tbody>\n",
       "\t<tr><th scope=row>Training set</th><td>-0.00647159</td><td>0.6300516  </td><td>0.4066116  </td><td>-0.714579  </td><td>9.066583   </td><td>0.3207843  </td><td>0.1174706  </td></tr>\n",
       "</tbody>\n",
       "</table>\n"
      ],
      "text/latex": [
       "\\begin{tabular}{r|lllllll}\n",
       "  & ME & RMSE & MAE & MPE & MAPE & MASE & ACF1\\\\\n",
       "\\hline\n",
       "\tTraining set & -0.00647159 & 0.6300516   & 0.4066116   & -0.714579   & 9.066583    & 0.3207843   & 0.1174706  \\\\\n",
       "\\end{tabular}\n"
      ],
      "text/markdown": [
       "\n",
       "| <!--/--> | ME | RMSE | MAE | MPE | MAPE | MASE | ACF1 | \n",
       "|---|\n",
       "| Training set | -0.00647159 | 0.6300516   | 0.4066116   | -0.714579   | 9.066583    | 0.3207843   | 0.1174706   | \n",
       "\n",
       "\n"
      ],
      "text/plain": [
       "             ME          RMSE      MAE       MPE       MAPE     MASE     \n",
       "Training set -0.00647159 0.6300516 0.4066116 -0.714579 9.066583 0.3207843\n",
       "             ACF1     \n",
       "Training set 0.1174706"
      ]
     },
     "metadata": {},
     "output_type": "display_data"
    },
    {
     "data": {
      "text/html": [
       "<table>\n",
       "<thead><tr><th></th><th scope=col>ME</th><th scope=col>RMSE</th><th scope=col>MAE</th><th scope=col>MPE</th><th scope=col>MAPE</th><th scope=col>MASE</th><th scope=col>ACF1</th></tr></thead>\n",
       "<tbody>\n",
       "\t<tr><th scope=row>Training set</th><td>0.006393077</td><td>0.5950556  </td><td>0.3656451  </td><td>-1.269798  </td><td>7.825533   </td><td>0.288465   </td><td>0.01735626 </td></tr>\n",
       "</tbody>\n",
       "</table>\n"
      ],
      "text/latex": [
       "\\begin{tabular}{r|lllllll}\n",
       "  & ME & RMSE & MAE & MPE & MAPE & MASE & ACF1\\\\\n",
       "\\hline\n",
       "\tTraining set & 0.006393077 & 0.5950556   & 0.3656451   & -1.269798   & 7.825533    & 0.288465    & 0.01735626 \\\\\n",
       "\\end{tabular}\n"
      ],
      "text/markdown": [
       "\n",
       "| <!--/--> | ME | RMSE | MAE | MPE | MAPE | MASE | ACF1 | \n",
       "|---|\n",
       "| Training set | 0.006393077 | 0.5950556   | 0.3656451   | -1.269798   | 7.825533    | 0.288465    | 0.01735626  | \n",
       "\n",
       "\n"
      ],
      "text/plain": [
       "             ME          RMSE      MAE       MPE       MAPE     MASE    \n",
       "Training set 0.006393077 0.5950556 0.3656451 -1.269798 7.825533 0.288465\n",
       "             ACF1      \n",
       "Training set 0.01735626"
      ]
     },
     "metadata": {},
     "output_type": "display_data"
    },
    {
     "data": {
      "text/html": [
       "<table>\n",
       "<thead><tr><th></th><th scope=col>ME</th><th scope=col>RMSE</th><th scope=col>MAE</th><th scope=col>MPE</th><th scope=col>MAPE</th><th scope=col>MASE</th><th scope=col>ACF1</th></tr></thead>\n",
       "<tbody>\n",
       "\t<tr><th scope=row>Training set</th><td>5.262527e-17</td><td>0.6110555   </td><td>0.374236    </td><td>-0.5336673  </td><td>7.85923     </td><td>0.2952426   </td><td>0.175778    </td></tr>\n",
       "</tbody>\n",
       "</table>\n"
      ],
      "text/latex": [
       "\\begin{tabular}{r|lllllll}\n",
       "  & ME & RMSE & MAE & MPE & MAPE & MASE & ACF1\\\\\n",
       "\\hline\n",
       "\tTraining set & 5.262527e-17 & 0.6110555    & 0.374236     & -0.5336673   & 7.85923      & 0.2952426    & 0.175778    \\\\\n",
       "\\end{tabular}\n"
      ],
      "text/markdown": [
       "\n",
       "| <!--/--> | ME | RMSE | MAE | MPE | MAPE | MASE | ACF1 | \n",
       "|---|\n",
       "| Training set | 5.262527e-17 | 0.6110555    | 0.374236     | -0.5336673   | 7.85923      | 0.2952426    | 0.175778     | \n",
       "\n",
       "\n"
      ],
      "text/plain": [
       "             ME           RMSE      MAE      MPE        MAPE    MASE     \n",
       "Training set 5.262527e-17 0.6110555 0.374236 -0.5336673 7.85923 0.2952426\n",
       "             ACF1    \n",
       "Training set 0.175778"
      ]
     },
     "metadata": {},
     "output_type": "display_data"
    }
   ],
   "source": [
    "accuracy(data_forecast_ets)\n",
    "accuracy(data_forecast_simple)\n",
    "accuracy(data_forecast_holt)\n",
    "accuracy(data_forecast_holtWinter)\n",
    "accuracy(data_forecast_arima)\n",
    "accuracy(data_forecast_randomWalk)"
   ]
  },
  {
   "cell_type": "code",
   "execution_count": 68,
   "metadata": {
    "scrolled": true
   },
   "outputs": [
    {
     "ename": "ERROR",
     "evalue": "Error in attr(data, \"tsp\") <- c(start, end, frequency): geçersiz zaman serileri parametreleri seçildi\n",
     "output_type": "error",
     "traceback": [
      "Error in attr(data, \"tsp\") <- c(start, end, frequency): geçersiz zaman serileri parametreleri seçildi\nTraceback:\n",
      "1. ts(data[, 2], start = 2018.1, end = 2018.3)"
     ]
    }
   ],
   "source": [
    "original_data <- ts(data[,2], start=2018.1 ,end=2018.3,freq=12)\n",
    "original_data"
   ]
  }
 ],
 "metadata": {
  "kernelspec": {
   "display_name": "R",
   "language": "R",
   "name": "ir"
  },
  "language_info": {
   "codemirror_mode": "r",
   "file_extension": ".r",
   "mimetype": "text/x-r-source",
   "name": "R",
   "pygments_lexer": "r",
   "version": "3.4.2"
  }
 },
 "nbformat": 4,
 "nbformat_minor": 2
}
