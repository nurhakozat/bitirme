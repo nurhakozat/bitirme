{
 "cells": [
  {
   "cell_type": "markdown",
   "metadata": {
    "collapsed": true
   },
   "source": [
    "# ZAMAN SERİLERİ"
   ]
  },
  {
   "cell_type": "code",
   "execution_count": null,
   "metadata": {},
   "outputs": [],
   "source": [
    "# install.packages(\"Quandl\", repos='http://cran.us.r-project.org')\n",
    "#install.packages(\"forecast\", repos='http://cran.us.r-project.org')\n",
    "library(Quandl)\n",
    "library(forecast)\n",
    "library(tseries)"
   ]
  },
  {
   "cell_type": "markdown",
   "metadata": {},
   "source": [
    "### Zaman Serisi ve Temel Kavramlar\n",
    "\n",
    "\n",
    "Zaman serisi, bir değişkenin zaman içindeki hareketini gözlemleyen, gözlem sonuçlarının zamana göre dağılım gösterdiği serilerdir. Bütün değerleri belirli bir zman farkı ile art arda gelen nümerik verilerden oluşur. Bu değerler günlük, haftalık, aylık, yıllık olabilirler.\n",
    "\n",
    "\n",
    "Zaman serisi değişkeni, n zaman serisindeki veri sayısı olmak üzere; x(t), (t= 1, 2, …, n) \n",
    "- ilk gözlemlenen veri x(1), \n",
    "- ikinci gözlemlenen veri x(2),\n",
    "- son gözlemlenen veri x(n) ile ifade edilir.\n",
    "\n",
    "Sürekli Zaman Serileri; zaman içinde sürekli olarak kaydedilebilen verilere sahip serilerdir elektrik sinyalleri, voltaj, ses titreşimleri gibi mühendislik alanlarına ait seriler\n",
    "\n",
    " Kesikli Zaman Serileri; belli aralıklarda elde edilebilen verilere sahip serilerdir. faiz oranı, satış hacmi, üretim miktarı gibi iktisadi serilerdir.\n",
    "\n",
    "Zaman serilerinde veriler nicel  ya da nitel verilerden oluşur.\n",
    "\n",
    "- Nitel ( Kalitatif ) Yöntemler : Öngörü işlemi ile bilgilerden yararlanılarak geleceğe ait tahmin yapılmaktadır. Dolayısıyla, öngörü yöntemleri tecrübeye, kararlara, bilirkişinin düşüncelerine  dayanmaktadır. Bu tür öngörü yöntemlerine genel olarak nitel  ( kalitatif ) yöntemler denir.\n",
    " \n",
    " \n",
    "- Nicel ( Kantitatif ) Yöntemler : Öngörü yöntemleri subjectif kararlardan ziyade elde edilen verilerin yapısını açıklayabilen modellere dayanırsa bu tür modellere dayanan öngörü yöntemlerine genel olarak nicel ( Kantitatif  ) yöntemler denir.\n",
    " \n",
    "Zaman Serisi analizinde ,\n",
    "- Tek Değişkenli ( Unvariate Time Series ): Eğer zaman serisi tek değişikenin zaman içerisindeki hareketini inceleniyorsa ,\n",
    " \n",
    "- Çok Değişkenli ( Multivariate Time Series ): Eğer birden fazla değişkenin zaman içindeki değişimlerini gözlemleniyorsa , \n",
    "olmak üzere iki çeşit değişken sayısı bulunur.\n",
    "\n",
    "\n",
    "### Zaman Serisi Bileşenleri :\n",
    "\n",
    "\n",
    "Zaman serilerinin gözlemlenen değerleri arasında artma, azalma ya da belli dönemlerde sabit kalma gibi değişmeler gerçekleşebilir.  Bu değişmeler çeşitli nedenleri olabilir. Bu değişmelerin incelenmesi , bir öngürü yapılmak istendiğinde yardımcı olur. Nedeni ise zaman serileri gelecekte de benzer özellikler gösterebilir. Bu değişmeler zaman serilerinin bileşenlerini oluşturur. Bu değişmeler  dört grupta incelenir: \n",
    "-\tTrend  Bileşen\n",
    "-\tMevsimsel bileşen \n",
    "-\tÇevrimsel bileşen ( Konjoktürel )\n",
    "-\tDüzensiz Bileşen ( Rassal Bileşen )\n",
    " \n",
    " \n",
    "#### Trend :  \n",
    "\n",
    "Zamana göre gözlemlenen bir değişkenin uzun dönemde gösterdiği artış veya azalışa denir. İki farklı şekilde ifade edilebilir.Trend iki şekilde olabilir:\n",
    "-\tDoğrusal Trend\n",
    "-\tDoğrusal Olmayan Trend\n",
    "\n",
    "Gözlemlerin toplanış sırası ile aldığı değerler arasındaki korelasyonun önemini belirlemek için trend analizleri yapılır.\n",
    "Trend analizi matematiksel bir tekniktir ve bu analiz ile geçmişe ait sonuçları kullanarak geleceğe yönelik sonuçlar için tahmin yapılır. Serinin gözlem sayısı arttıkça trende sahip olmadığı daha kolay anlaşılır.\n",
    "Zaman içerisinde artış veya azalış göstermeyen, aynı düzeyde kararlılık gösteren serilerin ise trendi yoktur.\n",
    "\n",
    "Trend doğrusal olabileceği gibi üstel de olabilir. Trend tamamen öngörülebiliyorsa deterministik, tamamen öngörülemiyorsa rassaldır.\n",
    "\n",
    "#### Mevsimsel Bileşen:\n",
    "\n",
    "Sistematik ( gözlemlenebilir ve ölçülebilir ) etkileri olan faktörlerdir. Mevsim etkisinde olan zaman serileri yılın bazı dönemlerinde diğer dönemlere göre daha yüksek ve ya daha düşük değerler ulaşır. Örnek olarak; bazı dönemlerde doğalgaz kullanımının artması veya azalması verilebilir.Mevsimsellik farklı biçimlerde ( Anneler Günü, Babalar Günü, Öğretmenler günü , Dini bayramlar da yapılan alışverişteki artışlar  )gözlemlenebilir. Zaman serilerinde mevsimsellik etkisi bir yıl  ve daha az zaman süresinde tekrarlanan periyodik dalgalanmalar olarak tanımlanır.\n",
    "\n",
    "\n",
    "Zaman serisi analizlerinde mevsimsel etkinin olup olmadığını belirlemek için bir çok yöntem kullanılır. Zaman serisinde mevsimsel bileşen varsa , veriden mevsimsel dalgalanmaları arındırılması için en çok kullanılan yöntemler mutlak ve  nispi hareketli ortalamalar ve ortalama yüzde yöntemleridir.\n",
    "\n",
    "#### Çevrimsel  Bileşen:\n",
    "\n",
    "Mevsimsel değişimle ilişkisi olmayan daha uzun zaman aralığındaki dönemsel değişimdir.Trend doğrusu veya eğrisinin etrafındaki uzun süreli dalgalanmalardır.\n",
    "Örnek olarak;  Ekonominin maksimum olduğu noktada oluşan bir kriz ile birlkte ekonominin düşüşe başlamasını , devamında belli bir süre hareketsizlik gözlenmesi  ,ardından yeniden kıvılcımlarla canlanmaya başlamasını  ve bu sürecin tekrarlanıp devam etmesini  verebiliriz.\n",
    "\n",
    "#### Düzensiz Bileşen ( Rassal Bileşen )\n",
    "\n",
    "Rassal veya geçici olarak ortaya çıkan , trend , mevsimsel ve çevrimsel bileşenlerin dışında kalan bileşenelere veya  belirli bir modele uymayan dalgalanmalara düzensiz bileşen denir. Değişimin  zamanı ve şiddeti tahmin edilemez. Serideki yanıltıcı hareketlerdir.\n",
    "\n",
    "\n",
    "### Geleneksel Zaman Serisi Ayrışım Yöntemleri\n",
    "\n",
    "Serinin trend konjonktürel ve mevsimsel etkisi altında kaldığını varsayılmaktadır.\n",
    "Toplamsal Ayrıştırma ( Additive )ve Çarpımsal Araştırma ( Multiplicative ) yöntemleri olmak üzere iki yöntemi vardır.\n",
    "\n",
    "\n",
    "Toplamsal Ayrıştırma ( Additive ) : \n",
    "     \n",
    " $$ \\hat Y_{d_t} = T_{t}+ S_{t}+ C_{t}+ I_{t} $$\n",
    "\n",
    "Çarpımsal Araştırma ( Multiplicative ):\n",
    "   \n",
    " $$ \\hat Y_{d_t} = T_{t}\\cdot S_{t}\\cdot C_{t}\\cdot I_{t} $$\n"
   ]
  },
  {
   "cell_type": "markdown",
   "metadata": {},
   "source": [
    "### Doğrusal Zaman Serisi Analizi: \n",
    "\n",
    "  \n",
    "#### 1-\tOtoregresif Süreç ( AutoRegressive Process )       \n",
    "\n",
    "Otoregresif süreç AR ( p ) ile ifade edilir ve serinin mevcut değeri önceki p adet değere bağlıdır.\n",
    "\n",
    "p’ninci dereceden otoregresif süreç: $  Y_{t}  $  değeri sadece bir önceki değerine değil  önceki bir çok değere bağlı olabilir.\n",
    "$$ \\hat Y_{t} = ϵ_{t}+a_{0}+ \\sum_{i=1}^\\ell a_{i}\\cdot y_{t-i}  $$                            \n",
    "\n",
    "Başka bir şekilde ifade edilirse, bağımlı değişken geçmişteki değerinin bir fonksiyonudur.( p otoregresif sürecin derecesini vermektedir. )\n",
    "\n",
    "\n",
    "a : sabit terim \n",
    "\n",
    "$a_{1} ….$ : Gecikmeli değerlerin şimdiki değerle olan ilişkisi\n",
    "\n",
    "ε : hata terimi – rassal  şoklar\n",
    "\n",
    "\n",
    "Otoregresif süreç durağan olma koşulu  \n",
    "\n",
    "$$ |a_n|\\leq 1 \\text{ ve } \\sum_{i=1}^{n-1} a_i \\leq 1 $$\n",
    "\n",
    "olmasına bağlıdır.\n",
    "\n",
    "\n",
    "Otoregresif modeli özetlemek gerekirse:\n",
    "                \n",
    "Tüm gecikmeli değerler $Y_t$ üzerinde birikimli bir etkiye sahiptir. Dolayısıyla otoregresif modellerin uzun süreli bir etkiye sahiptir. Rassal değişken ile $y_t$ arasındaki korelasyon sıfır olduğundan otoregresif modelleri En küçük kareler yöntemini kullanarak tahmin edilebilir. Otoregresif süreçlerde ACF gecikmeden sonra üstel olarak azalmakta ve PACF değeri de sıfır değerini almaktadır. \n",
    "\n",
    "\n",
    "#### 2-\tHareketli Ortalama Süreci ( Moving Average )\n",
    "\n",
    "Serinin gecikmeli hata terimi, şu andaki hata terimini etkilemesine hareketli ortalama süreci denir. Değişkenin tahmin değeri hata teriminin tahmin değeri ile ilişkilidir.Modelin derecesi geçmiş dönemdeki  hata terim sayısına gore belirlenir. Örneğin geçmiş dönemde bir hata varsa modelin derecesi 1, n tane hata varsa modelin derecesi n olmaktadır. Hareketli ortalama sürece MA (q) olarak ifade edilir ve \n",
    "$ Y_{t}\\sim  N(0,s^2_{e} ) $ olacak şekilde\n",
    "$$ \\hat Y_{d_t} = b_{0} + \\sum_{i=1}^q b_i e_{t-i}  $$   \n",
    "kurulur.\n",
    "\n",
    "$ b_{i} $: bilinmeyen sabit parametrelerdir.\n",
    "\n",
    "#### 3-\tKarma Otoregresif Hareketli Ortalama Süreci (ARMA)\n",
    "\n",
    "Zaman serilerinde veriler bazen hem otokorelasyon hem de kısmi otokorelasyon fonksiyonlarını belirli bir gecikmede kesilmeden sıfıra doğru çok yavaş hareket edebilir.  Bu durumda seri hem otoregresif hem de hareketli ortalama bileşenlerini aynı anda içerebilir. Özetle seri modelini hem AR, hem de MA bileşenleriyle p ve q dereceden olmak üzere ARMA(p,q) olarak tanımlanır \n",
    "\n",
    "Arma sürecinin özetlemek gerekirse:\n",
    " \n",
    "Karma otoregresif hareketli ortalama sürecinin ARMA (p,q ) otokorelasyon fonksiyonu ve otoregresif sürecin AR(p) sürecinin özelliklerini taşır.\n",
    "\n",
    "ARMA(p,q) modelinde büyük gecikme uzunluklarında ACF ve PACF değerleri sıfıra yaklaşır.\n",
    "Model de durağanlığı AR(p) koşulu ile , tersine çevirebilirliği ise MA(q) koşuluyla aynıdır.\n",
    "                      \n",
    "#### 4-\tHomojen Durağan Olmayan Süreç (ARIMA)\n",
    "\n",
    "Fark alma işlemiyle, durağan olmayan modellerin durağan hale dönüştürülmüş serilere uygulanmasıyla elde edilen modellere “durağan olmayan doğrusal stokastik modeller” denir.  Bu tür serilere uygulanan model ARIMA modelidir. Bu modeller d dereceden farkı alınmış serilere uygulanan, değişkenin t-dönemindeki değerinin belirli sayıdaki geri dönem değerleri ile aynı dönemdeki hata teriminin doğrusal bir fonksiyonu olarak ifade edildiği AR ve değişkenin t-dönemindeki değerinin aynı dönemdeki hata terimi ve belirli sayıda geri dönem hata terimlerinin doğrusal fonksiyonu olarak ifade edildiği MA modellerinin birer birleşimidir. Farklı bir şekilde ifade edilirse ARIMA, otoregresresif (AR), entegre (I) ve hareketli ortalama (MA) süreçlerinden oluşur. Modelin gösterimi ARIMA (p, d, q) şeklinde ifade edilir. Burada p değişkeni otoregresif(AR) model derecesini, q değişkeni hareketli ortalama (MA) derecesini ve d değişkeni de fark alma derecesini gösterir.\n",
    "\n",
    "\n",
    "Eğer d=1 ise orijinal seri birinci derecen farkı alınarak durağan hale getirilmiştir,\n",
    "d=0 olduğunda ise orijinal seri zaten durağandır ve farkının alınmasına da gerek yoktur. Bu durumda ARIMA(p,d=0,q)=ARMA(p,q) olur.\n",
    "\n",
    "\n",
    "Örnek olarak ARIMA(3,2,2) alınırsa; zaman serisini durağan olması için farkının iki kez (d= 2) alınması gerekir.  İlk farkı alınan  zaman serisini  ARMA(2,2) süreci olarak yazılabilir. Bu süreçte otoregresif modeli (AR) iki terimiyle ve hareketli ortalama modeli (MA) iki terimiyle modellenebilir. \n",
    "\n",
    "Bilgi Kriterleri :\n",
    "\n",
    "1. Akaiki bilgi kriteri (Akaike information criterion-AIC) \n",
    "\n",
    "Akaiki, veri kümeleri için istatistiksel göreceli model ölçüsüdür. AIC modeli verilerin mmodellerin her birini göreceli olarak tahmin ediyor. Doğru modelin seçilmesini sağlar. Verilen bilgileri kullanara; model verileri oluşturur, işlem temsil etmek için kullanılır ve bunlara dayanarak göreceli bir tahmin sunmaktadır. Bu sayede ,modelin uyum ölçüsü ve model karmaşıklığı anlaşılır. \n",
    "\n",
    "$$ AIC = 2k - 2ln(L) $$\n",
    "\n",
    "k: tahmin edilen parametre sayısı\n",
    "\n",
    "L: maksimum likelihood\n",
    "\n",
    "Model seçiminde en düşük AIC değeri seçilir.\n",
    " \n",
    "2. Schwarz Bayesian kriteri (BIC) \n",
    "\n",
    "Schwarz Bayesian bilgi kriteri ( BIC )  değeri, otoregresif sürecin gecikme derecesinin belirlenmesinde kullanılır.Akaiki bilgi kriteri ile yakından ilişkilidir.\n",
    "$$ BIC = ln(n)\\cdot k - 2ln(L) $$\n",
    "\n",
    "L = modelin olabilirlik fonksiyonunun maksimum değeri\n",
    "\n",
    "x = gözlenen veriler\n",
    "\n",
    "n = veri noktalarının sayısı\n",
    "\n",
    "k = model tarafından tahmin edilen parametre sayısı\n",
    "\n",
    "Model seçiminde en düşük BIC değeri seçilir.\n",
    "\n",
    "3. Hannan Quinn bilgi kriteri (HOİC )\n",
    "\n",
    "$$ HOİC= -2L_{max} + 2k\\cdot ln(ln(n)) $$\n",
    "\n",
    "Bilgi kriterleri iki bileşeni vardır: \n",
    "\n",
    "- Kalanların karelerinin toplamı \n",
    "- Eklenen her parametrenin neden olduğu serbestik derecesi kaybı için modelin tabi tutulduğu ceza \n",
    "\n",
    "bileşenleridir.  Modele eklenen her yeni değişken, yani  her yeni gecikme, ceza teriminin değerini arttırır. Aynı zamanda kalanların karelerinin değerini düşürmektedir. Akaiki bilgi kriteri  (AIC)  değeri, otoregresif sürecin gecikme derecesinin belirlenmesinde kullanılır.Schwarz Bayesian bilgi kriteri ( BIC )  değeri, otoregresif sürecin gecikme derecesinin belirlenmesinde kullanılır.\n",
    "\n",
    "BIC , AIC ile karşılaştırıldığında edildiğinde örnek büyüklüğü orta veya geniş ise gecikme\n",
    "sayısı az olan AR modelin seçimine eğilim söz konusudur.\n"
   ]
  },
  {
   "cell_type": "markdown",
   "metadata": {},
   "source": [
    "### Box-Jenkins Yöntemi (ARIMA) \n",
    "\n",
    "George E.P. BOX ve Gwilym M. JENKINS tarafından durağan tek değişkenli zaman serilerinin analizi için geliştirilen (Yaffee and McGee 2000) ve öngörü uygulamalarında kullanılan Box-Jenkins yöntemi, ARIMA modelleri olarak da adlandırılmaktadır.\n",
    " Box-Jenkis yöntemi ele alınan zaman serisinin özelliklerine göre belirlenen çeşitli modeller arasında uygun olanını seçerek tahmin etme sürecini kapsamaktadır.Zaman serisi modellerinde serinin kendi iç dinamiği önemli olup oluşturulan modeldeki değişken, kendi gecikmeli değerleri ve hata teriminin gecikmeli değerleriyle açıklanmaktadır.\n",
    "Box ve Jenkins uygulama aşamaları:\n",
    "\n",
    "- Yöntemi Belirleme :\n",
    " \n",
    "Durağan zaman serisine ARMA modellerinden herhangi birinin aday olarak belirlenmesi aşamasıdır. Yani ARMA (p,q) modelinde p ve q nun derecesinin bulunması aşamasıdır.Değerleri otoregresif ve hareketli ortalamalar sürecinin özelliklerinden faydalanılarak bulunur. ARMA modelleri otokorelasyon ve kısmi otokorelasyon fonksiyonları sayesinde karakterize edilebilir.\n",
    " \n",
    "- Parametre Tahmini :\n",
    "\n",
    "ARMA modellerinde parametrelerini tahmin edilebilmesi için bir çok yöntem bulunmaktadır.Yöntemler olabilirlik fonksiyonuna dayalı yöntemler ya da eğrisel en küçük kareler yöntemleridir. ARMA modelinin parametreleri olabilirlik fonksiyonunun maksimize edilebilir ya da hata kareler fonksiyonunun minimize edilmesiyle bulunabilir.\n",
    "\n",
    "- Teşhis Etme :\n",
    "\n",
    "Modelin yeterliliğini kontrol edilmesidir.Zaman serisi modeli belirlenip parametreleri tahmin edildikten sonra ayırt edici testler yardımıyla belirlenen modelin ne kadar doğru olduğu ortaya konulabilir. Modelin artık terimleri, test süreci için önemlidir. Belirlenen model yeterli ise artıklar yaklaşık olarak bir beyaz gürültü sürecidir (white noise). Beyaz gürültü sürecinde olması,  ARIMA (p,d,q) modeli öngörü için yeterli düzeydedir.\n",
    "\n",
    " LjungBox testi, Modelin artık terimlerinin standart normal dağılımlı rasgele değişkenlerin dizisinden oluşan bir beyaz gürültü sürecinde olup olmadığının test etmek için kullanılmaktadır.\n"
   ]
  },
  {
   "cell_type": "markdown",
   "metadata": {},
   "source": [
    "### DURAĞANLIK\n",
    "\n",
    "Serinin durağan olması, zaman serisinde  ortalaması, varyansı ve kovaryansı zaman içinde sabit kalmasıyla söylenir. Durağan zaman serisinde ard arda gelen iki değer arasındaki fark zamanın kendisinden kaynaklanmamakta, sadece zaman aralığından kaynaklanmaktadır. Bundan dolayı serinin ortalaması zamanla değişmemektedir. \n",
    "$Y_t$ serisi tanımlayalım.\n",
    "\n",
    "$$ E(Y_{t}) = µ $$\n",
    "$$ var(Y_{t}) = γ_0 $$\n",
    "$$ cov(Y_{t},Y_{t+k} ) = γ_{k} $$\n",
    "\n",
    "Başlangıç noktasını t’den t + k’ye kaydırdıgımızı düşünelim. Y durağan ise $ Y_{t} ve Y_{t+k} $ serilerinin ortalama, varyans ve  kovaryansları aynı olmalıdır.  Eğer k = 0 ise $cov(Y_{t}, Y_{t+0}) = var(Y_{t}) = σ^2 $ ’dir\n",
    "\n",
    "Durağan olmayan seriler birim kök içerirler. Bir serideki birim kök sayısı serinin durağan olana dek alınması gereken fark sayısına eşittir. $Y_t$ serisi d= 1 farkı alınınca durağan hale geliyorsa seri 1. dereceden durağandır denir ve I(1) olarak gösterilir. Genel olarak seri d kez farkı alınınca durağan oluyorsa seri d. dereceden durağandır denir ve I(d) ile gösterilir\n",
    ".\n",
    "#### Trend Durağanlık ve Fark Durağanlık\n",
    "\n",
    "Trend durağan olmayan süreçler için durağanlaştırmak için  iki temel yöntem vardır:\n",
    "\n",
    "- Durağan olmayan zaman serisi için kurulacak regresyon denkleminde, seri trend (zaman) üzerine regrese edilir. Daha sonra bu regresyondan elde edilen kalıntılar üzerinde analizler yapılır.\n",
    "- Zaman serisine trend bir regresör olarak ilave edilerek gerekli analizler yapılır.\n",
    "\n",
    "$$Y_t = \\mu + B_t + e_t$$\n",
    "\n",
    "($Y_t$: deterministik trend,et ~ IID(0,): durağan stokastik bileşen)\n",
    "\n",
    "Rassal Yürüyüş:\n",
    "\n",
    "Rastsal yürüyüşü en basit şekilde şöyle gösterilir:\n",
    "\n",
    "$$ Y_{t} = Y_{t−1} + u_{t} $$ ( $ u_{t} $: beyaz gürültü)\n",
    "\n",
    "Markov 1.derece özbağlanımsal tasarımla rastsal yürüyüş bağlantısı :\n",
    "\n",
    "$$ Y_{t} = ρ* Y_{t−1} + u_{t}  ,  −1 < ρ < 1 $$   \n",
    "  \n",
    "Rastsal yürüyüşte ρ = 1 oldugu için, bu sürece ˘ “birim kök” (unit root) süreci de denilmektedir.Rastsal yürüyüş sürecinde ut sarsıntıları kalıcıdır:\n",
    "\n",
    "$$ Y_{1} = Y_{0} + u_{1} $$\n",
    "$$ Y_{2} = Y_{1} + u_{2} = Y_{0} + u_{1} + u_{2} $$\n",
    "$$ Y_{3} = Y_{2} + u_{3} = Y_{0} + u_{1} + u_{2} + u_{3} $$\n",
    "T dönemindeki deger :\n",
    "\n",
    "$$ Y_{t} = Y_{0} + \\sum_t u_{t}  $$\n",
    "\n",
    "Herhangi bir dönemdeki değerin daha önceki tüm rastsal sarsıntıların toplamı olmasına, rastsal yürüyüşün “sonsuz\n",
    "bellek” (infinite memory) özelligi de denir.\n",
    "$ E(u_{t}) = 0 $ oldugundan, $ E(Y_{t}) = Y_{t} $ olduguna dikkat edelir.\n",
    "Başka bir ifadeyle $ Y_{t} $ ’nin ortalaması sabittir.Rastsal hatalar toplandıgı için,  $ var(Y_{t})  $ sürekli artmakta ve böylece duraganlık varsayımı engellenmemiş olmaktadır. $ Y_{t} $ ’nin varyansının $  var(Y_{t}) = tσ^2 $oldugu gösterilebilir. Buna göre, t sonsuza giderken varyans da sonsuza gitmektedir\n",
    "\n",
    "#### Durağanlık Analizi\n",
    "\n",
    "Durağanlık analizini grafiksel analiz, kolegram analiz ve birim kök analizi kullanılarak yapılmaktadır. \n",
    "\n",
    "#####  Birim Kök Analizi\n",
    "Serinin durağanlığını ve durağanlık derecesini belirlemede kullanılır.Birim Kök Analizi'nde 5 farklı yöntem bulunmaktadır.\n",
    "\n",
    "- Dickey Fuller Testi (DF)\n",
    "- Genişletilmiş Dickey-Fuller Testi (ADF) \n",
    "- Phillips- Perron Testi (PP)\n",
    "- Kwiatkowski-Phillips-Schmidt-Shin  Testi (Kpss)\n",
    "- Ng Perron Testi\n",
    "\n",
    "En çok kullanılan DF,ADF ve PP testleridir.\n",
    "\n",
    "##### Dickey Fuller Testi (DF)\n",
    "\n",
    "Serinin durağan olmadığı (birim köke sahip olduğu) boş hipotezinin , durağan olduğu (birim kök olmadığı ) alternatif hipotezine göre sınanmasıdır.\n",
    "$ Y_{t} $ değişkeninin bu dönemde aldığı değerin geçen dönemdeki değeri olan ile ilişkisi,\n",
    "$$ Y_{t}=p*Y_{t-1} + u_{t} $$ \n",
    "şeklinde ifade edilir. ($ u_{t}$: kalıntı terim )\n",
    "\n",
    "Yukarıdaki model 1. dereceden otoregresif AR(1) modelidir.ρ katsayısı 1 eşit olursa birim kök sorunu (durağan olmama durumu) ortaya çıkmaktadır ve model\n",
    "$p=1$ ise $$ Y_{t}=Y_{t-1} + u_{t} $$ \n",
    "şeklini almaktadır.\n",
    "Sonuç bir önceki dönemde iktisadi değişkenin değerinin ve dolayısıyla o dönemde maruz kaldığı şokun olduğu gibi sistemde kalması anlamına gelir. Bu şokların kalıcı nitelikte olması serinin durağan olmaması ve zaman içinde gösterdiği trendin stokastik olması anlamına gelir.\n",
    "\n",
    "$p<1 $ ise geçmiş dönemlerdeki şoklar belli bir süreetkilerini sürdürseler de, bu etki giderek azalacak ve kısa bir dönem sonra tamamen ortadan kalkacaktır.\n",
    "\n",
    "##### Genişletilmiş Dickey-Fuller Testi (ADF)\n",
    "\n",
    "Dickey-Fuller testi, hata terimlerinin otokorelasyon içermesi halinde kullanılamamaktadır. Zaman serisinin gecikmeli değerleri kullanılarak hata terimindeki otokorelasyon ortadan kaldırılabilmektedir. Dickey-Fuller bağımlı değişkenin gecikmeli değerlerini, bağımsız değişken olarak modele dahil eden yeni bir test geliştirmiştir. Bu test Genişletilmiş Dickey-Fuller testidir. Burada gecikmeli değişkene ait uygun gecikme mertebesi belirlenirken Akaike ve Schwarz kriterlerinden\n",
    "yararlanılmaktadır.\n",
    "\n",
    "ADF denklemi :\n",
    "$$\\delta Y_{t}= a+ b_{t}+\\gamma Y_{t-1}+ u_{t-1} +c\\sum_{i=1}^n  \\delta Y_{t} $$  \n",
    "$\\delta$ : delta\n",
    "\n",
    "##### Phillips- Perron Testi (PP)\n",
    "\n",
    "Phillips-Perron birim kök testi ise hata teriminin zayıf derecede bağımlı olmasına ve heterojen olarak dağılmasına izin vermektedir. Bu sayede otokorelasyon sorunu ortaya çıkmamaktadır. \n",
    "\n",
    "##### Kwiatkowski-Phillips-Schmidt-Shin  Testi (Kpss)\n",
    "\n",
    "KPSS  testinde amaç gözlenen serideki deterministik trendi arındırarak serinin durağan olmasını sağlamaktır. Bu testte\n",
    "kurulan birim kök hipotezi ADF testinde kurulan hipotezlerden farklıdır. Sıfır hipotezi serinin durağan olduğunu ve birim kök içermediğini, buna karşın alternatif hipotez ise seride birim kök olduğunu ve durağan olmadığını ifade eder. Boş\n",
    "hipotezdeki durağanlık trend durağanlıktır. Çünkü seriler trendden arındırılmışlardır. \n",
    "\n",
    "Trendden arındırılan seride birim kök olmaması, serinin trend durağanlığını gösterir. KPSS testinin en önemli özelliği bir veya daha büyük bir MA yapısı içeren serilerde ADF’ nin aksine gücünün azalmamasıdır.\n",
    "\n",
    " KPSS testi LM testi ile benzer biçimde belirlenmektedir. Dolayısıyla LM istatistiğinin oluşumu önemlidir. LM testinde boş hipotez, rassal yürüyüşün sıfır varyansa sahip olduğunu ve serinin deterministik trend, rassal yürüyüş ve durağan\n",
    "kalıntılar toplamından oluştuğunu ima eder.\n",
    "\n",
    "##### Ng Perron Testi\n",
    "\n",
    "Ng-Perron birim kök testi, Phillips-Perron birim kök testinde ortaya çıkan hata teriminin hacmindeki çarpıklığın düzeltilmesi için geliştirilmiştir.PP testinde serilerde negatif hareketli ortalama yapısı olduğunda, büyük oranda hata teriminde nörneklem çarpıklığı olmaktadır. DF testlerinde bu durum çok büyük bir sorun yaratmamaktadır.\n",
    "\n",
    "NG - Perron testi bu nedenle PP testlerini ve bilgi kriterlerini modifiye etmektedir.MSB ve MPT lerde sıfır hipotezi birim kökün olmadığını , alternatif hipotez ise birim kökün varlığını ifade eder.\n",
    " \n",
    " \n",
    " adf.test ve pp.test için:\n",
    "- H0: birim kök içerir.\n",
    "- HA: birim kök içermez, durağandır.\n",
    "\n",
    "kpss.test için:\n",
    "- H0: level veya trend durağandır.\n",
    "- HA: durağan değildir.\n",
    "\n",
    "Test sonuçlarına göre adf ve pp testleri için p-value (test istatistiğinin olasılık değeri) %5'den küçük ise (%95 güven seviyesinde) testin boş hipotezi ret edilir. Kpss test için ise durumun tam tersi doğrudur.\n"
   ]
  },
  {
   "cell_type": "markdown",
   "metadata": {},
   "source": [
    "### Normallik Testi- Shapiro Wilk Test\n",
    "Veri seti üzerinde yapılan bir çok veri analizi verinin normal dağıldığı varsayımına dayanır. Veri analizine başlamadan önce verinin normal dağılıma uygun olup olmadığına bakılmalıdır. Normallik kontrolü için yaygın olarak kullanılan testlerden birisi de Shapiro-Wilks testidir.\n",
    "\n",
    "Shapiro-Wilk (1965) testi, verinin sıra istatistiklerinin uygun bir lineer bileşeninin karesinin, kareler toplamına bölümü uygulanarak elde edilir. \n",
    "\n",
    "$$  W = \\frac{(\\sum_{i=1}^n a_{i} x_{i})^2}{\\sum_{i=1}^n (x_{i} - x^-_{i})^2 }  \\text{ ve } a_{i}=(a_{1},a_{2},...,a_{n})   $$   \n",
    "\n",
    "$  a_{i}=(a_{1},a_{2},...,a_{n})$: standart normal dağılımda  N(0,1)’ da  n adet sıra istatistiğinin beklenen değerlerinin vektörünü ifade eder.\n",
    " \n",
    "Sadece numeric (numeric factor) veriyi, argüman olarak shapiro.test(veri) fonksiyonuna eklenir.\n",
    "\n"
   ]
  },
  {
   "cell_type": "markdown",
   "metadata": {},
   "source": [
    "\n",
    "### Otokorelasyon \n",
    "\n",
    "Otokorelasyon durumunda parametrelerin en küçük kareler tahmincileri sapmasız ve tutarlıdır,ancak  etkin değildir. Hata teriminin varyansının tahmincisi sapmalıdır ve bu yüzden parametrelerin varyansları da sapmalı olur. Pozitif otokorelasyon varsa sapma negatif olur. Varyanslar olduğundan küçük bulunur. Bunun sonucunda t test istatistiği değeri büyük çıkar. Böylece anlamsız bir katsayının anlamlı olma olasılığı artar. $ R_{2} $ de yükselir. Dolayısıyla F değeri olduğundan büyük bulunur. Sonuç olarak t ve F testleri güvenilirliğini yitirip yanıltıcı sonuç verirler.\n",
    "Otokorelasyonu durumunu göstermek için 2 yöntem kullanılır. \n",
    "\n",
    "- Grafik Yorumu\n",
    "- Otokorelasyon Testleri ( Durbin-Watson d , Wallis , King ,Breush ve Godfrey)\n",
    "\n",
    "NOT: Zaman serilerinin durağan olması demek, zaman içinde varyansın ve ortalamanın sabit olması ve gecikmeli iki zaman periyodundaki değişkenlerin kovaryansının değişkenler arasındaki gecikmeye bağlı olup, zamana bağlı olmamasıdır. \n",
    "\n",
    "#### Grafik Yorumu\n",
    "\n",
    "##### Otokorelasyon Katsayısı (ACF)\n",
    "Otokorelasyon katsayısı, zaman serisiyle bu serinin gecikmeli serileri arasındaki ilişkiyi gösterir.Serideki bütün gecikmeler otokorelasyon fonksiyonunu oluşturmaktadır. Otokorelasyona; ihmal edilen değişkenler, modelin fonksiyonel biçiminin doğru belirlenmemesi, verilerle ilgili ölçme hataları, tesadüfi olarak ortaya çıkan savaş, kuraklık gibi olayların, etkilerini ortaya çıktıkları dönemlerden sonra da sürdürmesi neden olabilirler.\n",
    "\n",
    "$$ E(u_{i},u_{j})=0 i≠j $$\n",
    "\n",
    "şeklinde ifade edilir.\n",
    "$$  ACF(k) = \\frac{\\sum_{t=1+k}^T (Y_{t}- Y^-)(Y_{t-k}- Y^-)}{\\sum_{t=1}^T (Y_{t}- Y^-)^2 }  $$ \n",
    "\n",
    "Eğer bir seri tesadüfi ise, her hangi bir gecikmede yani $ Y_{t} $ ve $ Y_{t-k} $ arasındaki otokorelasyonlar sıfıra yakın olmaktadır.\n",
    "Bu durumda zaman serisinin ardışık değerlerinin birbirleriyle ilişkisi yoktur.\n",
    "\n",
    "Eğer bir zaman serisi trende sahipse ise, $ Y_{t} $ ve $ Y_{t-1} $ arasında yüksek korelasyon bulunacaktır.\n",
    "Birkaç gecikmeden sonra otokorelasyon katsayıları hızlıca sıfıra yaklaşacaktır.\n",
    "İlk gecikmede otokorelasyon kat sayısı 1’e yakındır. İkinci gecikmede de oldukça yüksektir. Ve daha sonra hızlıca azalır.\n",
    "\n",
    "Hata terimleri arasında bir ilişki varsa yani otokorelasyon durumu söz konusu ise\n",
    "$$ E(u_{i},u_{j})≠0 i≠j $$\n",
    "\n",
    "şeklinde ifade edilir.\n",
    "\n",
    "##### Kısmi Otokorelasyon Fonksiyonu (PACF )\n",
    "\n",
    "Kısmi korelesyon; ilk başta  bilinemeyen zaman serisinin değerleri olan  p ve q değerlerinin kaçıncı dereceden olduğunu bulmak için uygulanır.Kısmi korelasyon, gecikmeli değişkenler arasındaki ilişkiyi ifade eder.Yani\n",
    "kısmi korelasyon diğer bütün gecikmeli gözlemlerin etkisinden arındırıldıktan\n",
    "sonra $x_{t}$ değişkeni ile bu değişkenden herhangi bir k-gecikmesiyle elde edilen $x_{t+k}$\n",
    "değişkeni arasındaki ilişkiyi inceler. Kısmi korelasyon PACF ile gösterilir.\n",
    "\n",
    "#### Otokorelasyon Testleri\n",
    "\n",
    "##### Durbin- Watson d Testi \n",
    "\n",
    "Sabit parametresi olan modellerde 1.dereceden otokorelasyonun varligini test etmek icin kullanilir.\n",
    "\n",
    "Testin 4  aşamaması vardır. Sırasıyla incelersek ;\n",
    "- Hipotezin kurulması\n",
    "\n",
    "$ H_{0} $: p=0 ise otokorelasyon yoktur.\n",
    "$ H_{1} $: p≠0 ise otokorelasyon vardır.\n",
    "\n",
    "- Tablo değerlerinin incelenmesi\n",
    "\n",
    "Durbin Watson tablo değerlerinden d istatisliğinin ;seçilen bir anlamlılık düzeyi ile gözlem sayısı ve açıklayıcı değişken sayısına göre  alt ($ d_{l} $) ve üst ($ d_{u} $) sınır değerleri bulunur.\n",
    "\n",
    "- Durbin Watson d istatistiği hesaplanması\n",
    "\n",
    "$$  d = \\frac{\\sum_{t=1}^n (e_{t} -e_{t-1})^2}{\\sum_{e=1}^n (e_{t})^2 } $$ \n",
    "\n",
    "- Karşılaştırma yapılması ve karar verilmesi \n",
    "\n",
    "Eğer 0<d < $ d_{l} $ ise pozitif otokorelasyon vardır.\n",
    "\n",
    "Eğer $ d_{l} $≤ d ≤ $ d_{u} $ ise karar verilmemektedir.\n",
    "\n",
    "Eğer $ d_{u} $< d <4- $ d_{u} $ ise otokorelasyon yoktur.\n",
    "\n",
    "Eğer 4-$ d_{u} $≤ d ≤4- $ d_{l} $ ise karar verilmemektedir.\n",
    "\n",
    "Eğer 4- $ d_{l} $ <d <4 ise negatif otokorelasyon vardır.\n",
    "\n",
    "Durbin-Watson testini :\n",
    "- Model sabit terimsiz ise,\n",
    "- Bağımsız X değişkenleri stokastikse,\n",
    "- Otokorelasyonun derecesi 1’den büyük ise,\n",
    "- Zaman serisinde ara yıllar noksan ise,\n",
    "- Modelde bağımsız değişken olarak gecikmeli bağımlı değişken varsa \n",
    "uygulanamaz.\n",
    "\n",
    "Durbin-Watson d istatistiği tablosu n<15 için dL ve du değerlerini vermemektedir. Bu durumda, Von-Neumann testi kullanılmaktadır.\n",
    "\n",
    "##### Wellis Testi:\n",
    "\n",
    "3’er aylik verilerde 4.dereceden otokorelasyon varligini test etmek icin kullanilir.\n",
    "Durbin Watson testinin, 4.dereceden otokorelasyon varligini test etmek icin duzenlenmis halidir.\n",
    "\n",
    "##### Breush ve Godfrey Testi:\n",
    "\n",
    "Yuksek dereceden otokorelasyonun varliginin test edilmesi icin kullanilir.Orjinal denklemde bagimli degiskenin gecikmeli halinin bagimsiz degiskenler arasinda yer almasi durumunda da kullanilir.\n",
    "\n",
    "Bagimli degisken: Orjinal model kalintilari\n",
    "\n",
    "Bagimsiz degiskenler: Orjinal modelin aciklayici degiskenleri ve incelenen otokorelasyonun derecesi sayisinda gecikme katsayisi modelde yer alir.\n",
    "\n",
    "Örneğin 2.dereceden otokorelasyonun varligi arastiriliyorsa, orjinal modelin bagimsiz degiskenleri ve $$ u\\cdot (t-1), u\\cdot (t-2) $$  katsayilari yeni modelde bagimsiz degiskenler arasinda yer alir.\n",
    "Test istatistigi: $$ n \\cdot R{_2} $$ ile yeni modelin karesi hesaplanir, n ile carpilarak test istatistigi elde edilir.\n",
    "\n"
   ]
  },
  {
   "cell_type": "markdown",
   "metadata": {},
   "source": [
    "### Giriş\n",
    "Bitirme çalışmasında toplamsal ve çarpımsal ayrışma modellerini analiz etmek ve modeller için öngörüde bulunabilmek için iki farklı veri inceleyeceğiz. İlk verimiz ABD de kullanılan doğal gaz tüketimi hakkında olup çarpımsal ayrışma modele örnektir.İkinci verimiz Florida'daki ham petrolün üretimi hakkında olup toplamsal ayrışma modeline örnektir. Verilerin hangi modele ait olduğu ve öngörü analizleri aşağıda detaylı olarak inceleyeceğiz.\n",
    "\n",
    "### 1. Kısım\n",
    "Verinin Yayıncısı: U.S. Energy Information Administration Data\n",
    "\n",
    "ABD ulusal ve devlet verilerinin;elektrik, kömür, doğal gaz ve petrol gibi tüm ana enerji ürünleri üzerindeki üretim, tüketim ve diğer göstergelere ilişkisini göstermektedir.\n",
    "\n",
    "Verinin Adı:   Natural Gas Futures Contract 3 \n",
    "\n",
    "ABD ulusal ve devlet verilerinin;doğal gaz üretim, tüketim ve diğer göstergelere ilişkisini göstermektedir.Veri zaman serisi olarak ilerlemektedir.\n",
    "\n",
    "Verinin Sıklığı: Aylık\n",
    "\n",
    "Verinin Zaman Aralığı: 31.01.1994- 31.03.2018\n",
    "\n",
    "Verinin Alındığı Yer: Quandl\n",
    "\n",
    "Quandl yatırım profesyonellerine hizmet veren finansal, ekonomik ve alternatif veriler için bir platformdur.Verileri 500'den fazla yayıncıdan sağlar. Quandl’ın verilerine bir API aracılığıyla erişilebilir. Bir çok programlama dili için API erişimi (R, Python, Matlab, Maple ve Stata) vardır. \n",
    "\n",
    "Excel eklentisi, stok fiyat bilgisi dahil olmak üzere verilere erişim sağlar.\n"
   ]
  },
  {
   "cell_type": "code",
   "execution_count": null,
   "metadata": {
    "collapsed": true
   },
   "outputs": [],
   "source": [
    "data<-Quandl(\"EIA/NG_RNGC3_M\", api_key=\"BtbwkANCR4aHKBscujRb\", collapse=\"monthly\")"
   ]
  },
  {
   "cell_type": "markdown",
   "metadata": {},
   "source": [
    "Veriyi quandl veri sitesinden alıyoruz. Veri iki sütundan oluşmaktadır. İlk sütun tarih ikinci sütun ise kullanım miktarıdır."
   ]
  },
  {
   "cell_type": "code",
   "execution_count": null,
   "metadata": {},
   "outputs": [],
   "source": [
    "data[,2]"
   ]
  },
  {
   "cell_type": "markdown",
   "metadata": {},
   "source": [
    "Aşağıda verimizi çizgizel grafik gösterimini görüyoruz. "
   ]
  },
  {
   "cell_type": "code",
   "execution_count": null,
   "metadata": {},
   "outputs": [],
   "source": [
    "plot(data[,2],type=\"l\")"
   ]
  },
  {
   "cell_type": "markdown",
   "metadata": {},
   "source": [
    "Veriyi sezonsal veriden ayırmak için R paketinin decompose fonksiyonunu kullanıyoruz. Decompose fonksiyonu ile veri sezonsal etkiden ve trend etkisinden arınmaktadır.Veri aylık olduğundan dolayı sıklığı 12 olarak alıyoruz. \n",
    "\n",
    "\n",
    "Ek olarak verinin ayrışma yönteminin, toplamsal ya da çarpımsal olduğunu anlamak için  type= c(\"additive\") ve type= c(\"multiplicative\") fonksiyonu kullanıyoruz.\n",
    "\n",
    "Dönemsel mevsimselliği incelemek için ise R 'ın figure fonksiyonu kullanılmaktadır."
   ]
  },
  {
   "cell_type": "markdown",
   "metadata": {},
   "source": [
    "Aşağıda zaman serisi (ts) verimize toplamsal ayrıştırma tipine decompose fonsiyonu uyguluyoruz. Böylelikle verimizdeki sezonsal ve trendsel etkiden çıkartmış oluyoruz. Plot fonksiyonu ile yaptığımız modeli grafiksel olarak gösteriyoruz. Figure fonksiyonu ile de zaman seriminizn 12 aylık sezonsal etkisini gösteriyoruz."
   ]
  },
  {
   "cell_type": "code",
   "execution_count": null,
   "metadata": {},
   "outputs": [],
   "source": [
    "additive_model<-decompose(ts(data[,2],start = c(1994, 1), end = c(2018, 3), freq=12),type= c(\"additive\"))\n",
    "additive_model\n",
    "plot(additive_model)\n",
    "additive_model$figure\n",
    "plot(additive_model$figure,type=\"b\")\n"
   ]
  },
  {
   "cell_type": "markdown",
   "metadata": {},
   "source": [
    "Toplamsal ayrışma modelini incelediğimizde trend bileşeninin 1994 yıllarında düşük seviyelerde olduğunu görüyoruz.Ancak 2000 yılından itibaren trend değerleri artmıştır. Trendsel etkiyi incelediğimizde 2003-2008 arası trend bileşeninin değerleri en yüksel noktalara ulaşmıştır.2013'ten itibaren ise trendsel etki giderek azaldığını görüyoruz. Sezonsal etkiyi incelersek veri bütün yıllarda aynı sezonsal değerleri aldığını görüyoruz.\n",
    "\n",
    "\n",
    "Figure fonksiyonu ile gelen mevsimsellik etki inclendiğinde veri şubat ayında en düşük seviyede, haziran ayında ise en yüksek mevsimsellikten etkilendiğini görebiliyoruz."
   ]
  },
  {
   "cell_type": "markdown",
   "metadata": {},
   "source": [
    "Aşağıda zaman serisi (ts) verimize çarpımsal ayrıştırma tipine decompose fonsiyonu uyguluyoruz. Böylelikle verimizdeki sezonsal ve trendsel etkiden çıkartmış oluyoruz. Plot fonksiyonu ile yaptığımız modeli grafiksel olarak gösteriyoruz. Figure fonksiyonu ile de zaman seriminizn 12 aylık sezonsal etkisini gösteriyoruz."
   ]
  },
  {
   "cell_type": "code",
   "execution_count": null,
   "metadata": {},
   "outputs": [],
   "source": [
    "multiplicative_model<-decompose(ts(data[,2], freq=12), type= c(\"multiplicative\"))\n",
    "multiplicative_model$figure\n",
    "plot(multiplicative_model$figure, type=\"b\")\n",
    "plot(multiplicative_model)\n"
   ]
  },
  {
   "cell_type": "markdown",
   "metadata": {},
   "source": [
    "Çarpımsal ayrışma modelini incelediğimizde trend bileşeninin 1994 yıllarında düşük seviyelerde olduğunu görüyoruz.Ancak 2000 yılından itibaren trend değerleri artmıştır. Trendsel etkiyi incelediğimizde 2003-2008 arası trend bileşeninin değerleri en yüksel noktalara ulaşmıştır.2013'ten itibaren ise trendsel etki giderek azaldığını görüyoruz. Sezonsal etkiyi incelersek veri bütün yıllarda aynı sezonsal değerleri aldığını görüyoruz. Random değerlerinin sürekli değişiklik gösterdiğini görüyoruz.\n",
    "\n",
    "Figure fonksiyonu ile gelen mevsimsellik etki inclendiğinde veri şubat ayında en düşük seviyede, haziran ayında ise en yüksek mevsimsellikten etkilendiğini görebiliyoruz."
   ]
  },
  {
   "cell_type": "markdown",
   "metadata": {},
   "source": [
    "Toplumsal ve çarpımsal ayrışma modellerindeen büyük farklılık random değerlerinde gözlenmektedir. Toplamsal modelde random değerler -2 ile 4 arasında seyrederken , çarpımsal modelde ise 0.8 ile 1.4 arasında seyretmektedir."
   ]
  },
  {
   "cell_type": "markdown",
   "metadata": {},
   "source": [
    "Toplamsal ve çarpımsal ayrışma model incelendiğinde büyük bir farklılık görünmediğinden bu aşamada karar verilememektedir. Bu yüzden ilerleyen aşamalarda veriye arima modeli uygulayacağız. \n",
    "\n",
    "Summary fonksiyonu ile verinin özetini göstermiş olunur."
   ]
  },
  {
   "cell_type": "markdown",
   "metadata": {},
   "source": [
    "Aşağıda asıl verimize, toplamsal ayrıştırma sezonsal ve trendsel etkiden ayrılmış verimize, çarpımsal ayrıştırma ile sezonsal ve trendsel etkiden ayrılmış verimizin özetlerini görüyoruz."
   ]
  },
  {
   "cell_type": "code",
   "execution_count": null,
   "metadata": {},
   "outputs": [],
   "source": [
    "summary(data[,2])\n",
    "summary(na.omit(additive_model$random))\n",
    "summary(na.omit(multiplicative_model$random))"
   ]
  },
  {
   "cell_type": "markdown",
   "metadata": {},
   "source": [
    "Verinin normalliğini kontrol etmek için shapiro.test fonksiyonu kullanılmaktadır.P değeri testen ne kadar emin olduğunu göstermektedir.P değerinde güven aralığını genelde %95 olarak alınır, yani p değeri 0.05'tan küçük ise yaptığımız testen emin olabiliriz. W değeri 1 değerine ne kadar yakınsa veri normalliğe o derece yakındır. "
   ]
  },
  {
   "cell_type": "markdown",
   "metadata": {},
   "source": [
    "Shapiro testini toplumsal ve çarpımsal ayrışma modeline uygulanır."
   ]
  },
  {
   "cell_type": "code",
   "execution_count": null,
   "metadata": {
    "scrolled": true
   },
   "outputs": [],
   "source": [
    "shapiro.test(na.omit(additive_model$random))\n",
    "shapiro.test(na.omit(multiplicative_model$random))"
   ]
  },
  {
   "cell_type": "markdown",
   "metadata": {},
   "source": [
    "Toplamsal ve çarpımsal ayrışma modeline uygulanan normallik testi incellendiğinde p değerlerinin oldukça küçük, neredeyse 0 yakın olduğunu görüyoruz. Yaptığımız iki testte de oldukça eminiz. W değeri incelendiğin de ise çarpımsal modelin 1 daha yakın olduğu görülmektedir. Verimiz normaldir, diyebiliriz.\n",
    "\n",
    "Zaman serisiyle bu serinin gecikmeli serileri arasındaki ilişkiyi göstermek için R'ın acf ve pacf fonksiyonunu toplamsal ve çarpımsal ayrışma modeline uygulanır.\n",
    "\n",
    "Otokorelasyon fonksiyonu ile durağanlıkta ölçülebilir.Eğer ACF(otokorelasyon fonksiyonu) çok yüksek bir değerden başlayıp çok yavaş küçülüyorsa, bu seri için durağan değildir diyebiliriz. "
   ]
  },
  {
   "cell_type": "code",
   "execution_count": null,
   "metadata": {},
   "outputs": [],
   "source": [
    "acf(na.omit(additive_model$random))\n",
    "acf(na.omit(multiplicative_model$random))"
   ]
  },
  {
   "cell_type": "markdown",
   "metadata": {},
   "source": [
    "Toplamsal ve çarpımsal ayrıştırma modelleri için acf değerlerini incelediğimizde iki durumunda durağan halde olduğunu söyleyebiliriz."
   ]
  },
  {
   "cell_type": "code",
   "execution_count": null,
   "metadata": {},
   "outputs": [],
   "source": [
    "pacf(na.omit(additive_model$random))\n",
    "pacf(na.omit(multiplicative_model$random))"
   ]
  },
  {
   "cell_type": "code",
   "execution_count": null,
   "metadata": {},
   "outputs": [],
   "source": [
    "hist(na.omit(multiplicative_model$random))"
   ]
  },
  {
   "cell_type": "markdown",
   "metadata": {},
   "source": [
    "Veride durağanlık durumunu belirlemek için sırasıyla ;Augmented Dickey-Fuller Test- Kwiatkowski-Phillips-Schmidt-Shin (KPSS) Test - Phillips–Perron Birim Kök Testi uygulanır."
   ]
  },
  {
   "cell_type": "markdown",
   "metadata": {},
   "source": [
    "##### Augmented Dickey Fuller Test\n",
    "İlk olarak Augmented Dickey Fuller testini verinin bileşenlerden ayrılmamış haline, toplamsal ve çarpımsal ayrışma modellerine sırasıyla uyguluyarak verinin durağanlığını kontrol ediyoruz. ADF testini R içinde bulunan adf.test fonksiyonu ile elde edebiliriz."
   ]
  },
  {
   "cell_type": "code",
   "execution_count": null,
   "metadata": {},
   "outputs": [],
   "source": [
    "adf.test(data[,2])\n",
    "adf.test(na.omit(additive_model$random))\n",
    "adf.test(na.omit(multiplicative_model$random))"
   ]
  },
  {
   "cell_type": "markdown",
   "metadata": {},
   "source": [
    "Yapılan ADF testteki sonuçlar:\n",
    "\n",
    "p değeri bileşenlerden ayrılmamış  veri için :0.4068\n",
    "\n",
    "p değeri additive modeli için :0.01\n",
    "\n",
    "p değeri multiplicative modeli için :0.01   çıkmıştır.\n",
    "\n",
    "Additive ve multiplicative modeline göre veri durağandır."
   ]
  },
  {
   "cell_type": "markdown",
   "metadata": {},
   "source": [
    "##### Kwiatkowski-Phillips-Schmidt-Shin (KPSS) Test\n",
    "İlk olarak  Kwiatkowski-Phillips-Schmidt-Shin (KPSS) Test testini verinin bileşenlerden ayrılmamış haline, toplamsal ve çarpımsal ayrışma modellerine sırasıyla uyguluyarak verinin durağanlığını kontrol ediyoruz. KPSS testini R içinde bulunan kpss.test fonksiyonu ile elde edebiliriz."
   ]
  },
  {
   "cell_type": "code",
   "execution_count": null,
   "metadata": {},
   "outputs": [],
   "source": [
    "kpss.test(data[,2], null=\"Trend\")\n",
    "kpss.test(na.omit(additive_model$random), null=\"Trend\")\n",
    "kpss.test(na.omit(multiplicative_model$random), null=\"Trend\")"
   ]
  },
  {
   "cell_type": "markdown",
   "metadata": {},
   "source": [
    "Yapılan KPSS testteki sonuçlar:\n",
    "\n",
    "p değeri mevsimsellikten arındırılmamış veri için :0.01 \n",
    "\n",
    "p değeri additive modeli için :0.1\n",
    "\n",
    "p değeri multiplicative modeli için :0.1   çıkmıştır.\n",
    "\n",
    "Additive ve multiplicative modeline göre veri durağandır."
   ]
  },
  {
   "cell_type": "markdown",
   "metadata": {},
   "source": [
    "##### Phillips–Perron Birim Kök Testi\n",
    "Phillips–Perron Birim Kök Testi testini verinin bileşenlerden ayrılmamış haline, toplamsal ve çarpımsal ayrışma modellerine sırasıyla uyguluyarak verinin durağanlığını kontrol ediyoruz. Phillips–Perron Birim Kök testini R içinde bulunan pp.test fonksiyonu ile elde edebiliriz."
   ]
  },
  {
   "cell_type": "code",
   "execution_count": null,
   "metadata": {},
   "outputs": [],
   "source": [
    "pp.test(data[,2])\n",
    "pp.test(na.omit(additive_model$random))\n",
    "pp.test(na.omit(multiplicative_model$random))"
   ]
  },
  {
   "cell_type": "markdown",
   "metadata": {},
   "source": [
    "Yapılan Phillips-Person testteki sonuçlar:\n",
    "\n",
    "p değeri mevsimsellikten arındırılmamış veri için :0.3885 \n",
    "\n",
    "p değeri additive modeli için :0.01\n",
    "\n",
    "p değeri multiplicative modeli için :0.01   çıkmıştır. \n",
    "\n",
    "Additive ve multiplicative modeline göre veri durağandır."
   ]
  },
  {
   "cell_type": "markdown",
   "metadata": {},
   "source": [
    "##### Arima"
   ]
  },
  {
   "cell_type": "markdown",
   "metadata": {},
   "source": [
    "R'da olan auto.arima fonksiyonu ile verinin kalan sezonsal, trend ve diğer etkenleri kontrol eder ve onlardan arındırır. \n",
    "Veriye auto.arima uygulandığında AIC , BIC ve AICc değerlerinin en düşük olanı analiz  için daha kabul edilebilir bir değer almaktadır. ARIMA için p,d,q fonksiyonları ile verinin karmaşıklığı fark edilir ve en sade , en kolay model seçilir."
   ]
  },
  {
   "cell_type": "code",
   "execution_count": null,
   "metadata": {},
   "outputs": [],
   "source": [
    "auto.arima(ts(data[,2]))\n",
    "auto.arima(ts(na.omit(additive_model$random)))\n",
    "auto.arima(ts(na.omit(multiplicative_model$random)))"
   ]
  },
  {
   "cell_type": "markdown",
   "metadata": {},
   "source": [
    "Verinin hiçbir bileşenden ayrılmadığı durumda auto.arima uygulandığında p =2 , d= 1 ve q=3 çıkmaktadır. d=1 olması verinin \n",
    "durağan olmadığını gösterir. \n",
    "\n",
    "Verinin toplamsal ayrışma modeline auto.arima uygulandığında p= 5 , d=0 ve q=1 çıkmaktadır. d=0 veri durağandır.\n",
    "\n",
    "Verilerde çarpımsal modele auto.arima uygulandığında p= 1 , d=0 ve q=1 çıkmaktadır. d=0 veri durağandır.\n",
    "\n",
    "Hangi ayrışma modelini seçmemiz gerektiğine karar vermek için ilk olarak p,d,q değerlerini karşılaştırmak gerekmektedir. Verinin durağan modeli seçilmesi gerektiğinden hiçbir bileşenden ayrılmadığı model elenir. Toplamsal ve çarpımsal  model karşılaştırıldığında çarpımsal modelin daha basit olduğu görülür. İkinci olarak ( Seçtiğimiz modelin doğruluğundan emin olmak için ) auto.arima nın bize vermiş olduğu AIC,AICc ve BIC değerlerinin en küçük olanı seçilmesi gerekmektedir. Ayrışma modelleri için incelendiğinde çarpımsal modelin daha uygun olduğu görülmektedir. \n",
    ".\n",
    "Formülü : \n",
    "\n",
    " $$ \\hat Y_{d_t} =0.5006 Y_{t-1}  E$$\n",
    " \n",
    " d=0 olduğunda orijinal seri zaten durağandır ve farkının alınmasına da gerek yoktur."
   ]
  },
  {
   "cell_type": "markdown",
   "metadata": {},
   "source": [
    "Veride sezonsal etkinin olup olmadığını kontrol etmek için veriden hiçbir bileşenin çıkarılmadığı haline auto.arima uygulanır.Bunun için arimanın argümanlarından sseasonal.test'ten yararlanılır."
   ]
  },
  {
   "cell_type": "code",
   "execution_count": null,
   "metadata": {},
   "outputs": [],
   "source": [
    "auto.arima(ts(data[,2]))\n",
    "auto.arima(ts(data[,2]) ,seasonal.test = c(\"ocsb\", \"ch\"))"
   ]
  },
  {
   "cell_type": "markdown",
   "metadata": {},
   "source": [
    "Herhangi bir işlem yapılmayan veriye auto.arima ile sezonsal test uygulandığında ARIMA modelinde; p,d,q değerlerinde ve\n",
    "AIC , AICc ,BIC değerlerinde herhangi bir farklılık görünmemektedir. Bir farklı ifade ile veride sezonsal etki bulunmamaktadır."
   ]
  },
  {
   "cell_type": "raw",
   "metadata": {},
   "source": [
    "Normallik testini seçtiğimiz çarpımsal modele tekrar uygulanır."
   ]
  },
  {
   "cell_type": "code",
   "execution_count": null,
   "metadata": {
    "scrolled": true
   },
   "outputs": [],
   "source": [
    "white_noise<-arima(ts(na.omit(multiplicative_model$random)), order=c(1,0,1))\n",
    "shapiro.test(white_noise$residuals)\n"
   ]
  },
  {
   "cell_type": "markdown",
   "metadata": {},
   "source": [
    "Normallik testine göre p değeri oldukça düşük ve w değeri yüksektir. Artık verinin beyaz gürültü olduğunu ve veride herhangi bir \n",
    "bileşen kalmadığını söylenebilir."
   ]
  },
  {
   "cell_type": "markdown",
   "metadata": {},
   "source": [
    "### Zaman Serilerinin Trendden Arındırılması (de-trend)\n",
    "Lineer trend barındıran zaman serilerini trendden arındırmak için genellikle doğrusal regresyonu kullanılmaktadır.Zaman serisine doğrusal regresyon uygulanırsa, trend etkisi içinde olmayan zaman serisi elde edilir.\n",
    "\n",
    "Doğrusal regresyon dışında da  farklı yöntemler kullanılarak zaman serisi verilerini trendlerden arındırılabilmektedir.Örneğin; AR(1), fourier ve wavelet dönüşümleri, kalman filtreleri gibi yöntemler kullanılabilir, ya da forecast kütüphanesi içerisindeki seasonaldummy ve fourier fonksiyonları kullanılarak de-trend yapılabilir.\n",
    "\n",
    "Model sonucu kalıntılar de-trend edilmiş zaman serisidir."
   ]
  },
  {
   "cell_type": "markdown",
   "metadata": {},
   "source": [
    "Doğrusal regresyon analizini gerçekleştiren lm() fonksiyonu ilk olarak bağımlı değişkeni, ardından bağımsız değişkenleri parametre olarak almaktadır. Bağımlı değişkenden sonra tilda (~) işareti, birden fazla bağımsız değişkenimiz varsa değişkenlerin arasına artı (+) işareti konulması unutulmamalıdır. "
   ]
  },
  {
   "cell_type": "markdown",
   "metadata": {},
   "source": [
    "Verimizi trendsel etkiden arındırmak için hem doğrusal regresyon yöntemini hem de 1. derece otoregresif süreç yöntemi uygulanır.\n",
    "\n",
    "Trendsel etkiden arındırıldıktan sonra normallik testi uygulanarak yaptığımız modelin doğruluğundan ve normal olup olmadığına karar verebiliriz."
   ]
  },
  {
   "cell_type": "code",
   "execution_count": null,
   "metadata": {
    "collapsed": true
   },
   "outputs": [],
   "source": [
    "trModel <- lm(data[,2]~ c(1:length(data[,2])))\n",
    "trResid <- resid(trModel)\n",
    "\n",
    "trModel_AR1 <- arima(x=data[,2], order=c(1,0,0))\n",
    "trResid_AR1 <- resid(trModel_AR1)"
   ]
  },
  {
   "cell_type": "code",
   "execution_count": null,
   "metadata": {},
   "outputs": [],
   "source": [
    "par(mfrow=c(1,2))\n",
    "plot(trResid, type=\"l\", col=\"blue\", main=\"de-trended (regresyon)\")\n",
    "plot(trResid_AR1,  type=\"l\", col=\"red\", main=\"de-trended (ar(1))\")\n",
    "shapiro.test(trResid)\n",
    "shapiro.test(trResid_AR1)"
   ]
  },
  {
   "cell_type": "markdown",
   "metadata": {},
   "source": [
    "Doğrusal regresyon ve otoregresif süreç karşılaştırıldığında otoregresif sürecin daha tutarlı olduğu , doğrusal regresyonun ise sürekli inişli ve çıkışlı bir durumda olduğu gözlenmektedir. \n",
    "\n",
    "Normallik testleri açısından karşılaştırırsak iki sonuçta da p değerinin güven aralığını sağladığı yani p <0.05 olduğunu ve w değerinin 1 yakın olduğunu görmekteyiz. İki trendsel etkiden arındırılmış veri için normal denilebilir."
   ]
  },
  {
   "cell_type": "markdown",
   "metadata": {},
   "source": [
    "### Zaman Serilerinin Mevsimsellikten Arındırılması (de-seasonalize)\n",
    "Zaman serisinin mevsimsellik deseni hakkında fikir verir ve mevsimsel etkiler olmadan verilerin modellenmesine yardımcı olur. Zaman serisini mevsimsellikten arındırmak için aşağıdaki iki adım kullanılabilir.\n",
    "1. Adım: stl() fonksiyonu ile zaman serisi ayrılır.\n",
    "2. Adım: forecast kütüphanesi içerisindeki seasadj() fonksiyonu kullanılır."
   ]
  },
  {
   "cell_type": "code",
   "execution_count": null,
   "metadata": {},
   "outputs": [],
   "source": [
    "datastl<- stl(ts(data[,2], freq=12), s.window=\"periodic\")\n",
    "head(datastl)\n",
    "plot(datastl)"
   ]
  },
  {
   "cell_type": "code",
   "execution_count": null,
   "metadata": {
    "collapsed": true
   },
   "outputs": [],
   "source": [
    "ts_sa <- seasadj(datastl)"
   ]
  },
  {
   "cell_type": "code",
   "execution_count": null,
   "metadata": {
    "scrolled": true
   },
   "outputs": [],
   "source": [
    "par(mfrow=c(3,2))\n",
    "plot(data[,2], type=\"l\", main=\"Real\")  \n",
    "plot(ts_sa, type=\"l\", main=\"Seasonal Adjusted\")"
   ]
  },
  {
   "cell_type": "markdown",
   "metadata": {},
   "source": [
    "Normallik testini ölçmek için sezonsal etkisi çıkarılmış veriye shapiro.test uygulanır."
   ]
  },
  {
   "cell_type": "code",
   "execution_count": null,
   "metadata": {
    "scrolled": true
   },
   "outputs": [],
   "source": [
    "shapiro.test(ts_sa)"
   ]
  },
  {
   "cell_type": "markdown",
   "metadata": {},
   "source": [
    "Durağanlık testine göre p<0.05 ve w  değeri 1'e yakındı.Bu durum için yapılan sezonsal testin sonucunda doğruluktan eminiz diyebiliriz."
   ]
  },
  {
   "cell_type": "code",
   "execution_count": null,
   "metadata": {
    "scrolled": true
   },
   "outputs": [],
   "source": [
    "acf(ts_sa)"
   ]
  },
  {
   "cell_type": "markdown",
   "metadata": {},
   "source": [
    "Otokorelasyon katsayısı incelendiğinde verinin yavaş yavaş azaldığı gözlenmektedir. Bu durumda ts_sa mevsimsel etkiden arındırılmış zaman serimizin durağan olmadığını göstermektedir. "
   ]
  },
  {
   "cell_type": "code",
   "execution_count": null,
   "metadata": {},
   "outputs": [],
   "source": [
    "pacf(ts_sa)"
   ]
  },
  {
   "cell_type": "markdown",
   "metadata": {},
   "source": [
    "Sezonsal etkiden arındırılan verinin (ts_sa) , hala sezonsal etki içerip içermediğini anlamak (mevsimsellik farkını bulmak) \n",
    "için nsdiffs fonksiyonu uygulanır.\n"
   ]
  },
  {
   "cell_type": "code",
   "execution_count": null,
   "metadata": {
    "scrolled": true
   },
   "outputs": [],
   "source": [
    "nsdiffs(ts_sa)\n"
   ]
  },
  {
   "cell_type": "markdown",
   "metadata": {},
   "source": [
    "Mevsimsellik farkı sıfırdır. Mevsimsel etki yoktur."
   ]
  },
  {
   "cell_type": "markdown",
   "metadata": {},
   "source": [
    "#### 1. Kısım  Zaman Serisi Analizi Özet\n",
    "\n",
    "Verinin Adı:   Natural Gas Futures Contract 3 \n",
    "\n",
    "Verinin Alındığı Yer: Quandl\n",
    "\n",
    "Verinin Sıklığı: Aylık\n",
    "\n",
    "Verinin Zaman Aralığı: 31.01.1994- 31.03.2018\n",
    "\n",
    "Veride iki sütun bulunmaktadır. Sütunlardan birisi zaman, diğeri ise kullanılan değerdir. Amaç zaman serisindeki gözlenen değerlerinin trend, mevsimsel, çevresel ve rastgele etkenlerden ayırmak ve doğru modeli seçmektir.\n",
    "Bu doğrultuda üç  yöntem kullandık.\n",
    "\n",
    "1. Yöntem : R'da bulunan decompose fonksiyonu ile seriyi mevsimsel ve trendsel etkenlerden ayırmaktır.\n",
    "Decompose fonksiyonunu zaman serilerin hep toplamına hem de çarpımına ayrı ayrı uyguladık. Daha net sonuç veren veri seçilir.Toplamsal ayrışma modelini incelediğimizde veride trensel etkinin sürekli değiştiğini ve mevsimsel etkinin aynı olduğunu görüyoruz. Çarpımsal model de aynı sonuca varıyoruz. İki ayrıştırma modeli arasındaki fark random bileşende ortaya çıkmaktadır.Ancak kullanılan veride toplanan ve çarpılan veride net bir karar veremiyoruz. Verimizin zaman bileşenlerinden ayırldıktan sonraki normallik durumunu kontrol etmek için veriye normallik testi(shapiro.test )uyguladık, iki modelin de p değerleri güven aralığında ($p<0.05$ ) çıktı. Sonuç olarak iki model içinde verimizin bileşenlerden ayrılmış haline normal diyebiliriz. Zaman bileşenlerinden ayrılmış olan verimizin durağanlığını kontrol etmek için adf,kpss ve pp testlerini uyguladık. Üç testin sonucu da verimizin toplamsal ve çarpımsal model için durağan olduğunu gösterdi.  Sonraki aşamalarda decompose fonksiyonu ile veremediğimiz hangi modelin uygun olduğu kararını  anlamak için arima testini uyguladık. Arima ile gelen p,q,d değerlerinden en basit olanını ve AIC, AICc ve BIC değerlerinden en düşük olanını yani çarpımsal modelin daha uygun olduğuna karar verdik. Ek olarak herhangi bir bileşenden ayrılmamış veriye arima ile sezonsal etkinin olup olmadığını ölçtük. Sonucunda ise herhangi bir farklılık olmadığını yani verimizde sezonsal bir etkinin olmadığını söyleyebiliriz. Decompose ve sonrasında uygulanan auto.arima ile kalan verimize normallik testini tekrar uygularsak güven aralığını sağladığını ($ p=0.0002966 <0.05 $) ve w= 0.97827 yani 1 oldukça yakın olduğunu görüyoruz. Bu da verimizin normal olduğunu söyler. Ek olarak artık verimize beyaz gürültü verisi diyebiliriz.\n",
    "\n",
    "2. Yöntem : Zaman serisini trend bileşenlerinden ayırmak için doğrısal regresyon ve AR(1) modelini kullandık.\n",
    "Verilerin trendsel etkisinden ayrıldığı durumda normallik değerlerini ölçmek için her iki (Doğrusal regresyon,AR(1)) süreç için güven aralığını ( $p=2.2e-16 <0.05 $ ve w=0.83..) sağladığını gördük.\n",
    "\n",
    "3. Yöntem :Zaman serisini mevsimsel bileşenlerinden ayırmak için R'da bulunan stl fonksiyonunu kullandık.\n",
    "Verilerin mevsimsel etkisinden ayrıldığı durumda normallik değerlerini ölçmek için normallik (shapiro.test) testini uyguladık. Güven aralığını ( $p=2.098e-15 <0.05 $ ve w=0.86274) sağladığını gördük.Ancak mevsimsellik etkisinden arındırılmış veri için acf  testi uygulandığında verinin yavaş yavaş azaldığı gözlenmektedir. Bu durum için verinin normal olmadığı söylenmektedir.\n",
    "\n",
    "Ek olarak uyguladığımız nsdiffs fonksiyonu ile birlikte verinin mevsimsel etki içerip içermediğine, ya da kalıp kalmadığına karar verilmektedir. Fonksiyonu uyguladığımızda görülüyor ki veri mevsimsel bileşen içermemektedir.\n",
    "\n",
    "Yukarıdaki üç yöntemi karşılatırdığımızda (normalliklerini) kullanmamız gereken modelin çarpımsal ve kullanmamız gereken yöntemin sırasıyla decompose ve arima olmasına karar verdik.\n",
    "\n"
   ]
  },
  {
   "cell_type": "markdown",
   "metadata": {},
   "source": [
    "### FORECAST"
   ]
  },
  {
   "cell_type": "code",
   "execution_count": null,
   "metadata": {
    "collapsed": true
   },
   "outputs": [],
   "source": [
    "require(forecast)"
   ]
  },
  {
   "cell_type": "markdown",
   "metadata": {},
   "source": [
    "#### Üssel Düzgünleştirme -Exponential Smooting\n",
    "Verideki son değişim ve sıçramaları incelenerek tahminlerin ya da öngörülerin devamlı olarak güncelleştirildiği bir yöntemdir. Deterministik ve stokastik trende sahip olan tüm serilere uygulanabilmektedir. \n",
    "Üstel düzleştirme yönteminde gelecek dönemin (T+1 döneminin) tahminin hesabında son döneme ait tahmin ile bu tahminden elde edilen hatanın bir kısmı kullanılmaktadır.\n",
    "$$ Y_{t+1}= Y_{t}+ a(e_{t}) $$\n",
    "ile ifade edilir.\n",
    "\n",
    "$$ S_{t}= S_{t-1}+ a(Y_{t}-S_{t-1} ) $$ \n",
    "$S_{t}$: Bir sonraki (gelecek) dönemin, yani (T+1)’inci dönemin tahmini\n",
    "\n",
    "$S_{t-1}$: Son döneme ait tahmin ( bu tahmin (T-1)’inci dönemde yapılır.\n",
    "\n",
    "$Y_{t}$: Son döneme  ait gerçek değer\n",
    "\n",
    "a: Düzleştirme katsayısı yada ağırlık $ 0<a<1$\n",
    "\n",
    "$ Y_{t}-S_{t-1} $: Son döneme ait tahmin hatası\n",
    "\n",
    "$$ Y_{t+1}= S_{t}= a(Y_{t+1})+ (1-a)S_{t-1}$$\n",
    "\n",
    "Gelecek dönemin tahmini=ağırlık.(son dönemin gözlem değeri)+(1-ağırlık).(son döneme ait tahmin)\n",
    "Genel terimini yazmak istenirse:     \n",
    "$$ \\hat Y_{t+1} = S_{t} = a \\sum_{i=1}^t (1-a)^i \\cdot Y_{t-i}  $$       \n",
    "\n",
    "Üssel düzgünleştirme yöntemi uyguladığımızda trend ve mevsimsel bileşenler için toplamda 15 metot vardır.\n",
    "- Trendesel Bileşen :  N(None) - A(Additive)- $ A_{d} $ (Additive Damped) - M(Multiplicative) - $ M_{d} $ (Multiplicative Damped) \n",
    "- Sezonsal Bileşen:  N(None) - A(Additive)-  M(Multiplicative) \n",
    "\n",
    "ETS ile gelen metodta Ets(error, trend , seasonal ) sonuçları elde edilir.Örnek olarak birkaç model incelenirse:\n",
    "\n",
    "ETS(A,A,A) : Holt-Winters’ metodunun toplamsal ayrışması ve toplamsal ayrışmadaki hatalar yöntemi\n",
    "\n",
    "ETS(M,A,M) : Holt-Winters’ metodunun çarpımsal ayrışması ve çarpımsal ayrışmadaki hatalar yöntemi\n",
    "\n",
    "ETS(A,$ A_{d} $, N) : Toplamsal hata ve sönümlü trendsel etki içerip , sezonsal etki içermeyen yöntem\n",
    "\n",
    "Üssel düzgünleştirme de 2 farklı yöntem vardır. Bu iki yöntem için de R da bulunan fonksiyonlar kullanılır.\n",
    "- ets() fonksiyonu\n",
    "- HoltWinters() fonkisyonu"
   ]
  },
  {
   "cell_type": "markdown",
   "metadata": {},
   "source": [
    "İlk olarak verimizin zaman serisi olduğunu gösteriyoruz. Zaman serisi sıklığını aylık olarak tanımlıyoruz.\n",
    "Zaman aralığımızı 01.1994 - 12.2017 kadar olan süreyi alıyoruz.\n",
    "01.2018-03.2018 süresini de test verisi olarak alıyoruz."
   ]
  },
  {
   "cell_type": "code",
   "execution_count": null,
   "metadata": {},
   "outputs": [],
   "source": [
    "time_series <-ts(data[,2], start=c(1994, 1), end=c(2017, 12), freq=12)\n",
    "time_series\n",
    "plot(time_series)"
   ]
  },
  {
   "cell_type": "markdown",
   "metadata": {},
   "source": [
    "Aşağıda üssel düzgünleştirme yönteminin ets() fonksiyonu kullanılmış halini uygulayacağız.\n",
    "Öngörü doğruluğunu hesaplamak için R'ın accuracy fonksiyonunu kullanılır. Accuracy fonksiyonu ile gelen verilerde:\n",
    "\n",
    "ME:Ortalama Hata\n",
    "$$  ME = 1/n \\sum_{t=1}^n e_{t}  $$    \n",
    "Bu sonucun dezavantajı,Pozitif ve negatif hata değerlerinin birbirini iptal edebileceğidir, bu yüzden bu ölçü genel uyumun çok iyi bir göstergesi değildir.\n",
    "\n",
    "MAE : Ortalama Mutlak Hata\n",
    "$$  MAE = 1/n \\sum_{t=1}^n |e_{t}|  $$  \n",
    "Bu değer 0 ise, uyum (tahmin) mükemmeldir. Ortalama karesel hata değerine kıyasla, bu uyum ölçüsü aykırı değerleri \"vurgulamak\", yani benzersiz veya nadir büyük hata değerleri MAE'yi MSE değerinden daha az etkileyecektir.\n",
    "\n",
    "MSE: Ortalama Hata Kare\n",
    "$$  MSE = 1/n \\sum_{t=1}^n e_{t}^2  $$    \n",
    "MPE: Ortalama Yüzde Hata \n",
    "$$  MPE = 1/n \\sum_{t=1}^n PE_{t}  $$\n",
    "Bu değer PE değerlerinin ortalaması olarak hesaplanır.\n",
    "\n",
    "MAPE: Ortalama Mutlak Yüzde Hata \n",
    "$$  MAPE = 1/n \\sum_{t=1}^n |PE_{t}| $$\n",
    "\n",
    "$e_{t} $ : t dönemindeki hata\n",
    "\n",
    "$PE_{t} $ : t dönemindeki yüzde hata\n",
    "\n",
    "$PE_{t}= [(Y_{t}-F_{t})/Y_{t}]\\cdot 100$\n",
    "\n",
    "n: dönem sayısı"
   ]
  },
  {
   "cell_type": "markdown",
   "metadata": {},
   "source": [
    "Öngörü uygulandığında çıkan değerlerde 80 ve 95 güven aralığını belli etmektedir. Gri olan bölgeler öngörüden %95 emin olduğumuzu , mavi bölge ise öngörüden %80 emin olduğumuzu göstermektedir."
   ]
  },
  {
   "cell_type": "markdown",
   "metadata": {},
   "source": [
    "Öngörü modellerinden ilk olarak ets modelini deniyoruz. \n",
    "Test modülümüzü 2018.01 ve 2018.03 arasına uyguluyoruz."
   ]
  },
  {
   "cell_type": "code",
   "execution_count": null,
   "metadata": {},
   "outputs": [],
   "source": [
    "model11 <-ets(time_series)\n",
    "data_forecast_ets <- forecast(model11, h=3)\n",
    "accuracy(data_forecast_ets)\n",
    "plot(data_forecast_ets, ,xlim=c(2018.1,2018.3))\n",
    "data_forecast_ets "
   ]
  },
  {
   "cell_type": "markdown",
   "metadata": {
    "collapsed": true
   },
   "source": [
    "Verimize ets() fonksiyonu ile öngörü hesapladığımızda bize ETS(M,$A_{d} $,M) argümanlarını vermiştir. Bu da verimizide çarpımsal hatanın, sönümlü trendin ve çarpımsal mevsimsel etkinin sahip olduğunu gösteriyor.\n",
    "Çıkan sonuçları orjinal değerler ile karşılaştırıldığında :\n",
    "\n",
    "Orjinal değerler:        \n",
    "\n",
    "- 2018.03 2.784\n",
    "- 2018.02 2.695\n",
    "- 2018.01 2.800\n",
    "\n",
    "Öngörü hesabındaki güven aralığı %95 olan noktalardaki sonuçlar ise:\n",
    "\n",
    "- 2018.03 2.660738\n",
    "- 2018.02 2.514919\n",
    "- 2018.01 2.431952\n",
    "\n",
    "olarak hesaplanmıştır.\n",
    "İki değer arasındaki farklar incelenirse :\n",
    "- 2018.03 0.089\n",
    "- 2018.02 0.18001\n",
    "- 2018.01 o.368048\n",
    "\n",
    "olarak hesaplanmıştır.\n",
    "\n"
   ]
  },
  {
   "cell_type": "markdown",
   "metadata": {},
   "source": [
    "Düşük bir aplha  değeri, geçmiş ortalamaya daha fazla ağırlık verir ve rassal dalgalanmaların etkisini azaltır.\n",
    "Yüksek alpha  değeri ise talepteki değişikliklere daha fazla tepki verilmesini sağlar. \n"
   ]
  },
  {
   "cell_type": "code",
   "execution_count": null,
   "metadata": {},
   "outputs": [],
   "source": [
    "summary(data_forecast_ets)"
   ]
  },
  {
   "cell_type": "markdown",
   "metadata": {},
   "source": [
    "ETS(M,$ A_{D} $, M) için alpha değeri 0.988 çıkmıştır. Bu da talepteki değişikliklere daha fazla tepki vereceğini söylemektedir."
   ]
  },
  {
   "cell_type": "markdown",
   "metadata": {},
   "source": [
    "#### Basit Üssel Düzgünleştirme Yöntemi  (Durağan Seriler için):\n",
    "Bu yöntem trende ve mevsimsel dalgalanmaya sahip olmayan sadece bir ortalama düzey etrafında hareket eden serilerin analizinde uygulanmaktadır. Bu yöntemde serinin tahminin elde edilebilmesi için aşağıdaki formülden yararlanılmaktadır.  \n",
    "\n",
    "Düzleştirme katsayısı(aplha- a) tahmin hatasını en küçük yapan sabit bir değerdir.\n",
    "Düzleştirme katsayısı (alpha )1 değerine yakın ise son gözlemlerin değerleri doğrudan serinin tahminini etkiler ve bu durum tahmin serisinde aşırı sıçramalara neden olabilir.\n",
    "Düzleştirme katsayısının 0 değerine yakın olması durumunda orijinal serideki değişimler tahmin serisini pek etkileyemez. Tahmin serisindeki ilk verilerle son veriler arasında önemli bir fark olmaz. Bu iki durum da tahminlerin güvenilir olması bakımından istenilen bir özellik değildir. "
   ]
  },
  {
   "cell_type": "markdown",
   "metadata": {},
   "source": [
    "Aşağıda üssel düzgünleştirme yönteminin HoltWinters() fonksiyonu kullanılmış halini uygulayacağız.Bu model trend, sezonsal bileşenleri de içermemediği durumdur."
   ]
  },
  {
   "cell_type": "code",
   "execution_count": null,
   "metadata": {
    "scrolled": true
   },
   "outputs": [],
   "source": [
    "model12 <-HoltWinters(time_series, beta=FALSE, gamma=FALSE)\n",
    "model12\n",
    "data_forecast_simple <- forecast(model12, h=3)\n",
    "accuracy(data_forecast_simple)\n",
    "plot(data_forecast_simple, ,xlim=c(2018.1,2018.3))\n",
    "data_forecast_simple"
   ]
  },
  {
   "cell_type": "code",
   "execution_count": null,
   "metadata": {},
   "outputs": [],
   "source": [
    "summary(data_forecast_simple)"
   ]
  },
  {
   "cell_type": "markdown",
   "metadata": {},
   "source": [
    "Düzeleştirme katsayı değeri arttıkça daha büyük tahmin farklılıkları oluşmaktadır.\n",
    "Basit üssel düzleştirme yöntemi uyguladığımızda gelen  alpha değeri 0.9999435'dir. Bu sonuçta 1'e çok yakın ve değerin çok büyük olduğunu, bileşenlere yüksek tepki vereceğini gösterir. Hata oranı fazladır. O yüzden öngörü yaparken bu model seçilmemelidir.\n"
   ]
  },
  {
   "cell_type": "markdown",
   "metadata": {},
   "source": [
    "#### HOLT ÜSTEL DÜZLEŞTİRME YÖNTEMİ:  (Doğrusal Trendi Olan Seriler İçin) \n",
    "Trende sahip mevsimsel dalgalanması olmayan serilerin tahmin işleminde Holt üstel düzleştirme yöntemi kullanılmaktadır. "
   ]
  },
  {
   "cell_type": "code",
   "execution_count": null,
   "metadata": {},
   "outputs": [],
   "source": [
    "model13 <-HoltWinters(time_series, gamma=FALSE)\n",
    "model13\n",
    "data_forecast_holt <- forecast(model13, h=3)\n",
    "accuracy(data_forecast_holt)\n",
    "plot(data_forecast_holt, ,xlim=c(2018.1,2018.3))\n",
    "data_forecast_holt"
   ]
  },
  {
   "cell_type": "code",
   "execution_count": null,
   "metadata": {
    "scrolled": true
   },
   "outputs": [],
   "source": [
    "summary(data_forecast_holt)"
   ]
  },
  {
   "cell_type": "markdown",
   "metadata": {},
   "source": [
    "Düzeleştirme katsayı değeri arttıkça daha büyük tahmin farklılıkları oluşmaktadır.\n",
    "Basit üssel düzleştirme yöntemi uyguladığımızda gelen  alpha değeri 1'dir. Bu sonuçta değerin çok büyük olduğunu gösterir. Hata oranı fazladır. O yüzden öngörü yaparken bu model seçilmemelidir.\n"
   ]
  },
  {
   "cell_type": "markdown",
   "metadata": {},
   "source": [
    "#### Holt-Winters Yöntemi: (Doğrusal Trendi ve Mevsimlik Etkileri Olan Seriler İçin) \n",
    "Holt-Winters Yöntemi üç temel düzeltme esitligine sahiptir. Temel, trend ve mevsimsellik için olan bu üç düzeltme sabiti ile yapılan düzeltmeler, Holt’un\n",
    "Dogrusal Yöntemi’ne benzer olarak tek toplam esitlikte toplanarak mevsimsellik\n",
    "esitligi elde etmektedir. "
   ]
  },
  {
   "cell_type": "code",
   "execution_count": null,
   "metadata": {
    "scrolled": true
   },
   "outputs": [],
   "source": [
    "model14 <-HoltWinters(time_series)\n",
    "model14\n",
    "data_forecast_holtWinter <- forecast(model14, h=3)\n",
    "accuracy(data_forecast_holtWinter)\n",
    "plot(data_forecast_holtWinter, ,xlim=c(2018.1,2018.3))\n",
    "data_forecast_holtWinter"
   ]
  },
  {
   "cell_type": "markdown",
   "metadata": {},
   "source": [
    "Düzeleştirme katsayı değeri arttıkça daha büyük tahmin farklılıkları oluşmaktadır.\n",
    "Basit üssel düzleştirme yöntemi uyguladığımızda gelen  alpha değeri 1'dir. Bu sonuçta değerin çok büyük olduğunu gösterir. Hata oranı fazladır. O yüzden öngörü yaparken bu model seçilmemelidir.\n"
   ]
  },
  {
   "cell_type": "code",
   "execution_count": null,
   "metadata": {},
   "outputs": [],
   "source": [
    "summary(data_forecast_holtWinter)"
   ]
  },
  {
   "cell_type": "markdown",
   "metadata": {},
   "source": [
    "#### Arima Modeli \n",
    "\n",
    "Zaman serilerinde öngörü analizi yapmanın bir diğer yolu da arima modeli uygulamaktır."
   ]
  },
  {
   "cell_type": "code",
   "execution_count": null,
   "metadata": {
    "collapsed": true
   },
   "outputs": [],
   "source": [
    "time_series2<-ts(data[,2], start=c(1994, 1), end=c(2017, 12), freq=12)"
   ]
  },
  {
   "cell_type": "code",
   "execution_count": null,
   "metadata": {
    "scrolled": true
   },
   "outputs": [],
   "source": [
    "model21 <- arima(time_series2, order=c(1,0,1))\n",
    "model21\n",
    "data_forecast_arima <- forecast(model21, h=3)\n",
    "accuracy(data_forecast_arima)\n",
    "plot(data_forecast_arima, ,xlim=c(2018.1,2018.3))\n",
    "data_forecast_arima"
   ]
  },
  {
   "cell_type": "code",
   "execution_count": null,
   "metadata": {},
   "outputs": [],
   "source": [
    "summary(data_forecast_arima)"
   ]
  },
  {
   "cell_type": "markdown",
   "metadata": {},
   "source": [
    "Aşağıda genel olarak bütün doğrulukları göstereceğiz.Hatırlamak için \n",
    "\n",
    "ME:Ortalama Hata  \n",
    "\n",
    "MAE : Ortalama Mutlak Hata  \n",
    "\n",
    "MSE: Ortalama Hata Kare \n",
    "\n",
    "MPE: Ortalama Yüzde Hata \n",
    "\n",
    "MAPE: Ortalama Mutlak Yüzde Hata\n"
   ]
  },
  {
   "cell_type": "code",
   "execution_count": null,
   "metadata": {},
   "outputs": [],
   "source": [
    "accuracy(data_forecast_ets)\n",
    "accuracy(data_forecast_simple)\n",
    "accuracy(data_forecast_holt)\n",
    "accuracy(data_forecast_holtWinter)\n",
    "accuracy(data_forecast_arima)"
   ]
  },
  {
   "cell_type": "markdown",
   "metadata": {},
   "source": [
    "Yapılan 5 farklı öngörü modelinin hata değerlerini karşılaştırmak için literatürde en çok kullanılan ve tercih edilen  Ortalama Mutlak Hata (MAE) değerini kullanılırız. Bu karşılaştırmaya göre ets() yöntemi en uygun yöntemdir.\n",
    "\n",
    "Not: Hatırlayacak olursak alpha değerleri ets() modülünde diğer modüllere göre daha düşüktür. Yani,ets() modülünde  koşullara verdiği tepki, diğer modellerde verdiği tepkiden daha az, daha tutarlıdır."
   ]
  },
  {
   "cell_type": "markdown",
   "metadata": {},
   "source": [
    "#### 1. Kısım: Zaman Serilerinde Öngörü Özet \n",
    "\n",
    "Verimizde öngörü yapabilmek için tahminleme verisi ve test verisi olmak üzere iki veri seti oluşturduk.Tahminleme verisini Ocak 1994 ile Aralık 2017 arasını , test verisi için son üç ayı yani Ocak 2018  ile Mart 2018 arasında aldık. Sırasıyla ets ,holtwinters ve arima modellerini uyguladık. Hata terimleri ve alpha değerleri incelendiğinde ets() modelinin öngörü için daha uygun olduğuna karar verdik."
   ]
  },
  {
   "cell_type": "markdown",
   "metadata": {},
   "source": [
    "İlk verimiz ile ilgili analiz ve öngörü hesaplamalarını yapmış olduk. Şimdi ikinci verimiz olan petrol verilerini inceleyeceğiz."
   ]
  },
  {
   "cell_type": "markdown",
   "metadata": {},
   "source": [
    "### 2. Kısım \n",
    "\n",
    "Verinin Yayıncısı: U.S. Energy Information Administration Data\n",
    "\n",
    "ABD ulusal ve devlet verilerinin;elektrik, kömür, doğal gaz ve petrol gibi tüm ana enerji ürünleri üzerindeki üretim, tüketim ve diğer göstergelere ilişkisini göstermektedir.\n",
    "\n",
    "Verinin Adı:   Florida Field Production of Crude Oil\n",
    "\n",
    "Florida'nın ham petrol üretiminin göstergelere ilişkisini göstermektedir.Veri zaman serisi olarak ilerlemektedir.\n",
    "\n",
    "Verinin Sıklığı: Aylık\n",
    "\n",
    "Verinin Zaman Aralığı: 31.01.1981- 28.02.2018\n",
    "\n",
    "Verinin Alındığı Yer: Quandl\n",
    "\n",
    "Quandl yatırım profesyonellerine hizmet veren finansal, ekonomik ve alternatif veriler için bir platformdur.Verileri 500'den fazla yayıncıdan sağlar. Quandl’ın verilerine bir API aracılığıyla erişilebilir. Bir çok programlama dili için API erişimi (R, Python, Matlab, Maple ve Stata) vardır. \n",
    "\n",
    "Excel eklentisi, stok fiyat bilgisi dahil olmak üzere verilere erişim sağlar.\n"
   ]
  },
  {
   "cell_type": "code",
   "execution_count": null,
   "metadata": {
    "collapsed": true
   },
   "outputs": [],
   "source": [
    "data2<-Quandl(\"EIA/PET_MCRFPFL1_M\", api_key=\"BtbwkANCR4aHKBscujRb\", collapse=\"monthly\")"
   ]
  },
  {
   "cell_type": "markdown",
   "metadata": {},
   "source": [
    "Veriyi quandl veri sitesinden alıyoruz. Veri iki sütundan oluşmaktadır. İlk sütun tarih ikinci sütun ise üretim miktarıdır."
   ]
  },
  {
   "cell_type": "code",
   "execution_count": null,
   "metadata": {
    "collapsed": true
   },
   "outputs": [],
   "source": [
    "data2"
   ]
  },
  {
   "cell_type": "markdown",
   "metadata": {},
   "source": [
    "Yukarıda veriyi yüklediğimizde fark ediliyor ki petrol üretimi gittikçe azalmıştır.Görsel olarak göstermek için;aşağıda verimizi çizgizel grafik gösterimini görüyoruz. "
   ]
  },
  {
   "cell_type": "code",
   "execution_count": null,
   "metadata": {
    "scrolled": true
   },
   "outputs": [],
   "source": [
    "plot(data2,type=\"l\")"
   ]
  },
  {
   "cell_type": "markdown",
   "metadata": {},
   "source": [
    "Petrol üretiminin 1980 ile 1990 yılları arasında hızlı bir azalış sergilediğini görüyoruz. Daha sonrasında da azalış devam etmektedir."
   ]
  },
  {
   "cell_type": "markdown",
   "metadata": {},
   "source": [
    "Aşağıda verimizin sadece üretim değerlerini ve çizgisel grafiğini görüyoruz."
   ]
  },
  {
   "cell_type": "code",
   "execution_count": null,
   "metadata": {
    "scrolled": true
   },
   "outputs": [],
   "source": [
    "data2[,2]\n",
    "plot(data2[,2],type=\"l\")"
   ]
  },
  {
   "cell_type": "markdown",
   "metadata": {},
   "source": [
    "Veriyi sezonsal veriden ayırmak için R paketinin decompose fonksiyonunu kullanıyoruz. Decompose fonksiyonu ile veri sezonsal etkiden ve trend etkisinden arınmaktadır.Veri aylık olduğundan dolayı sıklığı 12 olarak alıyoruz. \n",
    "\n",
    "\n",
    "Ek olarak verinin ayrışma yönteminin, toplamsal ya da çarpımsal olduğunu anlamak için  type= c(\"additive\") ve type= c(\"multiplicative\") fonksiyonu kullanıyoruz.\n",
    "\n",
    "Dönemsel mevsimselliği incelemek için ise R 'ın figure fonksiyonu kullanılmaktadır."
   ]
  },
  {
   "cell_type": "markdown",
   "metadata": {},
   "source": [
    "Aşağıda zaman serisi (ts) verimize toplamsal ayrıştırma tipine decompose fonsiyonu uyguluyoruz. Böylelikle verimizdeki sezonsal ve trendsel etkiden çıkartmış oluyoruz. Plot fonksiyonu ile yaptığımız modeli grafiksel olarak gösteriyoruz. Figure fonksiyonu ile de zaman seriminizn 12 aylık sezonsal etkisini gösteriyoruz."
   ]
  },
  {
   "cell_type": "code",
   "execution_count": null,
   "metadata": {},
   "outputs": [],
   "source": [
    "additive_model<-decompose(ts(data2[,2], start = c(1981, 1), end = c(2018, 2),freq=12),type= c(\"additive\"))\n",
    "summary(additive_model)\n",
    "plot(additive_model)\n",
    "plot(additive_model$figure,type=\"b\")\n"
   ]
  },
  {
   "cell_type": "raw",
   "metadata": {},
   "source": []
  },
  {
   "cell_type": "markdown",
   "metadata": {},
   "source": [
    "Toplamsal ayrışma modelini incelediğimizde trend bileşeninin 1990 yılında en düşük etkide bulunduğunu ancek sonrasında sürekli arttığı gözlenmektedir. Sezonsal etkiyi incelersek veri bütün yıllarda aynı sezonsal değerleri aldığını görüyoruz.\n",
    "\n",
    "Figure fonksiyonu ile gelen mevsimsellik etki inclendiğinde veri mart ayında en yüksek seviyede, ocak ayında ise en düşük seviyede  mevsimsellikten etkilendiğini görebiliyoruz."
   ]
  },
  {
   "cell_type": "markdown",
   "metadata": {},
   "source": [
    "Aşağıda zaman serisi (ts) verimize çarpımsal ayrıştırma tipine decompose fonsiyonu uyguluyoruz. Böylelikle verimizdeki sezonsal ve trendsel etkiden çıkartmış oluyoruz. Plot fonksiyonu ile yaptığımız modeli grafiksel olarak gösteriyoruz. Figure fonksiyonu ile de zaman seriminizn 12 aylık sezonsal etkisini gösteriyoruz."
   ]
  },
  {
   "cell_type": "code",
   "execution_count": null,
   "metadata": {},
   "outputs": [],
   "source": [
    "multiplicative_model<-decompose(ts(data2[,2], freq=12), type= c(\"multiplicative\"))\n",
    "summary(multiplicative_model)\n",
    "plot(multiplicative_model)\n",
    "plot(multiplicative_model$figure, type=\"b\")"
   ]
  },
  {
   "cell_type": "markdown",
   "metadata": {},
   "source": [
    "Çarpımsal ayrışma modelini incelediğimizde trend bileşeninin 1990 yılında en düşük etkide bulunduğunu ancek sonrasında sürekli arttığı gözlenmektedir. Sezonsal etkiyi incelersek veri bütün yıllarda aynı sezonsal değerleri aldığını görüyoruz.\n",
    "\n",
    "Figure fonksiyonu ile gelen mevsimsellik etki inclendiğinde veri mart ayında en yüksek seviyede, ocak ayında ise en düşük seviyede  mevsimsellikten etkilendiğini görebiliyoruz."
   ]
  },
  {
   "cell_type": "markdown",
   "metadata": {},
   "source": [
    "Toplamsal ve çarpımsal ayrışma model grafiksel olarak  incelendiğinde random kısımlarında büyük farklılıklar gözlenmektedir.  Grafiksel olarak karar verilirse additive model dahal uygundur. Ancak doğruluğundan emin olmak için ilerleyen aşamalarda veriye arima modeli uygulayacağız. \n",
    "\n",
    "Summary fonksiyonu ile verinin özetini göstermiş olunur."
   ]
  },
  {
   "cell_type": "markdown",
   "metadata": {},
   "source": [
    "Aşağıda asıl verimize, toplamsal ayrıştırma sezonsal ve trendsel etkiden ayrılmış verimize, çarpımsal ayrıştırma ile sezonsal ve trendsel etkiden ayrılmış verimizin özetlerini görüyoruz."
   ]
  },
  {
   "cell_type": "code",
   "execution_count": null,
   "metadata": {},
   "outputs": [],
   "source": [
    "summary(data2[,2])\n",
    "summary(na.omit(additive_model$random))\n",
    "summary(na.omit(multiplicative_model$random))"
   ]
  },
  {
   "cell_type": "markdown",
   "metadata": {},
   "source": [
    "Hatırlatma : Verinin normalliğini kontrol etmek için shapiro.test fonksiyonu kullanılmaktadır.P değeri testen ne kadar emin olduğunu göstermektedir.P değerinde güven aralığını genelde %95 olarak alınır, yani p değeri 0.05'tan küçük ise yaptığımız testen emin olabiliriz. W değeri 1 değerine ne kadar yakınsa veri normalliğe o derece yakındır."
   ]
  },
  {
   "cell_type": "markdown",
   "metadata": {},
   "source": [
    "Shapiro testini toplumsal ve çarpımsal ayrışma modeline uygulanır."
   ]
  },
  {
   "cell_type": "code",
   "execution_count": null,
   "metadata": {},
   "outputs": [],
   "source": [
    "shapiro.test(na.omit(additive_model$random))\n",
    "shapiro.test(na.omit(multiplicative_model$random))"
   ]
  },
  {
   "cell_type": "markdown",
   "metadata": {},
   "source": [
    "Toplamsal ve çarpımsal ayrışma modeline uygulanan normallik testi incellendiğinde p değerlerinin oldukça küçük, neredeyse 0 yakın olduğunu görüyoruz. Yaptığımız iki testte de oldukça eminiz. W değeri incelendiğin de ise toplamsal modelin 1 daha yakın olduğu görülmektedir. Verimiz normaldir, diyebiliriz.\n"
   ]
  },
  {
   "cell_type": "markdown",
   "metadata": {},
   "source": [
    "Zaman serisiyle bu serinin gecikmeli serileri arasındaki ilişkiyi göstermek için R'ın acf ve pacf fonksiyonunu toplamsal ve çarpımsal ayrışma modeline uygulanır."
   ]
  },
  {
   "cell_type": "markdown",
   "metadata": {},
   "source": [
    "ACF eğer çok yüksek bir değerden başlayıp çok yavaş küçülüyorsa, bu serinin durağan olmadığının bir göstergesidir."
   ]
  },
  {
   "cell_type": "code",
   "execution_count": null,
   "metadata": {},
   "outputs": [],
   "source": [
    "acf(na.omit(additive_model$random))\n",
    "acf(na.omit(multiplicative_model$random))"
   ]
  },
  {
   "cell_type": "markdown",
   "metadata": {},
   "source": [
    "Toplamsal ve çarpımsal ayrıştırma modelleri için acf değerlerini incelediğimizde iki durumunda durağan halde olduğunu söyleyebiliriz."
   ]
  },
  {
   "cell_type": "code",
   "execution_count": null,
   "metadata": {},
   "outputs": [],
   "source": [
    "pacf(na.omit(additive_model$random))\n",
    "pacf(na.omit(multiplicative_model$random))"
   ]
  },
  {
   "cell_type": "code",
   "execution_count": null,
   "metadata": {},
   "outputs": [],
   "source": [
    "hist(na.omit(additive_model$random))"
   ]
  },
  {
   "cell_type": "markdown",
   "metadata": {},
   "source": [
    "Veride durağanlık durumunu belirlemek için sırasıyla ;Augmented Dickey-Fuller Test- Kwiatkowski-Phillips-Schmidt-Shin (KPSS) Test - Phillips–Perron Birim Kök Testi uygulanır."
   ]
  },
  {
   "cell_type": "markdown",
   "metadata": {},
   "source": [
    "##### Augmented Dickey Fuller Test\n",
    "İlk olarak Augmented Dickey Fuller testini verinin bileşenlerden ayrılmamış haline, toplamsal ve çarpımsal ayrışma modellerine sırasıyla uyguluyarak verinin durağanlığını kontrol ediyoruz. ADF testini R içinde bulunan adf.test fonksiyonu ile elde edebiliriz."
   ]
  },
  {
   "cell_type": "code",
   "execution_count": null,
   "metadata": {},
   "outputs": [],
   "source": [
    "adf.test(data2[,2])\n",
    "adf.test(na.omit(additive_model$random))\n",
    "adf.test(na.omit(multiplicative_model$random))"
   ]
  },
  {
   "cell_type": "markdown",
   "metadata": {},
   "source": [
    "Yapılan ADF testteki sonuçlar:\n",
    "\n",
    "p değeri bileşenlerden ayrılmamış  veri için :0.99\n",
    "\n",
    "p değeri additive modeli için :0.01\n",
    "\n",
    "p değeri multiplicative modeli için :0.01   çıkmıştır.\n",
    "\n",
    "Additive ve multiplicative modeline göre veriler güven aralığı (p<0.05) içerisindedir, yani  veri durağandır."
   ]
  },
  {
   "cell_type": "markdown",
   "metadata": {},
   "source": [
    "##### Kwiatkowski-Phillips-Schmidt-Shin (KPSS) Test\n",
    "İlk olarak  Kwiatkowski-Phillips-Schmidt-Shin (KPSS) Test testini verinin bileşenlerden ayrılmamış haline, toplamsal ve çarpımsal ayrışma modellerine sırasıyla uyguluyarak verinin durağanlığını kontrol ediyoruz. KPSS testini R içinde bulunan kpss.test fonksiyonu ile elde edebiliriz."
   ]
  },
  {
   "cell_type": "code",
   "execution_count": null,
   "metadata": {},
   "outputs": [],
   "source": [
    "kpss.test(data2[,2], null=\"Trend\")\n",
    "kpss.test(na.omit(additive_model$random), null=\"Trend\")\n",
    "kpss.test(na.omit(multiplicative_model$random), null=\"Trend\")"
   ]
  },
  {
   "cell_type": "markdown",
   "metadata": {},
   "source": [
    "Yapılan KPSS testteki sonuçlar:\n",
    "\n",
    "p değeri mevsimsellikten arındırılmamış veri için :0.01 \n",
    "\n",
    "p değeri additive modeli için :0.1\n",
    "\n",
    "p değeri multiplicative modeli için :0.1   çıkmıştır.\n",
    "\n",
    "Additive ve multiplicative modeline göre veriler güven aralığı (p>0.05) içerisindedir, yani  veri durağandır."
   ]
  },
  {
   "cell_type": "markdown",
   "metadata": {},
   "source": [
    "##### Phillips–Perron Birim Kök Testi\n",
    "Phillips–Perron Birim Kök Testi testini verinin bileşenlerden ayrılmamış haline, toplamsal ve çarpımsal ayrışma modellerine sırasıyla uyguluyarak verinin durağanlığını kontrol ediyoruz. Phillips–Perron Birim Kök testini R içinde bulunan pp.test fonksiyonu ile elde edebiliriz."
   ]
  },
  {
   "cell_type": "code",
   "execution_count": null,
   "metadata": {},
   "outputs": [],
   "source": [
    "pp.test(data2[,2])\n",
    "pp.test(na.omit(additive_model$random))\n",
    "pp.test(na.omit(multiplicative_model$random))"
   ]
  },
  {
   "cell_type": "markdown",
   "metadata": {},
   "source": [
    "Yapılan Phillips-Person testteki sonuçlar:\n",
    "\n",
    "p değeri mevsimsellikten arındırılmamış veri için :0.99\n",
    "\n",
    "p değeri additive modeli için :0.01\n",
    "\n",
    "p değeri multiplicative modeli için :0.01   çıkmıştır. \n",
    "\n",
    "Additive ve multiplicative modeline göre veriler güven aralığı (p<0.05) içerisindedir, yani  veri durağandır."
   ]
  },
  {
   "cell_type": "markdown",
   "metadata": {},
   "source": [
    "##### Arima"
   ]
  },
  {
   "cell_type": "markdown",
   "metadata": {},
   "source": [
    "R'da olan auto.arima fonksiyonu ile verinin kalan sezonsal, trend ve diğer etkenleri kontrol eder ve onlardan arındırır. \n",
    "Veriye auto.arima uygulandığında AIC , BIC ve AICc değerlerinin en düşük olanı analiz  için daha kabul edilebilir bir değer almaktadır. ARIMA için p,d,q fonksiyonları ile verinin karmaşıklığı fark edilir ve en sade , en kolay model seçilir."
   ]
  },
  {
   "cell_type": "code",
   "execution_count": null,
   "metadata": {},
   "outputs": [],
   "source": [
    "auto.arima(ts(data2[,2]))\n",
    "auto.arima(ts(na.omit(additive_model$random), start=c(1981, 1), end=c(2018, 1), freq=12))\n",
    "auto.arima(ts(na.omit(multiplicative_model$random), start=c(1981, 1), end=c(2018, 1), freq=12))"
   ]
  },
  {
   "cell_type": "markdown",
   "metadata": {},
   "source": [
    "Veriye, son(şubat ayı) verisi eklenemden önce arima modeli uyguladığımda sonuç aşağıdaki gibi olmuştur.\n",
    "\n",
    "Verinin hiçbir bileşenden ayrılmadığı durumda auto.arima uygulandığında p =0 , d= 2 ve q=2 çıkmaktadır. d=2 olması verinin \n",
    "durağan olmadığını gösterir. \n",
    "\n",
    "Verinin toplamsal ayrışma modeline auto.arima uygulandığında p= 2 , d=0 ve q=1 çıkmaktadır. d=0 veri durağandır.\n",
    "\n",
    "Verilerde çarpımsal modele auto.arima uygulandığında p= 2 , d=0 ve q=3 çıkmaktadır. d=0 veri durağandır.\n",
    "\n",
    "Hangi ayrışma modelini seçmemiz gerektiğine karar vermek için ilk olarak p,d,q değerlerini karşılaştırmak gerekmektedir. Verinin durağan modeli seçilmesi gerektiğinden hiçbir bileşenden ayrılmadığı model elenir. Toplamsal ve çarpımsal  model karşılaştırıldığında toplamsal modelin daha basit olduğu görülür. İkinci olarak ( Seçtiğimiz modelin doğruluğundan emin olmak için ) auto.arima nın bize vermiş olduğu AIC,AICc ve BIC değerlerinin en küçük olanı seçilmesi gerekmektedir. Ayrışma modelleri için incelendiğinde toplamsal modelin daha uygun olduğu görülmektedir. \n",
    ".\n",
    "Formülü : \n",
    "\n",
    " $$ \\hat Y_{d_t} =1.0579 Y_{t-1} -0.3104 Y_{t-2}+E$$\n",
    " \n",
    " d=0 olduğunda orijinal seri zaten durağandır ve farkının alınmasına da gerek yoktur."
   ]
  },
  {
   "cell_type": "markdown",
   "metadata": {},
   "source": [
    "Aşağıda her ay güncellenen verimizde şubat ayı eklendiği şekline arima modeli uygulayacağız."
   ]
  },
  {
   "cell_type": "code",
   "execution_count": null,
   "metadata": {},
   "outputs": [],
   "source": [
    "auto.arima(ts(data2[,2]))\n",
    "auto.arima(ts(na.omit(additive_model$random)))\n",
    "auto.arima(ts(na.omit(multiplicative_model$random)))"
   ]
  },
  {
   "cell_type": "markdown",
   "metadata": {},
   "source": [
    "Ancak her ay güncellenen veride, yani şubat ayı eklenen veriye arima modeli uygulandığında sonuç aşağıdaki gibi olmuştur.\n",
    "\n",
    "Verinin hiçbir bileşenden ayrılmadığı durumda auto.arima uygulandığında p =0 , d= 2 ve q=2 çıkmaktadır. d=2 olması verinin \n",
    "durağan olmadığını gösterir. \n",
    "\n",
    "Verinin toplamsal ayrışma modeline auto.arima uygulandığında p= 2 , d=0 ve q=1 çıkmaktadır. d=0 veri durağandır.\n",
    "\n",
    "Verilerde çarpımsal modele auto.arima uygulandığında p= 2 , d=0 ve q=1 çıkmaktadır. d=0 veri durağandır.\n",
    "\n",
    "Hangi ayrışma modelini seçmemiz gerektiğine karar vermek için ilk olarak p,d,q değerlerini karşılaştırmak gerekmektedir. Verinin durağan modeli seçilmesi gerektiğinden hiçbir bileşenden ayrılmadığı model elenir. Toplamsal ve çarpımsal  model karşılaştırıldığında toplamsal modelin eşit olduğu görülür. İkinci olarak ( Seçtiğimiz modelin doğruluğundan emin olmak için ) auto.arima nın bize vermiş olduğu AIC,AICc ve BIC değerlerinin en küçük olanı seçilmesi gerekmektedir. \n",
    "\n",
    "Geri sapmalardan en düşük olanını yani toplamsal modeli seçersek:\n",
    "\n",
    "Formülü : \n",
    "\n",
    " $$ \\hat Y_{d_t} =1.0680 Y_{t-1}+-0.3148 Y_{t-2} +  E$$\n",
    " \n",
    " d=0 olduğunda orijinal seri zaten durağandır ve farkının alınmasına da gerek yoktur."
   ]
  },
  {
   "cell_type": "markdown",
   "metadata": {},
   "source": [
    "Bu durumda iki arima modelini karşılaştırırsak anlayacağımız, veride bir değerin (bir aylık verinin) dahi modeli değiştirebildiğini görmüş bulunmaktayız."
   ]
  },
  {
   "cell_type": "markdown",
   "metadata": {},
   "source": [
    "Veride sezonsal etkinin olup olmadığını kontrol etmek için veriden hiçbir bileşenin çıkarılmadığı haline auto.arima uygulanır.Bunun için arimanın argümanlarından sseasonal.test'ten yararlanılır."
   ]
  },
  {
   "cell_type": "code",
   "execution_count": null,
   "metadata": {},
   "outputs": [],
   "source": [
    "auto.arima(ts(data2[,2]))\n",
    "auto.arima(ts(data2[,2]) ,seasonal.test = c(\"ocsb\", \"ch\"))"
   ]
  },
  {
   "cell_type": "markdown",
   "metadata": {},
   "source": [
    "Herhangi bir işlem yapılmayan veriye auto.arima ile sezonsal test uygulandığında ARIMA modelinde; p,d,q değerlerinde ve\n",
    "AIC , AICc ,BIC değerlerinde herhangi bir farklılık görünmemektedir. Bir farklı ifade ile veride sezonsal etki bulunmamaktadır."
   ]
  },
  {
   "cell_type": "markdown",
   "metadata": {},
   "source": [
    "Normallik testini seçtiğimiz toplamsal modele tekrar uygulanır."
   ]
  },
  {
   "cell_type": "code",
   "execution_count": null,
   "metadata": {},
   "outputs": [],
   "source": [
    "white_noise2<-arima(ts(na.omit(additive_model$random)), order=c(2,0,1))\n",
    "shapiro.test(white_noise2$residuals)"
   ]
  },
  {
   "cell_type": "markdown",
   "metadata": {},
   "source": [
    "Normallik testine göre p değeri oldukça düşük ve w değeri yüksektir. Artık verinin beyaz gürültü olduğunu ve veride herhangi bir \n",
    "bileşen kalmadığını söylenebilir."
   ]
  },
  {
   "cell_type": "markdown",
   "metadata": {},
   "source": [
    "Zaman Serilerinin Mevsimsellikten Arındırılması (de-seasonalize)\n",
    "\n",
    "Zaman serisinin mevsimsellik deseni hakkında fikir verir ve mevsimsel etkiler olmadan verilerin modellenmesine yardımcı olur. Zaman serisini mevsimsellikten arındırmak için aşağıdaki iki adım kullanılabilir.\n",
    "1. Adım: stl() fonksiyonu ile zaman serisi ayrılır.\n",
    "2. Adım: forecast kütüphanesi içerisindeki seasadj() fonksiyonu kullanılır."
   ]
  },
  {
   "cell_type": "code",
   "execution_count": null,
   "metadata": {},
   "outputs": [],
   "source": [
    "datastl2<- stl(ts(data2[,2], freq=12), s.window=\"periodic\")\n",
    "summary(datastl2)\n",
    "plot(datastl2)"
   ]
  },
  {
   "cell_type": "code",
   "execution_count": null,
   "metadata": {
    "collapsed": true
   },
   "outputs": [],
   "source": [
    "ts_sa2 <- seasadj(datastl2)"
   ]
  },
  {
   "cell_type": "code",
   "execution_count": null,
   "metadata": {},
   "outputs": [],
   "source": [
    "par(mfrow=c(3,2))\n",
    "plot(data2[,2], type=\"l\", main=\"Real\")  \n",
    "plot(ts_sa2, type=\"l\", main=\"Seasonal Adjusted\")"
   ]
  },
  {
   "cell_type": "markdown",
   "metadata": {},
   "source": [
    "Normallik testini ölçmek için sezonsal etkisi çıkarılmış veriye shapiro.test uygulanır."
   ]
  },
  {
   "cell_type": "code",
   "execution_count": null,
   "metadata": {},
   "outputs": [],
   "source": [
    "shapiro.test(ts_sa2)"
   ]
  },
  {
   "cell_type": "markdown",
   "metadata": {},
   "source": [
    "Durağanlık testine göre w  değeri 1'den oldukça düşüktür.\n",
    "Bu yüzden ilk yol olarak yapılan çarpımsal modele ilk başta decompose ve sonrasında da auto.arima modelinin\n",
    "uygulandığı analiz yöntemi tercih edilir."
   ]
  },
  {
   "cell_type": "code",
   "execution_count": null,
   "metadata": {},
   "outputs": [],
   "source": [
    "acf(ts_sa2)"
   ]
  },
  {
   "cell_type": "markdown",
   "metadata": {},
   "source": [
    "Otokorelasyon katsayısı incelendiğinde verinin yavaş yavaş azaldığı gözlenmektedir. Bu durumda ts_sa mevsimsel etkiden arındırılmış zaman serimizin durağan olmadığını göstermektedir. "
   ]
  },
  {
   "cell_type": "code",
   "execution_count": null,
   "metadata": {},
   "outputs": [],
   "source": [
    "pacf(ts_sa2)"
   ]
  },
  {
   "cell_type": "markdown",
   "metadata": {},
   "source": [
    "Sezonsal etkiden arındırılan verinin (ts_sa2) , hala sezonsal etki içerip içermediğini anlamak (mevsimsellik farkını bulmak) \n",
    "için nsdiffs fonksiyonu uygulanır."
   ]
  },
  {
   "cell_type": "code",
   "execution_count": null,
   "metadata": {},
   "outputs": [],
   "source": [
    "nsdiffs(ts_sa2)"
   ]
  },
  {
   "cell_type": "markdown",
   "metadata": {},
   "source": [
    "Mevsimsellik farkı sıfırdır. Mevsimsel etki yoktur."
   ]
  },
  {
   "cell_type": "markdown",
   "metadata": {},
   "source": [
    "#### 2. Kısım  Zaman Serisi Analizi Özet\n",
    "\n",
    "Verinin Adı:   Florida Field Production of Crude Oil\n",
    "\n",
    "Verinin Alındığı Yer: Quandl\n",
    "\n",
    "Verinin Sıklığı: Aylık\n",
    "\n",
    "Verinin Zaman Aralığı: 31.01.1981- 28.02.2018\n",
    "\n",
    "Veride iki sütun bulunmaktadır. Sütunlardan birisi zaman, diğeri ise kullanılan değerdir. Amaç zaman serisindeki gözlenen değerlerinin trend, mevsimsel, çevresel ve rastgele etkenlerden ayırmak ve doğru modeli seçmektir.\n",
    "Bu doğrultuda iki yöntem kullandık.\n",
    "\n",
    "1. Yöntem : R'da bulunan decompose fonksiyonu ile seriyi mevsimsel ve trendsel etkenlerden ayırmaktır.\n",
    "Decompose fonksiyonunu zaman serilerin hep toplamına hem de çarpımına ayrı ayrı uyguladık. Daha net sonuç veren veri seçilir.Toplamsal ayrışma modelini incelediğimizde  trendsel etkinin 1990 yıllarında en düşük etkiye sahip olduğunu ancak sonrasında sürekli arttığını ve mevsimsel etkinin aynı olduğunu görüyoruz. Çarpımsal model de aynı sonuca varıyoruz. İki ayrıştırma modeli arasındaki fark random bileşende ortaya çıkmaktadır.Ancak kullanılan veride toplanan ve çarpılan veride net bir karar veremiyoruz. Verimizin zaman bileşenlerinden ayırldıktan sonraki normallik durumunu kontrol etmek için veriye normallik testi(shapiro.test )uyguladık, iki modelin de p değerleri güven aralığında ($p<0.05$ ) çıktı. W değerleri karşılaştırıldığında ise toplamsal ayrışma modelinin daha iyi sonuç verdiğini görüyoruz.Sonuç olarak iki model içinde verimizin bileşenlerden ayrılmış haline normal diyebiliriz. Zaman bileşenlerinden ayrılmış olan verimizin durağanlığını kontrol etmek için adf,kpss ve pp testlerini uyguladık. Üç testin sonucu da verimizin toplamsal ve çarpımsal model için durağan olduğunu gösterdi.  Sonraki aşamalarda decompose fonksiyonu ile veremediğimiz hangi modelin uygun olduğu kararını  anlamak için arima testini uyguladık. Veriye bir aylık (şubat ayı) eklenmeden önceki durumda arima vurduğumuzda; Arima ile gelen p,q,d değerlerinden en basit olanını ve AIC, AICc ve BIC değerlerinden en düşük olanını yani toplamsal modele daha uygun olduğuna karar verdik. Ancak şubat ayı da eklenen veride p,q,d değerlerinin toplamsal ve çarpımsal model için aynı olduğunu ,ama AIC , AICc ve BIC değerlerinin çarpımsal modelde daha düşük olduğunu gözlemledik. Burdan verinin bir aylık değerinin arima modellemesinde büyük bir etki sahibi olduğunu fark ettik. Ek olarak herhangi bir bileşenden ayrılmamış veriye arima ile sezonsal etkinin olup olmadığını ölçtük. Sonucunda ise herhangi bir farklılık olmadığını yani verimizde sezonsal bir etkinin olmadığını söyleyebiliriz. Decompose ve sonrasında uygulanan auto.arima ile kalan verimize normallik testini tekrar uygularsak güven aralığını sağladığını ($ p=2.2e-16 <0.05 $) ve w= 0.87153 yani 1 oldukça yakın olduğunu görüyoruz. Bu da verimizin normal olduğunu söyler. Ek olarak artık verimize beyaz gürültü verisi diyebiliriz.\n",
    "\n",
    "\n",
    "3. Yöntem :Zaman serisini mevsimsel bileşenlerinden ayırmak için R'da bulunan stl fonksiyonunu kullandık.\n",
    "Verilerin mevsimsel etkisinden ayrıldığı durumda normallik değerlerini ölçmek için normallik (shapiro.test) testini uyguladık.Sonucunda : $p=2.2e-16 <0.05 $ ve w=0.66646 değerlerini elde ettik. Ancak w değerleri 1'değerinden oldukça düşüktür.Veri için normal dağılmamıştır diyeebiliriz. Ek olarak  mevsimsellik etkisinden arındırılmış veri için acf  testi uygulandığında verinin yavaş yavaş azaldığı gözlenmektedir. Bu durum için verinin normal olmadığı söylenmektedir.\n",
    "\n",
    "Ek olarak uyguladığımız nsdiffs fonksiyonu ile birlikte verinin mevsimsel etki içerip içermediğine, ya da kalıp kalmadığına karar verilmektedir. Fonksiyonu uyguladığımızda görülüyor ki veri mevsimsel bileşen içermemektedir.\n",
    "\n",
    "Yukarıdaki üç yöntemi karşılatırdığımızda (normalliklerini) kullanmamız gereken modelin çarpımsal ve kullanmamız gereken yöntemin sırasıyla decompose ve arima olmasına karar verdik.\n",
    "\n"
   ]
  },
  {
   "cell_type": "markdown",
   "metadata": {},
   "source": [
    "### FORECAST"
   ]
  },
  {
   "cell_type": "code",
   "execution_count": null,
   "metadata": {
    "collapsed": true
   },
   "outputs": [],
   "source": [
    "require(forecast)"
   ]
  },
  {
   "cell_type": "markdown",
   "metadata": {},
   "source": [
    "İlk olarak verimizin zaman serisi olduğunu gösteriyoruz. Zaman serisi sıklığını aylık olarak tanımlıyoruz.\n",
    "Zaman aralığımızı 01.1981 - 11.2017 kadar olan süreyi alıyoruz.\n",
    "12.2017-02.2018 süresini de test verisi olarak alıyoruz."
   ]
  },
  {
   "cell_type": "code",
   "execution_count": null,
   "metadata": {},
   "outputs": [],
   "source": [
    "time_series3 <-ts(data2[,2], start=c(1981, 1), end=c(2017, 11), freq=12)\n",
    "plot(time_series3)"
   ]
  },
  {
   "cell_type": "markdown",
   "metadata": {},
   "source": [
    "Aşağıda üssel düzgünleştirme yönteminin ets() fonksiyonu kullanılmış halini uygulayacağız. Öngörü doğruluğunu hesaplamak için R'ın accuracy fonksiyonunu kullanılır. Accuracy fonksiyonu ile gelen verilerde:"
   ]
  },
  {
   "cell_type": "markdown",
   "metadata": {},
   "source": [
    "Öngörü modellerinden ilk olarak ets modelini deniyoruz. "
   ]
  },
  {
   "cell_type": "code",
   "execution_count": null,
   "metadata": {},
   "outputs": [],
   "source": [
    "model11 <-ets(time_series3)\n",
    "data_forecast_ets <- forecast(model11, h=3)\n",
    "accuracy(data_forecast_ets)\n",
    "plot(data_forecast_ets, ,xlim=c(2017.12,2018.2))"
   ]
  },
  {
   "cell_type": "markdown",
   "metadata": {},
   "source": [
    "Verimize ets() fonksiyonu ile öngörü hesapladığımızda bize ETS(A,A,A) argümanlarını vermiştir. Bu sonuçta öngörüde toplamsal hata, toplamsal trend ve toplamsal sezonsal etkinin uygulandığı yöntemdir denilebilir."
   ]
  },
  {
   "cell_type": "code",
   "execution_count": null,
   "metadata": {
    "scrolled": true
   },
   "outputs": [],
   "source": [
    "summary(data_forecast_ets)"
   ]
  },
  {
   "cell_type": "markdown",
   "metadata": {},
   "source": [
    "ETS yöntemiyle gelen alpha değeri 0.6024 çıkmıştır. Bu sonuçta değişen bileşenlerden ortalama bir derecede etkinleneceğini göstermektedir."
   ]
  },
  {
   "cell_type": "markdown",
   "metadata": {},
   "source": [
    "Aşağıda üssel düzgünleştirme yönteminin HoltWinters() fonksiyonu kullanılmış halini uygulayacağız.Bu model trend, sezonsal bileşenleri de içermemediği durumdur."
   ]
  },
  {
   "cell_type": "code",
   "execution_count": null,
   "metadata": {},
   "outputs": [],
   "source": [
    "model12 <-HoltWinters(time_series3, beta=FALSE, gamma=FALSE)\n",
    "model12\n",
    "data_forecast_simple <- forecast(model12, h=3)\n",
    "accuracy(data_forecast_simple)\n",
    "plot(data_forecast_simple, ,xlim=c(2017.11,2018.2))"
   ]
  },
  {
   "cell_type": "code",
   "execution_count": null,
   "metadata": {},
   "outputs": [],
   "source": [
    "summary(data_forecast_simple)"
   ]
  },
  {
   "cell_type": "markdown",
   "metadata": {},
   "source": [
    "Düzeleştirme katsayı değeri (alpha) arttıkça daha büyük tahmin farklılıkları oluşmaktadır.\n",
    "Basit üssel düzleştirme yöntemi uyguladığımızda gelen  alpha değeri 0.7810215'dir. "
   ]
  },
  {
   "cell_type": "markdown",
   "metadata": {},
   "source": [
    "#### HOLT ÜSTEL DÜZLEŞTİRME YÖNTEMİ:  (Doğrusal Trendi Olan Seriler İçin) \n",
    "Trende sahip mevsimsel dalgalanması olmayan serilerin tahmin işleminde Holt üstel düzleştirme yöntemi kullanılmaktadır. "
   ]
  },
  {
   "cell_type": "code",
   "execution_count": null,
   "metadata": {},
   "outputs": [],
   "source": [
    "model13 <-HoltWinters(time_series3, gamma=FALSE)\n",
    "model13\n",
    "data_forecast_holt <- forecast(model13, h=3)\n",
    "accuracy(data_forecast_holt)\n",
    "plot(data_forecast_holt, ,xlim=c(2017.11,2018.2))\n",
    "data_forecast_holt"
   ]
  },
  {
   "cell_type": "code",
   "execution_count": null,
   "metadata": {
    "scrolled": true
   },
   "outputs": [],
   "source": [
    "summary(data_forecast_holt)"
   ]
  },
  {
   "cell_type": "markdown",
   "metadata": {},
   "source": [
    "Düzeleştirme katsayı değeri arttıkça daha büyük tahmin farklılıkları oluşmaktadır.\n",
    "Basit üssel düzleştirme yöntemi uyguladığımızda gelen  alpha değeri 0.5032057'dir. Bu sonuçta değerin düşük olduğunu gösterir. Hata oranı ortalama değerdedir.Diğer modellerde incelenip en uygun öngörü  model seçilmelidir."
   ]
  },
  {
   "cell_type": "markdown",
   "metadata": {},
   "source": [
    "#### Holt-Winters Yöntemi: (Doğrusal Trendi ve Mevsimlik Etkileri Olan Seriler İçin) \n",
    "Holt-Winters Yöntemi üç temel düzeltme esitligine sahiptir. Temel, trend ve mevsimsellik için olan bu üç düzeltme sabiti ile yapılan düzeltmeler, Holt’un\n",
    "Dogrusal Yöntemi’ne benzer olarak tek toplam esitlikte toplanarak mevsimsellik\n",
    "esitligi elde etmektedir. "
   ]
  },
  {
   "cell_type": "code",
   "execution_count": null,
   "metadata": {},
   "outputs": [],
   "source": [
    "model14 <-HoltWinters(time_series3)\n",
    "model14\n",
    "data_forecast_holtWinter <- forecast(model14, h=3)\n",
    "accuracy(data_forecast_holtWinter)\n",
    "plot(data_forecast_holtWinter, ,xlim=c(2017.1,2018.2))\n",
    "data_forecast_holtWinter"
   ]
  },
  {
   "cell_type": "code",
   "execution_count": null,
   "metadata": {},
   "outputs": [],
   "source": [
    "summary(data_forecast_holtWinter)"
   ]
  },
  {
   "cell_type": "markdown",
   "metadata": {},
   "source": [
    "Düzeleştirme katsayı değeri arttıkça daha büyük tahmin farklılıkları oluşmaktadır.\n",
    "Basit üssel düzleştirme yöntemi uyguladığımızda gelen  alpha değeri 0.6076044'dir. Bu sonuçta değerin büyük olduğunu gösterir. Hata oranı fazladır. O yüzden öngörü yaparken bu model seçilmemelidir.\n"
   ]
  },
  {
   "cell_type": "markdown",
   "metadata": {},
   "source": [
    "#### Arima Modeli \n",
    "\n",
    "Zaman serilerinde öngörü analizi yapmanın bir diğer yolu da arima modeli uygulamaktır."
   ]
  },
  {
   "cell_type": "code",
   "execution_count": null,
   "metadata": {
    "collapsed": true
   },
   "outputs": [],
   "source": [
    "time_series3<-ts(data2[,2], start=c(1981, 1), end=c(2017, 11), freq=12)"
   ]
  },
  {
   "cell_type": "code",
   "execution_count": null,
   "metadata": {
    "scrolled": false
   },
   "outputs": [],
   "source": [
    "model21 <- arima(time_series3, order=c(1,0,1))\n",
    "summary(model21)\n",
    "data_forecast_arima <- forecast(model21, h=3)\n",
    "accuracy(data_forecast_arima)\n",
    "plot(data_forecast_arima, ,xlim=c(2017.12,2018.2))\n",
    "data_forecast_arima\n",
    "predict(model21,3)"
   ]
  },
  {
   "cell_type": "code",
   "execution_count": null,
   "metadata": {
    "collapsed": true
   },
   "outputs": [],
   "source": [
    "summary(data_forecast_arima)"
   ]
  },
  {
   "cell_type": "markdown",
   "metadata": {},
   "source": [
    "Aşağıda genel olarak bütün doğrulukları göstereceğiz.Hatırlamak için \n",
    "\n",
    "ME:Ortalama Hata  \n",
    "\n",
    "MAE : Ortalama Mutlak Hata  \n",
    "\n",
    "MSE: Ortalama Hata Kare \n",
    "\n",
    "MPE: Ortalama Yüzde Hata \n",
    "\n",
    "MAPE: Ortalama Mutlak Yüzde Hata\n"
   ]
  },
  {
   "cell_type": "code",
   "execution_count": null,
   "metadata": {},
   "outputs": [],
   "source": [
    "accuracy(data_forecast_ets)\n",
    "accuracy(data_forecast_simple)\n",
    "accuracy(data_forecast_holt)\n",
    "accuracy(data_forecast_holtWinter)\n",
    "accuracy(data_forecast_arima)"
   ]
  },
  {
   "cell_type": "markdown",
   "metadata": {
    "collapsed": true
   },
   "source": [
    "Yapılan 5 farklı öngörü modelinin hata değerlerini karşılaştırmak için literatürde en çok kullanılan ve tercih edilen  Ortalama Mutlak Hata (MAE) değerini kullanılırız. Bu karşılaştırmaya göre arima yöntemi en uygun yöntemdir."
   ]
  },
  {
   "cell_type": "markdown",
   "metadata": {},
   "source": [
    "Petrol verileri ile ilgili analiz ve öngörü hesaplamalarını yapmış olduk. "
   ]
  },
  {
   "cell_type": "markdown",
   "metadata": {},
   "source": [
    "#### 2. Kısım: Zaman Serilerinde Öngörü Özet \n",
    "\n",
    "Verimizde öngörü yapabilmek için tahminleme verisi ve test verisi olmak üzere iki veri seti oluşturduk.Tahminleme verisini Ocak 1981 ile Kasım 2017 arasını , test verisi için son üç ayı yani Aralık 2017  ile Şubat 2018 arasında aldık. Sırasıyla ets ,holtwinters ve arima modellerini uyguladık. Hata terimleri incelendiğinde arima  modelinin öngörü için daha uygun olduğuna karar verdik."
   ]
  },
  {
   "cell_type": "markdown",
   "metadata": {},
   "source": [
    "### Kaynakça\n",
    "\n",
    "- Brockwell, Richard A. Davis (2002). Introduction to Time Series and Forecasting\n",
    "- Dickey, D. A. and W. A. Fuller (1981) Likelihood ratio statistics for autoregressive time series with a unit root, Econometrica, 49, 1057–1071.\n",
    "- BOX ve JENKINS: Time Series Analysis Forecasting and Control Lancester U.K., 1976\n",
    "- The R Project for Statistical Computing ,  https://www.r-project.org/ \n",
    "- Introduction to Forecasting with ARIMA in R, https://www.datascience.com/blog/introduction-to-forecasting-with-arima-in-r-learn-data-science-tutorials \n"
   ]
  }
 ],
 "metadata": {
  "kernelspec": {
   "display_name": "R",
   "language": "R",
   "name": "ir"
  },
  "language_info": {
   "codemirror_mode": "r",
   "file_extension": ".r",
   "mimetype": "text/x-r-source",
   "name": "R",
   "pygments_lexer": "r",
   "version": "3.4.2"
  }
 },
 "nbformat": 4,
 "nbformat_minor": 2
}
